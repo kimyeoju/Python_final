{
  "nbformat": 4,
  "nbformat_minor": 0,
  "metadata": {
    "colab": {
      "provenance": []
    },
    "kernelspec": {
      "name": "python3",
      "display_name": "Python 3"
    },
    "language_info": {
      "name": "python"
    }
  },
  "cells": [
    {
      "cell_type": "markdown",
      "source": [
        "# colab 사용법\n"
      ],
      "metadata": {
        "id": "ekmgFXlpusfp"
      }
    },
    {
      "cell_type": "markdown",
      "source": [
        "* MAC을 사용하는 경우 Ctrl 대신 Command입니다. Alt 대신 Option입니다.\n",
        "1. **실행 단축키**\n",
        "    1. (필수) `Ctrl(Command)` + `Enter` : 해당 셀 실행\n",
        "    2. `Shift` + `Enter` : 해당 셀 실행 + 커서를 다음 셀로 이동\n",
        "    3. (필수) `Alt(Option)` + `Enter` : 해당 셀 실행 + 코드 불록 하단 추가\n",
        "2. **셀 삽입/삭제 관련 단축키**\n",
        "    1. `Ctrl(Command)` + M A : 코드 셀 위에 삽입\n",
        "    2. `Ctrl(Command)` + M B : 코드 셀 아래 삽입\n",
        "    3. `Ctrl(Command)` + M D : 셀 지우기\n",
        "    4. `Ctrl(Command)` + M Y : 코드 셀로 변경\n",
        "    5. `Ctrl(Command)` + M M : 마크다운 셀로 변경\n",
        "    6. `Ctrl(Command)` + M Z : 실행 취소\n",
        "3. 수정 관련된 단축키\n",
        "    1. `Ctrl(Command)` + `Alt(Option)` + 화살표위아래 : 동시 수정\n",
        "    2. (자주) `Ctrl(Command)` + D : 같은 단어 찾아 동시 수정\n",
        "    3. `Ctrl(Command)` + `Shift` + L : 동일 단어를 전체로 찾아 동시 수정\n",
        "    4. `Alt(Option)` + `Shift` + 화살표위아래 : 해당내용을 위나 아래 복사해서 붙여넣기\n",
        "    5. `Alt(Option)` + 화살표위아래 : 해당 내용을 위나 아래로 보내기\n",
        "    6. (자주) `Ctrl(Command)` + `Alt(Option)` + 화살표위아래 : 위아래 동시 수정\n",
        "    7. (자주) Home, End : 문장의 양 끝\n",
        "    8. (필수) `Ctrl` + `/` : 주석\n",
        "    9. (필수) `Shift` + `Del` : 한 줄 지우기\n",
        "    10. (필수) `Tab`, `Ctrl` + `]` : 들여쓰기\n",
        "    11. (필수) `Shift` + `Tab`, `Ctrl` + `[` : 내어쓰기\n",
        "4. 단축키 보기 및 설정\n",
        "    1. `Ctrl(Command)` + M H : 단축키 모음"
      ],
      "metadata": {
        "id": "2AlkN-IIvfYe"
      }
    },
    {
      "cell_type": "markdown",
      "source": [
        "# 마크다운\n"
      ],
      "metadata": {
        "id": "_8xt7lJGx4oa"
      }
    },
    {
      "cell_type": "markdown",
      "source": [
        "* 필수 마크다운\n",
        "```\n",
        "# hello\n",
        "## hello\n",
        "### hello\n",
        "\n",
        "1. hello\n",
        "2. hello\n",
        "3. hello\n",
        "\n",
        "* hello\n",
        "* hello\n",
        "* hello\n",
        "```\n",
        "* 선택 마크다운(필수가 아니니 부담가지지마세요.)\n",
        "\n",
        "# h1\n",
        "## h2\n",
        "### h3\n",
        "#### h4\n",
        "##### h5\n",
        "###### h6\n",
        "\n",
        "---\n",
        "\n",
        "1. hello\n",
        "2. hello\n",
        "3. hello\n",
        "\n",
        "* hello\n",
        "* hello\n",
        "* hello\n",
        "\n",
        "- hello\n",
        "- hello\n",
        "- hello\n",
        "\n",
        "__굵게__\n",
        "**굵게**\n",
        "_기울여 쓰기_\n",
        "*기울여 쓰기*\n",
        "~취소선~\n",
        "~~취소선~~\n",
        "\n",
        "> 인용문 작성하기\n",
        "`인라인 코드는 이렇게 작성해요.`\n",
        "\n",
        "[인라인 링크](https://velog.io/)\n",
        "\n",
        "![이미지 설명](이미지 링크)\n",
        "\n",
        "\n",
        "* table은 직접 만들지 마시고 https://www.tablesgenerator.com/markdown_tables 와 같은 서비스를 이용하세요.\n",
        "| 1 | 2     | 3 | 4 | 5     |\n",
        "|---|-------|---|---|-------|\n",
        "| 1 | hello | 3 | 4 | world |\n",
        "\n",
        "* [ ] hello\n",
        "* [X] hello\n",
        "\n",
        "\n"
      ],
      "metadata": {
        "id": "dVukgA5G1DIH"
      }
    },
    {
      "cell_type": "markdown",
      "source": [
        "# Python"
      ],
      "metadata": {
        "id": "yQmy_Vo_4CqN"
      }
    },
    {
      "cell_type": "code",
      "source": [
        "#행 단위 주석입니다.\n",
        "\"\"\"\n",
        "큰 따옴표로 세번 묶거나\n",
        "작은따옴표로 세번 묶으면\n",
        "열단위 주석이 됩니다.\n",
        "\"\"\"\n",
        "\n",
        "'''\n",
        "큰 따옴표로 세번 묶거나 \n",
        "작은따옴표로 세번 묶으면\n",
        "열단위 주석이 됩니다.\n",
        "'''"
      ],
      "metadata": {
        "colab": {
          "base_uri": "https://localhost:8080/",
          "height": 36
        },
        "id": "I3aoVDzWwbvb",
        "outputId": "c7b5b106-0915-4d41-fb69-1493174833e1"
      },
      "execution_count": null,
      "outputs": [
        {
          "output_type": "execute_result",
          "data": {
            "text/plain": [
              "'\\n큰 따옴표로 세번 묶거나 \\n작은따옴표로 세번 묶으면\\n열단위 주석이 됩니다.\\n'"
            ],
            "application/vnd.google.colaboratory.intrinsic+json": {
              "type": "string"
            }
          },
          "metadata": {},
          "execution_count": 1
        }
      ]
    },
    {
      "cell_type": "code",
      "source": [
        "# 아래와 같이 열단위 주석으로 text를 넣을 수도 있습니다.\n",
        "data = '''\n",
        "큰 따옴표로 세번 묶거나\n",
        "작은따옴표로 세번 묶으면\n",
        "열단위 주석이 됩니다.\n",
        "'''\n",
        "data"
      ],
      "metadata": {
        "colab": {
          "base_uri": "https://localhost:8080/",
          "height": 36
        },
        "id": "y0xmqdCA4sA-",
        "outputId": "d6005920-4e2c-4f53-a1fa-bcc3e9298394"
      },
      "execution_count": null,
      "outputs": [
        {
          "output_type": "execute_result",
          "data": {
            "text/plain": [
              "'\\n큰 따옴표로 세번 묶거나\\n작은따옴표로 세번 묶으면\\n열단위 주석이 됩니다.\\n'"
            ],
            "application/vnd.google.colaboratory.intrinsic+json": {
              "type": "string"
            }
          },
          "metadata": {},
          "execution_count": 2
        }
      ]
    },
    {
      "cell_type": "markdown",
      "source": [
        "* Code convention python\n",
        "* https://google.github.io/styleguide/\n",
        "* https://google.github.io/styleguide/pyguide.html\n"
      ],
      "metadata": {
        "id": "7aRCA-gN48g0"
      }
    },
    {
      "cell_type": "code",
      "source": [
        "def connect_to_next_port(self, minimum: int) -> int:\n",
        "    \"\"\"Connects to the next available port.\n",
        "\n",
        "    Args:\n",
        "      minimum: A port value greater or equal to 1024.\n",
        "\n",
        "    Returns:\n",
        "      The new minimum port.\n",
        "\n",
        "    Raises:\n",
        "      ConnectionError: If no available port is found.\n",
        "    \"\"\"\n",
        "    if minimum < 1024:\n",
        "        # Note that this raising of ValueError is not mentioned in the doc\n",
        "        # string's \"Raises:\" section because it is not appropriate to\n",
        "        # guarantee this specific behavioral reaction to API misuse.\n",
        "        raise ValueError(f'Min. port must be at least 1024, not {minimum}.')\n",
        "    port = self._find_next_open_port(minimum)\n",
        "    if port is None:\n",
        "        raise ConnectionError(\n",
        "            f'Could not connect to service on port {minimum} or higher.')\n",
        "    assert port >= minimum, (\n",
        "        f'Unexpected port {port} when minimum was {minimum}.')\n",
        "    return port"
      ],
      "metadata": {
        "id": "mUmqgxpQ5wO7"
      },
      "execution_count": null,
      "outputs": []
    },
    {
      "cell_type": "code",
      "source": [
        "connect_to_next_port"
      ],
      "metadata": {
        "colab": {
          "base_uri": "https://localhost:8080/"
        },
        "id": "5XvKUUJl5-Q7",
        "outputId": "e4e006d9-8c6a-4323-8f46-0eba9baea29b"
      },
      "execution_count": null,
      "outputs": [
        {
          "output_type": "execute_result",
          "data": {
            "text/plain": [
              "<function __main__.connect_to_next_port(self, minimum: int) -> int>"
            ]
          },
          "metadata": {},
          "execution_count": 4
        }
      ]
    },
    {
      "cell_type": "code",
      "source": [
        "# 띄어쓰기 4칸 (tab(스페이스 4칸과 다릅니다!), 6칸, 7칸 다 작동합니다.)\n",
        "# 한 줄에 79자 이상을 사용하지 않는다. (권고사항)"
      ],
      "metadata": {
        "id": "0--stuNV6H5C"
      },
      "execution_count": null,
      "outputs": []
    },
    {
      "cell_type": "code",
      "source": [
        "# 아래와 같이 탭과 띄어쓰기 4번을 혼용하시면 error가 납니다.\n",
        "for i in range(10):\n",
        "    print(i)\n",
        "    print('큰 따옴표로 세번 묶거나')"
      ],
      "metadata": {
        "colab": {
          "base_uri": "https://localhost:8080/"
        },
        "id": "CO_OYneV7I6y",
        "outputId": "db2cee7b-fd6b-4231-f60a-1adf67269cad"
      },
      "execution_count": null,
      "outputs": [
        {
          "output_type": "stream",
          "name": "stdout",
          "text": [
            "0\n",
            "큰 따옴표로 세번 묶거나\n",
            "1\n",
            "큰 따옴표로 세번 묶거나\n",
            "2\n",
            "큰 따옴표로 세번 묶거나\n",
            "3\n",
            "큰 따옴표로 세번 묶거나\n",
            "4\n",
            "큰 따옴표로 세번 묶거나\n",
            "5\n",
            "큰 따옴표로 세번 묶거나\n",
            "6\n",
            "큰 따옴표로 세번 묶거나\n",
            "7\n",
            "큰 따옴표로 세번 묶거나\n",
            "8\n",
            "큰 따옴표로 세번 묶거나\n",
            "9\n",
            "큰 따옴표로 세번 묶거나\n"
          ]
        }
      ]
    },
    {
      "cell_type": "code",
      "source": [
        "a = 10     #int, 정수형\n",
        "b = 10.1   #float, 실수\n",
        "c = -1\n",
        "d = True   #bool, 논리형(부울형, 참거짓형)\n",
        "e = 'good'\n",
        "f = '10'   #str, 문자열\n",
        "g = 'kim'\n",
        "h = 'honggildong'\n",
        "i = 'example'\n",
        "j = 10 + 2j #complex, 복소수 # 별로 중요하지 않음\n",
        "k = 0b110   #int, 2진법 \n",
        "l = 0o56    #int, 8진법\n",
        "m = 0xAC    #int, 16진법\n",
        "\n",
        "##########\n",
        "def hello():\n",
        "    return\n",
        "\n",
        "class A: # 자동차 공장\n",
        "    pass\n",
        "\n",
        "n = hello # function (내가 정의한 함수)\n",
        "o = print # bulit-in function -> 80%를 사용할 것임 \n",
        "p = lambda x:x**2 # function\n",
        "q = int # type\n",
        "r = A # class\n",
        "s = A() # instance # 자동차\n",
        "##########\n",
        "\n",
        "print(f'type(10) : {type(a)}')\n",
        "print(f'type(10.1) : {type(b)}')\n",
        "print(f'type(-1) : {type(c)}')\n",
        "print(f'type(True) : {type(d)}')\n",
        "print(f'type(\\'good\\') : {type(e)}')\n",
        "print(f'type(\\'good\\'.upper) : {type(e.upper)}')\n",
        "print(f'\\'10\\' + \\'10\\' : {f + f}')\n",
        "print(f'\\'10\\' * 3 : {f * 3}')\n",
        "print(f'\\'hong\\' + \\'gildong\\' : {g + h}')\n",
        "print(f'type(\\'gildong\\') : {type(h)}')\n",
        "print(f'type(\\'gildong100!!\\') : {type(i)}')\n",
        "print(f'type(10 + 2j) : {type(j)}')\n",
        "print(f'type(0b110) : {type(k)}')\n",
        "print(k)\n",
        "print(f'type(0o56) : {type(i)}')\n",
        "print(i)\n",
        "print(f'type(0xAC) : {type(m)}')\n",
        "print(m)\n",
        "print(f'type(def func():...생략...) : {type(n)}')\n",
        "print(f'type(print) : {type(o)}')\n",
        "print(f'type(lambda x:x**2) : {type(p)}')\n",
        "print(f'type(int) : {type(int)}')\n"
      ],
      "metadata": {
        "colab": {
          "base_uri": "https://localhost:8080/"
        },
        "id": "bsuDH2D77kIz",
        "outputId": "a578b04f-1539-45b6-9f33-4c044b15a1be"
      },
      "execution_count": null,
      "outputs": [
        {
          "output_type": "stream",
          "name": "stdout",
          "text": [
            "type(10) : <class 'int'>\n",
            "type(10.1) : <class 'float'>\n",
            "type(-1) : <class 'int'>\n",
            "type(True) : <class 'bool'>\n",
            "type('good') : <class 'str'>\n",
            "type('good'.upper) : <class 'builtin_function_or_method'>\n",
            "'10' + '10' : 1010\n",
            "'10' * 3 : 101010\n",
            "'hong' + 'gildong' : kimhonggildong\n",
            "type('gildong') : <class 'str'>\n",
            "type('gildong100!!') : <class 'str'>\n",
            "type(10 + 2j) : <class 'complex'>\n",
            "type(0b110) : <class 'int'>\n",
            "6\n",
            "type(0o56) : <class 'str'>\n",
            "example\n",
            "type(0xAC) : <class 'int'>\n",
            "172\n",
            "type(def func():...생략...) : <class 'function'>\n",
            "type(print) : <class 'builtin_function_or_method'>\n",
            "type(lambda x:x**2) : <class 'function'>\n",
            "type(int) : <class 'type'>\n"
          ]
        }
      ]
    },
    {
      "cell_type": "code",
      "source": [
        "# 이스케이프 문자\n",
        "# https://ko.wikipedia.org/wiki/%EC%9D%B4%EC%8A%A4%EC%BC%80%EC%9D%B4%ED%94%84_%EB%AC%B8%EC%9E%90\n",
        "print('hello \\n world') # 역슬래시 + n 줄 바뀜 \"엔터\"\n",
        "print('hello \\t world') # 역슬래시 + t 공백 \"탭\"\n",
        "print('hello \\' world')\n",
        "print('hello \\\" world')\n",
        "print('hello \\\\ world')\n"
      ],
      "metadata": {
        "colab": {
          "base_uri": "https://localhost:8080/"
        },
        "id": "EpJgJvud-b6U",
        "outputId": "7440b80b-ab10-48ef-cd3b-ae6af9f626a0"
      },
      "execution_count": null,
      "outputs": [
        {
          "output_type": "stream",
          "name": "stdout",
          "text": [
            "hello \n",
            " world\n",
            "hello \t world\n",
            "hello ' world\n",
            "hello \" world\n",
            "hello \\ world\n"
          ]
        }
      ]
    },
    {
      "cell_type": "code",
      "source": [
        "# tpye -> string\n",
        "hello = 10\n",
        "print(r'hello \\n world') # str -> raw(날 것을 보여줌) Django 2.x까지 url, parsing을 이렇게 사용하고 있어요.)\n",
        "print(f'hello \\t world{hello}') # 앞으로 f-string 기법\n",
        "print('hello world{}'.format(hello))"
      ],
      "metadata": {
        "colab": {
          "base_uri": "https://localhost:8080/"
        },
        "id": "Pv7YLg3D_uWl",
        "outputId": "9ed814b7-6cd9-428f-8cb0-481a6f2a1531"
      },
      "execution_count": null,
      "outputs": [
        {
          "output_type": "stream",
          "name": "stdout",
          "text": [
            "hello \\n world\n",
            "hello \t world10\n",
            "hello world10\n"
          ]
        }
      ]
    },
    {
      "cell_type": "code",
      "source": [
        "# type -> float\n",
        "# 오일러의 수를 모른다 해서, 수학 연산이 약하다 해서 우리 수업에 문제가 되지 않습니다.\n",
        "print(2.3e3) # 무리수, 오일러 수(2.718에 수렴, 파이가 3.14인 것처럼)\n",
        "print(2.3E3)\n",
        "\n",
        "2.3 * (10 ** 3)"
      ],
      "metadata": {
        "colab": {
          "base_uri": "https://localhost:8080/"
        },
        "id": "BXt__obFEbh6",
        "outputId": "d1c3ff05-7c30-44c2-b568-1886c5ceb48d"
      },
      "execution_count": null,
      "outputs": [
        {
          "output_type": "stream",
          "name": "stdout",
          "text": [
            "2300.0\n",
            "2300.0\n"
          ]
        },
        {
          "output_type": "execute_result",
          "data": {
            "text/plain": [
              "2300.0"
            ]
          },
          "metadata": {},
          "execution_count": 10
        }
      ]
    },
    {
      "cell_type": "code",
      "source": [
        "print(2.3e3) # 무리수, 오일러 수(2.718에 수렴, 파이가 3.14인 것처럼)\n",
        "print(2.3E3)\n",
        "\n",
        "2.3 * (10 ** -3)"
      ],
      "metadata": {
        "colab": {
          "base_uri": "https://localhost:8080/"
        },
        "id": "nIqNlAD9E2CB",
        "outputId": "b56259e1-306d-445d-8480-587dffad757f"
      },
      "execution_count": null,
      "outputs": [
        {
          "output_type": "stream",
          "name": "stdout",
          "text": [
            "2300.0\n",
            "2300.0\n"
          ]
        },
        {
          "output_type": "execute_result",
          "data": {
            "text/plain": [
              "0.0023"
            ]
          },
          "metadata": {},
          "execution_count": 11
        }
      ]
    },
    {
      "cell_type": "code",
      "source": [
        "type(2.3E3)"
      ],
      "metadata": {
        "colab": {
          "base_uri": "https://localhost:8080/"
        },
        "id": "Smd2YwjlFOIM",
        "outputId": "c91b2e4f-fad5-4cac-9eba-2e6ce1e32107"
      },
      "execution_count": null,
      "outputs": [
        {
          "output_type": "execute_result",
          "data": {
            "text/plain": [
              "float"
            ]
          },
          "metadata": {},
          "execution_count": 12
        }
      ]
    },
    {
      "cell_type": "code",
      "source": [
        "class A: # 자동차 공장\n",
        "    pass\n",
        "a = A # class\n",
        "b = A() # instance # 자동차\n",
        "print(type(a))\n",
        "print(type(b))"
      ],
      "metadata": {
        "colab": {
          "base_uri": "https://localhost:8080/"
        },
        "id": "cPvBjZ2a-3YY",
        "outputId": "73981326-d250-4363-9535-8997c99d3718"
      },
      "execution_count": null,
      "outputs": [
        {
          "output_type": "stream",
          "name": "stdout",
          "text": [
            "<class 'type'>\n",
            "<class '__main__.A'>\n"
          ]
        }
      ]
    },
    {
      "cell_type": "code",
      "source": [
        "# 변수를 처음 만나시면 type, dir을 해봅니다.\n",
        "# type을 찍으면 검색 키워드를 알 수 있습니다.\n",
        "# dir을 찍으면 속성을 알 수 있습니다.\n",
        "type(a)"
      ],
      "metadata": {
        "colab": {
          "base_uri": "https://localhost:8080/"
        },
        "id": "1G6Pr0JF8n5W",
        "outputId": "734b5af6-dc28-45bb-d1b6-75bb693c4a7d"
      },
      "execution_count": null,
      "outputs": [
        {
          "output_type": "execute_result",
          "data": {
            "text/plain": [
              "type"
            ]
          },
          "metadata": {},
          "execution_count": 14
        }
      ]
    },
    {
      "cell_type": "code",
      "source": [
        "print(type(a))"
      ],
      "metadata": {
        "colab": {
          "base_uri": "https://localhost:8080/"
        },
        "id": "5FaoOO_j8qsC",
        "outputId": "65b05589-9821-491c-c0e8-6e69e0d1d678"
      },
      "execution_count": null,
      "outputs": [
        {
          "output_type": "stream",
          "name": "stdout",
          "text": [
            "<class 'type'>\n"
          ]
        }
      ]
    },
    {
      "cell_type": "code",
      "source": [
        "dir(a)"
      ],
      "metadata": {
        "colab": {
          "base_uri": "https://localhost:8080/"
        },
        "id": "I5wp03jP86m-",
        "outputId": "8429e724-8339-4e4f-f3cb-1dd0f8338016"
      },
      "execution_count": null,
      "outputs": [
        {
          "output_type": "execute_result",
          "data": {
            "text/plain": [
              "['__class__',\n",
              " '__delattr__',\n",
              " '__dict__',\n",
              " '__dir__',\n",
              " '__doc__',\n",
              " '__eq__',\n",
              " '__format__',\n",
              " '__ge__',\n",
              " '__getattribute__',\n",
              " '__gt__',\n",
              " '__hash__',\n",
              " '__init__',\n",
              " '__init_subclass__',\n",
              " '__le__',\n",
              " '__lt__',\n",
              " '__module__',\n",
              " '__ne__',\n",
              " '__new__',\n",
              " '__reduce__',\n",
              " '__reduce_ex__',\n",
              " '__repr__',\n",
              " '__setattr__',\n",
              " '__sizeof__',\n",
              " '__str__',\n",
              " '__subclasshook__',\n",
              " '__weakref__']"
            ]
          },
          "metadata": {},
          "execution_count": 16
        }
      ]
    },
    {
      "cell_type": "code",
      "source": [
        "# 실무에서 자주 사용하는 구문\n",
        "type(10)\n",
        "type(10) == int\n",
        "type(10.1) == float"
      ],
      "metadata": {
        "colab": {
          "base_uri": "https://localhost:8080/"
        },
        "id": "jfGNqAJMFV8N",
        "outputId": "46f7174e-905a-473f-a823-5a06f1d51d76"
      },
      "execution_count": null,
      "outputs": [
        {
          "output_type": "execute_result",
          "data": {
            "text/plain": [
              "True"
            ]
          },
          "metadata": {},
          "execution_count": 17
        }
      ]
    },
    {
      "cell_type": "code",
      "source": [
        "# 위만큼 자주 사용하진 않지만 타입 확인 코드\n",
        "a = 10\n",
        "isinstance(a,int)\n",
        "isinstance(a,float)"
      ],
      "metadata": {
        "colab": {
          "base_uri": "https://localhost:8080/"
        },
        "id": "lcitnSkpFmYu",
        "outputId": "407b1067-e35c-48d3-b19f-be2f9d01d16b"
      },
      "execution_count": null,
      "outputs": [
        {
          "output_type": "execute_result",
          "data": {
            "text/plain": [
              "False"
            ]
          },
          "metadata": {},
          "execution_count": 18
        }
      ]
    },
    {
      "cell_type": "markdown",
      "source": [
        "## 변수"
      ],
      "metadata": {
        "id": "7z9yhLeXF4JQ"
      }
    },
    {
      "cell_type": "code",
      "source": [
        "# CS 변수는 포스트잇\n",
        "# 변수는 메모리 공간을 가리킵니다.\n",
        "# x라는 포스트잇도 붙였지만, y라는 포스트잇도 붙여져 있는 것이다. \n",
        "x = 10\n",
        "y = 10\n",
        "\n",
        "id(x), id(y) # id는 누굴 가리키고 있는지 그 주소값을 반환한다. "
      ],
      "metadata": {
        "colab": {
          "base_uri": "https://localhost:8080/"
        },
        "id": "oC3Gh3iZGAJL",
        "outputId": "da9cddca-b5fe-4c36-d24b-7b571ffe64d0"
      },
      "execution_count": null,
      "outputs": [
        {
          "output_type": "execute_result",
          "data": {
            "text/plain": [
              "(140613597512208, 140613597512208)"
            ]
          },
          "metadata": {},
          "execution_count": 19
        }
      ]
    },
    {
      "cell_type": "code",
      "source": [
        "x is y # x가 가르키는 값과 y가 가르키는 값이 같은가? 를 물어보는 것 "
      ],
      "metadata": {
        "colab": {
          "base_uri": "https://localhost:8080/"
        },
        "id": "Qw4ETnTtHNlK",
        "outputId": "f13e1ed0-5932-4625-dbdb-e901895098d6"
      },
      "execution_count": null,
      "outputs": [
        {
          "output_type": "execute_result",
          "data": {
            "text/plain": [
              "True"
            ]
          },
          "metadata": {},
          "execution_count": 20
        }
      ]
    },
    {
      "cell_type": "code",
      "source": [
        "x = 257\n",
        "y = 257\n",
        "\n",
        "id(x), id(y)"
      ],
      "metadata": {
        "colab": {
          "base_uri": "https://localhost:8080/"
        },
        "id": "YgmU7ScPHUil",
        "outputId": "766d32d0-65da-4f3c-fa53-393229cbd442"
      },
      "execution_count": null,
      "outputs": [
        {
          "output_type": "execute_result",
          "data": {
            "text/plain": [
              "(140613111485360, 140613111484368)"
            ]
          },
          "metadata": {},
          "execution_count": 21
        }
      ]
    },
    {
      "cell_type": "code",
      "source": [
        "x is y "
      ],
      "metadata": {
        "colab": {
          "base_uri": "https://localhost:8080/"
        },
        "id": "4EKmVaXoHleq",
        "outputId": "11b7b380-c1f9-4e0c-c4d2-1172b1296c0f"
      },
      "execution_count": null,
      "outputs": [
        {
          "output_type": "execute_result",
          "data": {
            "text/plain": [
              "False"
            ]
          },
          "metadata": {},
          "execution_count": 22
        }
      ]
    },
    {
      "cell_type": "code",
      "source": [
        "# Python은 자체적으로 속도를 높이기 위한 \n",
        "# 여러가지 노력들을 해왔습니다.\n",
        "# (아래 언급한 것 말고도 각각의 자료형에서 메모리를 효율적으로 관리하기 위한 노력들을 말씀드리겠습니다.)\n",
        "# 구버전도 말씀을 드릴 것인데 이유는 여러분이 실무에가서 접할 환경이 최신 버전이 아니기 때문입니다.\n",
        "# 야xx의 경우에는 Django 1.x, python 2.x를 사용하고 있어요. \n",
        "# 대부분의 기업들이 한 번 구축해놓은 시스템은 바꾸기가 쉽지 않습니다.\n",
        "\n",
        "# 그래서 -5 ~ 256은 먼저 메모리에 적재를 합니다.  --> 그래서 257은 둘 다 같지않음 "
      ],
      "metadata": {
        "id": "d3wI12ALICl3"
      },
      "execution_count": null,
      "outputs": []
    },
    {
      "cell_type": "code",
      "source": [
        "x = -5\n",
        "y = -5\n",
        "\n",
        "id(x), id(y)"
      ],
      "metadata": {
        "colab": {
          "base_uri": "https://localhost:8080/"
        },
        "id": "mqShWeIxIPPo",
        "outputId": "5d394d25-c6bf-4a2e-daeb-d132dc2bd491"
      },
      "execution_count": null,
      "outputs": [
        {
          "output_type": "execute_result",
          "data": {
            "text/plain": [
              "(140613597511728, 140613597511728)"
            ]
          },
          "metadata": {},
          "execution_count": 24
        }
      ]
    },
    {
      "cell_type": "markdown",
      "source": [
        "* 변수의 타입이란 무엇인가?\n",
        "* 변수의 타입은 왜 있는 것일까?\n",
        "* 어떤 고민을 통해 변수의 속성을 정했을까?"
      ],
      "metadata": {
        "id": "8OXr7yc8IsdG"
      }
    },
    {
      "cell_type": "code",
      "source": [
        "'a' + 'a'"
      ],
      "metadata": {
        "colab": {
          "base_uri": "https://localhost:8080/",
          "height": 36
        },
        "id": "DPRdrWzPImS-",
        "outputId": "eabb9459-a262-45e8-ce34-35115722ceab"
      },
      "execution_count": null,
      "outputs": [
        {
          "output_type": "execute_result",
          "data": {
            "text/plain": [
              "'aa'"
            ],
            "application/vnd.google.colaboratory.intrinsic+json": {
              "type": "string"
            }
          },
          "metadata": {},
          "execution_count": 25
        }
      ]
    },
    {
      "cell_type": "code",
      "source": [
        "# 왜 이어 붙었지?\n",
        "# 컴퓨터 입장에서는 a는 97(인간이 보는 숫자) -> 0x61! 결국 숫자! "
      ],
      "metadata": {
        "id": "L65aLakDJGOE"
      },
      "execution_count": null,
      "outputs": []
    },
    {
      "cell_type": "code",
      "source": [
        "# cpython -> 이어 붙이라고 정의가 되어 있어서 \n",
        "# 사회 통념적인 약속 -> 코드로 구현  \n",
        "# type, dir\n",
        "# 이러한 약속들은 매직메서드 (__init__....)를 통해 구현하게 됩니다."
      ],
      "metadata": {
        "id": "FBUip_jdJTIX"
      },
      "execution_count": null,
      "outputs": []
    },
    {
      "cell_type": "markdown",
      "source": [
        "# 변수의 속성 변경"
      ],
      "metadata": {
        "id": "afPaZusVKA5Q"
      }
    },
    {
      "cell_type": "code",
      "source": [
        "'10' + '10'"
      ],
      "metadata": {
        "colab": {
          "base_uri": "https://localhost:8080/",
          "height": 36
        },
        "id": "lIEc1wBoKGXS",
        "outputId": "74f5b428-4677-4e1f-fed1-edbcbb32c110"
      },
      "execution_count": null,
      "outputs": [
        {
          "output_type": "execute_result",
          "data": {
            "text/plain": [
              "'1010'"
            ],
            "application/vnd.google.colaboratory.intrinsic+json": {
              "type": "string"
            }
          },
          "metadata": {},
          "execution_count": 28
        }
      ]
    },
    {
      "cell_type": "code",
      "source": [
        "int('10') + int('10')"
      ],
      "metadata": {
        "colab": {
          "base_uri": "https://localhost:8080/"
        },
        "id": "Yo25eMYaKDwV",
        "outputId": "5489adef-40dd-4540-a17c-13d3c1000d89"
      },
      "execution_count": null,
      "outputs": [
        {
          "output_type": "execute_result",
          "data": {
            "text/plain": [
              "20"
            ]
          },
          "metadata": {},
          "execution_count": 29
        }
      ]
    },
    {
      "cell_type": "code",
      "source": [
        "# 지금 배우는 포인트는 class가 중요한 문법이 아니라\n",
        "# 이러한 '약속'을 우리가 변경할 수 있다가 중요한 포인트입니다. \n",
        "class int(int):\n",
        "    def __add__(self, a):\n",
        "        return 'kimyeoju'\n",
        "int('10') + int('10')"
      ],
      "metadata": {
        "colab": {
          "base_uri": "https://localhost:8080/",
          "height": 36
        },
        "id": "14K1KgzhKQRP",
        "outputId": "de1eced1-b809-4731-c1e7-395cba004254"
      },
      "execution_count": null,
      "outputs": [
        {
          "output_type": "execute_result",
          "data": {
            "text/plain": [
              "'kimyeoju'"
            ],
            "application/vnd.google.colaboratory.intrinsic+json": {
              "type": "string"
            }
          },
          "metadata": {},
          "execution_count": 30
        }
      ]
    },
    {
      "cell_type": "code",
      "source": [
        "class int(int):\n",
        "    def __add__(self, a):\n",
        "        return self * a\n",
        "int('10') + int('10')"
      ],
      "metadata": {
        "colab": {
          "base_uri": "https://localhost:8080/"
        },
        "id": "CrW-GVW-KsPN",
        "outputId": "a920aca3-81aa-4cd0-aebd-acb3a37eca48"
      },
      "execution_count": null,
      "outputs": [
        {
          "output_type": "execute_result",
          "data": {
            "text/plain": [
              "100"
            ]
          },
          "metadata": {},
          "execution_count": 31
        }
      ]
    },
    {
      "cell_type": "code",
      "source": [
        "dir(10) # 언더바가 없는 것들은 편리하게 사용할 수 있는 '편의기능'"
      ],
      "metadata": {
        "colab": {
          "base_uri": "https://localhost:8080/"
        },
        "id": "1IQuBG1KK47L",
        "outputId": "f6322e62-c6b0-488c-b37e-49a3c880f0d2"
      },
      "execution_count": null,
      "outputs": [
        {
          "output_type": "execute_result",
          "data": {
            "text/plain": [
              "['__abs__',\n",
              " '__add__',\n",
              " '__and__',\n",
              " '__bool__',\n",
              " '__ceil__',\n",
              " '__class__',\n",
              " '__delattr__',\n",
              " '__dir__',\n",
              " '__divmod__',\n",
              " '__doc__',\n",
              " '__eq__',\n",
              " '__float__',\n",
              " '__floor__',\n",
              " '__floordiv__',\n",
              " '__format__',\n",
              " '__ge__',\n",
              " '__getattribute__',\n",
              " '__getnewargs__',\n",
              " '__gt__',\n",
              " '__hash__',\n",
              " '__index__',\n",
              " '__init__',\n",
              " '__init_subclass__',\n",
              " '__int__',\n",
              " '__invert__',\n",
              " '__le__',\n",
              " '__lshift__',\n",
              " '__lt__',\n",
              " '__mod__',\n",
              " '__mul__',\n",
              " '__ne__',\n",
              " '__neg__',\n",
              " '__new__',\n",
              " '__or__',\n",
              " '__pos__',\n",
              " '__pow__',\n",
              " '__radd__',\n",
              " '__rand__',\n",
              " '__rdivmod__',\n",
              " '__reduce__',\n",
              " '__reduce_ex__',\n",
              " '__repr__',\n",
              " '__rfloordiv__',\n",
              " '__rlshift__',\n",
              " '__rmod__',\n",
              " '__rmul__',\n",
              " '__ror__',\n",
              " '__round__',\n",
              " '__rpow__',\n",
              " '__rrshift__',\n",
              " '__rshift__',\n",
              " '__rsub__',\n",
              " '__rtruediv__',\n",
              " '__rxor__',\n",
              " '__setattr__',\n",
              " '__sizeof__',\n",
              " '__str__',\n",
              " '__sub__',\n",
              " '__subclasshook__',\n",
              " '__truediv__',\n",
              " '__trunc__',\n",
              " '__xor__',\n",
              " 'as_integer_ratio',\n",
              " 'bit_count',\n",
              " 'bit_length',\n",
              " 'conjugate',\n",
              " 'denominator',\n",
              " 'from_bytes',\n",
              " 'imag',\n",
              " 'numerator',\n",
              " 'real',\n",
              " 'to_bytes']"
            ]
          },
          "metadata": {},
          "execution_count": 32
        }
      ]
    },
    {
      "cell_type": "code",
      "source": [
        "class int(int):\n",
        "    def 제곱(self, 승수):\n",
        "        return self ** 승수\n",
        "value = int('10')\n",
        "print(dir(value))"
      ],
      "metadata": {
        "colab": {
          "base_uri": "https://localhost:8080/"
        },
        "id": "biGARlwqLdWs",
        "outputId": "ff5c1b19-faef-468b-dded-dd3fc99ca6da"
      },
      "execution_count": null,
      "outputs": [
        {
          "output_type": "stream",
          "name": "stdout",
          "text": [
            "['__abs__', '__add__', '__and__', '__bool__', '__ceil__', '__class__', '__delattr__', '__dict__', '__dir__', '__divmod__', '__doc__', '__eq__', '__float__', '__floor__', '__floordiv__', '__format__', '__ge__', '__getattribute__', '__getnewargs__', '__gt__', '__hash__', '__index__', '__init__', '__init_subclass__', '__int__', '__invert__', '__le__', '__lshift__', '__lt__', '__mod__', '__module__', '__mul__', '__ne__', '__neg__', '__new__', '__or__', '__pos__', '__pow__', '__radd__', '__rand__', '__rdivmod__', '__reduce__', '__reduce_ex__', '__repr__', '__rfloordiv__', '__rlshift__', '__rmod__', '__rmul__', '__ror__', '__round__', '__rpow__', '__rrshift__', '__rshift__', '__rsub__', '__rtruediv__', '__rxor__', '__setattr__', '__sizeof__', '__str__', '__sub__', '__subclasshook__', '__truediv__', '__trunc__', '__xor__', 'as_integer_ratio', 'bit_count', 'bit_length', 'conjugate', 'denominator', 'from_bytes', 'imag', 'numerator', 'real', 'to_bytes', '제곱']\n"
          ]
        }
      ]
    },
    {
      "cell_type": "code",
      "source": [
        "value.제곱(3)"
      ],
      "metadata": {
        "colab": {
          "base_uri": "https://localhost:8080/"
        },
        "id": "41kC_HgELwQW",
        "outputId": "878a37df-43aa-470d-ecda-0ed4b5895eb5"
      },
      "execution_count": null,
      "outputs": [
        {
          "output_type": "execute_result",
          "data": {
            "text/plain": [
              "1000"
            ]
          },
          "metadata": {},
          "execution_count": 34
        }
      ]
    },
    {
      "cell_type": "code",
      "source": [
        "x = 10\n",
        "y = x # y가 x를 가리키는게 아니라 10을 가리키는 것\n",
        "z = y \n",
        "print(id(x), id(y), id(z))"
      ],
      "metadata": {
        "colab": {
          "base_uri": "https://localhost:8080/"
        },
        "id": "qRk2b4FkMCu5",
        "outputId": "c0d457dd-5be8-4e10-cc09-d308f82efd64"
      },
      "execution_count": null,
      "outputs": [
        {
          "output_type": "stream",
          "name": "stdout",
          "text": [
            "140613597512208 140613597512208 140613597512208\n"
          ]
        }
      ]
    },
    {
      "cell_type": "code",
      "source": [
        "x = 10\n",
        "y = x # y가 x를 가리키는게 아니라 10을 가리키는 것\n",
        "x = 100\n",
        "print(x,y)\n",
        "print(id(x), id(y), id(z))"
      ],
      "metadata": {
        "colab": {
          "base_uri": "https://localhost:8080/"
        },
        "id": "_AYv0ctcMpsX",
        "outputId": "f83719d1-2fba-4cf2-c813-6b881ee91812"
      },
      "execution_count": null,
      "outputs": [
        {
          "output_type": "stream",
          "name": "stdout",
          "text": [
            "100 10\n",
            "140613597515088 140613597512208 140613597512208\n"
          ]
        }
      ]
    },
    {
      "cell_type": "markdown",
      "source": [
        "## 변수의 속성"
      ],
      "metadata": {
        "id": "3s4cdIs_NZrd"
      }
    },
    {
      "cell_type": "markdown",
      "source": [
        "* 변수는 주로 스네이크 표기법을 많이 사용합니다. 물론 회사 컨벤션에 따르셔야 합니다.\n",
        "\n",
        "* 영문과 숫자를 사용할 수 있지만, 숫자로  시작하지는 못합니다.\n",
        "* 특수문자는 사용하지 않아요.(언더바(_)는  사용합니다. 스네이크 표기법, 특수문자나  이미중 사용 가능한 것들이 있기는 합니다.  권하지 않습니다.)\n",
        "* 예약어는 사용하지 않습니다.(if, elif, while, * for, etc)\n",
        "* 대소문자는 구분합니다.\n",
        "* 언더바로만 사용하거나 언더바로 시작할 수 있습니다.\n",
        "* 대문자로 시작하는 변수를 사용할 수 있지만, 관습적으로 대문자로 시작하는 변수는 Class로 만들기 때문에 소문자로 시작하는 변수를 만들기를 권합니다. Class는 보통 파스칼 표기법을 따릅니다. 다만 회사 컨벤션마다 다릅니다."
      ],
      "metadata": {
        "id": "lzVyuWVINcXE"
      }
    },
    {
      "cell_type": "code",
      "source": [
        "# 스네이크 표기법(Python에서 주로) # 뱀이 기어다니는 것 같다고 스네이크\n",
        "hello_world = 10\n",
        "# 카멜 표기법(JaveScript에서 주로) # 낙타 등처럼 올라오는 것 같다고 카멜\n",
        "helloWorldHello = 10\n",
        "# 파스칼 표기법 (Class 같은 곳에서 많이 사용)\n",
        "Hello = 10"
      ],
      "metadata": {
        "id": "wt5CBBGIgmfV"
      },
      "execution_count": null,
      "outputs": []
    },
    {
      "cell_type": "code",
      "source": [
        "# 10hello = 100 (x) 숫자가 앞으로 오면 에러가 남\n",
        "hello10 = 10\n",
        "_= 100 # 언더바는 자주 사용되는데 이렇게 사용되진 않는다.\n",
        "print(_)"
      ],
      "metadata": {
        "colab": {
          "base_uri": "https://localhost:8080/"
        },
        "id": "OjvkDx8ohLSB",
        "outputId": "77c4ac04-37e8-42f2-b938-65f8a57ca5a2"
      },
      "execution_count": null,
      "outputs": [
        {
          "output_type": "stream",
          "name": "stdout",
          "text": [
            "100\n"
          ]
        }
      ]
    },
    {
      "cell_type": "code",
      "source": [
        "for _ in range(10): # 언더바를 순회 안에서 변수로 사용하지 않을 때 \n",
        "    print('hello')"
      ],
      "metadata": {
        "colab": {
          "base_uri": "https://localhost:8080/"
        },
        "id": "sYMdoCPQiTh6",
        "outputId": "6527cb19-0800-464b-e716-cd6d3701a92d"
      },
      "execution_count": null,
      "outputs": [
        {
          "output_type": "stream",
          "name": "stdout",
          "text": [
            "hello\n",
            "hello\n",
            "hello\n",
            "hello\n",
            "hello\n",
            "hello\n",
            "hello\n",
            "hello\n",
            "hello\n",
            "hello\n"
          ]
        }
      ]
    },
    {
      "cell_type": "code",
      "source": [
        "#a = 100 #런타임 뒤에 print(a) 하면 안나옴 왜? a가 없기 때문"
      ],
      "metadata": {
        "id": "0lEoISGSjBLE"
      },
      "execution_count": null,
      "outputs": []
    },
    {
      "cell_type": "code",
      "source": [
        "# if = 100\n",
        "# print = 100"
      ],
      "metadata": {
        "id": "IGKp1FhiitR3"
      },
      "execution_count": null,
      "outputs": []
    },
    {
      "cell_type": "markdown",
      "source": [
        "## 입력과 출력"
      ],
      "metadata": {
        "id": "hM926-27jjWz"
      }
    },
    {
      "cell_type": "code",
      "source": [
        "# x = input() 10을 넣어도 여기선 숫자로 표기\n",
        "# x"
      ],
      "metadata": {
        "id": "IPY2uFVcjoy8"
      },
      "execution_count": null,
      "outputs": []
    },
    {
      "cell_type": "code",
      "source": [
        "# x + x # 사용자에게 받은 입력은 str"
      ],
      "metadata": {
        "id": "gFBm_1l8jrDR"
      },
      "execution_count": null,
      "outputs": []
    },
    {
      "cell_type": "code",
      "source": [
        "print(10, 10, 10)"
      ],
      "metadata": {
        "colab": {
          "base_uri": "https://localhost:8080/"
        },
        "id": "DiL6DlVMj4f1",
        "outputId": "c20fd9e7-35c8-4ee6-a1bf-832318ad9dcd"
      },
      "execution_count": null,
      "outputs": [
        {
          "output_type": "stream",
          "name": "stdout",
          "text": [
            "10 10 10\n"
          ]
        }
      ]
    },
    {
      "cell_type": "code",
      "source": [
        "print('hello', 'world', 'hello')"
      ],
      "metadata": {
        "colab": {
          "base_uri": "https://localhost:8080/"
        },
        "id": "XWko3GpvkCNp",
        "outputId": "63ae0bad-b9dd-4250-ef19-cd9da524e7f7"
      },
      "execution_count": null,
      "outputs": [
        {
          "output_type": "stream",
          "name": "stdout",
          "text": [
            "hello world hello\n"
          ]
        }
      ]
    },
    {
      "cell_type": "code",
      "source": [
        "print(x, x)"
      ],
      "metadata": {
        "colab": {
          "base_uri": "https://localhost:8080/"
        },
        "id": "kMUsy5FTkRbf",
        "outputId": "d2b5280f-dc8d-4986-bb80-da8d78bbfd27"
      },
      "execution_count": null,
      "outputs": [
        {
          "output_type": "stream",
          "name": "stdout",
          "text": [
            "100 100\n"
          ]
        }
      ]
    },
    {
      "cell_type": "code",
      "source": [
        "print('hello world', end='!')\n",
        "print('hello world', end='!')\n",
        "print('hello world', end='!')"
      ],
      "metadata": {
        "colab": {
          "base_uri": "https://localhost:8080/"
        },
        "id": "ekeVCQzykvoj",
        "outputId": "e989395a-3b7e-4406-8016-83cbe4eaf5c5"
      },
      "execution_count": null,
      "outputs": [
        {
          "output_type": "stream",
          "name": "stdout",
          "text": [
            "hello world!hello world!hello world!"
          ]
        }
      ]
    },
    {
      "cell_type": "code",
      "source": [
        "print('hello','world', sep='!') # , 사이에 붙는것\n",
        "print('010', '5044', '2903', sep='-')"
      ],
      "metadata": {
        "colab": {
          "base_uri": "https://localhost:8080/"
        },
        "id": "N4q1f_MRlHMn",
        "outputId": "460a2b25-f3fe-41ef-b819-4a21489513d9"
      },
      "execution_count": null,
      "outputs": [
        {
          "output_type": "stream",
          "name": "stdout",
          "text": [
            "hello!world\n",
            "010-5044-2903\n"
          ]
        }
      ]
    },
    {
      "cell_type": "code",
      "source": [
        "이름 = '김여주'\n",
        "나이 = 10\n",
        "print('1. 제 이름은 김여주입니다. 제 나이는 10입니다.')\n",
        "print('2. 제 이름은', 이름, '입니다. 제 나이는', 나이, '입니다.')\n",
        "print('3. 제 이름은 %s입니다. 제 나이는 %d입니다.' %(이름,나이)) # 요즘에는 잘 사용하지 않음 \n",
        "print('4. 제 이름은 {}입니다. 제 나이는 {}입니다.'.format(이름,나이))\n",
        "print(f'4. 제 이름은 {이름}입니다. 제 나이는 {나이}입니다.')\n"
      ],
      "metadata": {
        "colab": {
          "base_uri": "https://localhost:8080/"
        },
        "id": "evx4ctenlaVE",
        "outputId": "abf4018d-9cd7-4ae3-bde4-1cee605b81df"
      },
      "execution_count": null,
      "outputs": [
        {
          "output_type": "stream",
          "name": "stdout",
          "text": [
            "1. 제 이름은 김여주입니다. 제 나이는 10입니다.\n",
            "2. 제 이름은 김여주 입니다. 제 나이는 10 입니다.\n",
            "3. 제 이름은 김여주입니다. 제 나이는 10입니다.\n",
            "4. 제 이름은 김여주입니다. 제 나이는 10입니다.\n",
            "4. 제 이름은 김여주입니다. 제 나이는 10입니다.\n"
          ]
        }
      ]
    },
    {
      "cell_type": "markdown",
      "source": [
        "[포멧코드](https://www.notion.so/paullabworkspace/9fd33417740f4eba8715f5c4a1ed7c7b?v=e01ecdfe2f9448dcaad68b03a38057a5)"
      ],
      "metadata": {
        "id": "YFb9C0rDmW-C"
      }
    },
    {
      "cell_type": "markdown",
      "source": [
        "## formatting"
      ],
      "metadata": {
        "id": "JbZDFwtfm5UM"
      }
    },
    {
      "cell_type": "code",
      "source": [
        "print(f'{100*10}')"
      ],
      "metadata": {
        "colab": {
          "base_uri": "https://localhost:8080/"
        },
        "id": "W8ltDzU_nAGz",
        "outputId": "ef53df68-f15e-415d-bfc3-8a94a722d1a5"
      },
      "execution_count": null,
      "outputs": [
        {
          "output_type": "stream",
          "name": "stdout",
          "text": [
            "1000\n"
          ]
        }
      ]
    },
    {
      "cell_type": "code",
      "source": [
        "# 중괄호 안에서 복잡한 연산을 하시는 것을 권하지 않는다.\n",
        "result = 100 * 10\n",
        "print(f'{result}')"
      ],
      "metadata": {
        "colab": {
          "base_uri": "https://localhost:8080/"
        },
        "id": "0B8VK2X8nK7A",
        "outputId": "d7136afd-2d74-490d-b8ae-482f89e95801"
      },
      "execution_count": null,
      "outputs": [
        {
          "output_type": "stream",
          "name": "stdout",
          "text": [
            "1000\n"
          ]
        }
      ]
    },
    {
      "cell_type": "code",
      "source": [
        "# 이런 문법은 필요에 의해 검색해 보시다 보면 익숙해진다. \n",
        "print(f'{\"hello\":<10}') #왼쪽정렬\n",
        "print(f'{\"hello\":>10}') #오른쪽정렬\n",
        "print(f'{\"hello\":^10}') #중앙정렬\n"
      ],
      "metadata": {
        "colab": {
          "base_uri": "https://localhost:8080/"
        },
        "id": "rQzyDG6unZml",
        "outputId": "3f72f599-7d55-4d2c-9389-1f875ea6fdf0"
      },
      "execution_count": null,
      "outputs": [
        {
          "output_type": "stream",
          "name": "stdout",
          "text": [
            "hello     \n",
            "     hello\n",
            "  hello   \n"
          ]
        }
      ]
    },
    {
      "cell_type": "code",
      "source": [
        "txt = 'hello'\n",
        "i = 10\n",
        "print(f'{txt:>10}')\n",
        "print(f'{txt:>{i}}')"
      ],
      "metadata": {
        "colab": {
          "base_uri": "https://localhost:8080/"
        },
        "id": "V2qYUhibn1RM",
        "outputId": "f34fd117-77d2-459e-8142-0f44fc29b49f"
      },
      "execution_count": null,
      "outputs": [
        {
          "output_type": "stream",
          "name": "stdout",
          "text": [
            "     hello\n",
            "     hello\n"
          ]
        }
      ]
    },
    {
      "cell_type": "code",
      "source": [
        "# 이런 문법은 필요에 의해 검색해 보시다 보면 익숙해진다. \n",
        "print(f'{\"hello\":=<10}') #왼쪽정렬\n",
        "print(f'{\"hello\":=>10}') #오른쪽정렬\n",
        "print(f'{\"hello\":=^10}') #중앙정렬"
      ],
      "metadata": {
        "colab": {
          "base_uri": "https://localhost:8080/"
        },
        "id": "RbxLZ1xRoVSY",
        "outputId": "7f02dadc-4fd8-4fc4-e6c0-cf56184319c1"
      },
      "execution_count": null,
      "outputs": [
        {
          "output_type": "stream",
          "name": "stdout",
          "text": [
            "hello=====\n",
            "=====hello\n",
            "==hello===\n"
          ]
        }
      ]
    },
    {
      "cell_type": "code",
      "source": [
        "# 둘 다 잊으셔도 됩니다. 어디에 활용되는지 궁금하다 하신 분이 있어서 한 것\n",
        "# https://tech.kakao.com/2017/09/27/kakao-blind-recruitment-round-1/\n",
        "bin(9)\n",
        "print(f'{bin(9)[2:]:0>5}')"
      ],
      "metadata": {
        "colab": {
          "base_uri": "https://localhost:8080/"
        },
        "id": "RNu5zQtVooUn",
        "outputId": "0d844b35-3cb8-42c8-d284-d21b4a570a60"
      },
      "execution_count": null,
      "outputs": [
        {
          "output_type": "stream",
          "name": "stdout",
          "text": [
            "01001\n"
          ]
        }
      ]
    },
    {
      "cell_type": "code",
      "source": [
        "bin(9 | 30)[2:].replace('1','#').replace('0','')"
      ],
      "metadata": {
        "colab": {
          "base_uri": "https://localhost:8080/",
          "height": 36
        },
        "id": "0-RpZOeKuzl0",
        "outputId": "5275e501-99d1-422a-8917-5152b225ea32"
      },
      "execution_count": null,
      "outputs": [
        {
          "output_type": "execute_result",
          "data": {
            "text/plain": [
              "'#####'"
            ],
            "application/vnd.google.colaboratory.intrinsic+json": {
              "type": "string"
            }
          },
          "metadata": {},
          "execution_count": 56
        }
      ]
    },
    {
      "cell_type": "code",
      "source": [
        "# 요정도 활용을 합니다. \n",
        "print(f'{\"start\":-^20}')"
      ],
      "metadata": {
        "colab": {
          "base_uri": "https://localhost:8080/"
        },
        "id": "Z7oRbOvUvNCu",
        "outputId": "b8f7c661-a001-40e5-fffd-63614ef5050e"
      },
      "execution_count": null,
      "outputs": [
        {
          "output_type": "stream",
          "name": "stdout",
          "text": [
            "-------start--------\n"
          ]
        }
      ]
    },
    {
      "cell_type": "code",
      "source": [
        "print(f'{0.12345:0.2f}')"
      ],
      "metadata": {
        "colab": {
          "base_uri": "https://localhost:8080/"
        },
        "id": "v_TPjd0CvgoH",
        "outputId": "cfc2727a-f30f-4260-92e4-a0fb3041779c"
      },
      "execution_count": null,
      "outputs": [
        {
          "output_type": "stream",
          "name": "stdout",
          "text": [
            "0.12\n"
          ]
        }
      ]
    },
    {
      "cell_type": "markdown",
      "source": [
        "* 이 아래 코드는 필수는 아닙니다.\n",
        "참고삼아서만 넣어드립니다. "
      ],
      "metadata": {
        "id": "jdYTNFl4v2wV"
      }
    },
    {
      "cell_type": "code",
      "source": [
        "# 이전 방식\n",
        "print('나의 이름은 %s입니다'%('한사람'))\n",
        "print('나의 이름은 \"%s\"입니다. 나이는 %d세이고 성별은 %s입니다.'%('한사람',33,'남성'))\n",
        "print('나이는 %d세이고 성별은 %s입니다. 나의 이름은 %s입니다. '%(33,'남성','한사람'))\n",
        "print('나이는 %03d세이고 신장은 %6.2f입니다. 나의 이름은 %s입니다. '%(33,56.789,'한사람'))\n",
        "print('-' * 40)\n",
        "\n",
        "# 파이썬(Python) 3 포맷팅 방식\n",
        "print('나의 이름은 {}입니다'.format('한사람'))\n",
        "print('나의 이름은 {0}입니다. 나이는 {1}세이고 성별은 {2}입니다.'.format('한사람',33,'남성'))\n",
        "print('나이는 {1}세이고 성별은 {2}입니다. 나의 이름은 {0}입니다. '.format('한사람',33,'남성'))\n",
        "print('나이는 {age}세이고 성별은 {gender}입니다. 나의 이름은 {name}입니다. '\n",
        "         .format(name='한사람',age=33,gender='남성'))\n",
        "print('만세삼창 :  {0}!!! {0}!!! {0}!!! '.format('만세'))\n",
        "print('삼삼칠 박수 :  {0}!!! {0}!!! {1}!!! '.format('짝'*3,'짝'*7))\n",
        "print('-' * 40)\n",
        "\n",
        "# 파이썬(Python) 3.6 f-string 방식\n",
        "something = '볼펜'\n",
        "EA = 2\n",
        "one_length = 5.343\n",
        "scale = 'cm'\n",
        "\n",
        "print(f'{something} {EA}개의 길이는 {one_length*EA}{scale} 입니다.')\n",
        "print(f'{something} {EA}개의 길이는 {one_length*EA:.1f}{scale} 입니다.')\n"
      ],
      "metadata": {
        "colab": {
          "base_uri": "https://localhost:8080/"
        },
        "id": "oS4Ox3UPvquv",
        "outputId": "5de4a4aa-2cef-4e39-e687-f4c888775f4a"
      },
      "execution_count": null,
      "outputs": [
        {
          "output_type": "stream",
          "name": "stdout",
          "text": [
            "나의 이름은 한사람입니다\n",
            "나의 이름은 \"한사람\"입니다. 나이는 33세이고 성별은 남성입니다.\n",
            "나이는 33세이고 성별은 남성입니다. 나의 이름은 한사람입니다. \n",
            "나이는 033세이고 신장은  56.79입니다. 나의 이름은 한사람입니다. \n",
            "----------------------------------------\n",
            "나의 이름은 한사람입니다\n",
            "나의 이름은 한사람입니다. 나이는 33세이고 성별은 남성입니다.\n",
            "나이는 33세이고 성별은 남성입니다. 나의 이름은 한사람입니다. \n",
            "나이는 33세이고 성별은 남성입니다. 나의 이름은 한사람입니다. \n",
            "만세삼창 :  만세!!! 만세!!! 만세!!! \n",
            "삼삼칠 박수 :  짝짝짝!!! 짝짝짝!!! 짝짝짝짝짝짝짝!!! \n",
            "----------------------------------------\n",
            "볼펜 2개의 길이는 10.686cm 입니다.\n",
            "볼펜 2개의 길이는 10.7cm 입니다.\n"
          ]
        }
      ]
    },
    {
      "cell_type": "code",
      "source": [
        "print('Python is [{:15}]'.format('good'))\n",
        "print('Python is [{:<15}]'.format('good'))\n",
        "print('Python is [{:>15}]'.format('good'))\n",
        "print('Python is [{:^15}]'.format('good'))\n",
        "print('당신의 나이는 [{:15}]세'.format(22))\n",
        "print('당신의 나이는 [{:<15}]세'.format(22))\n",
        "print('당신의 나이는 [{:>15}]세'.format(22))\n",
        "print('당신의 나이는 [{:<15}]세'.format(22))\n",
        "print('-' * 40)"
      ],
      "metadata": {
        "colab": {
          "base_uri": "https://localhost:8080/"
        },
        "id": "H3bzkQd2wcHq",
        "outputId": "e9840587-6750-46ca-c5f9-0f4267e7a71e"
      },
      "execution_count": null,
      "outputs": [
        {
          "output_type": "stream",
          "name": "stdout",
          "text": [
            "Python is [good           ]\n",
            "Python is [good           ]\n",
            "Python is [           good]\n",
            "Python is [     good      ]\n",
            "당신의 나이는 [             22]세\n",
            "당신의 나이는 [22             ]세\n",
            "당신의 나이는 [             22]세\n",
            "당신의 나이는 [22             ]세\n",
            "----------------------------------------\n"
          ]
        }
      ]
    },
    {
      "cell_type": "markdown",
      "source": [
        "## int"
      ],
      "metadata": {
        "id": "xFHbfL0QwnUl"
      }
    },
    {
      "cell_type": "markdown",
      "source": [
        "* 파이썬에서는 숫자를 정수, 실수, 복소수로 나눠 표현한다. \n",
        "* 2진수, 8진수, 16진수는 정수로 표현된다."
      ],
      "metadata": {
        "id": "rmYdm6eswqP1"
      }
    },
    {
      "cell_type": "code",
      "source": [
        "10 # 정수\n",
        "-10 # 정수\n",
        "10.1 # 실수\n",
        "\n",
        "a = 10\n",
        "type(a)\n",
        "dir(a)"
      ],
      "metadata": {
        "colab": {
          "base_uri": "https://localhost:8080/"
        },
        "id": "5qVY3absw0HE",
        "outputId": "0bd58c39-8511-4652-e08a-d60cf0cbe9b0"
      },
      "execution_count": null,
      "outputs": [
        {
          "output_type": "execute_result",
          "data": {
            "text/plain": [
              "['__abs__',\n",
              " '__add__',\n",
              " '__and__',\n",
              " '__bool__',\n",
              " '__ceil__',\n",
              " '__class__',\n",
              " '__delattr__',\n",
              " '__dir__',\n",
              " '__divmod__',\n",
              " '__doc__',\n",
              " '__eq__',\n",
              " '__float__',\n",
              " '__floor__',\n",
              " '__floordiv__',\n",
              " '__format__',\n",
              " '__ge__',\n",
              " '__getattribute__',\n",
              " '__getnewargs__',\n",
              " '__gt__',\n",
              " '__hash__',\n",
              " '__index__',\n",
              " '__init__',\n",
              " '__init_subclass__',\n",
              " '__int__',\n",
              " '__invert__',\n",
              " '__le__',\n",
              " '__lshift__',\n",
              " '__lt__',\n",
              " '__mod__',\n",
              " '__mul__',\n",
              " '__ne__',\n",
              " '__neg__',\n",
              " '__new__',\n",
              " '__or__',\n",
              " '__pos__',\n",
              " '__pow__',\n",
              " '__radd__',\n",
              " '__rand__',\n",
              " '__rdivmod__',\n",
              " '__reduce__',\n",
              " '__reduce_ex__',\n",
              " '__repr__',\n",
              " '__rfloordiv__',\n",
              " '__rlshift__',\n",
              " '__rmod__',\n",
              " '__rmul__',\n",
              " '__ror__',\n",
              " '__round__',\n",
              " '__rpow__',\n",
              " '__rrshift__',\n",
              " '__rshift__',\n",
              " '__rsub__',\n",
              " '__rtruediv__',\n",
              " '__rxor__',\n",
              " '__setattr__',\n",
              " '__sizeof__',\n",
              " '__str__',\n",
              " '__sub__',\n",
              " '__subclasshook__',\n",
              " '__truediv__',\n",
              " '__trunc__',\n",
              " '__xor__',\n",
              " 'as_integer_ratio',\n",
              " 'bit_count',\n",
              " 'bit_length',\n",
              " 'conjugate',\n",
              " 'denominator',\n",
              " 'from_bytes',\n",
              " 'imag',\n",
              " 'numerator',\n",
              " 'real',\n",
              " 'to_bytes']"
            ]
          },
          "metadata": {},
          "execution_count": 61
        }
      ]
    },
    {
      "cell_type": "code",
      "source": [
        "'bit_length' # bit로 바꾸었을 때 비트의 길이 \n",
        "'to_bytes' # 컴퓨터에 저장하는 바이트의 형태로 숫자를 표현"
      ],
      "metadata": {
        "id": "7pHxpXyXxk7j",
        "colab": {
          "base_uri": "https://localhost:8080/",
          "height": 36
        },
        "outputId": "e2c7de24-c911-4fee-ca2c-07d58b317371"
      },
      "execution_count": null,
      "outputs": [
        {
          "output_type": "execute_result",
          "data": {
            "text/plain": [
              "'to_bytes'"
            ],
            "application/vnd.google.colaboratory.intrinsic+json": {
              "type": "string"
            }
          },
          "metadata": {},
          "execution_count": 62
        }
      ]
    },
    {
      "cell_type": "code",
      "source": [
        "# 1Bit, 0 ~ 1 # bit - 1자리\n",
        "# 1Bytes = 8bit, 00000000 ~ 11111111 # 1byte - 8bit\n",
        "# 1KB(키로바이트) = 1024Bytes \n",
        "# 1MB(메가바이트) = 1024Kb \n",
        "# 1GB(기가바이트) = 1024MB\n",
        "# 1TB(테라바이트) = 1024GB\n",
        "# 1PB(페타바이트) = 1024TB\n"
      ],
      "metadata": {
        "id": "r9A1-OGPxx0W"
      },
      "execution_count": null,
      "outputs": []
    },
    {
      "cell_type": "code",
      "source": [
        "(9).bit_length() #1001"
      ],
      "metadata": {
        "colab": {
          "base_uri": "https://localhost:8080/"
        },
        "id": "L-SMvkRgzbjv",
        "outputId": "59446856-e04f-4c70-9490-7c124689fc1a"
      },
      "execution_count": null,
      "outputs": [
        {
          "output_type": "execute_result",
          "data": {
            "text/plain": [
              "4"
            ]
          },
          "metadata": {},
          "execution_count": 64
        }
      ]
    },
    {
      "cell_type": "code",
      "source": [
        "# 컴퓨터가 숫자를 어떻게 저장하는가?\n",
        "(2).to_bytes(1,byteorder='little', signed=True)\n",
        "(1).to_bytes(1,byteorder='little', signed=True)\n",
        "(0).to_bytes(1,byteorder='little', signed=True)\n",
        "(-1).to_bytes(1,byteorder='little', signed=True)\n",
        "(-2).to_bytes(1,byteorder='little', signed=True)\n",
        "\n",
        "#9의 보수 99-12=87 9999-1112-8,887\n",
        "#9의 보수에서 +1을 하면 10의보수 \n",
        "# 1의 보수는 111-101 = 010 숫자가 바뀌는걸 볼 수 있다\n",
        "# 2의 보수는 1의 보수에서 + 1 => 011\n",
        "\n",
        "# 컴퓨터는 음수를 자체적으로 표현할 수 없기 때문에 2의 보수를 사용\n",
        "# 1의 보수를 사용하게 되면 +0과 -0이 존재하게 됨으로 비트 하나를 낭비 \n",
        "# 따라서 2의 보수를 사용"
      ],
      "metadata": {
        "colab": {
          "base_uri": "https://localhost:8080/"
        },
        "id": "zi4fe2k3zwGY",
        "outputId": "ca15670c-1d21-4b89-8b5a-c7623a69f1a5"
      },
      "execution_count": null,
      "outputs": [
        {
          "output_type": "execute_result",
          "data": {
            "text/plain": [
              "b'\\xfe'"
            ]
          },
          "metadata": {},
          "execution_count": 65
        }
      ]
    },
    {
      "cell_type": "code",
      "source": [
        "# 0000 0001 # 1\n",
        "# 1111 1110 # 1의 1의 보수\n",
        "# 1111 1111 # 2의 2의 보수 (1의 보수에서 +1)\n",
        "# 1111 1111 # 1의 2의 보수 => ff"
      ],
      "metadata": {
        "id": "uUvwSw2D2QT9"
      },
      "execution_count": null,
      "outputs": []
    },
    {
      "cell_type": "code",
      "source": [
        "# 진법 변환 쉽게 하는 법 : 가장 가까운 승수를 찾아 더하거나 뺀다. \n",
        "\n",
        "# 10진법\n",
        "# 0 1 2 3 4 5 6 7 8 9 -> 10\n",
        "# 1324 = 1*10^3 + 3*10^2 + 2*10^1+ 4 * 10^0\n",
        "\n",
        "# 2진법\n",
        "# 0 1 -> 10\n",
        "# 1001 = 1*2^3 + 1*2^0 = 9\n",
        "\n",
        "# 8진법\n",
        "# 0 1 2 3 4 5 6 7 -> 10\n",
        "\n",
        "# 16진법\n",
        "# 0 1 2 3 4 5 6 7 8 9 a b c d e f -> 10"
      ],
      "metadata": {
        "id": "ycJJzixt2we3"
      },
      "execution_count": null,
      "outputs": []
    },
    {
      "cell_type": "code",
      "source": [
        "# color의 표현\n",
        "#25/96/be\n",
        "# 000000 ~ ffffff\n",
        "## ff는 10진수로 무슨 숫자를 의미 \n",
        "# 100 - 1 => ff가 된다. 그래서 256-1  \n",
        "# 그래서 rgb는 0~255"
      ],
      "metadata": {
        "id": "ZHySfY3r7o49"
      },
      "execution_count": null,
      "outputs": []
    },
    {
      "cell_type": "code",
      "source": [
        "a = 10\n",
        "type(a)"
      ],
      "metadata": {
        "colab": {
          "base_uri": "https://localhost:8080/"
        },
        "id": "JGYsunpL8JnN",
        "outputId": "7a50945c-f06f-44bc-91fe-c0980f471710"
      },
      "execution_count": null,
      "outputs": [
        {
          "output_type": "execute_result",
          "data": {
            "text/plain": [
              "int"
            ]
          },
          "metadata": {},
          "execution_count": 69
        }
      ]
    },
    {
      "cell_type": "code",
      "source": [
        "int('10') + int('10')"
      ],
      "metadata": {
        "colab": {
          "base_uri": "https://localhost:8080/"
        },
        "id": "kcXCXfpu8Oi3",
        "outputId": "9333c4aa-edc4-4634-c937-75df03cbe01d"
      },
      "execution_count": null,
      "outputs": [
        {
          "output_type": "execute_result",
          "data": {
            "text/plain": [
              "100"
            ]
          },
          "metadata": {},
          "execution_count": 70
        }
      ]
    },
    {
      "cell_type": "code",
      "source": [
        "int('10',2) # 2진법으로 10은? "
      ],
      "metadata": {
        "colab": {
          "base_uri": "https://localhost:8080/"
        },
        "id": "IzwzHEvD8XYt",
        "outputId": "a0e30c92-b04f-4097-8bb0-6fbc7e716a9a"
      },
      "execution_count": null,
      "outputs": [
        {
          "output_type": "execute_result",
          "data": {
            "text/plain": [
              "2"
            ]
          },
          "metadata": {},
          "execution_count": 71
        }
      ]
    },
    {
      "cell_type": "code",
      "source": [
        "int('10',8) # 8진법으로 10은?"
      ],
      "metadata": {
        "colab": {
          "base_uri": "https://localhost:8080/"
        },
        "id": "x8CFxODx8biV",
        "outputId": "4c4a5728-4502-4aa4-da6e-f3e0791c9ca1"
      },
      "execution_count": null,
      "outputs": [
        {
          "output_type": "execute_result",
          "data": {
            "text/plain": [
              "8"
            ]
          },
          "metadata": {},
          "execution_count": 72
        }
      ]
    },
    {
      "cell_type": "code",
      "source": [
        "int('10',16) # 16진법으로 10은?"
      ],
      "metadata": {
        "colab": {
          "base_uri": "https://localhost:8080/"
        },
        "id": "3qAQwFdi8gD6",
        "outputId": "ee4ff4b0-60ff-4e94-80dd-1cf04461d3b2"
      },
      "execution_count": null,
      "outputs": [
        {
          "output_type": "execute_result",
          "data": {
            "text/plain": [
              "16"
            ]
          },
          "metadata": {},
          "execution_count": 73
        }
      ]
    },
    {
      "cell_type": "code",
      "source": [
        "print(0b110) # 바이너리\n",
        "print(0o110) # 옥타 - 8진수\n",
        "print(0x110) # 헥사 - 16진수"
      ],
      "metadata": {
        "colab": {
          "base_uri": "https://localhost:8080/"
        },
        "id": "mOBoHuim8mc0",
        "outputId": "8a9a1894-6217-4df5-b587-4517057dbe04"
      },
      "execution_count": null,
      "outputs": [
        {
          "output_type": "stream",
          "name": "stdout",
          "text": [
            "6\n",
            "72\n",
            "272\n"
          ]
        }
      ]
    },
    {
      "cell_type": "code",
      "source": [
        "a = 10\n",
        "type(a) == int\n",
        "isinstance(a, int)"
      ],
      "metadata": {
        "colab": {
          "base_uri": "https://localhost:8080/"
        },
        "id": "z4MnL4Mb9AIx",
        "outputId": "d52878c8-f194-45f6-a07d-eac60df2dfc9"
      },
      "execution_count": null,
      "outputs": [
        {
          "output_type": "execute_result",
          "data": {
            "text/plain": [
              "False"
            ]
          },
          "metadata": {},
          "execution_count": 75
        }
      ]
    },
    {
      "cell_type": "markdown",
      "source": [
        "## float (실수)"
      ],
      "metadata": {
        "id": "EAZnBWD89Fr7"
      }
    },
    {
      "cell_type": "code",
      "source": [
        "a = 10.1 \n",
        "type(a)"
      ],
      "metadata": {
        "colab": {
          "base_uri": "https://localhost:8080/"
        },
        "id": "c6IPqpOV9OiH",
        "outputId": "7ef363aa-1936-499f-f5d2-78329992639d"
      },
      "execution_count": null,
      "outputs": [
        {
          "output_type": "execute_result",
          "data": {
            "text/plain": [
              "float"
            ]
          },
          "metadata": {},
          "execution_count": 76
        }
      ]
    },
    {
      "cell_type": "code",
      "source": [
        "dir(a)"
      ],
      "metadata": {
        "colab": {
          "base_uri": "https://localhost:8080/"
        },
        "id": "8q5QRxFx9VBQ",
        "outputId": "3f6f6465-e8fb-408b-c39f-dc8feca9053f"
      },
      "execution_count": null,
      "outputs": [
        {
          "output_type": "execute_result",
          "data": {
            "text/plain": [
              "['__abs__',\n",
              " '__add__',\n",
              " '__bool__',\n",
              " '__ceil__',\n",
              " '__class__',\n",
              " '__delattr__',\n",
              " '__dir__',\n",
              " '__divmod__',\n",
              " '__doc__',\n",
              " '__eq__',\n",
              " '__float__',\n",
              " '__floor__',\n",
              " '__floordiv__',\n",
              " '__format__',\n",
              " '__ge__',\n",
              " '__getattribute__',\n",
              " '__getformat__',\n",
              " '__getnewargs__',\n",
              " '__gt__',\n",
              " '__hash__',\n",
              " '__init__',\n",
              " '__init_subclass__',\n",
              " '__int__',\n",
              " '__le__',\n",
              " '__lt__',\n",
              " '__mod__',\n",
              " '__mul__',\n",
              " '__ne__',\n",
              " '__neg__',\n",
              " '__new__',\n",
              " '__pos__',\n",
              " '__pow__',\n",
              " '__radd__',\n",
              " '__rdivmod__',\n",
              " '__reduce__',\n",
              " '__reduce_ex__',\n",
              " '__repr__',\n",
              " '__rfloordiv__',\n",
              " '__rmod__',\n",
              " '__rmul__',\n",
              " '__round__',\n",
              " '__rpow__',\n",
              " '__rsub__',\n",
              " '__rtruediv__',\n",
              " '__setattr__',\n",
              " '__setformat__',\n",
              " '__sizeof__',\n",
              " '__str__',\n",
              " '__sub__',\n",
              " '__subclasshook__',\n",
              " '__truediv__',\n",
              " '__trunc__',\n",
              " 'as_integer_ratio',\n",
              " 'conjugate',\n",
              " 'fromhex',\n",
              " 'hex',\n",
              " 'imag',\n",
              " 'is_integer',\n",
              " 'real']"
            ]
          },
          "metadata": {},
          "execution_count": 77
        }
      ]
    },
    {
      "cell_type": "code",
      "source": [
        "a = 10\n",
        "b = 10.1\n",
        "a + b # 다른 일부 언어에서는 허용되지 않는다"
      ],
      "metadata": {
        "colab": {
          "base_uri": "https://localhost:8080/"
        },
        "id": "biV5xNBs9ZQE",
        "outputId": "60a7742c-1239-47a0-db03-ac0c7ca8574f"
      },
      "execution_count": null,
      "outputs": [
        {
          "output_type": "execute_result",
          "data": {
            "text/plain": [
              "20.1"
            ]
          },
          "metadata": {},
          "execution_count": 78
        }
      ]
    },
    {
      "cell_type": "code",
      "source": [
        "# 부동소수점 오차(2진법으로 변환했을 때 0,1이 무한대수가 발생한다.)\n",
        "0.1 + 0.2 # 대부분의 언어 공통이다. \n"
      ],
      "metadata": {
        "colab": {
          "base_uri": "https://localhost:8080/"
        },
        "id": "h5SQyKMd9hzd",
        "outputId": "07158734-edb6-42b3-e77e-8d3ce5743bb8"
      },
      "execution_count": null,
      "outputs": [
        {
          "output_type": "execute_result",
          "data": {
            "text/plain": [
              "0.30000000000000004"
            ]
          },
          "metadata": {},
          "execution_count": 79
        }
      ]
    },
    {
      "cell_type": "code",
      "source": [
        "a = 0.1"
      ],
      "metadata": {
        "id": "nI9BO_BY9801"
      },
      "execution_count": null,
      "outputs": []
    },
    {
      "cell_type": "code",
      "source": [
        "# 20번 반복\n",
        "a = a + 0.1\n",
        "a"
      ],
      "metadata": {
        "colab": {
          "base_uri": "https://localhost:8080/"
        },
        "id": "PEbXeHpb-M4J",
        "outputId": "608c5e27-00c7-42b8-a500-d94f2dbd4001"
      },
      "execution_count": null,
      "outputs": [
        {
          "output_type": "execute_result",
          "data": {
            "text/plain": [
              "0.2"
            ]
          },
          "metadata": {},
          "execution_count": 81
        }
      ]
    },
    {
      "cell_type": "markdown",
      "source": [
        "* https://docs.python.org/ko/3/tutorial/floatingpoint.html\n",
        "* https://0.30000000000000004.com/ 에서 언어별 해결책을 제시한다.\n",
        "* 컴퓨터에서 부동소수점 숫자는 2진 분수로 표현되기에 무한대수가 발생한다.\n",
        "* [무한수가 발생되는 원리](https://www.notion.so/paullabworkspace/5f34f21bf9a34015b170e7afd7da9593)"
      ],
      "metadata": {
        "id": "uQkCoI4C-n3V"
      }
    },
    {
      "cell_type": "markdown",
      "source": [
        "## str (문자열)\n",
        "\n",
        "- 순서가 있는 **시퀀스 자료형**입니다.\n",
        "- 작은 따옴표(' ')나 큰 따옴표(\" \"), 삼중따옴표('''str''', \"\"\"str\"\"\")로 감싸는 것도 가능합니다. (삼중따옴표를 사용할 경우에는 줄단위의 문자열을 나타낼 수 있습니다.)\n",
        "- 작은 따옴표 안에 큰 따옴표, 큰 따옴표 안에 작은 따옴표 사용이 가능합니다.\n",
        "- 이스케이프 문자도 사용이 가능합니다.\n",
        "\n",
        "- 리스트, 튜플도 시퀀스 자료형입니다."
      ],
      "metadata": {
        "id": "TPph0Fzmy-t7"
      }
    },
    {
      "cell_type": "code",
      "source": [
        "s = 'paullab CEO kimyeoju'\n",
        "s[0] # 0은 index입니다. 이렇게 호출하는 것을 indexing이라고 합니다."
      ],
      "metadata": {
        "colab": {
          "base_uri": "https://localhost:8080/",
          "height": 36
        },
        "id": "8KstG4n8y-ER",
        "outputId": "bf9be484-5f98-4d4f-adc7-27f53ee038e3"
      },
      "execution_count": null,
      "outputs": [
        {
          "output_type": "execute_result",
          "data": {
            "text/plain": [
              "'p'"
            ],
            "application/vnd.google.colaboratory.intrinsic+json": {
              "type": "string"
            }
          },
          "metadata": {},
          "execution_count": 82
        }
      ]
    },
    {
      "cell_type": "code",
      "source": [
        "type(s)"
      ],
      "metadata": {
        "colab": {
          "base_uri": "https://localhost:8080/"
        },
        "id": "UdODxjHEzxKJ",
        "outputId": "a8028e9e-0738-4b20-9585-eb25ee055198"
      },
      "execution_count": null,
      "outputs": [
        {
          "output_type": "execute_result",
          "data": {
            "text/plain": [
              "str"
            ]
          },
          "metadata": {},
          "execution_count": 83
        }
      ]
    },
    {
      "cell_type": "code",
      "source": [
        "dir(s)"
      ],
      "metadata": {
        "colab": {
          "base_uri": "https://localhost:8080/"
        },
        "id": "Nl2AQ6efz9Ro",
        "outputId": "0a429a98-e405-4bb1-daea-9bada7070802"
      },
      "execution_count": null,
      "outputs": [
        {
          "output_type": "execute_result",
          "data": {
            "text/plain": [
              "['__add__',\n",
              " '__class__',\n",
              " '__contains__',\n",
              " '__delattr__',\n",
              " '__dir__',\n",
              " '__doc__',\n",
              " '__eq__',\n",
              " '__format__',\n",
              " '__ge__',\n",
              " '__getattribute__',\n",
              " '__getitem__',\n",
              " '__getnewargs__',\n",
              " '__gt__',\n",
              " '__hash__',\n",
              " '__init__',\n",
              " '__init_subclass__',\n",
              " '__iter__',\n",
              " '__le__',\n",
              " '__len__',\n",
              " '__lt__',\n",
              " '__mod__',\n",
              " '__mul__',\n",
              " '__ne__',\n",
              " '__new__',\n",
              " '__reduce__',\n",
              " '__reduce_ex__',\n",
              " '__repr__',\n",
              " '__rmod__',\n",
              " '__rmul__',\n",
              " '__setattr__',\n",
              " '__sizeof__',\n",
              " '__str__',\n",
              " '__subclasshook__',\n",
              " 'capitalize',\n",
              " 'casefold',\n",
              " 'center',\n",
              " 'count',\n",
              " 'encode',\n",
              " 'endswith',\n",
              " 'expandtabs',\n",
              " 'find',\n",
              " 'format',\n",
              " 'format_map',\n",
              " 'index',\n",
              " 'isalnum',\n",
              " 'isalpha',\n",
              " 'isascii',\n",
              " 'isdecimal',\n",
              " 'isdigit',\n",
              " 'isidentifier',\n",
              " 'islower',\n",
              " 'isnumeric',\n",
              " 'isprintable',\n",
              " 'isspace',\n",
              " 'istitle',\n",
              " 'isupper',\n",
              " 'join',\n",
              " 'ljust',\n",
              " 'lower',\n",
              " 'lstrip',\n",
              " 'maketrans',\n",
              " 'partition',\n",
              " 'removeprefix',\n",
              " 'removesuffix',\n",
              " 'replace',\n",
              " 'rfind',\n",
              " 'rindex',\n",
              " 'rjust',\n",
              " 'rpartition',\n",
              " 'rsplit',\n",
              " 'rstrip',\n",
              " 'split',\n",
              " 'splitlines',\n",
              " 'startswith',\n",
              " 'strip',\n",
              " 'swapcase',\n",
              " 'title',\n",
              " 'translate',\n",
              " 'upper',\n",
              " 'zfill']"
            ]
          },
          "metadata": {},
          "execution_count": 84
        }
      ]
    },
    {
      "cell_type": "code",
      "source": [
        "# 문자열의 메서드\n",
        "# 'capitalize','casefold','center','count','encode',\n",
        "# 'endswith','expandtabs','find','format','format_map',\n",
        "# 'index','isalnum','isalpha','isascii','isdecimal','isdigit',\n",
        "# 'isidentifier','islower','isnumeric','isprintable','isspace',\n",
        "# 'istitle','isupper','join','ljust','lower','lstrip',\n",
        "# 'maketrans','partition','removeprefix','removesuffix',\n",
        "# 'replace','rfind','rindex','rjust','rpartition','rsplit',\n",
        "# 'rstrip','split','splitlines','startswith','strip','swapcase',\n",
        "# 'title','translate','upper','zfill'"
      ],
      "metadata": {
        "id": "mTjaOewS0VKv"
      },
      "execution_count": null,
      "outputs": []
    },
    {
      "cell_type": "code",
      "source": [
        "s.lower(), s.upper() \n",
        "# 특히 사용자에게 입력을 받는 경우 lower도 많이 사용한다."
      ],
      "metadata": {
        "colab": {
          "base_uri": "https://localhost:8080/"
        },
        "id": "fEF915NZ0dd7",
        "outputId": "59f63277-0146-4c4b-d936-1b101de938e0"
      },
      "execution_count": null,
      "outputs": [
        {
          "output_type": "execute_result",
          "data": {
            "text/plain": [
              "('paullab ceo kimyeoju', 'PAULLAB CEO KIMYEOJU')"
            ]
          },
          "metadata": {},
          "execution_count": 86
        }
      ]
    },
    {
      "cell_type": "code",
      "source": [
        "s = 'paullab CEO kimyeoju'\n",
        "s.find('C'), s.index('C') # find와 index차이점 알기"
      ],
      "metadata": {
        "colab": {
          "base_uri": "https://localhost:8080/"
        },
        "id": "ISQZiqNi02xa",
        "outputId": "ea09a49e-bd3b-4918-a424-cf4c7df0e11d"
      },
      "execution_count": null,
      "outputs": [
        {
          "output_type": "execute_result",
          "data": {
            "text/plain": [
              "(8, 8)"
            ]
          },
          "metadata": {},
          "execution_count": 87
        }
      ]
    },
    {
      "cell_type": "code",
      "source": [
        "# 견고한 코드란 ?\n",
        "# 시간이 지나도 그대로 사용할 수 있고 \n",
        "# error가 예측 가능하게 하는 코드\n",
        "# 네이버에 이미지 슬라이딩 코드 만든지 10년이 됐는데도 아직도 사용함 \n",
        "# bool(s.find('Z')) => -1은 True이기 때문에 주의가 필요하다. #\n",
        "s.find('Z')"
      ],
      "metadata": {
        "colab": {
          "base_uri": "https://localhost:8080/"
        },
        "id": "vblvVe5Q1XWe",
        "outputId": "33419f2a-d810-4a07-f1f1-cc902156b908"
      },
      "execution_count": null,
      "outputs": [
        {
          "output_type": "execute_result",
          "data": {
            "text/plain": [
              "-1"
            ]
          },
          "metadata": {},
          "execution_count": 88
        }
      ]
    },
    {
      "cell_type": "code",
      "source": [
        "# Eroor가 나면 Eroor를 주는 것이 좋을 수 있다.\n",
        "# Eroor를 안주는 언어로 JavaScript\n",
        "s.index('Z')"
      ],
      "metadata": {
        "colab": {
          "base_uri": "https://localhost:8080/",
          "height": 241
        },
        "id": "XGA1kE6L1jhc",
        "outputId": "80915202-cb3c-441c-847d-d407e15789d3"
      },
      "execution_count": null,
      "outputs": [
        {
          "output_type": "error",
          "ename": "ValueError",
          "evalue": "ignored",
          "traceback": [
            "\u001b[0;31m---------------------------------------------------------------------------\u001b[0m",
            "\u001b[0;31mValueError\u001b[0m                                Traceback (most recent call last)",
            "\u001b[0;32m<ipython-input-89-b3cbe088f34d>\u001b[0m in \u001b[0;36m<cell line: 3>\u001b[0;34m()\u001b[0m\n\u001b[1;32m      1\u001b[0m \u001b[0;31m# Eroor가 나면 Eroor를 주는 것이 좋을 수 있다.\u001b[0m\u001b[0;34m\u001b[0m\u001b[0;34m\u001b[0m\u001b[0m\n\u001b[1;32m      2\u001b[0m \u001b[0;31m# Eroor를 안주는 언어로 JavaScript\u001b[0m\u001b[0;34m\u001b[0m\u001b[0;34m\u001b[0m\u001b[0m\n\u001b[0;32m----> 3\u001b[0;31m \u001b[0ms\u001b[0m\u001b[0;34m.\u001b[0m\u001b[0mindex\u001b[0m\u001b[0;34m(\u001b[0m\u001b[0;34m'Z'\u001b[0m\u001b[0;34m)\u001b[0m\u001b[0;34m\u001b[0m\u001b[0;34m\u001b[0m\u001b[0m\n\u001b[0m",
            "\u001b[0;31mValueError\u001b[0m: substring not found"
          ]
        }
      ]
    },
    {
      "cell_type": "code",
      "source": [
        "s = 'paullab CEO kimyeoju'\n",
        "s.find('CEO')"
      ],
      "metadata": {
        "id": "CUzm8qB_2ihz"
      },
      "execution_count": null,
      "outputs": []
    },
    {
      "cell_type": "code",
      "source": [
        "# count 별 5개 \n",
        "s = 'paullab CEO kimyeoju'\n",
        "s.count('l')"
      ],
      "metadata": {
        "id": "PDYFaosY2v_u"
      },
      "execution_count": null,
      "outputs": []
    },
    {
      "cell_type": "code",
      "source": [
        "str([1, 2, 3, 4, 5])"
      ],
      "metadata": {
        "id": "_0zQZmKu3A5u"
      },
      "execution_count": null,
      "outputs": []
    },
    {
      "cell_type": "code",
      "source": [
        "str([1, 2, 3, 4, 5]).count(' ')"
      ],
      "metadata": {
        "id": "h4BuHhMM3Hcc"
      },
      "execution_count": null,
      "outputs": []
    },
    {
      "cell_type": "code",
      "source": [
        "str([1, 2, 3, 4, 5]).count(',')"
      ],
      "metadata": {
        "id": "PeggRcx43Kzz"
      },
      "execution_count": null,
      "outputs": []
    },
    {
      "cell_type": "code",
      "source": [
        "str([1, 2, 11, 4, 111]).count('1')"
      ],
      "metadata": {
        "id": "T64uAH2s3Krv"
      },
      "execution_count": null,
      "outputs": []
    },
    {
      "cell_type": "code",
      "source": [
        "str(list(range(0, 10001))).count('8')"
      ],
      "metadata": {
        "id": "XdJaZbY85hFA"
      },
      "execution_count": null,
      "outputs": []
    },
    {
      "cell_type": "markdown",
      "source": [
        "* https://codingdojang.com/scode/393?answer_mode=hide"
      ],
      "metadata": {
        "id": "xkLNGyEp3m8e"
      }
    },
    {
      "cell_type": "code",
      "source": [
        "str([1,2,3,4,5]).count(' ') \n",
        "# list는 콤마 다음에 공백이 없더라도 공백으로 인식해준다. "
      ],
      "metadata": {
        "id": "AKN8DEhT4B-m"
      },
      "execution_count": null,
      "outputs": []
    },
    {
      "cell_type": "code",
      "source": [
        "str([1,\n",
        "     2,\n",
        "     3,\n",
        "     4,\n",
        "     5]).count(' ') \n",
        "# list는 콤마 다음에 공백이 없더라도 공백으로 인식해준다. \n",
        "# 콤마를 띄어도 병합해서 '4' 그대로 출력 "
      ],
      "metadata": {
        "id": "RyWgUSdd4wbF"
      },
      "execution_count": null,
      "outputs": []
    },
    {
      "cell_type": "code",
      "source": [
        "'hello'.count('')"
      ],
      "metadata": {
        "id": "QFyxe1474IaD"
      },
      "execution_count": null,
      "outputs": []
    },
    {
      "cell_type": "code",
      "source": [
        "'a'.count('') # 양쪽공백"
      ],
      "metadata": {
        "id": "aspklhHI4d0B"
      },
      "execution_count": null,
      "outputs": []
    },
    {
      "cell_type": "code",
      "source": [
        "''.count('') # 이건 없는 것이기 때문에 1로 처리를 해준다 "
      ],
      "metadata": {
        "id": "KwMe1MeC4WxQ"
      },
      "execution_count": null,
      "outputs": []
    },
    {
      "cell_type": "code",
      "source": [
        "''+''"
      ],
      "metadata": {
        "id": "pKbR59eP4335"
      },
      "execution_count": null,
      "outputs": []
    },
    {
      "cell_type": "code",
      "source": [
        "' hello  !  '.strip() #양쪽 공백을 없애줌"
      ],
      "metadata": {
        "id": "u28V_E3L6ZQ7"
      },
      "execution_count": null,
      "outputs": []
    },
    {
      "cell_type": "code",
      "source": [
        "' hello  !  '.rstrip() #오른쪽 공백을 없애줌"
      ],
      "metadata": {
        "id": "JCN5DK-x6pJP"
      },
      "execution_count": null,
      "outputs": []
    },
    {
      "cell_type": "code",
      "source": [
        "' hello  !  '.lstrip() #왼쪽 공백을 없애줌 "
      ],
      "metadata": {
        "id": "XvbiJWIQ6u6w"
      },
      "execution_count": null,
      "outputs": []
    },
    {
      "cell_type": "code",
      "source": [
        "# 별 5개\n",
        "'hello world hi'.replace(' ','!') # 공백을 느낌표로 바꾼다\n",
        "'hello world hi'.replace('world','W@O@R@L@D').upper() \n",
        "# 이렇게 점을 계속 찍어서 연결하는게 '메서드 체이닝'"
      ],
      "metadata": {
        "id": "A6GHr_LL6yr4"
      },
      "execution_count": null,
      "outputs": []
    },
    {
      "cell_type": "code",
      "source": [
        "'hello world hi'.replace('world','W@O@R@L@D').upper().split('@')\n",
        "# 반환값이 list이기 때문에 메서드 체이닝을 하려면 \n",
        "# 이후로 list 메서드를 사용해야 한다. "
      ],
      "metadata": {
        "id": "i1jbzTid7Y06"
      },
      "execution_count": null,
      "outputs": []
    },
    {
      "cell_type": "code",
      "source": [
        "'hello world hi'.replace(' ','')"
      ],
      "metadata": {
        "id": "ZDwxHdJK7q9y"
      },
      "execution_count": null,
      "outputs": []
    },
    {
      "cell_type": "code",
      "source": [
        "data = '''  \"+ +-+ -+-\"  \n",
        "  \"++ -- +-+\"  \n",
        "  \"++-+ -+ -\"  \n",
        "  \"+ ++-+ -+\"  '''\n",
        "data.split('\\n')[0].replace(' ','').replace('\"','')\n",
        "# Pythonic 하지 않다 ! \n",
        "data.split('\\n')[0].replace(' ',\n",
        "                '').replace('\"',\n",
        "                '')\n",
        "# pythonic 하게 하려면 -> 역슬래시를 사용하는 것을 추천 \n",
        "data.split('\\n')[0]\\\n",
        "                .replace(' ','')\\\n",
        "                .replace('\"','')\\\n",
        "\n",
        "# 강사님이 사용하는 기법\n",
        "# processed_string = data.split('\\n')[0].replace(' ','').replace('\"','')\n",
        "# processed_string.replace('\"','').('\"','')\n"
      ],
      "metadata": {
        "id": "69xCyNok7-4e"
      },
      "execution_count": null,
      "outputs": []
    },
    {
      "cell_type": "code",
      "source": [
        "data = '''  \"+ +-+ -+-\"  \n",
        "  \"++ -- +-+\"  \n",
        "  \"++-+ -+ -\"  \n",
        "  \"+ ++-+ -+\"  '''\n",
        "data.split('\\n')[0].replace(' ','').replace('\"','').replace('+','1').replace('-','0')\n",
        "ord('A'),chr(65) # ord는 문자를 가지고 숫자로 변경 chr은 숫자를 가지고 문자로 변경한다. \n",
        "숫자 = data.split('\\n')[0].replace(' ','').replace('\"','').replace('+','1').replace('-','0')\n",
        "\n",
        "int(숫자, 2)\n",
        "chr(int(숫자, 2))"
      ],
      "metadata": {
        "id": "-BE8xi1PBD7b"
      },
      "execution_count": null,
      "outputs": []
    },
    {
      "cell_type": "code",
      "source": [
        "# 별 4.5개\n",
        "'paullab CEO leehojun'.split(' ') #문자열을 쪼개어 줍니다.\n",
        "'paullab!CEO!leehojun'.split('!')\n",
        "'paullab,CEO,leehojun'.split(',')\n",
        "'paullab-CEO-kimyeoju'.split('-') # split에 '-'같은 값을 넣어야 쪼개짐 \n",
        "'paullab-CEO-kimyeoju'.split('-') # 공백이면 그냥 print됨"
      ],
      "metadata": {
        "id": "qkwdzZkACC1S"
      },
      "execution_count": null,
      "outputs": []
    },
    {
      "cell_type": "code",
      "source": [
        "# 결과 ['010', '5044', '2903'] 이게 나와야함 \n",
        "'010 5044 2903'.split(' ')\n",
        "'010-5044-2903'.split('-')\n",
        "'010 5044-2903'.replace('-',' ').split(' ')"
      ],
      "metadata": {
        "id": "gbP84LNuCPkI"
      },
      "execution_count": null,
      "outputs": []
    },
    {
      "cell_type": "code",
      "source": [
        "# 결과 ['010', '5044', '2903'] 이게 나와야함 \n",
        "'010 5044 2903'.split(' ')\n",
        "'010-5044-2903'.split('-')\n",
        "'010 5044-2903'.replace(' ','-').split('-')"
      ],
      "metadata": {
        "id": "oRQeNkp_V9yZ"
      },
      "execution_count": null,
      "outputs": []
    },
    {
      "cell_type": "code",
      "source": [
        "'010 5044 2903'.split() # 공백단위가 들어가도 된다."
      ],
      "metadata": {
        "id": "NmhbyChQGDKW"
      },
      "execution_count": null,
      "outputs": []
    },
    {
      "cell_type": "code",
      "source": [
        "# '01050442903'.split('') # 빈 문자열을 넣지는 못함"
      ],
      "metadata": {
        "id": "GziG9tXEGGwI"
      },
      "execution_count": null,
      "outputs": []
    },
    {
      "cell_type": "code",
      "source": [
        "# 지금 진도에서 과하기 때문에 뒤에서 상세하게 다룬다. \n",
        "# 지금은 잊어도 된다. \n",
        "def 제곱함수(x):\n",
        "    return x ** 2\n",
        "\n",
        "def 정수함수(x):\n",
        "    return int(x)\n",
        "\n",
        "list(map(제곱함수, [1, 2, 3]))\n",
        "list(map(정수함수, ['1', '2', '3']))\n",
        "list(map(int, ['1', '2', '3']))\n",
        "\n",
        "list(map(int, ['010', '5044', '2903']))\n",
        "list(map(int,'010 5044 2903'.split(' ')))"
      ],
      "metadata": {
        "id": "Ls52vu2DHD3X"
      },
      "execution_count": null,
      "outputs": []
    },
    {
      "cell_type": "code",
      "source": [
        "int('010') # 앞에 0은 숫자로 인정해주지 않음"
      ],
      "metadata": {
        "id": "yuAzIjdBMQxs"
      },
      "execution_count": null,
      "outputs": []
    },
    {
      "cell_type": "code",
      "source": [
        "num = '010 5044-2903'.replace('-','').split(' ')\n",
        "[int(i) for i in num] # 리스트 컴프리헨션 사용\n",
        "list(map(int,'010 5044 2903'.split(' ')))\n",
        "\n",
        "# 2개 모두 새로운 리스트를 만드는 것입니다.\n",
        "# 원본을 변경시키지 않습니다. "
      ],
      "metadata": {
        "id": "FrZUJMK2Mjcw"
      },
      "execution_count": null,
      "outputs": []
    },
    {
      "cell_type": "code",
      "source": [
        "list(map(int,'010 5044 2903'.split(' '))) # list map 아직 모름 #"
      ],
      "metadata": {
        "id": "1Io9y_JxXJlk"
      },
      "execution_count": null,
      "outputs": []
    },
    {
      "cell_type": "code",
      "source": [
        "# 별 4.5 개\n",
        "# join은 쪼개어진 데이터를 합쳐주는 method\n",
        "'~'.join(['hello', 'world', 'hello'])\n",
        "'!'.join(['hello', 'world', 'hello'])\n",
        "''.join(['hello', 'world', 'hello'])\n",
        "' '.join(['hello', 'world', 'hello'])\n",
        "\n",
        "'hello-world'.split('-')\n",
        "'~'.join(['hello','world','hello'])\n",
        "'!'.join(['hello','world','hello'])"
      ],
      "metadata": {
        "id": "HwZWSZtUHdxd"
      },
      "execution_count": null,
      "outputs": []
    },
    {
      "cell_type": "code",
      "source": [
        "'hello'.isalpha() #isalpha() 알파벳인지 아닌지를 판단"
      ],
      "metadata": {
        "id": "HE2a_VE0H5oW"
      },
      "execution_count": null,
      "outputs": []
    },
    {
      "cell_type": "code",
      "source": [
        "'he llo'.isalpha() # 띄어쓰기를 하면 false"
      ],
      "metadata": {
        "id": "NMUIHC4xIDbQ"
      },
      "execution_count": null,
      "outputs": []
    },
    {
      "cell_type": "code",
      "source": [
        "'123'.isdigit() #isdigit() 숫자인지 아닌지 판단 "
      ],
      "metadata": {
        "id": "a3Rtt-VsINFu"
      },
      "execution_count": null,
      "outputs": []
    },
    {
      "cell_type": "code",
      "source": [
        "'12a3'.isdigit(), '12 3'.isdigit()"
      ],
      "metadata": {
        "id": "WL7g_F9lIQ3a"
      },
      "execution_count": null,
      "outputs": []
    },
    {
      "cell_type": "code",
      "source": [
        "'12a3'.isalnum(), '12 3'.isalnum() #isalnum은 데이터가 숫자인지 아닌지 판단"
      ],
      "metadata": {
        "id": "n5yUBuH4IXro"
      },
      "execution_count": null,
      "outputs": []
    },
    {
      "cell_type": "code",
      "source": [
        "'안녕하세요!'.isalpha(), '안녕하세요!'.isalnum()"
      ],
      "metadata": {
        "id": "nBI_fkZ8Igiy"
      },
      "execution_count": null,
      "outputs": []
    },
    {
      "cell_type": "code",
      "source": [
        "# 여기 있는 숫자를 다 더해주세요\n",
        "# 퀴즈\n",
        "# 숫자를 모두 더하라! \n",
        "for i in '123abc913sldlf':\n",
        "    print(i.isdigit())\n",
        "    if i.isdigit():\n",
        "        result += int(i) #result = result + int(i) \n",
        "result\n"
      ],
      "metadata": {
        "id": "rkJkkGRRIs2D"
      },
      "execution_count": null,
      "outputs": []
    },
    {
      "cell_type": "code",
      "source": [
        "result = 0\n",
        "for i in '123abc913sldlf':\n",
        "    if i.isdigit():\n",
        "        result += int(i)\n",
        "result"
      ],
      "metadata": {
        "id": "MvK3BzlJJdu8"
      },
      "execution_count": null,
      "outputs": []
    },
    {
      "cell_type": "code",
      "source": [
        "'paullab CEO leehojun'.isascii()"
      ],
      "metadata": {
        "id": "cLgnM0NVNyFo"
      },
      "execution_count": null,
      "outputs": []
    },
    {
      "cell_type": "code",
      "source": [
        "'paullab CEO leehojun'.rjust(30) #오른쪽 정렬\n",
        "'paullab CEO leehojun'.ljust(30) #왼쪽 정렬\n",
        "'paullab CEO leehojun'.center(30)#가운데 정렬"
      ],
      "metadata": {
        "id": "WuSfAXoLJkPY"
      },
      "execution_count": null,
      "outputs": []
    },
    {
      "cell_type": "code",
      "source": [
        "'paullab CEO leehojun'.rjust(30) #오른쪽 정렬\n"
      ],
      "metadata": {
        "id": "0d-4Xh4kaeqM"
      },
      "execution_count": null,
      "outputs": []
    },
    {
      "cell_type": "code",
      "source": [
        "'hello'.zfill(20) #zfill()은 데이터의 빈 공간을 0으로 채워줌"
      ],
      "metadata": {
        "id": "1QPjeOnRNdEz"
      },
      "execution_count": null,
      "outputs": []
    },
    {
      "cell_type": "code",
      "source": [
        "'paullab CEO kimyeoju'.zfill(30).replace('0','!')"
      ],
      "metadata": {
        "id": "N6AeEWKGbPIz"
      },
      "execution_count": null,
      "outputs": []
    },
    {
      "cell_type": "code",
      "source": [
        "'hello'.zfill(20).replace('0','-')"
      ],
      "metadata": {
        "id": "Z85ncO4rbn4J"
      },
      "execution_count": null,
      "outputs": []
    },
    {
      "cell_type": "code",
      "source": [
        "'1001'.zfill(5)\n",
        "'hello'.zfill(10).replace('0','-')"
      ],
      "metadata": {
        "id": "CxNsI-n0OLbw"
      },
      "execution_count": null,
      "outputs": []
    },
    {
      "cell_type": "code",
      "source": [
        "규칙테이블 = str.maketrans('le','12')\n",
        "'paullab CEO leehojun'.translate(규칙테이블) #어떤 규칙을 정하는것"
      ],
      "metadata": {
        "id": "woyfByb8b9bU"
      },
      "execution_count": null,
      "outputs": []
    },
    {
      "cell_type": "code",
      "source": [
        "규칙테이블 = str.maketrans('ki','gi')\n",
        "'paullab CEO kimyeoju'.translate(규칙테이블)"
      ],
      "metadata": {
        "id": "6Dnot9zLcB_f"
      },
      "execution_count": null,
      "outputs": []
    },
    {
      "cell_type": "code",
      "source": [
        "규칙테이블 = str.maketrans({'\\n':' ',})"
      ],
      "metadata": {
        "id": "FxLKiVMZfJgG"
      },
      "execution_count": null,
      "outputs": []
    },
    {
      "cell_type": "code",
      "source": [
        "'paullab \\n\\n\\n CEO \\t\\t\\t leehojun'.replace('\\n','').replace('\\t','')"
      ],
      "metadata": {
        "id": "o2N-BldaOxEH"
      },
      "execution_count": null,
      "outputs": []
    },
    {
      "cell_type": "code",
      "source": [
        "규칙테이블 = str.maketrans({'\\n':' ', '\\t':' '})\n",
        "'paullab \\n\\n\\n CEO \\t\\t\\t leehojun'.translate(규칙테이블)"
      ],
      "metadata": {
        "id": "_tZ75nydPEA6"
      },
      "execution_count": null,
      "outputs": []
    },
    {
      "cell_type": "markdown",
      "source": [
        "## pep"
      ],
      "metadata": {
        "id": "Wq4dtOjgPb4v"
      }
    },
    {
      "cell_type": "code",
      "source": [
        "# aaaaaaaaaaaaaaaaaaaaaaaaaaaaaaaaaaaaaaaaaaaaaaaaaaaaaaaaaaaaaaaaaaaaaaaaaaaaaaaa => 80자\n",
        "# 아아아아아아아아아아아아아아아아아아아아아아아아아아아아아아아아아아아아아아아아아아 => 40자면 한글 넘어갑니다.\n",
        "# line에 딱 맞춰 들어간 것을 볼 수 있습니다. \n",
        "# 강제사항은 아닙니다.\n",
        "# 띄어쓰기 4번도 강제사항은 아닙니다.\n",
        "# pep8, pep 20에 기술되어 있습니다. => pep(Python Enhancement Proposal)란 무엇인가요? 8이란 무엇인가요?\n",
        "# pep8 : Style Guide for Python Code (https://peps.python.org/pep-0008/)\n",
        "# pep20 : The Zen of Python(https://peps,pythone.org/pep-0020/) #이스터에그로 숨겨져 있음\n",
        "# https://peps.python.org/"
      ],
      "metadata": {
        "id": "XCpM4qb2PeVi"
      },
      "execution_count": null,
      "outputs": []
    },
    {
      "cell_type": "markdown",
      "source": [
        "## cpython\n",
        "\n",
        "* 공식홈페이지에서 다운로드 받는 것이 cpython이다. \n",
        "* list를 구현한 코드 : https://github.com/python/cpython/blob/main/Objects/listobject.c\n"
      ],
      "metadata": {
        "id": "Iyw3AP90QqrJ"
      }
    },
    {
      "cell_type": "markdown",
      "source": [
        "## 인덱싱과 슬라이싱"
      ],
      "metadata": {
        "id": "lueSnSxbSXqt"
      }
    },
    {
      "cell_type": "code",
      "source": [
        "name = 'Guido van Rossum'\n",
        "print(name[0])\n",
        "print(name[1])\n",
        "print(name[2])"
      ],
      "metadata": {
        "id": "0gFO_ec_RhYu"
      },
      "execution_count": null,
      "outputs": []
    },
    {
      "cell_type": "code",
      "source": [
        "# s[start:stop:step]\n",
        "s = 'paullab CEO leehojun'\n",
        "s[5:]\n",
        "s[:5]\n",
        "s[3:10]\n",
        "s[:]\n",
        "s[0:20:2]"
      ],
      "metadata": {
        "id": "0n80mlGlSowM"
      },
      "execution_count": null,
      "outputs": []
    },
    {
      "cell_type": "code",
      "source": [
        "# 자주 사용되는 코드\n",
        "s = 'paullab CEO leehojun.'\n",
        "s[:] #string에서는 많이 사용하지 않지만 list에서 많이 사용한다. \n",
        "s[:-1] # 마지막 요소만 제외하고 다 슬라이싱 한다. 마지막 '.'을 뺌"
      ],
      "metadata": {
        "id": "dshF3MJCTKBJ"
      },
      "execution_count": null,
      "outputs": []
    },
    {
      "cell_type": "code",
      "source": [
        "s = 'hello world kimyeoju!'\n",
        "s[:]\n",
        "s[:-1] # 뒤에 느낌표를 뺌"
      ],
      "metadata": {
        "id": "PBt8WplxhF3_"
      },
      "execution_count": null,
      "outputs": []
    },
    {
      "cell_type": "code",
      "source": [
        "test = [1, 2, 3, 4]\n",
        "test2 = test\n",
        "test2[0] = 1000\n",
        "test, test2"
      ],
      "metadata": {
        "id": "7Bp15BS_Tez4"
      },
      "execution_count": null,
      "outputs": []
    },
    {
      "cell_type": "code",
      "source": [
        "test = [1, 2, 3, 4]\n",
        "test2 = test[:] # 새로운 리스트를 만들어서 test2에게 준다. \n",
        "test2[0] = 1000\n",
        "test, test2"
      ],
      "metadata": {
        "id": "TLxKaTfITwBK"
      },
      "execution_count": null,
      "outputs": []
    },
    {
      "cell_type": "markdown",
      "source": [
        "## 문자열의 연산"
      ],
      "metadata": {
        "id": "cze8HsJPUtC5"
      }
    },
    {
      "cell_type": "code",
      "source": [
        "s = 'hello world'\n",
        "dir(s)\n",
        "s + s\n",
        "s * 3"
      ],
      "metadata": {
        "id": "ar-kYUsaUcNC"
      },
      "execution_count": null,
      "outputs": []
    },
    {
      "cell_type": "markdown",
      "source": [
        "## 형변환\n",
        "\n",
        "* type을 변경하는 것"
      ],
      "metadata": {
        "id": "oauOQUQsUvT8"
      }
    },
    {
      "cell_type": "code",
      "source": [
        "x = int(input())\n",
        "1 + 2 # but 알파벳 입력하면 error"
      ],
      "metadata": {
        "id": "Vc8zvK6IU0By"
      },
      "execution_count": null,
      "outputs": []
    },
    {
      "cell_type": "code",
      "source": [
        "x = input()\n",
        "if x.isdigit():\n",
        "    x = int(x) # but 알파벳 입력하면 error!\n",
        "x + x"
      ],
      "metadata": {
        "id": "rB0yqNSrVDOL"
      },
      "execution_count": null,
      "outputs": []
    },
    {
      "cell_type": "code",
      "source": [
        "int('abc') # error\n",
        "int(10.1) # 버림 --> 10\n",
        "int('10') # 형변환 가능\n",
        "int('10.1') # 형변환 불가능\n",
        "\n",
        "## '10.1' 은 불가능 그냥 실수 10.1 은 소수점 버리고 10 가능 "
      ],
      "metadata": {
        "id": "U-44LZyUVW1I"
      },
      "execution_count": null,
      "outputs": []
    },
    {
      "cell_type": "code",
      "source": [
        "float('10') # 형변환 가능\n",
        "float('10.1') # 형변환 가능"
      ],
      "metadata": {
        "id": "wzSyxFFLVvt1"
      },
      "execution_count": null,
      "outputs": []
    },
    {
      "cell_type": "code",
      "source": [
        "int('10a') # 되는 언어가 있어서 보여드린 것\n",
        "# Python에서는 허용하지 않는다. "
      ],
      "metadata": {
        "id": "fyOvtPw3Vzhh"
      },
      "execution_count": null,
      "outputs": []
    },
    {
      "cell_type": "code",
      "source": [
        "def hello():\n",
        "    pass\n",
        "\n",
        "str(type)\n",
        "str(hello)\n",
        "str('123')\n",
        "str(True)\n",
        "str(None)\n",
        "str([1, 2, 3])\n",
        "str({1, 2, 3})\n",
        "str({'one':1, 'two':2})"
      ],
      "metadata": {
        "id": "Sli4nQJdWNxs"
      },
      "execution_count": null,
      "outputs": []
    },
    {
      "cell_type": "code",
      "source": [
        "# 별 5개\n",
        "if True:\n",
        "   print('hi')\n",
        "\n",
        "if 'hello':\n",
        "    print('hi')\n",
        "\n",
        "# 정말 많이 사용하는 코드 \n",
        "l = [1, 2, 3]\n",
        "while l:\n",
        "    print(l.pop())\n",
        "\n",
        "bool('') # -> 얘는 false 빈 문자열을 제외하고 모두 true\n",
        "bool('a')\n",
        "bool('False') # 문자열 False이기 때문에 True\n",
        "bool (0) # 0을 제외하고 모두 True\n",
        "bool (-1) # --> True\n",
        "bool(100) # --> True\n",
        "bool(None) # None은 비어있음을 명시해주는 키워드 \n",
        "bool([]) #컨벤션 자료형은 비어있으면 False입니다. \n",
        "bool({}) # false"
      ],
      "metadata": {
        "id": "p_SkvX-cW5ie"
      },
      "execution_count": null,
      "outputs": []
    },
    {
      "cell_type": "code",
      "source": [
        "l = [1, 2, 3]\n",
        "while l:\n",
        "    print(l.pop()) ## 아직 이해못함 ## "
      ],
      "metadata": {
        "id": "c0uHInY8o96s"
      },
      "execution_count": null,
      "outputs": []
    },
    {
      "cell_type": "code",
      "source": [
        "l = [1, 2, 3]\n",
        "while l:\n",
        "    print(l.pop())"
      ],
      "metadata": {
        "id": "QjpeH5_Kl7vI"
      },
      "execution_count": null,
      "outputs": []
    },
    {
      "cell_type": "code",
      "source": [
        "# list로 형변환\n",
        "s = '10'\n",
        "l = list(s)\n",
        "l"
      ],
      "metadata": {
        "id": "6b5dOJUmpjNI"
      },
      "execution_count": null,
      "outputs": []
    },
    {
      "cell_type": "code",
      "source": [
        "s = 'kimyeoju'\n",
        "l = list(s)\n",
        "l"
      ],
      "metadata": {
        "id": "E4oMQLtTmZ8s"
      },
      "execution_count": null,
      "outputs": []
    },
    {
      "cell_type": "code",
      "source": [
        "s = 'leehojun'\n",
        "l = list(s)\n",
        "l"
      ],
      "metadata": {
        "id": "Vwinn-hwps6y"
      },
      "execution_count": null,
      "outputs": []
    },
    {
      "cell_type": "code",
      "source": [
        "# tuple로 형변환\n",
        "s = 'leehojun'\n",
        "l = tuple(s)\n",
        "l"
      ],
      "metadata": {
        "id": "IzxzgZ3QpzZm"
      },
      "execution_count": null,
      "outputs": []
    },
    {
      "cell_type": "code",
      "source": [
        "# # dict\n",
        "# name = 'leehojun' # error\n",
        "# dict(name)\n",
        "\n",
        "s = [('name','leehojun'),('age','10')]\n",
        "d = dict(s)\n",
        "d"
      ],
      "metadata": {
        "id": "IImxed49p6F_"
      },
      "execution_count": null,
      "outputs": []
    },
    {
      "cell_type": "code",
      "source": [
        "s = [{'name','kimyeoju'},{'age','10'}]\n",
        "d = dict(s)\n",
        "d"
      ],
      "metadata": {
        "id": "y98Ft_eQnHWN"
      },
      "execution_count": null,
      "outputs": []
    },
    {
      "cell_type": "code",
      "source": [
        "# set(집합)으로 형변환\n",
        "name = 'leehojun'\n",
        "set(name)"
      ],
      "metadata": {
        "id": "gE1FQkvjqOMq"
      },
      "execution_count": null,
      "outputs": []
    },
    {
      "cell_type": "code",
      "source": [
        "name = 'kimyeoju'\n",
        "set(name)"
      ],
      "metadata": {
        "id": "fbONOm6un210"
      },
      "execution_count": null,
      "outputs": []
    },
    {
      "cell_type": "code",
      "source": [
        "name = 'kimyeoju'\n",
        "len(set(name)) # 중복을 제거한 상태로의 길이를 알려줌 "
      ],
      "metadata": {
        "id": "o9KcY_YGoeJv"
      },
      "execution_count": null,
      "outputs": []
    },
    {
      "cell_type": "code",
      "source": [
        "name = 'kimyeoju'\n",
        "len(name)"
      ],
      "metadata": {
        "id": "rA3W7PXTpDgI"
      },
      "execution_count": null,
      "outputs": []
    },
    {
      "cell_type": "code",
      "source": [
        "len('hello world') # __len__\n",
        "len([1, 2, 3, 4])"
      ],
      "metadata": {
        "id": "u5gx2Ij9qdJL"
      },
      "execution_count": null,
      "outputs": []
    },
    {
      "cell_type": "code",
      "source": [
        "#2번\n",
        "user_input = input('문자를 입력해주세요!')\n",
        "print(user_input*2)"
      ],
      "metadata": {
        "id": "xb1EmwgRrZXV"
      },
      "execution_count": null,
      "outputs": []
    },
    {
      "cell_type": "code",
      "source": [
        "user_input = input()\n",
        "print(user_input*2)"
      ],
      "metadata": {
        "id": "87sz-i2IqMVI"
      },
      "execution_count": null,
      "outputs": []
    },
    {
      "cell_type": "code",
      "source": [
        "#3번\n",
        "num = 1234567890\n",
        "list(str(num))[3]"
      ],
      "metadata": {
        "id": "yPpZ_OS3sezg"
      },
      "execution_count": null,
      "outputs": []
    },
    {
      "cell_type": "markdown",
      "source": [
        "## 산술연산"
      ],
      "metadata": {
        "id": "lYI_bQ1gszHQ"
      }
    },
    {
      "cell_type": "code",
      "source": [
        "a = 10\n",
        "b = 3\n",
        "\n",
        "print(f'10 + 3 == {a + b}')\n",
        "print(f'10 - 3 == {a - b}')\n",
        "print(f'10 / 3 == {a / b}')\n",
        "print(f'10 // 3 == {a // b}') # 몫만 나온다 (정수만)\n",
        "print(f'10 * 3 == {a * b}')\n",
        "print(f'10 ** 3 == {a ** b}')\n",
        "print(f'10 % 3 == {a % b}') # 나머지 // 나머지가 0 이면 배수다 // "
      ],
      "metadata": {
        "id": "Xy8Ri-JGs_oR"
      },
      "execution_count": null,
      "outputs": []
    },
    {
      "cell_type": "code",
      "source": [
        "# 연산자 우선순위는 and, or, 4칙연산, 제곱 정도만 아셔도 코딩하는데 큰 무리가 없다. \n",
        "# 모르면 읽는데 어려움이 생기기도 한다. \n",
        "print(3 ** 2 * 3)\n",
        "print(3 * 3 ** 2) # 왜 81이 아니지? 하지마\n",
        "# 곱하기 보다 제곱이 우선순위가 더 높다\n",
        "print(3 + 3 * 2) # 3*2부터 계산함 \n",
        "\n",
        "# 제곱근이 우선순위가 제일 높음 \n",
        "# 곱셈이 그 다음으로 높음\n",
        "# 덧셈"
      ],
      "metadata": {
        "id": "9yrDm1NYt0Sz"
      },
      "execution_count": null,
      "outputs": []
    },
    {
      "cell_type": "code",
      "source": [
        "a = 10\n",
        "b = 3\n",
        "\n",
        "print(f'10 > 3 == {a > b}')\n",
        "print(f'10 >= 3 == {a >= b}')\n",
        "print(f'10 < 3 == {a < b}')\n",
        "print(f'10 <= 3 == {a <= b}')\n",
        "print(f'10 == 3 == {a == b}')\n",
        "print(f'10 != 3 == {a != b}')"
      ],
      "metadata": {
        "id": "AAcePeJQu7jJ"
      },
      "execution_count": null,
      "outputs": []
    },
    {
      "cell_type": "code",
      "source": [
        "numA = 25\n",
        "numB = 40\n",
        "\n",
        "print(\"numA // numB:\", numA // numB)\n",
        "print(\"numA / numB:\", numA / numB)"
      ],
      "metadata": {
        "id": "Dwdga_eyATk_"
      },
      "execution_count": null,
      "outputs": []
    },
    {
      "cell_type": "markdown",
      "source": [
        "## 논리연산"
      ],
      "metadata": {
        "id": "lzQkdo3YvRwQ"
      }
    },
    {
      "cell_type": "code",
      "source": [
        "# and 는 곱\n",
        "# or 는 합\n",
        "# not 은 반대 \n",
        "# True 1\n",
        "# False 0\n",
        "# 중요한 포인트는 저렇게 했을 때 언제 True가 되는지 정리하는 것 \n",
        "print(True and False) # false\n",
        "print(True or False) # true\n",
        "print(True or True) # true\n",
        "\n",
        "if True and False:\n",
        "    print('hello')\n",
        "\n",
        "if 10>3 and 8 % 3 == 0:\n",
        "    print('hello')\n",
        "\n",
        "# and는 언제 True가 되나요?\n",
        "# 모두 True일 때\n",
        "# or는 언제 True가 되나요?\n",
        "# 둘 중에 하나라도 참이라면 True"
      ],
      "metadata": {
        "id": "B3xa9QTavTrK"
      },
      "execution_count": null,
      "outputs": []
    },
    {
      "cell_type": "code",
      "source": [
        "# https://codingdojang.com/scode/350?answer_mode=hide\n",
        "for i in range(101):\n",
        "    if i % 3 == 0 and i % 5 == 0:\n",
        "        print(i)"
      ],
      "metadata": {
        "id": "hvhU1vVmwpqJ"
      },
      "execution_count": null,
      "outputs": []
    },
    {
      "cell_type": "code",
      "source": [
        "for i in range(101): # 이해못함 #\n",
        "    if i % 3 == 0 or i % 5 == 0:\n",
        "        print(i)"
      ],
      "metadata": {
        "id": "JB8I0XN1xQKL"
      },
      "execution_count": null,
      "outputs": []
    },
    {
      "cell_type": "code",
      "source": [
        "result = 0\n",
        "for i in range(101):\n",
        "    if i % 3 == 0:\n",
        "        result += i # result = result + i\n",
        "    if i % 5 == 0:\n",
        "        result += i\n",
        "    if i % 15 == 0:\n",
        "        result -= i\n",
        "print(result)"
      ],
      "metadata": {
        "id": "LO1ckhQXxjvS"
      },
      "execution_count": null,
      "outputs": []
    },
    {
      "cell_type": "code",
      "source": [
        "not True"
      ],
      "metadata": {
        "id": "6neQzT1Kye8k"
      },
      "execution_count": null,
      "outputs": []
    },
    {
      "cell_type": "code",
      "source": [
        "not False"
      ],
      "metadata": {
        "id": "hx2wf3QtyhIg"
      },
      "execution_count": null,
      "outputs": []
    },
    {
      "cell_type": "code",
      "source": [
        "# python 입장에서 보는 코드\n",
        "# False and ???? => 물음표에 무엇이 나오는 False\n",
        "# 그래서 Python도 저 물음표를 보지 않는다.\n",
        "def solution():\n",
        "    1/0\n",
        "if False and solution():\n",
        "    print('hello')"
      ],
      "metadata": {
        "id": "YL_XeKY6ypMj"
      },
      "execution_count": null,
      "outputs": []
    },
    {
      "cell_type": "code",
      "source": [
        "#True or ????? => 물음표에 무엇이 나오는 True\n",
        "def solution():\n",
        "    1/0\n",
        "if True or solution():\n",
        "    print('hello')"
      ],
      "metadata": {
        "id": "OpwNZfks1zQN"
      },
      "execution_count": null,
      "outputs": []
    },
    {
      "cell_type": "code",
      "source": [
        "# 단략 평가(컴퓨터가 어디까지 보는지 판단해서 활용)\n",
        "username = '' # 사용자가 아무것도 입력하지 않았을 경우 false\n",
        "username = username or 'licat' # username이 false여도 or니까 뒤에가 true일 수 있음 그래서 'Licat'을 봄\n",
        "username"
      ],
      "metadata": {
        "id": "V_yUa2_s2ElE"
      },
      "execution_count": null,
      "outputs": []
    },
    {
      "cell_type": "code",
      "source": [
        "username = 'leehojun' # 사용자가 아무것도 입력하지 않았을 경우 false\n",
        "username = username or 'licat'\n",
        "username"
      ],
      "metadata": {
        "id": "zCXaHif82ln2"
      },
      "execution_count": null,
      "outputs": []
    },
    {
      "cell_type": "code",
      "source": [
        "# and와 or의 우선순위(and가 더 높습니다.)\n",
        "for i in range(101):\n",
        "    if i % 3 == 0 and i % 5 == 0 or i % 2 == 0:\n",
        "        print(i)\n",
        "\n",
        "for i in range(101):\n",
        "    if (i % 3 == 0 and i % 5 == 0) or i % 2 == 0:\n",
        "        print(i)"
      ],
      "metadata": {
        "id": "eQBMm4Pv2sG9"
      },
      "execution_count": null,
      "outputs": []
    },
    {
      "cell_type": "code",
      "source": [
        "# 아래는 출력되는 값이 다르다. 우선순위가 낮은 or가 먼저 나왔기 때문\n",
        "\n",
        "for i in range(21):\n",
        "    if (i % 3 == 0 or i % 5 == 0) and i % 2 == 0:\n",
        "        print(i)\n",
        "\n",
        "for i in range(21):\n",
        "    if (i % 3 == 0 or i % 5 == 0) and i % 2 == 0:\n",
        "        print(i)"
      ],
      "metadata": {
        "id": "eUauSw3t3AkV"
      },
      "execution_count": null,
      "outputs": []
    },
    {
      "cell_type": "markdown",
      "source": [
        "## 비트연산 (중요도 하)"
      ],
      "metadata": {
        "id": "ngKgdI324Ffz"
      }
    },
    {
      "cell_type": "code",
      "source": [
        "# and(곱하기)\n",
        "1001 == 9\n",
        "0010 == 2\n",
        "----\n",
        "0000"
      ],
      "metadata": {
        "id": "b6kxRmGU4IZS"
      },
      "execution_count": null,
      "outputs": []
    },
    {
      "cell_type": "code",
      "source": [
        "9 & 2"
      ],
      "metadata": {
        "id": "473E1FJm4oBB"
      },
      "execution_count": null,
      "outputs": []
    },
    {
      "cell_type": "code",
      "source": [
        "#and(곱하기)\n",
        "1001 \n",
        "1000\n",
        "---- # 곱하는것임\n",
        "1000 "
      ],
      "metadata": {
        "id": "gGFKl9Sl4syO"
      },
      "execution_count": null,
      "outputs": []
    },
    {
      "cell_type": "code",
      "source": [
        "9 & 8 #1000이 십진수로 나와서 답이 8"
      ],
      "metadata": {
        "id": "Flbh06Q85BWE"
      },
      "execution_count": null,
      "outputs": []
    },
    {
      "cell_type": "code",
      "source": [
        "# or(더하기, 대신 자리올림이 되진 않는다.)\n",
        "# 1001 == 9\n",
        "# 0011 == 3\n",
        "# ----\n",
        "# 1010\n",
        "\n",
        "9|3"
      ],
      "metadata": {
        "id": "3tEPumnI5ipW"
      },
      "execution_count": null,
      "outputs": []
    },
    {
      "cell_type": "code",
      "source": [
        "9|3"
      ],
      "metadata": {
        "id": "1EK_X5i-G59p"
      },
      "execution_count": null,
      "outputs": []
    },
    {
      "cell_type": "code",
      "source": [
        "# xor(같을 경우 0, 다를경우 1)\n",
        "# 1001 == 9\n",
        "# 0011 == 3\n",
        "# ----\n",
        "# 1010\n",
        "9^3"
      ],
      "metadata": {
        "id": "SAM2w4_b53sf"
      },
      "execution_count": null,
      "outputs": []
    },
    {
      "cell_type": "code",
      "source": [
        "~9 # 2의 보수를 취하는 것이다. (9에게 +1 한 다음에 -를 취하시면 된다. )\n",
        "~-7 # -7에 +1은 -6 거기다가 -를 붙이면 양수 6이 나옴"
      ],
      "metadata": {
        "id": "dvmZVprA6Or0"
      },
      "execution_count": null,
      "outputs": []
    },
    {
      "cell_type": "code",
      "source": [
        "3 << 2 # 3을 2진수로 표현하면 11인데 2칸을 왼쪽으로 미는 것 \n",
        "# 1100 "
      ],
      "metadata": {
        "id": "0EZPDY8U6jJM"
      },
      "execution_count": null,
      "outputs": []
    },
    {
      "cell_type": "code",
      "source": [
        "7 >> 2 # 미는 것을 shift라고 표현"
      ],
      "metadata": {
        "id": "O0fM1wdW7k-A"
      },
      "execution_count": null,
      "outputs": []
    },
    {
      "cell_type": "code",
      "source": [
        "a = 40\n",
        "~a"
      ],
      "metadata": {
        "id": "25P71FKaO5d_"
      },
      "execution_count": null,
      "outputs": []
    },
    {
      "cell_type": "markdown",
      "source": [
        "## 할당연산"
      ],
      "metadata": {
        "id": "y6aa4t8173SU"
      }
    },
    {
      "cell_type": "code",
      "source": [
        "# a = 10\n",
        "# a = a + 10\n",
        "a =  + 10 # 이렇게 a를 지우면 양수를 표현하는 10만 남는다\n",
        "a"
      ],
      "metadata": {
        "id": "NRFf_uvn75wb"
      },
      "execution_count": null,
      "outputs": []
    },
    {
      "cell_type": "code",
      "source": [
        "a = 10\n",
        "a += 10 # a = a + 10\n",
        "a"
      ],
      "metadata": {
        "id": "-3lxHhcC8TSQ"
      },
      "execution_count": null,
      "outputs": []
    },
    {
      "cell_type": "code",
      "source": [
        "a = 10\n",
        "# a = a // 10\n",
        "a //= 10 # 산술연산 모두 된다.\n",
        "a"
      ],
      "metadata": {
        "id": "YCpQUw1o8-LU"
      },
      "execution_count": null,
      "outputs": []
    },
    {
      "cell_type": "code",
      "source": [
        "# Python에서 특이하게 ++a, ++b, a++, b++가 없습니다. # 증감연산자"
      ],
      "metadata": {
        "id": "uIb49OLB9SW9"
      },
      "execution_count": null,
      "outputs": []
    },
    {
      "cell_type": "markdown",
      "source": [
        "## 식별연산자"
      ],
      "metadata": {
        "id": "BnbnYjs99k2C"
      }
    },
    {
      "cell_type": "code",
      "source": [
        "# 앞으로 아래 2개를 활용해서 Python에 컨벤션 자료형이 어떻게 구성이 되는지 확인해볼 것\n",
        "# id()\n",
        "# is"
      ],
      "metadata": {
        "id": "-NDzW0529n9x"
      },
      "execution_count": null,
      "outputs": []
    },
    {
      "cell_type": "code",
      "source": [
        "a = 256\n",
        "b = 256 \n",
        "a is b"
      ],
      "metadata": {
        "id": "zMgcK88C91qV"
      },
      "execution_count": null,
      "outputs": []
    },
    {
      "cell_type": "code",
      "source": [
        "a = 999\n",
        "b = 999\n",
        "a is b"
      ],
      "metadata": {
        "id": "K0v15Pbl9x0x"
      },
      "execution_count": null,
      "outputs": []
    },
    {
      "cell_type": "code",
      "source": [
        "a = [1,2,3]\n",
        "b = [1,2,3]\n",
        "a is b"
      ],
      "metadata": {
        "id": "S6f-eqAw95eZ"
      },
      "execution_count": null,
      "outputs": []
    },
    {
      "cell_type": "code",
      "source": [
        "a[0] = 100\n",
        "a, b"
      ],
      "metadata": {
        "id": "mEHvG9Gj-lLg"
      },
      "execution_count": null,
      "outputs": []
    },
    {
      "cell_type": "code",
      "source": [
        "a = [1,2,3]\n",
        "b = [1,2,3]\n",
        "a == b #Python에 등호는 type과 value를 본다. "
      ],
      "metadata": {
        "id": "yuj0sivw-DIo"
      },
      "execution_count": null,
      "outputs": []
    },
    {
      "cell_type": "code",
      "source": [
        "a = [1,2,3]\n",
        "b = [1,2,3]\n",
        "\n",
        "id(a)"
      ],
      "metadata": {
        "id": "wzUJ0s8hLuhc"
      },
      "execution_count": null,
      "outputs": []
    },
    {
      "cell_type": "code",
      "source": [
        "id(b) # 다르다 다른곳에 저장하기 때문에 a == b가 다른것이다. \n",
        "# 선언을 하면 다른 곳으로 저장된다. "
      ],
      "metadata": {
        "id": "bKglcGy0L1-w"
      },
      "execution_count": null,
      "outputs": []
    },
    {
      "cell_type": "code",
      "source": [
        "a == b # 값이 같은 것과 메모리에 같은 공간에 저장되어 있다는 얘기는 다른 이야기."
      ],
      "metadata": {
        "id": "L4rd9ImmMEeW"
      },
      "execution_count": null,
      "outputs": []
    },
    {
      "cell_type": "markdown",
      "source": [
        "## not의 위치"
      ],
      "metadata": {
        "id": "S4xqo3EQ-0hf"
      }
    },
    {
      "cell_type": "code",
      "source": [
        "a = 10\n",
        "b = 100\n",
        "a is not b # is not / not in 둘의 not 위치가 다름 알아두세요\n",
        "# a not is b #error"
      ],
      "metadata": {
        "id": "jxDJersX-2O6"
      },
      "execution_count": null,
      "outputs": []
    },
    {
      "cell_type": "code",
      "source": [
        "a = 10\n",
        "b = [10,20,30]\n",
        "a not in b"
      ],
      "metadata": {
        "id": "r-MolOro_Cz3"
      },
      "execution_count": null,
      "outputs": []
    },
    {
      "cell_type": "code",
      "source": [
        "# is는 주소값을 비교합니다.\n",
        "id(a) == id(b)  # 이게 false면 is도 false이다. "
      ],
      "metadata": {
        "id": "BvYUeJk8_PU3"
      },
      "execution_count": null,
      "outputs": []
    },
    {
      "cell_type": "markdown",
      "source": [
        "## 멤버연산"
      ],
      "metadata": {
        "id": "_VL9jNGB_iJi"
      }
    },
    {
      "cell_type": "code",
      "source": [
        "'a' in 'helalo world'\n",
        "'a' in 'hello world'\n",
        "'a' in ['a','b']\n",
        "'a' in {'a':10, 'b':20}\n",
        "# 10 in {'a':10, 'b':20} # dic안에 있는 value값이 궁금하면 밑에 코드를 짜야함\n",
        "10 in {'a':10, 'b':20}.values()\n",
        "10 in {10, 20, 30}"
      ],
      "metadata": {
        "id": "bx5U6jEA_hJO"
      },
      "execution_count": null,
      "outputs": []
    },
    {
      "cell_type": "code",
      "source": [
        "10 in {'a':10, 'b':40}.values()"
      ],
      "metadata": {
        "id": "0bDitIIEWL0B"
      },
      "execution_count": null,
      "outputs": []
    },
    {
      "cell_type": "code",
      "source": [
        "10 in {'a': 10, 'b': 20}.values()"
      ],
      "metadata": {
        "id": "ipSCATAjVXGD"
      },
      "execution_count": null,
      "outputs": []
    },
    {
      "cell_type": "code",
      "source": [
        "'a' not in ['aa','bb']"
      ],
      "metadata": {
        "id": "3UpRUyn-AQTd"
      },
      "execution_count": null,
      "outputs": []
    },
    {
      "cell_type": "code",
      "source": [
        "10 in [10, 20, 30]\n",
        "[10] in [10, 20, 30] # false\n",
        "[10] in [[10], 20, 30]\n",
        "[10, 20] in [[10, 20], 30]\n",
        "set([10,20]).issubset(set([10,20,30]))"
      ],
      "metadata": {
        "id": "7Aw18l8NDeal"
      },
      "execution_count": null,
      "outputs": []
    },
    {
      "cell_type": "code",
      "source": [
        "[10] in [10,20,30] # 이걸 true로 만드려면?\n",
        "[10] in [[10],20,30] # 이렇게 10을 감싸줘야함"
      ],
      "metadata": {
        "id": "3ZcP7WkGWWJe"
      },
      "execution_count": null,
      "outputs": []
    },
    {
      "cell_type": "markdown",
      "source": [
        "## 연습문제"
      ],
      "metadata": {
        "id": "RHTJd7i_EAQQ"
      }
    },
    {
      "cell_type": "code",
      "source": [
        "# 1번\n",
        "a = 100\n",
        "print(a > 100) and (a < 200) #false\n",
        "print(a > 100) or (a < 200) #true\n",
        "print(a >= 100) and (a <= 200) #true\n",
        "print(a >= 100) or (a <= 200) #true"
      ],
      "metadata": {
        "id": "CED1_tnLEDEO"
      },
      "execution_count": null,
      "outputs": []
    },
    {
      "cell_type": "code",
      "source": [
        "# 2번\n",
        "b = 25\n",
        "(b % 2 == 0) and (b % 5 == 0)"
      ],
      "metadata": {
        "id": "B2o3GRzXEd-7"
      },
      "execution_count": null,
      "outputs": []
    },
    {
      "cell_type": "code",
      "source": [
        "# 3번\n",
        "c = 1000\n",
        "c // 100"
      ],
      "metadata": {
        "id": "UCqqv0eVFWvw"
      },
      "execution_count": null,
      "outputs": []
    },
    {
      "cell_type": "code",
      "source": [
        "# 4번 \n",
        "# 그리디 알고리즘(욕심쟁이 알고리즘)\n",
        "남은금액 = int(input())\n",
        "오천원 = 남은금액 // 5000\n",
        "남은금액 = 남은금액 % 5000\n",
        "# 남은금액 = 남은금액 - (5000 * 오천원)\n",
        "\n",
        "천원 = 남은금액 // 1000\n",
        "남은금액 = 남은금액 % 1000\n",
        "\n",
        "오백원 = 남은금액 // 500\n",
        "남은금액 = 남은금액 % 500\n",
        "\n",
        "백원 = 남은금액 // 100\n",
        "남은금액 = 남은금액 % 100\n",
        "\n",
        "print(오천원, 천원, 오백원, 백원)"
      ],
      "metadata": {
        "id": "vlGoGfHoG8VZ"
      },
      "execution_count": null,
      "outputs": []
    },
    {
      "cell_type": "markdown",
      "source": [
        "## 함수\n",
        "1. 코드 덩어리(정말 쉽게 설명하자면 ..)\n",
        "\n",
        "2. 코드를 재사용 할 수 있으며, 실수를 줄일 수 있다.\n",
        "\n",
        "3. 코드의 구조를 한 눈에 파악할 수 있다."
      ],
      "metadata": {
        "id": "GxcAHoFr8FWd"
      }
    },
    {
      "cell_type": "code",
      "source": [
        "# 파선아실(파라미터는 선언할 때, 아규먼트는 실제)\n",
        "def function(x, y):\n",
        "    z = x + y\n",
        "    return z\n",
        "print(f'function(5, 7) = {function(5, 7)}')"
      ],
      "metadata": {
        "id": "hO44hxcm-mde"
      },
      "execution_count": null,
      "outputs": []
    },
    {
      "cell_type": "code",
      "source": [
        "# 같은 코드 1\n",
        "def function(x, y):\n",
        "    z = x + y\n",
        "print(f'function(5, 7) = {function(5, 7)}')"
      ],
      "metadata": {
        "id": "sF3d3OSB_jqT"
      },
      "execution_count": null,
      "outputs": []
    },
    {
      "cell_type": "code",
      "source": [
        "# 같은 코드 2\n",
        "def function(x, y):\n",
        "    z = x + y\n",
        "    return None\n",
        "print(f'function(5, 7) = {function(5, 7)}')"
      ],
      "metadata": {
        "id": "bW9hy3hK_sUN"
      },
      "execution_count": null,
      "outputs": []
    },
    {
      "cell_type": "code",
      "source": [
        "# 같은 코드 3\n",
        "def function(x, y):\n",
        "    z = x + y\n",
        "    return\n",
        "print(f'function(5, 7) = {function(5, 7)}')"
      ],
      "metadata": {
        "id": "NKlu-lME_2iG"
      },
      "execution_count": null,
      "outputs": []
    },
    {
      "cell_type": "code",
      "source": [
        "def hello():\n",
        "    print('1')\n",
        "    print('2')\n",
        "    print('3')\n",
        "print(hello())"
      ],
      "metadata": {
        "id": "yfy0Sk8e7rh8"
      },
      "execution_count": null,
      "outputs": []
    },
    {
      "cell_type": "code",
      "source": [
        "# 함수 연습문제 1\n",
        "def one():\n",
        "    print('one1')\n",
        "    print('one2')\n",
        "    print('one3')\n",
        "    return 100\n",
        "\n",
        "def two():\n",
        "    print('two1')\n",
        "    print('two2')\n",
        "    one()\n",
        "    return \n",
        "\n",
        "print(two())"
      ],
      "metadata": {
        "id": "idOCyO0iAe3v"
      },
      "execution_count": null,
      "outputs": []
    },
    {
      "cell_type": "code",
      "source": [
        "# 함수 연습문제 2\n",
        "def one():\n",
        "    print('one1')\n",
        "    print('one2')\n",
        "    print('one3')\n",
        "    return 100 \n",
        "    \n",
        "def two():\n",
        "    print('two1')\n",
        "    print('two2')\n",
        "    x = one() # 위에 one return이 x로 들어옴 \n",
        "    return x + x \n",
        "\n",
        "print(two())\n",
        "\n",
        "# two1\n",
        "# two2\n",
        "# one1\n",
        "# one2\n",
        "# one3\n",
        "# 200"
      ],
      "metadata": {
        "id": "byZNuq0GBbyl"
      },
      "execution_count": null,
      "outputs": []
    },
    {
      "cell_type": "code",
      "source": [
        "# 함수 연습문제 3\n",
        "def one(a, b):\n",
        "    print('one1')\n",
        "    print('one2')\n",
        "    print('one3')\n",
        "    return a + b\n",
        "    \n",
        "def two(x):\n",
        "    y = 100 # x는 two(10) 아규먼트에서 가져온다\n",
        "    print('two1')\n",
        "    print('two2')\n",
        "    x = one(x, y)  # 110 \n",
        "    return x + x \n",
        "\n",
        "print(two(10))\n",
        "\n",
        "# two1\n",
        "# two2\n",
        "# one1\n",
        "# one2\n",
        "# one3\n",
        "# 220\n"
      ],
      "metadata": {
        "id": "wNVXUQQUCQ95"
      },
      "execution_count": null,
      "outputs": []
    },
    {
      "cell_type": "code",
      "source": [
        "# 함수 연습문제 4\n",
        "\n",
        "def one(): # 1\n",
        "    print('one') # 5\n",
        "    return 10\n",
        "\n",
        "def two(): # 2\n",
        "    print('two')\n",
        "    return 10\n",
        "\n",
        "def three(): # 3 \n",
        "    print('three')\n",
        "    return 10\n",
        "\n",
        "a = one() # 4 # 호출한 다음에 print로 올라가는 것 \n",
        "b = two()\n",
        "c = three()\n",
        "print(a + b) # print(one()+two())\n",
        "print(a + b + c) # print(one()+two()+three()) # 좋지않은예"
      ],
      "metadata": {
        "id": "5QL24MmkD3K4"
      },
      "execution_count": null,
      "outputs": []
    },
    {
      "cell_type": "code",
      "source": [
        "# 함수 연습문제 4\n",
        "# 좋지 않은 예 입니다!\n",
        "def one():\n",
        "    print('one')\n",
        "    print('one')\n",
        "    print('one')\n",
        "    return 10\n",
        "\n",
        "def two():\n",
        "    print('two')\n",
        "    print('two')\n",
        "    print('two')\n",
        "    return 10\n",
        "\n",
        "def three():\n",
        "    print('three')\n",
        "    print('three')\n",
        "    print('three')\n",
        "    return 10\n",
        "\n",
        "print(one() + two())\n",
        "print(one() + two() + three())\n"
      ],
      "metadata": {
        "id": "uN69JiCqFsb3"
      },
      "execution_count": null,
      "outputs": []
    },
    {
      "cell_type": "code",
      "source": [
        "# 함수란 무엇일까요?\n",
        "# 함수의 이름은 메모리 상에 코드 블럭을 가리키는 변수입니다. \n",
        "kimyeoju = print\n",
        "kimyeoju('hello') # 소괄호는 그 함수 블록을 실행시키는 명령어가 된다. "
      ],
      "metadata": {
        "id": "9q6yHoWwIy9Y"
      },
      "execution_count": null,
      "outputs": []
    },
    {
      "cell_type": "code",
      "source": [
        "id(kimyeoju), id(print)"
      ],
      "metadata": {
        "id": "aUw7PqpsJbYk"
      },
      "execution_count": null,
      "outputs": []
    },
    {
      "cell_type": "code",
      "source": [
        "l = [kimyeoju, print, kimyeoju, print]\n",
        "kimyeoju('hello world')\n",
        "l[0]('hello world')"
      ],
      "metadata": {
        "id": "SWPhRsguJgz9"
      },
      "execution_count": null,
      "outputs": []
    },
    {
      "cell_type": "code",
      "source": [
        "def hello(a):\n",
        "    a('hello')\n",
        "    a('hello')\n",
        "    a('hello')\n",
        "print(hello(print))"
      ],
      "metadata": {
        "id": "UitgDb-IJ5TY"
      },
      "execution_count": null,
      "outputs": []
    },
    {
      "cell_type": "code",
      "source": [
        "def hello():\n",
        "    def custom_sum(a,b):\n",
        "        return a + b\n",
        "    return custom_sum\n",
        "\n",
        "c = hello()\n",
        "c(10,100)"
      ],
      "metadata": {
        "id": "isadiEh9KZg3"
      },
      "execution_count": null,
      "outputs": []
    },
    {
      "cell_type": "code",
      "source": [
        "def hello(a):\n",
        "    return a\n",
        "c = hello(print)\n",
        "c(10,100)"
      ],
      "metadata": {
        "id": "4JyUsXq1LxjU"
      },
      "execution_count": null,
      "outputs": []
    },
    {
      "cell_type": "markdown",
      "source": [
        "## 함수의 기본 기능"
      ],
      "metadata": {
        "id": "HVTLHgmBMdNA"
      }
    },
    {
      "cell_type": "code",
      "source": [
        "# 파선아실(파라미터는 선언할 때, 아규먼트는 실제)\n",
        "def function(x, y):\n",
        "    z = x + y\n",
        "    return z\n",
        "print(f'function(5, 7) = {function(5, 7)}')"
      ],
      "metadata": {
        "id": "Irv_WaafMGCg"
      },
      "execution_count": null,
      "outputs": []
    },
    {
      "cell_type": "code",
      "source": [
        " # return을 만나게 되면 함수는 종료가 된다. \n",
        " # return을 빨리 만나게 해주세요. \n",
        "def function(x, y):\n",
        "    z = x + y\n",
        "    return z # return을 만나면 바로 함수는 종료 \n",
        "    print('hello')\n",
        "    print('hello')\n",
        " \n",
        "function(5, 7)"
      ],
      "metadata": {
        "id": "-0gf-er1M2Gd"
      },
      "execution_count": null,
      "outputs": []
    },
    {
      "cell_type": "code",
      "source": [
        "# return을 빨리 만나게 해주세요.\n",
        "# early return\n",
        "# 조건이 부합하지 않으면 바로 return을 하도록 하는 코딩 패턴\n",
        "# 이렇게 작성함으로써, 가독성이 좋은 코드\n",
        "def custom_sum(x, y):\n",
        "    if type(x) != int or type(y) != int:\n",
        "        return '연산할 수 없습니다.'\n",
        "    z = x + y # 100줄이라 가정\n",
        "    return z\n",
        "print(custom_sum(5, '가나다'))"
      ],
      "metadata": {
        "id": "Gsw3sisaNSBN"
      },
      "execution_count": null,
      "outputs": []
    },
    {
      "cell_type": "code",
      "source": [
        "# 한글 코딩에 장점\n",
        "# 1. 고유명사(한라산, 새싹멤버) -> 기획자와 소통하기도 좋다. \n",
        "# 2. 알고리즘 가독성이 괜찮다. \n",
        "# 한글 코딩에 단점\n",
        "# 1. 싫어하시는 분도 많습니다.\n",
        "# 2. 한영키 바꾸는 것"
      ],
      "metadata": {
        "id": "cqilcVZuO2R6"
      },
      "execution_count": null,
      "outputs": []
    },
    {
      "cell_type": "code",
      "source": [
        "# 함수 안에 함수\n",
        "def one():\n",
        "    def two():\n",
        "        print('hello')\n",
        "    def three():\n",
        "        print('hello')\n",
        "    two()\n",
        "    three()\n",
        "    return 100\n",
        "\n",
        "print(one())"
      ],
      "metadata": {
        "id": "C4lszG5jQVmA"
      },
      "execution_count": null,
      "outputs": []
    },
    {
      "cell_type": "code",
      "source": [
        "# 함수 안에 함수와 함수 안에 변수는 밖에서 호출이 안됩니다. \n",
        "# 아래 것이 만약 실행되었다면 위 어딘가에서 two와 x가 정의되어 있는 것\n",
        "def one():\n",
        "    def two():\n",
        "        print('hello1')\n",
        "    def three():\n",
        "        print('hello2')\n",
        "    two()\n",
        "    three()\n",
        "    x = 1000\n",
        "    return 100\n",
        "\n",
        "one()\n",
        "print(x)\n",
        "two()"
      ],
      "metadata": {
        "id": "eh1ig98EQ5YG"
      },
      "execution_count": null,
      "outputs": []
    },
    {
      "cell_type": "code",
      "source": [
        "# 함수 안에 함수와 함수 안에 변수를 해봤으니\n",
        "# 이번에는 함수 밖에 함수와 함수 밖에 변수를 해보도록 하겠다.\n",
        "\n",
        "def test():\n",
        "    print('test')\n",
        "\n",
        "def one():\n",
        "    test()\n",
        "\n",
        "def two():\n",
        "    test()\n",
        "\n",
        "one()\n",
        "two()\n",
        "test()"
      ],
      "metadata": {
        "id": "V9IWSiqnRs14"
      },
      "execution_count": null,
      "outputs": []
    },
    {
      "cell_type": "code",
      "source": [
        "# 위 원리와 마찬가지로 밖에 있는 변수를 '가져오는 것만' 가능하다.\n",
        "# 수정은 안된다. \n",
        "test = 10\n",
        "def one():\n",
        "    print(test)\n",
        "\n",
        "def two():\n",
        "    print(test)\n",
        "\n",
        "one()\n",
        "two()"
      ],
      "metadata": {
        "id": "pIzwB2AbSb19"
      },
      "execution_count": null,
      "outputs": []
    },
    {
      "cell_type": "code",
      "source": [
        "# 이렇게 하시면 error가 납니다! 밖에 있는 변수는 수정이 안됩니다.\n",
        "\n",
        "test = 10\n",
        "def one():\n",
        "    test = test + 10 # 밖에 있는 변수는 수정이 불가능 \n",
        "one()"
      ],
      "metadata": {
        "id": "vr5SncBmS4MT"
      },
      "execution_count": null,
      "outputs": []
    },
    {
      "cell_type": "markdown",
      "source": [
        "## 지역 변수와 전역 변수 "
      ],
      "metadata": {
        "id": "YIovj0aoS_Tg"
      }
    },
    {
      "cell_type": "code",
      "source": [
        "# 접근은 가능하지만 수정이 되진 않는다. \n",
        "a = 100\n",
        "def f():\n",
        "    a = a + 1\n",
        "f()"
      ],
      "metadata": {
        "id": "D3g5Pz7QWFsb"
      },
      "execution_count": null,
      "outputs": []
    },
    {
      "cell_type": "code",
      "source": [
        "# 전역변수를 함수 내부에서 수정이 되게 하는 코드이다. \n",
        "# 권하지 않는다. \n",
        "a = 100\n",
        "def f():\n",
        "    global a # 실무에서 사용 안합니다. \n",
        "    a = a + 1\n",
        "f()\n",
        "print(a)"
      ],
      "metadata": {
        "id": "Tz6PDx6GXNPT"
      },
      "execution_count": null,
      "outputs": []
    },
    {
      "cell_type": "code",
      "source": [
        "# 정해진 루트 외에 다른 루트로 해당 값을 수정하려고 하지 마세요. \n",
        "a = 100\n",
        "def f(x):\n",
        "    x = x + 1\n",
        "    return x\n",
        "a = f(a)\n",
        "print(a)"
      ],
      "metadata": {
        "id": "wJ-n2YuiXo_F"
      },
      "execution_count": null,
      "outputs": []
    },
    {
      "cell_type": "code",
      "source": [
        "# 순수 함수\n",
        "def f(x):\n",
        "  return x + x + 100\n",
        "f(20) \n",
        "# 아규먼트 값에 따라 다르지만 \n",
        "# 아규먼트에 2배해서 100이 더해진 다는 사실은 변하지 않는다. "
      ],
      "metadata": {
        "id": "dCokw-ghX6Mp"
      },
      "execution_count": null,
      "outputs": []
    },
    {
      "cell_type": "code",
      "source": [
        "test = 100\n",
        "def f(x):\n",
        "    return x + x + 100 + test\n",
        "f(10)\n",
        "# 아규먼트 값에 따라 다르지만 \n",
        "# 아규먼트에 2배해서 100이 더해진 다는 사실은 변하지 않는다. \n",
        "# 그렇지 않습니다. test값이 다른 곳에서 조작이 되면\n",
        "# 더해지는 값이 200이 안될 수도 있다. \n",
        "# 예측이 불가하게 되는 것 "
      ],
      "metadata": {
        "id": "3gBj8mPdX6E2"
      },
      "execution_count": null,
      "outputs": []
    },
    {
      "cell_type": "code",
      "source": [
        "# 지역변수와 전역변수 이어서 \n",
        "# 전역변수 : 전역에서 접근할 수 있는 변수 \n",
        "# 지역변수 : 함수 내에서 접근할 수 있는 변수"
      ],
      "metadata": {
        "id": "F9QKEuQKY1C0"
      },
      "execution_count": null,
      "outputs": []
    },
    {
      "cell_type": "code",
      "source": [
        "a = 100\n",
        "def one():\n",
        "    a = 10\n",
        "    print(a)\n",
        "\n",
        "one()\n",
        "print(a)"
      ],
      "metadata": {
        "id": "QscRFpoBZLQs"
      },
      "execution_count": null,
      "outputs": []
    },
    {
      "cell_type": "code",
      "source": [
        "# 어려우신 분들은 pass \n",
        "# 자신의 공간에 변수가 선언되어 있지 않으면\n",
        "# 전역까지 찾아 올라간다. 전역에도 없으면 error\n",
        "a = 100\n",
        "def one():\n",
        "    a = 10 # 자신의 공간에서 가장 가까운 '10'을 출력\n",
        "    def two():\n",
        "        def three():\n",
        "            a = 1000 # 제일 먼저 출력\n",
        "            print(a)\n",
        "        three()\n",
        "        print(a)\n",
        "    two()\n",
        "    print(a)\n",
        "\n",
        "one()\n",
        "print(a)"
      ],
      "metadata": {
        "id": "zZkQMt0NZ40U"
      },
      "execution_count": null,
      "outputs": []
    },
    {
      "cell_type": "code",
      "source": [
        "# inner가 outer에 변수를 건드리고 싶은데\n",
        "# inner 안에서는 x에 수정권한이 전혀 없습니다.\n",
        "x = 100\n",
        "def outer():\n",
        "    x = 1 # 그래서 x = 1\n",
        "    def inner():\n",
        "        nonlocal x # 현재 함수 바깥에 있는 지역변수 사용 x = 1\n",
        "        x += 1\n",
        "        print(x)\n",
        "    inner()\n",
        "    print(x)\n",
        "\n",
        "outer()\n",
        "print(x)"
      ],
      "metadata": {
        "id": "5WPHViRUa_RM"
      },
      "execution_count": null,
      "outputs": []
    },
    {
      "cell_type": "code",
      "source": [
        "x = 100\n",
        "def outer():\n",
        "    x = 1\n",
        "    def inner():\n",
        "        global x\n",
        "        x += 1\n",
        "        print(x)\n",
        "    inner()\n",
        "    print(x)\n",
        "\n",
        "outer()\n",
        "print(x)"
      ],
      "metadata": {
        "id": "jPX7yWMJcJwJ"
      },
      "execution_count": null,
      "outputs": []
    },
    {
      "cell_type": "markdown",
      "source": [
        "## 재귀함수 "
      ],
      "metadata": {
        "id": "Z4AY19_3cZXn"
      }
    },
    {
      "cell_type": "markdown",
      "source": [
        "* 내가 나를 호출하는 것입니다. \n",
        "* 재귀 <-> for문은 대부분 호환이 가능합니다. \n",
        "* 반복문 사용하시기를 권합니다 ! \n",
        "* 어렵고 효율도 안좋아요 ! ( 얼마나 효율이 안좋은지도 확인해보겠습니다 ) \n",
        "* 필수적으로 사용하는 곳이 있습니다. "
      ],
      "metadata": {
        "id": "QSD7JTUYcfJ7"
      }
    },
    {
      "cell_type": "code",
      "source": [
        "# for로 팩토리얼 \n",
        "# 5! = 5 * 4 * 3 * 2 * 1\n",
        "result = 1\n",
        "\n",
        "# 1 * 2 * 3 * 4 * 5 \n",
        "for i in range(1,6):\n",
        "    result *= i\n",
        "    \n",
        "result"
      ],
      "metadata": {
        "id": "VP8dQz8vdEJW"
      },
      "execution_count": null,
      "outputs": []
    },
    {
      "cell_type": "code",
      "source": [
        "# 재귀로 팩토리얼\n",
        "def f(n):\n",
        "    if n <= 1:\n",
        "        return 1\n",
        "    else \n",
        "        return n * f(n-1)\n",
        "\n",
        "f(5)\n",
        "\n",
        "# f(5) 5 * f(4) == 5 * 24 => 120\n",
        "# f(4) 4 * f(3) == 4 * 6\n",
        "# f(3) 3 * f(2) == 3 * 2\n",
        "# f(2) 2 * f(1) == 2 * 1\n",
        "# f(1) 1\n",
        "\n"
      ],
      "metadata": {
        "id": "-bc15OTWeRZT"
      },
      "execution_count": null,
      "outputs": []
    },
    {
      "cell_type": "code",
      "source": [
        "# for로 문자열 거꾸로 출력하기\n",
        "s = 'hello'\n",
        "result = ''\n",
        "\n",
        "for i in s:\n",
        "    result = i + result\n",
        "\n",
        "result\n",
        "'''\n",
        "result = 'h' + ''\n",
        "result = 'e' + 'h'\n",
        "result = 'l' + 'eh'\n",
        "result = 'l' + 'leh'\n",
        "result = 'o' + 'lleh'\n",
        "'''\n",
        "# 실무에서는 이렇게 거꾸로 만들지 않습니다.\n",
        "# 슬라이싱이 일반 for문보다 8배 빠릅니다.\n",
        "# s[::-1] 이렇게 쓰시면 됩니다.\n"
      ],
      "metadata": {
        "id": "WPnE6YVZfgzH"
      },
      "execution_count": null,
      "outputs": []
    },
    {
      "cell_type": "code",
      "source": [
        "def reverse(s):\n",
        "    if len(s) == 1:\n",
        "        return s\n",
        "    else:\n",
        "        return reverse(s[1:]) + s[0]\n",
        "\n",
        "reverse('hello')\n",
        "\n",
        "reverse('hello') reverse('ello') + 'h' == 'olle' + 'h'\n",
        "reverse('ello') reverse('llo') + 'e' == 'oll' + 'e'\n",
        "reverse('llo') reverse('lo') + 'l' == 'ol' + l\n",
        "reverse('lo') reverse('o') + 'l' == 'o' + l\n",
        "reverse('o') 'o'\n",
        "\n"
      ],
      "metadata": {
        "id": "VQ9xqwC-gdMC"
      },
      "execution_count": null,
      "outputs": []
    },
    {
      "cell_type": "code",
      "source": [
        "# 피보나치\n",
        "# 재귀가 얼마나 비효율적인지 보여드리기 위해서 진행\n",
        "# 1 1 2 3 5 8 13 21 \n",
        "\n",
        "curr = 1\n",
        "next = 1\n",
        "for i in range(1,6):\n",
        "    curr, next = next, curr + next\n",
        "\n",
        "next"
      ],
      "metadata": {
        "id": "lScsBaIez_OT"
      },
      "execution_count": null,
      "outputs": []
    },
    {
      "cell_type": "code",
      "source": [
        "# 피보나치 재귀\n",
        "def f(n):\n",
        "    if n == 1 or n == 2:\n",
        "         return 1\n",
        "    return f(n-1) + f(n-2)\n",
        "\n",
        "\n",
        "1, 1, f(3), f(4), f(5), f(6)"
      ],
      "metadata": {
        "id": "pZx5fOJ61bGm"
      },
      "execution_count": null,
      "outputs": []
    },
    {
      "cell_type": "code",
      "source": [
        "# 재귀에 비효율을 이렇게 해결할 수 있는 있다를 보여드리기 위함\n",
        "# but 가능하면 for문을 사용하는 것을 권함 \n",
        "from functools import lru_cache\n",
        "\n",
        "@lru_cache(maxsize=None)\n",
        "def fib(num):\n",
        "    if num == 0:\n",
        "        return 0\n",
        "    if num == 1 or num == 2:\n",
        "        return 1\n",
        "    else:\n",
        "        return fib(num-1) + fib(num-2)\n",
        "\n",
        "fib(40)"
      ],
      "metadata": {
        "id": "nvmNmmJd2JFl"
      },
      "execution_count": null,
      "outputs": []
    },
    {
      "cell_type": "markdown",
      "source": [
        "## !! 연습문제"
      ],
      "metadata": {
        "id": "MtDjfBsc77oe"
      }
    },
    {
      "cell_type": "code",
      "source": [
        "a = 'pithon'\n",
        "\n",
        "def 함수1():\n",
        "    def 함수2():\n",
        "        print('love')\n",
        "        \n",
        "    print('I')\n",
        "    함수2()\n",
        "    return \"python\"\n",
        "\t\n",
        "\n",
        "a = 함수1()\n",
        "print(a)"
      ],
      "metadata": {
        "id": "TouRWP9E4WwS"
      },
      "execution_count": null,
      "outputs": []
    },
    {
      "cell_type": "code",
      "source": [
        "## 연습문제 1번\n",
        "a = 'pithon'\n",
        "def 함수1():\n",
        "    def 함수2():\n",
        "        print('love')\n",
        "    print('I')\n",
        "    함수2()\n",
        "    return \"python\"\n",
        "a = 함수1() # a = python \n",
        "print(a)"
      ],
      "metadata": {
        "id": "xr1BOFxy4zBa"
      },
      "execution_count": null,
      "outputs": []
    },
    {
      "cell_type": "code",
      "source": [
        "## 연습문제 2번\n",
        "def plus(num1, num2):\n",
        "\treturn num1 + num2\n",
        "\n",
        "def minus(num1, num2):\n",
        "\treturn num1 - num2\n",
        "\n",
        "\n",
        "def multiply(num1, num2):\n",
        "\treturn num1 * num2\n",
        "\n",
        "\n",
        "def divide(num1, num2):\n",
        "\treturn num1 / num2\n",
        "\n",
        "\n",
        "print(f'plus : {plus(10, 5)}')\n",
        "print(f'minus : {minus(10, 5)}')\n",
        "print(f'multiply : {multiply(10, 5)}')\n",
        "print(f'divide : {divide(10, 5)}')"
      ],
      "metadata": {
        "id": "pkaVEJB26axV"
      },
      "execution_count": null,
      "outputs": []
    },
    {
      "cell_type": "code",
      "source": [
        "## 연습문제 2번\n",
        "def plus(num1, num2):\n",
        "\treturn num1 + num2\n",
        "\n",
        "def minus(num1, num2):\n",
        "\treturn num1 - num2\n",
        "\n",
        "\n",
        "def multiply(num1, num2):\n",
        "\treturn num1 * num2\n",
        "\n",
        "\n",
        "def divide(num1, num2):\n",
        "\treturn num1 / num2\n",
        "\n",
        "\n",
        "print(f'plus : {plus(10, 5)}')\n",
        "print(f'minus : {minus(10, 5)}')\n",
        "print(f'multiply : {multiply(10, 5)}')\n",
        "print(f'divide : {divide(10, 5)}')"
      ],
      "metadata": {
        "id": "gd6_G5Tn8bcn"
      },
      "execution_count": null,
      "outputs": []
    },
    {
      "cell_type": "code",
      "source": [
        "plus = lambda num1, num2 : num1 + num2\n",
        "minus = lambda num1, num2 : num1 - num2\n",
        "multiply = lambda num1, num2 : num1 / num2\n",
        "divide = lambda num1, num2 : num1 * num2\n",
        "\n",
        "print(f'plus : {plus(10, 5)}')\n",
        "print(f'minus : {minus(10, 5)}')\n",
        "print(f'multiply : {multiply(10, 5)}')\n",
        "print(f'divide : {divide(10, 5)}')"
      ],
      "metadata": {
        "id": "DO651T5S_QIo"
      },
      "execution_count": null,
      "outputs": []
    },
    {
      "cell_type": "code",
      "source": [
        "# 실력이 있으신 분은 견고한 코드가 될 수 있도록 해주셔야 합니다.\n",
        "def plus(num1, num2):\n",
        "    if type(num1) == int and type(num2) == int:\n",
        "        return num1 + num2\n",
        "    return float('inf')\n",
        "\n",
        "# 테스트 주도 개발\n",
        "print(f\"plus : {plus(10, 5)}\")\n",
        "print(f\"plus : {plus(10, '5')}\")\n",
        "print(f\"plus : {plus('10', 5)}\")\n",
        "print(f\"plus : {plus('10', '5')}\")\n",
        "print(f\"plus : {plus(10, 'a')}\")\n",
        "print(f\"plus : {plus(10, True)}\")\n",
        "print(f\"plus : {plus(False, 5)}\")\n",
        "print(f\"plus : {plus(10, 10.1)}\")"
      ],
      "metadata": {
        "id": "uISgMozEA4S9"
      },
      "execution_count": null,
      "outputs": []
    },
    {
      "cell_type": "code",
      "source": [
        "# 실력이 있으신 분은 견고한 코드가 될 수 있도록 해주셔야 합니다.\n",
        "def plus(num1, num2):\n",
        "    try:\n",
        "        return num1 + num2\n",
        "    except:\n",
        "        return float('inf')\n",
        "\n",
        "# 테스트 주도 개발\n",
        "print(f\"plus : {plus(10, 5)}\")\n",
        "print(f\"plus : {plus(10, '5')}\")\n",
        "print(f\"plus : {plus('10', 5)}\")\n",
        "print(f\"plus : {plus('10', '5')}\")\n",
        "print(f\"plus : {plus(10, 'a')}\")\n",
        "print(f\"plus : {plus(10, True)}\")\n",
        "print(f\"plus : {plus(False, 5)}\")\n",
        "print(f\"plus : {plus(10, 10.1)}\")"
      ],
      "metadata": {
        "id": "NnhJLiFjA45w"
      },
      "execution_count": null,
      "outputs": []
    },
    {
      "cell_type": "code",
      "source": [
        "x = 3\n",
        "def 제곱(n):\n",
        "    if n == 0:\n",
        "        return 1\n",
        "    return x * 제곱(n-1)\n",
        "제곱(3)\n",
        "제곱(4)"
      ],
      "metadata": {
        "id": "8dReRzrfBINg"
      },
      "execution_count": null,
      "outputs": []
    },
    {
      "cell_type": "code",
      "source": [
        "# 재귀함수를 사용해서 푼 것은 아니고\n",
        "# 팩토리 함수라고도 하고, 클로져라고도 한다. \n",
        "def 제곱(x):\n",
        "    def 승수(y):\n",
        "        return x ** y\n",
        "    return 승수\n",
        "제곱3 = 제곱(3)\n",
        "제곱3(4)"
      ],
      "metadata": {
        "id": "eCJZlsG5DVYF"
      },
      "execution_count": null,
      "outputs": []
    },
    {
      "cell_type": "markdown",
      "source": [
        "## 리스트(list)"
      ],
      "metadata": {
        "id": "L95y1v_nEi1p"
      }
    },
    {
      "cell_type": "markdown",
      "source": [
        "* 순서를 가진 데이터들의 집합(Sequence)\n",
        "* 리스트는 값의 변경 \n",
        "* 리스트 안에 리스트로 다차원의 리스트를 만드는 것도 가능 \n",
        "* 리스트 안에 다른 object(딕셔너리, 셋, 튜플 등)를 넣는 것도 가능 "
      ],
      "metadata": {
        "id": "XuyLhGWkFT3N"
      }
    },
    {
      "cell_type": "code",
      "source": [
        "l = [1000, 2000, 3000, 1000, 2000, 3000]\n",
        "id(l[0]), id(l[3])"
      ],
      "metadata": {
        "id": "_9BgTehgEaYP"
      },
      "execution_count": null,
      "outputs": []
    },
    {
      "cell_type": "code",
      "source": [
        "# 컨벤션 자료형(딕셔너리, 튜플, 셋, 리스트)에서는 \n",
        "# 메모리 효율을 위해\n",
        "# 같은 값이 있을 경우 같은 곳을 가리키게 설계되어 있다. "
      ],
      "metadata": {
        "id": "hDCI6zkbGBkr"
      },
      "execution_count": null,
      "outputs": []
    },
    {
      "cell_type": "code",
      "source": [
        "l = [10, 20, 30, 40] \n",
        "l[0] = 1000\n",
        "l"
      ],
      "metadata": {
        "id": "SATWqfUfGJo0"
      },
      "execution_count": null,
      "outputs": []
    },
    {
      "cell_type": "code",
      "source": [
        "s = 'hello world'\n",
        "s[0] = 'k' #error\n",
        "s"
      ],
      "metadata": {
        "id": "_SpkqGWdGQJx"
      },
      "execution_count": null,
      "outputs": []
    },
    {
      "cell_type": "code",
      "source": [
        "data = [[1, 2, 3], \n",
        "       [4, 5, 6],\n",
        "       [7, 8, 9]]\n",
        "data"
      ],
      "metadata": {
        "id": "JHTi8gK_GhUN"
      },
      "execution_count": null,
      "outputs": []
    },
    {
      "cell_type": "code",
      "source": [
        "data[0][0]\n",
        "[1, 2, 3][0]"
      ],
      "metadata": {
        "id": "q-HrPNLImv3W"
      },
      "execution_count": null,
      "outputs": []
    },
    {
      "cell_type": "code",
      "source": [
        "data = [[1, 2, 3], \n",
        "       [4, 5, 6],\n",
        "       [7, 8, 9]]\n",
        "data[0][0]"
      ],
      "metadata": {
        "id": "ePW3B54-zzzQ"
      },
      "execution_count": null,
      "outputs": []
    },
    {
      "cell_type": "code",
      "source": [
        "data = [[1, 2, 3], \n",
        "       [4, 5, 6],\n",
        "       [7, 8, 9]]\n",
        "\n",
        "data[0][0] *= 2\n",
        "data[0][1] *= 2\n",
        "data[0][2] *= 2\n",
        "data[1][0] *= 2\n",
        "data[1][1] *= 2\n",
        "data[1][2] *= 2\n",
        "data[2][0] *= 2\n",
        "data[2][1] *= 2\n",
        "data[2][2] *= 2\n",
        "\n",
        "\n",
        "\n",
        "data"
      ],
      "metadata": {
        "id": "qYbfWbm4G9Tw"
      },
      "execution_count": null,
      "outputs": []
    },
    {
      "cell_type": "code",
      "source": [
        "data = [[1, 2, 3], \n",
        "       [4, 5, 6],\n",
        "       [7, 8, 9]]\n",
        "\n",
        "data[0][2] *= 2\n",
        "data"
      ],
      "metadata": {
        "id": "FkKOOq-Qz9wC"
      },
      "execution_count": null,
      "outputs": []
    },
    {
      "cell_type": "code",
      "source": [
        "data = [[1, 2, 3], \n",
        "       [4, 5, 6],\n",
        "       [7, 8, 9]]\n",
        "\n",
        "data[0][1] *= 2\n",
        "data\n"
      ],
      "metadata": {
        "id": "taEGxCzdGjnX"
      },
      "execution_count": null,
      "outputs": []
    },
    {
      "cell_type": "code",
      "source": [
        "data = [[1, 2, 3], ## 이거 이해 요망 \n",
        "       [4, 5, 6],\n",
        "       [7, 8, 9]]\n",
        "for i in range(3):\n",
        "    for j in range(3):\n",
        "        data[i][j] *= 2\n",
        " print('i는 ',i, 'j는 ',j)\n",
        "\n"
      ],
      "metadata": {
        "id": "MSdnFH39HoFG"
      },
      "execution_count": null,
      "outputs": []
    },
    {
      "cell_type": "code",
      "source": [
        "data = [[1, 2, 3], \n",
        "       [4, 5, 6],\n",
        "       [7, 8, 9]]\n",
        "for i in range(3):\n",
        "    for j in range(3):\n",
        "        data[i][j] =* 2\n",
        "data"
      ],
      "metadata": {
        "id": "tshZMTIp4u8p"
      },
      "execution_count": null,
      "outputs": []
    },
    {
      "cell_type": "code",
      "source": [
        "'''\n",
        "3                       == 스칼라\n",
        "[3, 4]                  == 벡터\n",
        "[[1, 2, 3],             == 메트릭스(행렬)\n",
        " [4, 5, 6],\n",
        " [7, 8, 9]]\n",
        "[[[1], [2], [3]],       == 텐서(다차원, 3차원 이상)\n",
        " [[4], [5], [6]],\n",
        " [[7], [8], [9]]]\n",
        "\n",
        "텐서플로우 : 인공지능 중 유명한 라이브러리\n",
        "'''"
      ],
      "metadata": {
        "id": "80LVepVdH8MW"
      },
      "execution_count": null,
      "outputs": []
    },
    {
      "cell_type": "code",
      "source": [
        "# 리스트에서 주의해야 하는 연산! \n",
        "x = [10] * 3\n",
        "x"
      ],
      "metadata": {
        "id": "G1yfD-nRIrw6"
      },
      "execution_count": null,
      "outputs": []
    },
    {
      "cell_type": "code",
      "source": [
        "x[0] = 100\n",
        "x"
      ],
      "metadata": {
        "id": "sV_0ZTCiI3Nu"
      },
      "execution_count": null,
      "outputs": []
    },
    {
      "cell_type": "code",
      "source": [
        "x = [[10] * 2 ] * 3\n",
        "x"
      ],
      "metadata": {
        "id": "XSno4UvyI7hx"
      },
      "execution_count": null,
      "outputs": []
    },
    {
      "cell_type": "code",
      "source": [
        "x[0][0] = 100 ## 이해 못함 \n",
        "x"
      ],
      "metadata": {
        "id": "8coGVbr6JDN8"
      },
      "execution_count": null,
      "outputs": []
    },
    {
      "cell_type": "code",
      "source": [
        "x = [[[10] * 3] * 3] * 4\n",
        "x[0][0][0] = 1000\n",
        "x"
      ],
      "metadata": {
        "id": "3fS8K6BmJxYX"
      },
      "execution_count": null,
      "outputs": []
    },
    {
      "cell_type": "code",
      "source": [
        "x = [[[10] * 3] * 3] * 4\n",
        "x"
      ],
      "metadata": {
        "id": "2Rw3D2-451iO"
      },
      "execution_count": null,
      "outputs": []
    },
    {
      "cell_type": "code",
      "source": [
        "x = [[[10] * 3] * 3] * 4\n",
        "x[0][0][0] = 1000\n",
        "x"
      ],
      "metadata": {
        "id": "oK-iSqZe6ABp"
      },
      "execution_count": null,
      "outputs": []
    },
    {
      "cell_type": "code",
      "source": [
        "# x = [10] * 3 # [10,10,10]\n",
        "x = [[[10] * 3] * 3] * 4\n",
        "x[0][0][0] = 1000\n",
        "x"
      ],
      "metadata": {
        "id": "czPFtX_v6hhf"
      },
      "execution_count": null,
      "outputs": []
    },
    {
      "cell_type": "code",
      "source": [
        "[1, 2, 3] + [1, 2, 3] # 많이 사용합니다"
      ],
      "metadata": {
        "id": "YIZPfQ4LM_au"
      },
      "execution_count": null,
      "outputs": []
    },
    {
      "cell_type": "code",
      "source": [
        "id(x[0][0]), id(x[0][1])"
      ],
      "metadata": {
        "id": "u8VriU_cJ0Oa"
      },
      "execution_count": null,
      "outputs": []
    },
    {
      "cell_type": "code",
      "source": [
        "help(l)"
      ],
      "metadata": {
        "id": "iTd_hhoGKGav"
      },
      "execution_count": null,
      "outputs": []
    },
    {
      "cell_type": "code",
      "source": [
        "l = [10, 20, 30]\n",
        "type(l), dir(l), help(l)"
      ],
      "metadata": {
        "id": "NOjCBjjuJ-Iy"
      },
      "execution_count": null,
      "outputs": []
    },
    {
      "cell_type": "markdown",
      "source": [
        "## 리스트의 메서드"
      ],
      "metadata": {
        "id": "4VXN1GvdNPz5"
      }
    },
    {
      "cell_type": "code",
      "source": [
        "  'append','clear','copy','count','extend','index',\n",
        "  'insert','pop','remove','reverse','sort'"
      ],
      "metadata": {
        "id": "yzMwyAOdNTa9"
      },
      "execution_count": null,
      "outputs": []
    },
    {
      "cell_type": "code",
      "source": [
        "l = [1,2,3]\n",
        "l.append(4) # append는 요소를 추가 \n",
        "l"
      ],
      "metadata": {
        "id": "wsOC5TU4NjYP"
      },
      "execution_count": null,
      "outputs": []
    },
    {
      "cell_type": "code",
      "source": [
        "l = [1,2,3]\n",
        "l.append([1,2,3]) \n",
        "l"
      ],
      "metadata": {
        "id": "Z2iLLtzfNtbA"
      },
      "execution_count": null,
      "outputs": []
    },
    {
      "cell_type": "code",
      "source": [
        "l = [1, 2, 3]\n",
        "l.extend(4) #error\n",
        "l"
      ],
      "metadata": {
        "id": "cjArsDVLN0sl"
      },
      "execution_count": null,
      "outputs": []
    },
    {
      "cell_type": "code",
      "source": [
        "l = [1,2,3]\n",
        "l.extend([1,2,3]) # append는 요소 1개 추가할 때 extend는 덩어리 추가할때\n",
        "l"
      ],
      "metadata": {
        "id": "jnjjdodCN6e6"
      },
      "execution_count": null,
      "outputs": []
    },
    {
      "cell_type": "code",
      "source": [
        "l = [1,2,3]\n",
        "l.extend('hello')\n",
        "l"
      ],
      "metadata": {
        "id": "PzEgvLADOKWA"
      },
      "execution_count": null,
      "outputs": []
    },
    {
      "cell_type": "code",
      "source": [
        "l = [1,2,3]\n",
        "l.extend({'one':10, 'two':20})\n",
        "l"
      ],
      "metadata": {
        "id": "0c5zYvkiOQre"
      },
      "execution_count": null,
      "outputs": []
    },
    {
      "cell_type": "code",
      "source": [
        "l = [1,2,3]\n",
        "l.extend({10, 20, 30})\n",
        "l"
      ],
      "metadata": {
        "id": "oyBncgNGOXPA"
      },
      "execution_count": null,
      "outputs": []
    },
    {
      "cell_type": "code",
      "source": [
        "l = [10, 20, 30]\n",
        "l.clear()\n",
        "l"
      ],
      "metadata": {
        "id": "X0kPkVXdOyg5"
      },
      "execution_count": null,
      "outputs": []
    },
    {
      "cell_type": "code",
      "source": [
        "제주과일가게 = [['바나나', 1000], ['수박',2000],['딸기',3000]]\n",
        "서울과일가게 = 제주과일가게\n",
        "서울과일가게[0] = ['바나나',2000]\n",
        "서울과일가게, 제주과일가게"
      ],
      "metadata": {
        "id": "qaCZLB-XPAHK"
      },
      "execution_count": null,
      "outputs": []
    },
    {
      "cell_type": "code",
      "source": [
        "# 이 이상의 내용은 뒤에 얕은 복사와 깊은 복사에서 알아본다. \n",
        "제주과일가게 = [['바나나', 1000], ['수박',2000],['딸기',3000]]\n",
        "서울과일가게 = 제주과일가게.copy() # 얕은복사 #카피를 하는 순간 서울과일가게 -> 메모리가 생긴다\n",
        "# 실무에서는 서울과일가게 = 제주과일가게[:] <- 이렇게 표시를 한다 \n",
        "서울과일가게[0] = ['바나나',2000]\n",
        "서울과일가게, 제주과일가게 "
      ],
      "metadata": {
        "id": "4RvZeZmXPdeE"
      },
      "execution_count": null,
      "outputs": []
    },
    {
      "cell_type": "code",
      "source": [
        "제주과일가게 = [['바나나', 1000], ['수박', 2000], ['딸기', 3000]]\n",
        "서울과일가게 = 제주과일가게[:] # 얕은 복사\n",
        "서울과일가게[0] = ['바나나', 2000]\n",
        "서울과일가게, 제주과일가게"
      ],
      "metadata": {
        "id": "HabtLIzVnZQD"
      },
      "execution_count": null,
      "outputs": []
    },
    {
      "cell_type": "code",
      "source": [
        "제주과일가게 = [['바나나',1000],['수박',2000],['딸기',3000]]\n",
        "서울과일가게 = 제주과일가게[:]\n",
        "서울과일가게[0] = ['바나나',2000]\n",
        "서울과일가게, 제주과일가게\n",
        "id(서울과일가게[0]),id(제주과일가게[0])"
      ],
      "metadata": {
        "id": "ESTuWHY-d8AC"
      },
      "execution_count": null,
      "outputs": []
    },
    {
      "cell_type": "code",
      "source": [
        "s = 'hello world'\n",
        "s[:5]\n",
        "s"
      ],
      "metadata": {
        "id": "FHB_Q3rqQM1m"
      },
      "execution_count": null,
      "outputs": []
    },
    {
      "cell_type": "code",
      "source": [
        "l = [10, 20, 30, 40, 50]\n",
        "l[:3]\n",
        "ll = l [:]\n",
        "ll"
      ],
      "metadata": {
        "id": "6i2E2Oh0QVY7"
      },
      "execution_count": null,
      "outputs": []
    },
    {
      "cell_type": "code",
      "source": [
        "l = [10, 20, 30, 40, 50]\n",
        "l[:3]"
      ],
      "metadata": {
        "id": "mECjUJKSfGv5"
      },
      "execution_count": null,
      "outputs": []
    },
    {
      "cell_type": "code",
      "source": [
        "id(l), id(ll)"
      ],
      "metadata": {
        "id": "grxwOM1BQkYz"
      },
      "execution_count": null,
      "outputs": []
    },
    {
      "cell_type": "code",
      "source": [
        "# 이 이상의 내용은 뒤에 얕은 복사와 깊은 복사에서 알아봅니다.\n",
        "제주과일가게 = [['바나나', 1000], ['수박', 2000], ['딸기', 3000]]\n",
        "# 서울과일가게 = 제주과일가게[:] # 얕은 복사\n",
        "서울과일가게 = 제주과일가게.copy() # 얕은 복사\n",
        "id(서울과일가게[0]), id(제주과일가게[0])\n",
        "id(서울과일가게[0][0]), id(제주과일가게[0][0])\n",
        "서울과일가게[0][1] = 3000\n",
        "서울과일가게, 제주과일가게\n",
        "id(서울과일가게[0]), id(제주과일가게[0])"
      ],
      "metadata": {
        "id": "Z6ogSWK4Qyjh"
      },
      "execution_count": null,
      "outputs": []
    },
    {
      "cell_type": "code",
      "source": [
        "# 이 이상의 내용은 뒤에 얕은 복사와 깊은 복사에서 알아봅니다.\n",
        "제주과일가게 = [['바나나', 1000], ['수박', 2000], ['딸기', 3000]]\n",
        "서울과일가게 = 제주과일가게[:] # 얕은 복사\n",
        "id(서울과일가게[0]), id(제주과일가게[0])\n",
        "id(서울과일가게[0][0]), id(제주과일가게[0][0])\n",
        "서울과일가게[0][1] = 3000\n",
        "서울과일가게, 제주과일가게\n",
        "id(서울과일가게[0]), id(제주과일가게[0])"
      ],
      "metadata": {
        "id": "yANtKWfygYlp"
      },
      "execution_count": null,
      "outputs": []
    },
    {
      "cell_type": "code",
      "source": [
        "제주과일가게 = [['바나나',1000],['수박',2000],['딸기',3000]]\n",
        "서울과일가게 = 제주과일가게[:]\n",
        "id(서울과일가게[0]),id(제주과일가게[0])\n",
        "id(서울과일가게[0][0]),id(제주과일가게[0][0])"
      ],
      "metadata": {
        "id": "qQ8jlnnDfiXU"
      },
      "execution_count": null,
      "outputs": []
    },
    {
      "cell_type": "code",
      "source": [
        "l = [1,2,3]\n",
        "ll = l[:]\n",
        "l[0] = 1000\n",
        "l, ll"
      ],
      "metadata": {
        "id": "kmP_lCxqRY48"
      },
      "execution_count": null,
      "outputs": []
    },
    {
      "cell_type": "code",
      "source": [
        "l = [1,2,3]\n",
        "ll = l[:]\n",
        "l[0] = 1000\n",
        "l, ll\n",
        "\n",
        "# [1000,2,3],[1,2,3]"
      ],
      "metadata": {
        "id": "5IecgyDvgigx"
      },
      "execution_count": null,
      "outputs": []
    },
    {
      "cell_type": "code",
      "source": [
        "l = [1, 2, 3]\n",
        "ll = l.copy()\n",
        "l[0] = 1000\n",
        "l, ll"
      ],
      "metadata": {
        "id": "2yIJ9o2TnrOU"
      },
      "execution_count": null,
      "outputs": []
    },
    {
      "cell_type": "code",
      "source": [
        "l = [1, 2, 3, 1, 1, 1, 2, 3, 2, 3, 1, 1]\n",
        "l.count(1)"
      ],
      "metadata": {
        "id": "PboG16MKR3db"
      },
      "execution_count": null,
      "outputs": []
    },
    {
      "cell_type": "code",
      "source": [
        "a = [10, 1, 1, 11, 2, 23, 12]\n",
        "a.index(11) # 여기에 find는 없다\n",
        "a[:a.index(11)] # 11까지 슬라이싱해라 하니까 10, 1, 1"
      ],
      "metadata": {
        "id": "a5ZgmFZmSMqM"
      },
      "execution_count": null,
      "outputs": []
    },
    {
      "cell_type": "code",
      "source": [
        "a = [10, 1, 1, 11, 2, 23, 12]\n",
        "a.index(11)\n",
        "a[:a.index(11)]"
      ],
      "metadata": {
        "id": "itS0h3rfjNZb"
      },
      "execution_count": null,
      "outputs": []
    },
    {
      "cell_type": "code",
      "source": [
        "a = [10, 20, 30]\n",
        "a.insert(2, 1000) #insert는 값을 지우지는 않습니다. \n",
        "a"
      ],
      "metadata": {
        "id": "Lb4puBCVTHy0"
      },
      "execution_count": null,
      "outputs": []
    },
    {
      "cell_type": "code",
      "source": [
        "l = [10, 20, 30, 40, 50]\n",
        "l.pop()"
      ],
      "metadata": {
        "id": "yM1lM1H3TqM6"
      },
      "execution_count": null,
      "outputs": []
    },
    {
      "cell_type": "code",
      "source": [
        "l = [10, 20, 30, 40, 50]\n",
        "l.pop(0) # 많이 사용합니다.\n",
        "l"
      ],
      "metadata": {
        "id": "9VUDGKyxTzAu"
      },
      "execution_count": null,
      "outputs": []
    },
    {
      "cell_type": "code",
      "source": [
        "# append : 맨 뒤에 추가 \n",
        "# pop : 맨 뒤에서 값을 뽑아내고, index가 들어 갈 경우 index에서 뽑는다\n",
        "# insert : index에 값을 삽입하고 원래 있던 값을 뒤로 밀어버린다."
      ],
      "metadata": {
        "id": "4Ezjao4RT8QX"
      },
      "execution_count": null,
      "outputs": []
    },
    {
      "cell_type": "code",
      "source": [
        "l = [10, 20, 30, 40, 50]\n",
        "l.remove(20) # 예를 들어 for를 돌면서 remove를 하지 않기 바랍니다.\n",
        "l"
      ],
      "metadata": {
        "id": "QFrC-fbZn4Az"
      },
      "execution_count": null,
      "outputs": []
    },
    {
      "cell_type": "code",
      "source": [
        "l = [20, 20, 20, 20] # len 문자열반환\n",
        "for i in range(len(l)):\n",
        "    print(len(l)) # len가 계속 변하기 때문에 의도치 않은 에러가 날 수 있어요.\n",
        "    l.remove(20)"
      ],
      "metadata": {
        "id": "ZbQdsbAVn8BD"
      },
      "execution_count": null,
      "outputs": []
    },
    {
      "cell_type": "code",
      "source": [
        "l = [20, 20, 20, 20] \n",
        "for i in range(len(l)):\n",
        "    print(len(l))\n",
        "    l.remove(20)"
      ],
      "metadata": {
        "id": "vnKR3xQRqCjA"
      },
      "execution_count": null,
      "outputs": []
    },
    {
      "cell_type": "code",
      "source": [
        "l = [20, 20, 20, 20]\n",
        "for i in range(len(l)):\n",
        "    print(len(l)) # len가 계속 변하기 때문에 의도치 않은 에러가 날 수 있어요.\n",
        "    l.remove(20)"
      ],
      "metadata": {
        "id": "XV9G0p1bpHuX"
      },
      "execution_count": null,
      "outputs": []
    },
    {
      "cell_type": "code",
      "source": [
        "l = [10, 20, 30, 40, 50, 20, 20, 20] # 20을 없애려면!? \n",
        "for i in range(l.count(20)):\n",
        "    l.remove(20)\n",
        "l"
      ],
      "metadata": {
        "id": "HUi-2ryZFaNy"
      },
      "execution_count": null,
      "outputs": []
    },
    {
      "cell_type": "code",
      "source": [
        "l = [10, 20, 30, 40, 50, 20, 20, 20] \n",
        "l.remove(20) # 앞에 있는 것만 없애주니까 \n",
        "l"
      ],
      "metadata": {
        "id": "S24fSmv3q5Xq"
      },
      "execution_count": null,
      "outputs": []
    },
    {
      "cell_type": "code",
      "source": [
        "l = [10, 20, 30, 40, 50, 20, 20, 20] \n",
        "for i in range(l.count(20)): # range쓰면 20을 다 보여주는것\n",
        "    l.remove(20)\n",
        "    l"
      ],
      "metadata": {
        "id": "wmuPMgtJq_BI"
      },
      "execution_count": null,
      "outputs": []
    },
    {
      "cell_type": "code",
      "source": [
        "l = [10, 20, 30, 40, 50, 20, 20, 20] \n",
        "for i range(l.count(20)):\n",
        "    l.remove(20)\n",
        "    l"
      ],
      "metadata": {
        "id": "9yoD8xtx0d6S"
      },
      "execution_count": null,
      "outputs": []
    },
    {
      "cell_type": "code",
      "source": [
        "# 실무에서 \n",
        "# 어떤 값을 전부 없애거나\n",
        "# 어떤 값을 전부 찾는 것\n",
        "# 이거 많이 사용함 \n",
        "def f(x):\n",
        "    return x != 20 # 20이 아닌 것이 true\n",
        "\n",
        "# true인 것만 반환해준다. \n",
        "list(filter(f,[10, 20, 30, 40, 50, 20, 20, 20])) # List로 형변환 해줘야함 "
      ],
      "metadata": {
        "id": "Tlv-fGuTF71n"
      },
      "execution_count": null,
      "outputs": []
    },
    {
      "cell_type": "code",
      "source": [
        "def f(x):\n",
        "    return x != 20\n",
        "    list(filter(f,[10,20,30,40,50,20,20,20]))"
      ],
      "metadata": {
        "id": "vToXtFh0sffM"
      },
      "execution_count": null,
      "outputs": []
    },
    {
      "cell_type": "code",
      "source": [
        "filter(f, [10, 20, 30, 40, 50, 20, 20, 20])"
      ],
      "metadata": {
        "id": "xaU58_k2oD85"
      },
      "execution_count": null,
      "outputs": []
    },
    {
      "cell_type": "code",
      "source": [
        "range(100) # 0~99까지 나타낸다 "
      ],
      "metadata": {
        "id": "EsHXK9miGvEM"
      },
      "execution_count": null,
      "outputs": []
    },
    {
      "cell_type": "code",
      "source": [
        "for i in filter(f,[10,20,30,40,50,20,20,20]): \n",
        "    print(i)"
      ],
      "metadata": {
        "id": "kT24Zj7rG5_8"
      },
      "execution_count": null,
      "outputs": []
    },
    {
      "cell_type": "code",
      "source": [
        "for i in filter(f,[10,20,30,40,50,20,20,20]):\n",
        "    print(i)"
      ],
      "metadata": {
        "id": "WM0RI-ofuj32"
      },
      "execution_count": null,
      "outputs": []
    },
    {
      "cell_type": "code",
      "source": [
        "for i in filter(f,[10,20,30,40,50,20,30]):\n",
        "    print(i)"
      ],
      "metadata": {
        "id": "PFYb0rO_vb4f"
      },
      "execution_count": null,
      "outputs": []
    },
    {
      "cell_type": "code",
      "source": [
        "list(filter(lambda x: x!=20, [10, 20, 30, 40, 50, 20, 20, 20]))\n",
        "\n",
        "list(filter(lambda x: x!=20, [10,20,30,40,50,20,20,20]))"
      ],
      "metadata": {
        "id": "2-dFg3hfoJtX"
      },
      "execution_count": null,
      "outputs": []
    },
    {
      "cell_type": "code",
      "source": [
        "list(filter(lambda x : x!=20, [10,20,30,40,20,20,20]))"
      ],
      "metadata": {
        "id": "OUeXmVzSyNaR"
      },
      "execution_count": null,
      "outputs": []
    },
    {
      "cell_type": "code",
      "source": [
        "l = [5, 6, 4, 3, 8, 9, 1]\n",
        "l.reverse() # 역 정렬이 아니고 역순이며 원본을 만집니다.\n",
        "l"
      ],
      "metadata": {
        "id": "7VyRkmCwoWTJ"
      },
      "execution_count": null,
      "outputs": []
    },
    {
      "cell_type": "code",
      "source": [
        "l = [5, 6, 4, 3, 8, 9, 1]\n",
        "l.reverse()\n",
        "l"
      ],
      "metadata": {
        "id": "gpOhHsF-yvSP"
      },
      "execution_count": null,
      "outputs": []
    },
    {
      "cell_type": "code",
      "source": [
        "l = [5, 6, 4, 3, 8, 9, 1]\n",
        "print(list(reversed(l))) # 역 정렬이 아니고 역순이며 원본을 만지지 않습니다.\n",
        "print(l)"
      ],
      "metadata": {
        "id": "PnvSvbkAoZFx"
      },
      "execution_count": null,
      "outputs": []
    },
    {
      "cell_type": "code",
      "source": [
        "a = [1, 1, 1, 2, 3, 2, 1, 2]\n",
        "for i in range(a.count(1)):\n",
        " a.remove(1)\n",
        " a"
      ],
      "metadata": {
        "id": "tFvujukyzlXe"
      },
      "execution_count": null,
      "outputs": []
    },
    {
      "cell_type": "code",
      "source": [
        "a = [1, 1, 1, 2, 3, 2, 1, 2]\n",
        "for i in range(a.count(1)):\n",
        "    a.remove(1)\n",
        "    a"
      ],
      "metadata": {
        "id": "GJPOzvKa0QZW"
      },
      "execution_count": null,
      "outputs": []
    },
    {
      "cell_type": "code",
      "source": [
        "l = [5, 6, 4, 3, 8, 9, 1]\n",
        "print(list(reversed(l))) # 역 정렬이 아니고 역순이며 원본을 만지지 않습니다. "
      ],
      "metadata": {
        "id": "IhDVWYoTyyvH"
      },
      "execution_count": null,
      "outputs": []
    },
    {
      "cell_type": "code",
      "source": [
        "# l.reverse() : 리스트에 메서드이며, return None입니다 ! 역순, 원본을 만집니다. \n",
        "# reversed() : 빌트인펑션이며, return 역순입니다! 원본을 만지지 않습니다. "
      ],
      "metadata": {
        "id": "fbXoNd5XWeqp"
      },
      "execution_count": null,
      "outputs": []
    },
    {
      "cell_type": "code",
      "source": [
        "l= [10, 20, 30, 40, 50]\n",
        "l.remove(20) # 예를 들어 for을 돌면서 remove를 하지 않기 바람 \n",
        "l"
      ],
      "metadata": {
        "id": "4grU6dsZUQLX"
      },
      "execution_count": null,
      "outputs": []
    },
    {
      "cell_type": "code",
      "source": [
        "l = [20,20,20,20]\n",
        "for i in range(len(l)):\n",
        "    print(len(l)) # len가 계속 변하기 때문에 의도치 않은 에러가 날 수 있다\n",
        "    l.remove(20)"
      ],
      "metadata": {
        "id": "upzkYR8BU9Bb"
      },
      "execution_count": null,
      "outputs": []
    },
    {
      "cell_type": "code",
      "source": [
        "list(filter(lambda x: x!=20, [10, 20, 30, 40, 50, 20, 20, 20]))\n",
        "# 필터링을 할거래 ~ x가 20이 아닌 것만 추출할거래~ "
      ],
      "metadata": {
        "id": "1FirRXlhHc1l"
      },
      "execution_count": null,
      "outputs": []
    },
    {
      "cell_type": "code",
      "source": [
        "l = [5, 6, 4, 3, 8, 9, 1]\n",
        "l.reverse() #역 정렬이 아니고 역순이며 원본을 만진다.\n",
        "l"
      ],
      "metadata": {
        "id": "fOLDr9gKWI_Y"
      },
      "execution_count": null,
      "outputs": []
    },
    {
      "cell_type": "code",
      "source": [
        "l = [5, 6, 4, 3, 8, 9, 1]\n",
        "print(list(reversed(l))) #역 정렬이 아니고 역순이며 원본을 만진다.\n",
        "print(l)"
      ],
      "metadata": {
        "id": "qwSp3BjfWSbU"
      },
      "execution_count": null,
      "outputs": []
    },
    {
      "cell_type": "code",
      "source": [
        "l = [5, 6, 4, 3, 8, 9, 1]\n",
        "print(list(reversed(l)))"
      ],
      "metadata": {
        "id": "d6C_CscD15Rl"
      },
      "execution_count": null,
      "outputs": []
    },
    {
      "cell_type": "code",
      "source": [
        "l = [5, 6, 4, 3, 8, 9, 1]\n",
        "print(l.reverse()) #리스트에 메서드 return none 역순 원본을 만짐\n",
        "l"
      ],
      "metadata": {
        "id": "gBIDYkTKWuv0"
      },
      "execution_count": null,
      "outputs": []
    },
    {
      "cell_type": "code",
      "source": [
        "l = [5, 6, 4, 3, 8, 9, 1]\n",
        "print(l.reverse())\n",
        "l"
      ],
      "metadata": {
        "id": "5FE_rBMC2C_L"
      },
      "execution_count": null,
      "outputs": []
    },
    {
      "cell_type": "code",
      "source": [
        "l = [5, 6, 4, 3, 8, 9, 1]\n",
        "print(list(reversed(l)))\n",
        "print(l)"
      ],
      "metadata": {
        "id": "d5UDLEnQW5OF"
      },
      "execution_count": null,
      "outputs": []
    },
    {
      "cell_type": "code",
      "source": [
        "l = [5, 6, 4, 3, 8, 9, 1]\n",
        "print(list(reversed(l)))"
      ],
      "metadata": {
        "id": "DIqoJ9yc2QEo"
      },
      "execution_count": null,
      "outputs": []
    },
    {
      "cell_type": "code",
      "source": [
        "l = [5, 6, 4, 3, 8, 9, 1]\n",
        "print(list(reversed(l)))\n",
        "print(l)"
      ],
      "metadata": {
        "id": "V7fNrldWe57K"
      },
      "execution_count": null,
      "outputs": []
    },
    {
      "cell_type": "code",
      "source": [
        "print(type(range)) "
      ],
      "metadata": {
        "id": "Tmu-vOHpXemk"
      },
      "execution_count": null,
      "outputs": []
    },
    {
      "cell_type": "code",
      "source": [
        "a = [1, 4, 5, 100, 6]\n",
        "a.insert(2, 1000)\n",
        "a"
      ],
      "metadata": {
        "id": "qlQm6Auc2ZJW"
      },
      "execution_count": null,
      "outputs": []
    },
    {
      "cell_type": "markdown",
      "source": [
        "## sort"
      ],
      "metadata": {
        "id": "2HJsbjsbHySw"
      }
    },
    {
      "cell_type": "code",
      "source": [
        "l = [1, 5, 4, 2, 8, 5, 10, 9, 2, 3] \n",
        "l.sort() # 변수명에 가로가 있으면 무조건 함수 () # 원본을 만지고, 반환값은 None\n",
        "l"
      ],
      "metadata": {
        "id": "W313sJRhH7aU"
      },
      "execution_count": null,
      "outputs": []
    },
    {
      "cell_type": "code",
      "source": [
        "l = [1, 5, 4, 2, 8, 5, 10, 9, 2, 3]\n",
        "print(sorted([1, 5, 4, 2, 8, 5, 10, 9, 2, 3]))\n",
        "# 원본을 만지지 않고, 반환값은 정렬된 값\n",
        "print(l)"
      ],
      "metadata": {
        "id": "LHjUp12PIfGM"
      },
      "execution_count": null,
      "outputs": []
    },
    {
      "cell_type": "code",
      "source": [
        "l = [1, 5, 4, 2, 8, 5, 10, 9, 2, 3]\n",
        "print(sorted([1, 5, 4, 2, 8, 5, 10, 9, 2, 3])) # 원본을 만지지 않음 "
      ],
      "metadata": {
        "id": "UslxIlol3lYF"
      },
      "execution_count": null,
      "outputs": []
    },
    {
      "cell_type": "code",
      "source": [
        "# 이렇게 실무에서 진행하진 않는다. \n",
        "l = [1, 5, 4, 2, 8, 5, 10, 9, 2, 3] \n",
        "l.sort() \n",
        "l.reverse()\n",
        "l"
      ],
      "metadata": {
        "id": "iNkAIt3EIwjF"
      },
      "execution_count": null,
      "outputs": []
    },
    {
      "cell_type": "code",
      "source": [
        "l = [1, 5, 4, 2, 8, 5, 10, 9, 2, 3] \n",
        "l.sort()\n",
        "l.reverse()\n",
        "l"
      ],
      "metadata": {
        "id": "xqujZJRw5V9W"
      },
      "execution_count": null,
      "outputs": []
    },
    {
      "cell_type": "code",
      "source": [
        "# 이렇게 많이 사용합니다. \n",
        "l = [1, 5, 4, 2, 8, 5, 10, 9, 2, 3] \n",
        "l.sort(reverse=True) # 내림차순\n",
        "l"
      ],
      "metadata": {
        "id": "OaVjF8svI_M0"
      },
      "execution_count": null,
      "outputs": []
    },
    {
      "cell_type": "code",
      "source": [
        "l = [1, 5, 4, 2, 8, 5, 10, 9, 2, 3]\n",
        "sorted(l, reverse=True) # 내림차순"
      ],
      "metadata": {
        "id": "MuPS6KjsRdRb"
      },
      "execution_count": null,
      "outputs": []
    },
    {
      "cell_type": "code",
      "source": [
        "l = [[1, 10, 'leehojun'], \n",
        "     [20, 30, 'hojun'], \n",
        "     [10, 20, 'weniv'], \n",
        "     [1, 2, 'hello world'], \n",
        "     [55, 11, 'sun']]\n",
        "\n",
        "def f(x):\n",
        "    return len(x[2])\n",
        "\n",
        "print(sorted(l, key=f, reverse=False))\n",
        "print(sorted(l, key=f, reverse=True))\n",
        "def f2(x):\n",
        "    return x[0]\n",
        "print(sorted(l))\n",
        "print(sorted(l, key=f2))"
      ],
      "metadata": {
        "id": "epuw0LNSUNIg"
      },
      "execution_count": null,
      "outputs": []
    },
    {
      "cell_type": "code",
      "source": [
        "l = [[1, 10, 'leehojun'], \n",
        "     [20, 30, 'hojun'], \n",
        "     [10, 20, 'weniv!'], \n",
        "     [1, 2, 'hello world'], \n",
        "     [55, 11, 'sun']]\n",
        "\n",
        "# 1. 글자 수 대로 정렬해주세요.\n",
        "def f(x):\n",
        "    return len(x[2])\n",
        "\n",
        "print(sorted(l, key=f, reverse=False))\n",
        "print(sorted(l, key=lambda x:len(x[2]), reverse=False))\n",
        "\n",
        "# 2. 맨 앞에 위치한 숫자대로 정렬해주세요.\n",
        "def f2(x):\n",
        "    return x[0]\n",
        "\n",
        "print(sorted(l))\n",
        "print(sorted(l, key=f2))\n",
        "print(sorted(l, key=lambda x:x[0]))\n",
        "\n",
        "# 3. 중앙에 위치한 값대로 정렬해주세요.\n",
        "\n",
        "def f3(x):\n",
        "    return x[1]\n",
        "\n",
        "print(sorted(l))\n",
        "print(sorted(l, key=f3))\n",
        "print(sorted(l, key=lambda x:x[1]))\n",
        "\n",
        "l = [[1, 10, 32], \n",
        "     [20, 30, 11], \n",
        "     [10, 20, 22], \n",
        "     [1, 2, 13], \n",
        "     [55, 11, 44]]\n",
        "\n",
        "\n",
        "# 4. 3개의 전체 합이 작은 순서대로 출력해주세요.\n",
        "\n",
        "def f4(x):\n",
        "    return x[0] + x[1] + x[2]\n",
        "\n",
        "def f5(x):\n",
        "    return sum(x)\n",
        "\n",
        "print(sorted(l, key=f4))\n",
        "print(sorted(l, key=f5))\n",
        "print(sorted(l, key=lambda x: sum(x)))\n",
        "print(sorted(l, key=sum))"
      ],
      "metadata": {
        "id": "wzePM_8SpJe5"
      },
      "execution_count": null,
      "outputs": []
    },
    {
      "cell_type": "code",
      "source": [
        "# https://codingdojang.com/scode/408?answer_mode=hide\n",
        "# 좌표 평면 문제가 나오면 차원 축소나 차원 확대가 가능한 문제인지 확인\n",
        "\n",
        "point = [1, 3, 4, 8, 13, 17, 20]\n",
        "point[1:]\n",
        "\n",
        "[1, 3, 4, 8, 13, 17, 20] # 마지막 20은 빼 \n",
        "[3, 4, 8, 13, 17, 20] "
      ],
      "metadata": {
        "id": "LXzeUWjQNyZ0"
      },
      "execution_count": null,
      "outputs": []
    },
    {
      "cell_type": "code",
      "source": [
        "list(zip('hello', 'world'))"
      ],
      "metadata": {
        "id": "sB2zla7uOeoi"
      },
      "execution_count": null,
      "outputs": []
    },
    {
      "cell_type": "code",
      "source": [
        "list(zip(point, point[1:]))"
      ],
      "metadata": {
        "id": "xOS6k_mcpOvm"
      },
      "execution_count": null,
      "outputs": []
    },
    {
      "cell_type": "code",
      "source": [
        "# 다음 문제를 풀어보세요.\n",
        "def f(x):\n",
        "    return x[1] - x[0]\n",
        "\n",
        "sorted(zip(point, point[1:]), key=f)"
      ],
      "metadata": {
        "id": "-VBIWFWZpSae"
      },
      "execution_count": null,
      "outputs": []
    },
    {
      "cell_type": "code",
      "source": [
        "def f(x):\n",
        "    return x[1] - x[0]\n",
        "\n",
        "sorted(zip(point, point[1:]), key=f)[0]"
      ],
      "metadata": {
        "id": "W9It-YjLpWE2"
      },
      "execution_count": null,
      "outputs": []
    },
    {
      "cell_type": "code",
      "source": [
        "sorted(zip(point, point[1:]), key=lambda x:x[1]-x[0])[0]"
      ],
      "metadata": {
        "id": "2CMTYsUaSQS9"
      },
      "execution_count": null,
      "outputs": []
    },
    {
      "cell_type": "code",
      "source": [
        "# https://school.programmers.co.kr/learn/courses/30/lessons/120835\n",
        "# 응급도\n",
        "# [3, 76, 24]\n",
        "# 우선순위\n",
        "# [3, 1, 2]\n",
        "\n",
        "l = [3, 76, 24]\n",
        "정렬된값 = sorted(l, reverse=True)\n",
        "정렬된값 # [76, 24, 3]\n",
        "# 우리가 원하는 값 [2, 0, 1]\n",
        "\n",
        "결과값 = [\n",
        "            정렬된값.index(l[0]), \n",
        "            정렬된값.index(l[1]), \n",
        "            정렬된값.index(l[2])\n",
        "        ]\n",
        "결과값"
      ],
      "metadata": {
        "id": "BHyIuvRnTyvB"
      },
      "execution_count": null,
      "outputs": []
    },
    {
      "cell_type": "markdown",
      "source": [
        "## 깊은 복사와 얕은 복사"
      ],
      "metadata": {
        "id": "2VtSflQjWGnT"
      }
    },
    {
      "cell_type": "code",
      "source": [
        "# 아무런 복사도 이뤄지지 않은 상태 \n",
        "l = [[1,2,3],[4,5,6]]\n",
        "ll = l\n",
        "ll[0][0] = 10\n",
        "l, ll"
      ],
      "metadata": {
        "id": "ZUvpWNXEWVLL"
      },
      "execution_count": null,
      "outputs": []
    },
    {
      "cell_type": "code",
      "source": [
        "# 얕은 복사\n",
        "l = [1000, 2000, 3000, 4000, 5000, 6000]\n",
        "ll = l.copy()\n",
        "ll[0] = 10\n",
        "l, ll"
      ],
      "metadata": {
        "id": "tOXDs3pKWnhF"
      },
      "execution_count": null,
      "outputs": []
    },
    {
      "cell_type": "code",
      "source": [
        "l = [1000, 2000, 3000, 1000, 1000, 1000]\n",
        "id(l[0]), id(l[3]), id(l[4]), id(l[5])"
      ],
      "metadata": {
        "id": "8THA4rkEWzVE"
      },
      "execution_count": null,
      "outputs": []
    },
    {
      "cell_type": "code",
      "source": [
        "# 얕은 복사\n",
        "l = [1000, 2000, 3000, 4000, 5000, 6000]\n",
        "ll = l.copy()\n",
        "id(l[0]), id(ll[0]) # 같은 값이 나오니까 같은 객체를 가리키고 있다?"
      ],
      "metadata": {
        "id": "bKzpqveapqvh"
      },
      "execution_count": null,
      "outputs": []
    },
    {
      "cell_type": "code",
      "source": [
        "# 얕은 복사\n",
        "l = [1000, 2000, 3000, 4000, 5000, 6000]\n",
        "ll = l.copy()\n",
        "id(l), id(ll)"
      ],
      "metadata": {
        "id": "uD9C9sKCpscb"
      },
      "execution_count": null,
      "outputs": []
    },
    {
      "cell_type": "code",
      "source": [
        "# 얕은 복사\n",
        "l = [[1, 2, 3], [4, 5, 6]]\n",
        "ll = l.copy()\n",
        "ll[0][0] = 10\n",
        "l, ll"
      ],
      "metadata": {
        "id": "uW5xZe5Up-Sk"
      },
      "execution_count": null,
      "outputs": []
    },
    {
      "cell_type": "code",
      "source": [
        "# 얕은 복사\n",
        "l = [1000, 2000, 3000, 4000, 5000, 6000]\n",
        "ll = l.copy()\n",
        "ll[0] = 10\n",
        "id(l[0]), id(ll[0]) # 같은 값이 나오니까 같은 객체를 가리키고 있다?"
      ],
      "metadata": {
        "id": "qCLv-1e3W-i_"
      },
      "execution_count": null,
      "outputs": []
    },
    {
      "cell_type": "code",
      "source": [
        "id(l[0]), id(ll[0])"
      ],
      "metadata": {
        "id": "VkavuNGyqAJ0"
      },
      "execution_count": null,
      "outputs": []
    },
    {
      "cell_type": "code",
      "source": [
        "# 얕은 복사\n",
        "l = [[1, 2, 3], [4, 5, 6]]\n",
        "ll = l.copy()\n",
        "ll[0] = 100\n",
        "l, ll"
      ],
      "metadata": {
        "id": "kcwAAbN3pt3f"
      },
      "execution_count": null,
      "outputs": []
    },
    {
      "cell_type": "code",
      "source": [
        "# 깊은 복사\n",
        "import copy\n",
        "\n",
        "l = [[1,2,3], [4,5,6]]\n",
        "ll = copy.deepcopy(l)\n",
        "ll[0][0] = 10\n",
        "l, ll"
      ],
      "metadata": {
        "id": "tUbn0eKbZJz8"
      },
      "execution_count": null,
      "outputs": []
    },
    {
      "cell_type": "code",
      "source": [
        "# 깊은 복사\n",
        "import copy\n",
        "\n",
        "l = [[1, 2, 3], [4, 5, 6]]\n",
        "ll = copy.deepcopy(l)\n",
        "ll[0][0] = 10\n",
        "id(l), id(ll)\n",
        "id(l[0]), id(ll[0])\n",
        "id(l[0][0]), id(ll[0][0])"
      ],
      "metadata": {
        "id": "cSkNLmICZfD3"
      },
      "execution_count": null,
      "outputs": []
    },
    {
      "cell_type": "code",
      "source": [
        "# 깊은 복사\n",
        "import copy\n",
        "\n",
        "l = [[1, 2, [1, [999, 998]]], [4, 5, [2, [333, 332]]]]\n",
        "ll = copy.deepcopy(l)\n",
        "ll[0][2][1][0] = 10\n",
        "l, ll\n",
        "id(l), id(ll)\n",
        "id(l[0]), id(ll[0])\n",
        "id(l[0][0]), id(ll[0][0])"
      ],
      "metadata": {
        "id": "Wf2VucGnqMg9"
      },
      "execution_count": null,
      "outputs": []
    },
    {
      "cell_type": "markdown",
      "source": [
        "* 얕은 복사는 1 계층만 복사합니다.\n",
        "* 깊은 복사는 n 계층까지 모두 복사합니다. "
      ],
      "metadata": {
        "id": "31BIad9TaNDr"
      }
    },
    {
      "cell_type": "code",
      "source": [
        "# 얕은 복사\n",
        "l = [[1,2,3], [4,5,6]]\n",
        "ll = l[:]\n",
        "l[0] = 100\n",
        "l , ll"
      ],
      "metadata": {
        "id": "pNnO0RZsa7_u"
      },
      "execution_count": null,
      "outputs": []
    },
    {
      "cell_type": "code",
      "source": [
        "# 얕은 복사\n",
        "l = [[1,2,3], [4,5,6]]\n",
        "ll = l[:] # l.copy를 써도 마찬가지 \n",
        "l[0][0] = 100\n",
        "l , ll"
      ],
      "metadata": {
        "id": "p_FFZyUUbXMF"
      },
      "execution_count": null,
      "outputs": []
    },
    {
      "cell_type": "code",
      "source": [
        "# sorted도 얕은 복사!\n",
        "l = [[1, 2], [3, 4], [5, 6]]\n",
        "ll = sorted(l)\n",
        "l[0][0] = 100\n",
        "l, ll"
      ],
      "metadata": {
        "id": "H2WJnKllfoBX"
      },
      "execution_count": null,
      "outputs": []
    },
    {
      "cell_type": "code",
      "source": [
        "# 얕은 복사\n",
        "# 리스트 컴프리헨션은 안배운 내용이니 keep해두시고\n",
        "# for문 배운다음 다시 오셔서 복습하시기를 권해드립니다.\n",
        "l = [[1, 2, 3], [4, 5, 6]]\n",
        "ll = [i for i in l]\n",
        "l[0][0] = 100\n",
        "l, ll"
      ],
      "metadata": {
        "id": "ylbYYROTbqWR"
      },
      "execution_count": null,
      "outputs": []
    },
    {
      "cell_type": "code",
      "source": [
        "# 1단계 깊은 복사\n",
        "# 리스트 컴프리헨션은 안배운 내용이니 keep해두시고\n",
        "# for문 배운다음 다시 오셔서 복습하시기를 권해드립니다.\n",
        "l = [[1, 2, 3], [4, 5, 6]]\n",
        "ll = [i[:] for i in l]\n",
        "l[0][0] = 100\n",
        "l, ll"
      ],
      "metadata": {
        "id": "51UV-D_QcAy8"
      },
      "execution_count": null,
      "outputs": []
    },
    {
      "cell_type": "markdown",
      "source": [
        "## 다차원 리스트"
      ],
      "metadata": {
        "id": "xWglJRtkcgU1"
      }
    },
    {
      "cell_type": "code",
      "source": [
        "a = [[1, 2, 3],\n",
        "     [11, 22, 33],\n",
        "     ['leehojun', 20, 30]]\n",
        "\n",
        "# 문제 : jun만 뽑아주세요!\n",
        "print(a[2][0][-3:])\n",
        "print(a[2][0][5:])\n",
        "print(a[2][0][5], a[2][0][6], a[2][0][7], sep='')"
      ],
      "metadata": {
        "id": "EnbcWe_AcN5N"
      },
      "execution_count": null,
      "outputs": []
    },
    {
      "cell_type": "code",
      "source": [
        "a = [[1, 2, 3],\n",
        "     [11, 22, 33],\n",
        "     ['leehojun', 20, 30]]\n",
        "\n",
        "print(a[2][0][5:])"
      ],
      "metadata": {
        "id": "lCwT1e3wIHvc"
      },
      "execution_count": null,
      "outputs": []
    },
    {
      "cell_type": "markdown",
      "source": [
        "## 리스트에서 built-in function을 활용"
      ],
      "metadata": {
        "id": "AguBaLaSgPdg"
      }
    },
    {
      "cell_type": "markdown",
      "source": [
        "* 알아야 하는 built-in function\n",
        "\n",
        "A\n",
        "abs()\n",
        "all()\n",
        "any()\n",
        "\n",
        "B\n",
        "bin()\n",
        "bool()\n",
        "\n",
        "C\n",
        "chr()\n",
        "\n",
        "D\n",
        "dict()\n",
        "dir()\n",
        "\n",
        "E\n",
        "enumerate()\n",
        "eval()\n",
        "\n",
        "F\n",
        "filter()\n",
        "float()\n",
        "\n",
        "G\n",
        "globals()\n",
        "\n",
        "H\n",
        "help()\n",
        "hex()\n",
        "\n",
        "I\n",
        "id()\n",
        "input()\n",
        "int()\n",
        "isinstance()\n",
        "issubclass()\n",
        "iter()\n",
        "\n",
        "L\n",
        "len()\n",
        "list()\n",
        "locals()\n",
        "\n",
        "M\n",
        "map()\n",
        "max()\n",
        "min()\n",
        "\n",
        "N\n",
        "next()\n",
        "\n",
        "O\n",
        "object()\n",
        "oct()\n",
        "open()\n",
        "ord()\n",
        "\n",
        "P\n",
        "pow()\n",
        "print()\n",
        "property()\n",
        "\n",
        "\n",
        "\n",
        "\n",
        "R\n",
        "range()\n",
        "repr()\n",
        "reversed()\n",
        "round()\n",
        "\n",
        "S\n",
        "set()\n",
        "setattr()\n",
        "slice()\n",
        "sorted()\n",
        "staticmethod()\n",
        "str()\n",
        "sum()\n",
        "super()\n",
        "\n",
        "T\n",
        "tuple()\n",
        "type()\n",
        "\n",
        "V\n",
        "vars()\n",
        "\n",
        "Z\n",
        "zip()"
      ],
      "metadata": {
        "id": "JffXsUCyhDoR"
      }
    },
    {
      "cell_type": "code",
      "source": [
        "a = [1, 2, 3, 4, 5, 6, 7, 8]\n",
        "print(max(a)) #최댓값\n",
        "print(min(a)) #최솟값\n",
        "print(sum(a)) #전체값의 합"
      ],
      "metadata": {
        "id": "p2zwp6augUzt"
      },
      "execution_count": null,
      "outputs": []
    },
    {
      "cell_type": "code",
      "source": [
        "a = [1, 2, 3, 4, 5, 6, 7, 8]\n",
        "print(max(a))\n",
        "print(min(a))\n",
        "print(sum(a))"
      ],
      "metadata": {
        "id": "qqKIXX4bJPUR"
      },
      "execution_count": null,
      "outputs": []
    },
    {
      "cell_type": "code",
      "source": [
        "#2차원\n",
        "a = [[1, 2, 3, 'a'],\n",
        "     [11, 22, 33, 'aaa'],\n",
        "     [10, 2000, 30, 'aa']]\n",
        "\n",
        "max(a, key=lambda x:x[1])\n",
        "max(a, key=lambda x:len(x[3]))\n",
        "\n",
        "max(a, key=lambda x:x[1])"
      ],
      "metadata": {
        "colab": {
          "base_uri": "https://localhost:8080/"
        },
        "id": "4OOtMYN1h1xF",
        "outputId": "d6884ef4-a28f-4d7c-c55f-08c108208f7d"
      },
      "execution_count": null,
      "outputs": [
        {
          "output_type": "execute_result",
          "data": {
            "text/plain": [
              "[10, 2000, 30, 'aa']"
            ]
          },
          "metadata": {},
          "execution_count": 22
        }
      ]
    },
    {
      "cell_type": "code",
      "source": [
        "# 이름, 별점, 객실수, 가격\n",
        "호텔 = [\n",
        "    ['이스트소프트 호텔', 5, 100, 155000],\n",
        "    ['삼스트소프트 호텔', 4, 80, 145000],\n",
        "    ['사스트소프트 호텔', 3, 70, 135000], \n",
        "    # 마지막에 콤마를 허락하는 언어는 제한적(특히 JSON에서는 엄격해서 허락하지 않습니다.)\n",
        "]\n",
        "\n",
        "max(호텔, key=lambda x:x[3]) # 가장 가격이 높은 것을 뽑아낼 수 있음\n",
        "min(호텔, key=lambda x:x[3])"
      ],
      "metadata": {
        "colab": {
          "base_uri": "https://localhost:8080/"
        },
        "id": "O-INJLpCjZ0A",
        "outputId": "cd77ef0d-2bae-4930-9cd3-f4d4d9d20874"
      },
      "execution_count": null,
      "outputs": [
        {
          "output_type": "execute_result",
          "data": {
            "text/plain": [
              "['사스트소프트 호텔', 3, 70, 135000]"
            ]
          },
          "metadata": {},
          "execution_count": 21
        }
      ]
    },
    {
      "cell_type": "code",
      "source": [
        "#2차원\n",
        "a = [[1, 2, 3],\n",
        "     [11, 22, 33],\n",
        "     [10, 2000, 30]]\n",
        "     \n",
        "max(a, key=lambda x:x[1])\n",
        "min(a, key=lambda x:x[1])\n",
        "# sum(a) error # sum은 안됨 \n",
        "sum(a, [])"
      ],
      "metadata": {
        "id": "tZcJ34JFqvGc"
      },
      "execution_count": null,
      "outputs": []
    },
    {
      "cell_type": "markdown",
      "source": [
        "## 리스트의 순회\n",
        "* 리스트의 순회부터 복습"
      ],
      "metadata": {
        "id": "CNPrJqvqkY3X"
      }
    },
    {
      "cell_type": "code",
      "source": [
        "#1차원\n",
        "a = [1, 2, 3, 4, 5, 6, 7, 8]\n",
        "# for 변수 in 순회 가능한 객체 \n",
        "for i in a: \n",
        "     print(i)"
      ],
      "metadata": {
        "id": "0DnQ2x1nkbUr"
      },
      "execution_count": null,
      "outputs": []
    },
    {
      "cell_type": "code",
      "source": [
        "#2차원\n",
        "a = [[1, 2, 3],\n",
        "     [11, 22, 33],\n",
        "     [13, 20000, 300000]]\n",
        "\n",
        "for i in a:\n",
        "    print(i)\n",
        "    print('---')\n",
        "print('end')"
      ],
      "metadata": {
        "id": "SkNLcOWDkw-j"
      },
      "execution_count": null,
      "outputs": []
    },
    {
      "cell_type": "code",
      "source": [
        "#2차원\n",
        "a = [[1, 2, 3],\n",
        "     [11, 22, 33],\n",
        "     [13, 20000, 300000]]\n",
        "\n",
        "for i in a:\n",
        "    print(i)\n",
        "    print('---')\n",
        "print('end')"
      ],
      "metadata": {
        "id": "yRk1rqe39FJu"
      },
      "execution_count": null,
      "outputs": []
    },
    {
      "cell_type": "code",
      "source": [
        "a = [[1, 2, 3],\n",
        "     [11, 22, 33],\n",
        "     [13, 20000, 300000]]\n",
        "\n",
        "for i in a:\n",
        "    print(i)\n",
        "    print('---')"
      ],
      "metadata": {
        "id": "yAy87ggI9gDj"
      },
      "execution_count": null,
      "outputs": []
    },
    {
      "cell_type": "code",
      "source": [
        "#2차원\n",
        "a = [[1, 2, 3],\n",
        "     [11, 22, 33],\n",
        "     [13, 20000, 300000]]\n",
        "\n",
        "for i in a:\n",
        "    for j in i:\n",
        "        print(j)\n",
        "        print('---')\n",
        "print('end')"
      ],
      "metadata": {
        "id": "RbVZUCcIq2Cv"
      },
      "execution_count": null,
      "outputs": []
    },
    {
      "cell_type": "markdown",
      "source": [
        "## range"
      ],
      "metadata": {
        "id": "M1SU1Gxpmx59"
      }
    },
    {
      "cell_type": "code",
      "source": [
        "# range(start, stop, step) \n",
        "# 슬라이싱과 같은 규칙\n",
        "# 슬라이싱은 ':'(콜론)으로 연결되어 있고\n",
        "# range는 ','(콤마)로 연결되어 있습니다.\n",
        "\n",
        "print(list(range(100))) \n",
        "# python 2.x에서 python 3.x에 range를 사용하고 싶다면 xrange(10)\n",
        "print(list(range(5, 10)))\n",
        "\n",
        "print(list(range(0, 101, 2))) #짝수\n",
        "print(list(range(1, 101, 2))) #홀수\n",
        "print(list(range(100, 1, -2)))\n",
        "print(sum(list(range(0, 101))))\n",
        "print(sum(range(0, 101))) # 이렇게 형 변환을 하지 않고 sum하시는 것을 권합니다."
      ],
      "metadata": {
        "id": "vJWsl_i0nWhN"
      },
      "execution_count": null,
      "outputs": []
    },
    {
      "cell_type": "markdown",
      "source": [
        "## list comprehension"
      ],
      "metadata": {
        "id": "VeraeNDGpRmO"
      }
    },
    {
      "cell_type": "code",
      "source": [
        "# l = [1, 2, 3, 4, ...]\n",
        "# list(range(1, 101))\n",
        "l = []\n",
        "for i in range(1, 101):\n",
        "    l.append(i)\n",
        "l # 실행 노 "
      ],
      "metadata": {
        "id": "NpHiU1SOq-zZ"
      },
      "execution_count": null,
      "outputs": []
    },
    {
      "cell_type": "code",
      "source": [
        "# l = []\n",
        "# for i in range(1, 11):\n",
        "#     l.append(i**i)\n",
        "# l\n",
        "\n",
        "l = [i**i for i in range(1, 11)]\n",
        "l\n",
        "\n",
        "l = [i for i in range(1, 11)]\n",
        "l"
      ],
      "metadata": {
        "id": "GljppP76qLqW"
      },
      "execution_count": null,
      "outputs": []
    },
    {
      "cell_type": "code",
      "source": [
        "l = []\n",
        "for i in range(1, 100):\n",
        "    if i %3 == 0 or i %5 == 0:\n",
        "        l.append(i)\n",
        "\n",
        "[i for i in range(1, 100) if i %3 == 0 or i %5 == 0]"
      ],
      "metadata": {
        "id": "CMn-Ohraqp2I"
      },
      "execution_count": null,
      "outputs": []
    },
    {
      "cell_type": "markdown",
      "source": [
        "## tuple (튜플)\n"
      ],
      "metadata": {
        "id": "cMowLIv69pv9"
      }
    },
    {
      "cell_type": "markdown",
      "source": [
        "- 튜플은 순서가 있는 시퀀스형 자료형입니다.\n",
        "- 참조값은 변경이 불가능(immutable) 합니다.\n",
        "- 다른 자료형을 입력할 수 있으며, 튜플 안에 튜플로 다차원의 튜플을 만드는 것도 가능합니다.\n",
        "- 값의 중복을 허락합니다."
      ],
      "metadata": {
        "id": "mpyRhos4_WLk"
      }
    },
    {
      "cell_type": "code",
      "source": [
        "t = (10, 20, 30)\n",
        "t[1] = 1000 # error"
      ],
      "metadata": {
        "id": "mkJZPVdF9tAC"
      },
      "execution_count": null,
      "outputs": []
    },
    {
      "cell_type": "code",
      "source": [
        "l = [1, 2, 3]\n",
        "t = (l, 20, 30) # t가 l을 참조하고 있다는 것이 불변 \n",
        "l[0] = 1000\n",
        "t"
      ],
      "metadata": {
        "id": "HIFu51-P98N9"
      },
      "execution_count": null,
      "outputs": []
    },
    {
      "cell_type": "code",
      "source": [
        "t = (10, 20, 30, 40, 50)\n",
        "t[:3]"
      ],
      "metadata": {
        "id": "AUufBGRv-fEo"
      },
      "execution_count": null,
      "outputs": []
    },
    {
      "cell_type": "code",
      "source": [
        "type(t), dir(t)"
      ],
      "metadata": {
        "id": "_MxttTqf-ap1"
      },
      "execution_count": null,
      "outputs": []
    },
    {
      "cell_type": "code",
      "source": [
        "t = (10, 20, 30, 40, 50, 20)\n",
        "t.index(20), t.count(20)"
      ],
      "metadata": {
        "id": "Q38zIlWP-rrp"
      },
      "execution_count": null,
      "outputs": []
    },
    {
      "cell_type": "code",
      "source": [
        "t = tuple('leehojun')\n",
        "t\n",
        "t = tuple()\n",
        "t\n",
        "t = tuple(range(10))\n",
        "t\n",
        "t = (1) \n",
        "t\n",
        "t = (1,) #원소를 하나씩 넣고 싶을 때는 콤마(,)를 사용해줍니다.\n",
        "t"
      ],
      "metadata": {
        "id": "QueOr-A---3w"
      },
      "execution_count": null,
      "outputs": []
    },
    {
      "cell_type": "markdown",
      "source": [
        "## dict (딕셔너리)"
      ],
      "metadata": {
        "id": "6vy64kwl_eSH"
      }
    },
    {
      "cell_type": "markdown",
      "source": [
        "- 딕셔너리는 순서가 없는 자료형입니다.\n",
        "- 사전형은 Key와 Value 가 하나의 묶음으로 이루어진 자료 체계입니다.\n",
        "- 값의 변경이 가능합니다.\n",
        "- 다른 자료형을 입력할 수 있습니다.\n",
        "- 키의 중복은 허락하지 않고, 값의 중복을 허락합니다."
      ],
      "metadata": {
        "id": "3_eeiRBm_vav"
      }
    },
    {
      "cell_type": "code",
      "source": [
        "{\n",
        "    '게시물 번호' : 1,\n",
        "    '게시자': '이호준',\n",
        "    '게시물 내용' : '......'\n",
        "}"
      ],
      "metadata": {
        "id": "_mCpPRCVABD3"
      },
      "execution_count": null,
      "outputs": []
    },
    {
      "cell_type": "code",
      "source": [
        "d = {'one' : '하나', 'two' : '둘', 'three' : '셋'}\n",
        "d['one']"
      ],
      "metadata": {
        "id": "S2EqCiS1Al2P"
      },
      "execution_count": null,
      "outputs": []
    },
    {
      "cell_type": "code",
      "source": [
        "d ['two'] = '투'\n",
        "d"
      ],
      "metadata": {
        "id": "Q2tLGEYCA3RC"
      },
      "execution_count": null,
      "outputs": []
    },
    {
      "cell_type": "code",
      "source": [
        "d = {} #dict\n",
        "type(d)\n",
        "\n",
        "d = {10} #test\n",
        "type(d)\n",
        "\n",
        "d = dict()\n",
        "type(d)\n",
        "\n",
        "d = {'one' : 1}\n",
        "type(d)"
      ],
      "metadata": {
        "id": "X1oAV3fCBLJa"
      },
      "execution_count": null,
      "outputs": []
    },
    {
      "cell_type": "code",
      "source": [
        "d = {'one' : '하나', 'two' : '둘', 'three' : '셋'}\n",
        "d.items()"
      ],
      "metadata": {
        "id": "0xJDkQzUBhnr"
      },
      "execution_count": null,
      "outputs": []
    },
    {
      "cell_type": "code",
      "source": [
        "dict([('one', '하나'), ('two', '둘'), ('three', '셋')])\n"
      ],
      "metadata": {
        "id": "0U3Z1XW0Bu1x"
      },
      "execution_count": null,
      "outputs": []
    },
    {
      "cell_type": "code",
      "source": [
        "dict([['one', '하나'], ['two', '둘'], ['three', '셋']])\n"
      ],
      "metadata": {
        "id": "QQCgY_sjB0TD"
      },
      "execution_count": null,
      "outputs": []
    },
    {
      "cell_type": "code",
      "source": [
        "dict(name='kimyeoju',age = 10)"
      ],
      "metadata": {
        "id": "z2XDveEZB-m0"
      },
      "execution_count": null,
      "outputs": []
    },
    {
      "cell_type": "code",
      "source": [
        "list(zip('ABC', '123','abc'))\n",
        "dict(zip('ABC', '123')) #형변환"
      ],
      "metadata": {
        "id": "PmcJ-d1tCMaJ"
      },
      "execution_count": null,
      "outputs": []
    },
    {
      "cell_type": "code",
      "source": [
        "# 연습문제\n",
        "# dict와 zip를 사용해서 아래와 같은 형태로 데이터를 만들어주세요.\n",
        "# 잘 모르시겠으면 어떻게든 저 형태를 만들어주세요.\n",
        "dict(zip('ABC', [[10,20], [20,30], [30,40]]))\n",
        "dict(zip('ABC', [list(elem) for elem in zip([10, 20, 30], [20, 30, 40])]))\n",
        "l = [10, 20, 30, 40]\n",
        "dict(zip('ABC', zip(l, l[1:])))\n",
        "dict(zip(['A','B','C'],[[10, 20],[20, 30],[30, 40]]))\n",
        "# 원하는 형태 {'A': [10, 20], 'B': [20, 30], 'C': [30, 40]}"
      ],
      "metadata": {
        "id": "Rm69Devcrw1d"
      },
      "execution_count": null,
      "outputs": []
    },
    {
      "cell_type": "code",
      "source": [
        "dict(zip(['A','B','C'],[[10,20],[20,30],[30,40]]))"
      ],
      "metadata": {
        "id": "S-hEMZZhmOuS"
      },
      "execution_count": null,
      "outputs": []
    },
    {
      "cell_type": "code",
      "source": [
        "# dict와 zip을 사용해서 아래와 같은 형태로 데이터를 만들어 주세요\n",
        "dict(zip('ABC',[[10,20],[20,30],[30,40]]))"
      ],
      "metadata": {
        "id": "weOeIC91Cs_Z"
      },
      "execution_count": null,
      "outputs": []
    },
    {
      "cell_type": "code",
      "source": [
        "'B' in {'A': [10, 20], 'B': [20, 30], 'C': [30, 40]}\n"
      ],
      "metadata": {
        "id": "-4m8KaiTDxcK"
      },
      "execution_count": null,
      "outputs": []
    },
    {
      "cell_type": "code",
      "source": [
        "len({'A': [10, 20], 'B': [20, 30], 'C': [30, 40]})"
      ],
      "metadata": {
        "id": "N2xZL2tII8yC"
      },
      "execution_count": null,
      "outputs": []
    },
    {
      "cell_type": "code",
      "source": [
        "# 공부해두시면 좋습니다\n",
        "def switch(day):\n",
        "    return{\n",
        "        1: '월요일',\n",
        "        2: '화요일',\n",
        "        3: '수요일',\n",
        "        4: '목요일',\n",
        "        5: '금요일',\n",
        "        6: '토요일',\n",
        "        7: '일요일',\n",
        "    }[day]\n",
        "switch(7)\n",
        "# switch(8) #error"
      ],
      "metadata": {
        "id": "o95sgri_JTBN"
      },
      "execution_count": null,
      "outputs": []
    },
    {
      "cell_type": "code",
      "source": [
        "# 공부해두시면 좋습니다!\n",
        "def switch(day):\n",
        "    return {\n",
        "        1 : '월요일',\n",
        "        2 : '화요일',\n",
        "        3 : '수요일',\n",
        "        4 : '목요일',\n",
        "        5 : '금요일',\n",
        "        6 : '토요일',\n",
        "        7 : '일요일',\n",
        "    }.get(day)\n",
        "\n",
        "switch(7)\n",
        "switch(8) # get을 사용하면 None을 줍니다."
      ],
      "metadata": {
        "id": "OOk2j09tr4cK"
      },
      "execution_count": null,
      "outputs": []
    },
    {
      "cell_type": "code",
      "source": [
        "# 공부해두시면 좋습니다\n",
        "def switch(day):\n",
        "    return{\n",
        "        1: '월요일',\n",
        "        2: '화요일',\n",
        "        3: '수요일',\n",
        "        4: '목요일',\n",
        "        5: '금요일',\n",
        "        6: '토요일',\n",
        "        7: '일요일',\n",
        "    }.get(day, '요일을 찾지 못했습니다.')\n",
        "switch(7)\n",
        "switch(8)\n",
        "#get을 사용하면 못찾는 값을 넣었을 때 '요일을 찾지 못했습니다.' 값을 준다. "
      ],
      "metadata": {
        "id": "wVvHLANtKpoe"
      },
      "execution_count": null,
      "outputs": []
    },
    {
      "cell_type": "code",
      "source": [
        "%%timeit\n",
        "\n",
        "s = 0\n",
        "for i in range(10000):\n",
        "    s += i"
      ],
      "metadata": {
        "id": "bZz6whf0r9sk"
      },
      "execution_count": null,
      "outputs": []
    },
    {
      "cell_type": "code",
      "source": [
        "%%timeit\n",
        "\n",
        "sum([i for i in range(10000)])"
      ],
      "metadata": {
        "id": "cSO_cy7Sr_iR"
      },
      "execution_count": null,
      "outputs": []
    },
    {
      "cell_type": "code",
      "source": [
        "%%timeit\n",
        "\n",
        "sum(range(10000))"
      ],
      "metadata": {
        "id": "pxoDGpr-sA77"
      },
      "execution_count": null,
      "outputs": []
    },
    {
      "cell_type": "code",
      "source": [
        "{'A':[10,20], 'B': [20,30], 'C':[30,40]}.keys()"
      ],
      "metadata": {
        "id": "VnFy0mJGLevI"
      },
      "execution_count": null,
      "outputs": []
    },
    {
      "cell_type": "code",
      "source": [
        "{'A':[10,20], 'B': [20,30], 'C':[30,40]}.values()"
      ],
      "metadata": {
        "id": "IgGxHxsjL2Nd"
      },
      "execution_count": null,
      "outputs": []
    },
    {
      "cell_type": "code",
      "source": [
        "{'A':[10,20], 'B': [20,30], 'C':[30,40]}.items()"
      ],
      "metadata": {
        "id": "hhkWrydwMAvZ"
      },
      "execution_count": null,
      "outputs": []
    },
    {
      "cell_type": "code",
      "source": [
        "dict.fromkeys('kimyeoju')"
      ],
      "metadata": {
        "id": "lTJyrwL1MwTW"
      },
      "execution_count": null,
      "outputs": []
    },
    {
      "cell_type": "code",
      "source": [
        "dict.fromkeys('leehojun', 100)"
      ],
      "metadata": {
        "id": "2qq0sFLRsKgY"
      },
      "execution_count": null,
      "outputs": []
    },
    {
      "cell_type": "code",
      "source": [
        "keys = ('name', 'age', 'grade')\n",
        "values = ('leehojun', '10', '수')\n",
        "\n",
        "dict.fromkeys(keys, values)"
      ],
      "metadata": {
        "id": "_DTKdCr3sMKm"
      },
      "execution_count": null,
      "outputs": []
    },
    {
      "cell_type": "code",
      "source": [
        "d = {'one' : '하나', 'two' : '둘', 'three' : '셋'}\n",
        "d.update({'one' : 1, 'two' : 2})\n",
        "d"
      ],
      "metadata": {
        "id": "6tv7cFdrsO78"
      },
      "execution_count": null,
      "outputs": []
    },
    {
      "cell_type": "markdown",
      "source": [
        "## 딕셔너리의 순회"
      ],
      "metadata": {
        "id": "GJunS18OMsIc"
      }
    },
    {
      "cell_type": "code",
      "source": [
        "# key만 순회합니다. \n",
        "d = {'two' : 2, 'three' : '셋'}\n",
        "for i in d:\n",
        "    print(i)"
      ],
      "metadata": {
        "id": "OyGZ3QnzM2bA"
      },
      "execution_count": null,
      "outputs": []
    },
    {
      "cell_type": "code",
      "source": [
        "# value만 순회합니다. \n",
        "d = {'two' : 2, 'three' : '셋'}\n",
        "for i in d:\n",
        "    print(d[i])"
      ],
      "metadata": {
        "id": "6D71GBqOM-KD"
      },
      "execution_count": null,
      "outputs": []
    },
    {
      "cell_type": "markdown",
      "source": [
        "## 언패킹 "
      ],
      "metadata": {
        "id": "mRHgqr5HNSM4"
      }
    },
    {
      "cell_type": "code",
      "source": [
        "# 패킹 : 1,2,3 => [1,2,3]\n",
        "# 언패킹 : [1,2,3] => 1,2,3"
      ],
      "metadata": {
        "id": "4BI07vFxNT_b"
      },
      "execution_count": null,
      "outputs": []
    },
    {
      "cell_type": "code",
      "source": [
        "a,b,c = 10,20,30\n",
        "a"
      ],
      "metadata": {
        "id": "aPkJyhZQNaeB"
      },
      "execution_count": null,
      "outputs": []
    },
    {
      "cell_type": "code",
      "source": [
        "a,b,c = [10,20,30] # 소괄호든 대괄호든 상관 없습니다. \n",
        "a"
      ],
      "metadata": {
        "id": "wn5nM9nHNiqd"
      },
      "execution_count": null,
      "outputs": []
    },
    {
      "cell_type": "code",
      "source": [
        "i, j = [10, 20]\n",
        "i"
      ],
      "metadata": {
        "id": "vL52s6O9sT_H"
      },
      "execution_count": null,
      "outputs": []
    },
    {
      "cell_type": "code",
      "source": [
        "for i, j in [[10,20],[30,40],[50,60]]:\n",
        "    print(i,j)"
      ],
      "metadata": {
        "id": "YvtYQQQhNzsB"
      },
      "execution_count": null,
      "outputs": []
    },
    {
      "cell_type": "code",
      "source": [
        "for i, j, k in [[10, 20, [1, 2]], [30, 40, [3, 4]], [50, 60, [5, 6]]]:\n",
        "    print(i, j, k)"
      ],
      "metadata": {
        "id": "0C99G79-ONPr"
      },
      "execution_count": null,
      "outputs": []
    },
    {
      "cell_type": "code",
      "source": [
        "for i, j, k in [[10, 20, [1, 2]], [30, 40, [3, 4]], [50, 60, []]]:\n",
        "    print(i, j, k)"
      ],
      "metadata": {
        "id": "mADgH42usXQO"
      },
      "execution_count": null,
      "outputs": []
    },
    {
      "cell_type": "code",
      "source": [
        "# swap\n",
        "a = 10\n",
        "b = 15\n",
        "a, b = b, a\n",
        "a, b"
      ],
      "metadata": {
        "id": "LuWk3xoVOlLs"
      },
      "execution_count": null,
      "outputs": []
    },
    {
      "cell_type": "code",
      "source": [
        "# swap in c\n",
        "a = 10\n",
        "b = 15\n",
        "temp = a\n",
        "a = b\n",
        "b = temp\n",
        "a, b"
      ],
      "metadata": {
        "id": "X6XqFAAEO4k0"
      },
      "execution_count": null,
      "outputs": []
    },
    {
      "cell_type": "code",
      "source": [
        "for i, j in d.items():\n",
        "    print(i,j)"
      ],
      "metadata": {
        "id": "66aFd2ITPNSD"
      },
      "execution_count": null,
      "outputs": []
    },
    {
      "cell_type": "markdown",
      "source": [
        "## max를 이용한 dict 최대 value key값 가져오기 "
      ],
      "metadata": {
        "id": "2ev81if-Npfb"
      }
    },
    {
      "cell_type": "code",
      "source": [
        "d = {\n",
        "    'test1': 10,\n",
        "    'test2': 20,\n",
        "    'test3': 31,\n",
        "    'test4': 11,\n",
        "}\n",
        "\n",
        "# max(d.values()) # 이걸로는 뭔가 찾아내기 힘듭니다.\n",
        "max(d, key=lambda x: d[x])\n",
        "max(d, key=d.get) #많이 사용하는 코드입니다."
      ],
      "metadata": {
        "id": "aIz0L848PVUp"
      },
      "execution_count": null,
      "outputs": []
    },
    {
      "cell_type": "markdown",
      "source": [
        "## set (셋, 집합) "
      ],
      "metadata": {
        "id": "jTN-FdREQaO5"
      }
    },
    {
      "cell_type": "markdown",
      "source": [
        "* 집합 자료형은 중복을 허용하지 않으며\n",
        "* 순서가 없는 자료형 "
      ],
      "metadata": {
        "id": "g64r-PZ2RE68"
      }
    },
    {
      "cell_type": "code",
      "source": [
        "n = set([1, 1, 2, 2, 3, 3, 4])\n",
        "print(n)"
      ],
      "metadata": {
        "id": "1CQCBfndQ0lp"
      },
      "execution_count": null,
      "outputs": []
    },
    {
      "cell_type": "code",
      "source": [
        "s = set('hello world')\n",
        "print(s)"
      ],
      "metadata": {
        "id": "tl9WAshzQ3ME"
      },
      "execution_count": null,
      "outputs": []
    },
    {
      "cell_type": "code",
      "source": [
        "n = set([1, 1, 2, 2, 3, 3, 4])\n",
        "n.add(1000)\n",
        "print(n)"
      ],
      "metadata": {
        "id": "_XvgEnjysgOu"
      },
      "execution_count": null,
      "outputs": []
    },
    {
      "cell_type": "code",
      "source": [
        "n = set([1,1,2,2,3,3,4])\n",
        "n.update({10,20})\n",
        "print(n)"
      ],
      "metadata": {
        "id": "CTfW2wGHT64j"
      },
      "execution_count": null,
      "outputs": []
    },
    {
      "cell_type": "code",
      "source": [
        "n = set([1,1,2,2,3,3,4])\n",
        "n.remove(1)\n",
        "print(n)"
      ],
      "metadata": {
        "id": "WMtqrcbfWfKX"
      },
      "execution_count": null,
      "outputs": []
    },
    {
      "cell_type": "markdown",
      "source": [
        "* pop은 실무에서 잘 사용하지 않습니다. 값을 랜덤하게 뽑아내기 때문입니다. 높은 확률로 앞에서부터 뽑아내긴 하지만 확률에 기대는 코딩을 하지 않기를 바랍니다. 공식문서에서는 랜덤하게 뽑아낸다고 되어 있습니다.\n",
        "* https://docs.python.org/3.11/library/stdtypes.html#frozenset.pop"
      ],
      "metadata": {
        "id": "smYyNBNGsqU_"
      }
    },
    {
      "cell_type": "code",
      "source": [
        "# 교집합 별 3개\n",
        "a = {1,2,3}\n",
        "b = {3,4,5}\n",
        "a & b\n",
        "a.intersection(b)"
      ],
      "metadata": {
        "id": "h1WWM2BtWlNV"
      },
      "execution_count": null,
      "outputs": []
    },
    {
      "cell_type": "code",
      "source": [
        "# 합집합 별 3개\n",
        "a = {1,2,3}\n",
        "b = {3,4,5}\n",
        "a | b\n",
        "a.union(b)\n",
        "# a + b # error set은 더하기가 안된다 "
      ],
      "metadata": {
        "id": "_dhCvNyyXv02"
      },
      "execution_count": null,
      "outputs": []
    },
    {
      "cell_type": "code",
      "source": [
        "# 차집합 별 3개\n",
        "a = {1,2,3}\n",
        "b = {3,4,5}\n",
        "a - b\n",
        "a.difference(b)\n",
        "# a + b # error set은 더하기가 안된다 "
      ],
      "metadata": {
        "id": "EaCcqSPxYBWu"
      },
      "execution_count": null,
      "outputs": []
    },
    {
      "cell_type": "code",
      "source": [
        "s = {1,2,3,4}\n",
        "ss = {3,4,5,6}\n",
        "s.issubset({1,2})\n",
        "s.issubset({1,2,3,4,5,6,7,8})\n",
        "# 다 포함해야 부분집합 True / 아니면 False "
      ],
      "metadata": {
        "id": "Wo9uN_zdYYJk"
      },
      "execution_count": null,
      "outputs": []
    },
    {
      "cell_type": "code",
      "source": [
        "# https://school.programmers.co.kr/learn/courses/30/lessons/120903?language=python3\n",
        "def solution(s1, s2):\n",
        "    return len(set(s1) & set(s2))"
      ],
      "metadata": {
        "id": "P1tGVvqrs4qR"
      },
      "execution_count": null,
      "outputs": []
    },
    {
      "cell_type": "code",
      "source": [
        "# https://school.programmers.co.kr/learn/courses/30/lessons/120888\n",
        "# my_string        result\n",
        "# \"people\"        \"peol\""
      ],
      "metadata": {
        "id": "bbeB0eG_SolJ"
      },
      "execution_count": null,
      "outputs": []
    },
    {
      "cell_type": "code",
      "source": [
        "# my_string        result\n",
        "# \"people\"        \"peol\"\n",
        "\n",
        "result = ''\n",
        "for i in 'people':\n",
        "    if i not in result:\n",
        "        result += i\n",
        "result"
      ],
      "metadata": {
        "id": "HrNJXycKZeJi"
      },
      "execution_count": null,
      "outputs": []
    },
    {
      "cell_type": "code",
      "source": [
        "def solution(my_string):\n",
        "    return set(my_string)\n",
        "\n",
        "solution('people')"
      ],
      "metadata": {
        "id": "H9rZWLXqSpAc"
      },
      "execution_count": null,
      "outputs": []
    },
    {
      "cell_type": "code",
      "source": [
        "def solution(my_string):\n",
        "    return set(my_string)\n",
        "solution('people')"
      ],
      "metadata": {
        "id": "EciWMw87MclR"
      },
      "execution_count": null,
      "outputs": []
    },
    {
      "cell_type": "code",
      "source": [
        "def solution(my_string):\n",
        "    return ''.join(set(my_string))\n",
        "\n",
        "solution('people')"
      ],
      "metadata": {
        "id": "G8tRLx3TSvJL"
      },
      "execution_count": null,
      "outputs": []
    },
    {
      "cell_type": "code",
      "source": [
        "def solution(my_string):\n",
        "    return ''.join(set(my_string))\n",
        "solution('people')"
      ],
      "metadata": {
        "id": "hUysOE-BPhSV"
      },
      "execution_count": null,
      "outputs": []
    },
    {
      "cell_type": "code",
      "source": [
        "def solution(my_string):\n",
        "    집합 = set(my_string)\n",
        "    result = ''\n",
        "    for i in my_string:\n",
        "        if i in 집합:\n",
        "            result += i\n",
        "            집합.remove(i)\n",
        "    return result\n",
        "\n",
        "solution('people')"
      ],
      "metadata": {
        "id": "SoEu-3gRZlmm"
      },
      "execution_count": null,
      "outputs": []
    },
    {
      "cell_type": "markdown",
      "source": [
        "## 연습문제"
      ],
      "metadata": {
        "id": "aRT6Fr6CadM_"
      }
    },
    {
      "cell_type": "code",
      "source": [
        "student_score = {\n",
        "\t\t'홍의': 97,\n",
        "\t\t'원희': 60,\n",
        "\t\t'동해': 77,\n",
        "\t\t'변수': 79,\n",
        "\t\t'창현': 89,\n",
        "}"
      ],
      "metadata": {
        "id": "55KZPl2rtCNI"
      },
      "execution_count": null,
      "outputs": []
    },
    {
      "cell_type": "code",
      "source": [
        "sum(student_score.values())"
      ],
      "metadata": {
        "id": "FTW1c1SUtDoS"
      },
      "execution_count": null,
      "outputs": []
    },
    {
      "cell_type": "code",
      "source": [
        "sum(student_score.values())/len(student_score)"
      ],
      "metadata": {
        "id": "AcSaj0XztEkt"
      },
      "execution_count": null,
      "outputs": []
    },
    {
      "cell_type": "code",
      "source": [
        "이름 = max(student_score, key=student_score.get)\n",
        "가장큰값 = student_score[이름]\n",
        "print(이름, 가장큰값)"
      ],
      "metadata": {
        "id": "W3jDuED1tFxR"
      },
      "execution_count": null,
      "outputs": []
    },
    {
      "cell_type": "code",
      "source": [
        "가장큰값 = max(student_score.values())\n",
        "for i in student_score:\n",
        "    if student_score[i] == 가장큰값:\n",
        "        print(i, 가장큰값)"
      ],
      "metadata": {
        "id": "ln6owbN6tHmv"
      },
      "execution_count": null,
      "outputs": []
    },
    {
      "cell_type": "code",
      "source": [
        "이름 = min(student_score, key=student_score.get)\n",
        "가장작은값 = student_score[이름]\n",
        "print(이름, 가장작은값)"
      ],
      "metadata": {
        "id": "qxbR5vWhtJIm"
      },
      "execution_count": null,
      "outputs": []
    },
    {
      "cell_type": "code",
      "source": [
        "# 연습문제 1번 \n",
        "student_score = {\n",
        "\t\t'홍의': 97,\n",
        "\t\t'원희': 60,\n",
        "\t\t'동해': 77,\n",
        "\t\t'변수': 79,\n",
        "\t\t'창현': 89,\n",
        "}\n",
        "total_score = sum(student_score.values())\n",
        "print(f'학생들의 총점은 {total_score}입니다.')\n",
        "average_score = sum(student_score.values()) / len(student_score)\n",
        "print(f'학생들의 총점은 {average_score}입니다.')\n",
        "max_name = max(student_score, key=student_score.get)\n",
        "max_score = student_score[max_name]\n",
        "print(f'점수가 가장 높은 학생은 {max_name}이며, 그 점수는 {max_score}점입니다.')\n",
        "min_name = min(student_score, key=student_score.get)\n",
        "min_score = student_score[min_name]\n",
        "print(f'점수가 가장 낮은 학생은 {min_name}이며, 그 점수는 {min_score}점입니다.')"
      ],
      "metadata": {
        "id": "477SRd9EagSD"
      },
      "execution_count": null,
      "outputs": []
    },
    {
      "cell_type": "code",
      "source": [
        "# 연습문제 1번 \n",
        "student_score = {\n",
        "\t\t'홍의': 97,\n",
        "\t\t'원희': 60,\n",
        "\t\t'동해': 77,\n",
        "\t\t'변수': 79,\n",
        "\t\t'창현': 89,\n",
        "}\n",
        "sum(student_score.values())\n",
        "sum(student_score.values()) / len(student_score)\n",
        "max(student_score, key=student_score.get)\n",
        "student_score[max(student_score,key=student_score.get)]\n",
        "max(student_score.values())\n",
        "for i in student_score:\n",
        "    if student_score[i] == 가장 큰 값:\n",
        "        print(i, 가장큰값)"
      ],
      "metadata": {
        "id": "FqFo-Y-Geg2U"
      },
      "execution_count": null,
      "outputs": []
    },
    {
      "cell_type": "code",
      "source": [
        "# 연습문제 2번 \n",
        "like = ['볶음밥', '라면', '국수', '파스타', '치킨', '짜장면', '국밥']\n",
        "dislike = ['국밥', '짬뽕', '찜닭', '파스타', '국수', '카레', '덮밥']\n",
        "set(like) - set(dislike)"
      ],
      "metadata": {
        "id": "fb0KszRCc5uB"
      },
      "execution_count": null,
      "outputs": []
    },
    {
      "cell_type": "code",
      "source": [
        "like = ['볶음밥', '라면', '국수', '파스타', '치킨', '짜장면', '국밥']\n",
        "dislike = ['국밥', '짬뽕', '찜닭', '파스타', '국수', '카레', '덮밥']\n",
        "set(like) - set(dislike)\n",
        "# 아래와 같이 코드를 작성할 수도 있습니다.\n",
        "final_menu = [menu for menu in like if menu not in dislike]"
      ],
      "metadata": {
        "id": "H2x5d9uStL3W"
      },
      "execution_count": null,
      "outputs": []
    },
    {
      "cell_type": "markdown",
      "source": [
        "## (질의응답) max(student_score,key=student_score.get)"
      ],
      "metadata": {
        "id": "AQ-VVWvLi0sL"
      }
    },
    {
      "cell_type": "code",
      "source": [
        "def 함수 (x):\n",
        "    print(x, ll[x])\n",
        "    return ll[x]\n",
        "l = [2,4,5,3,6,0,7,1]\n",
        "ll = [10,20,30,40,50,60,70,80]\n",
        "max(l, key=함수)"
      ],
      "metadata": {
        "colab": {
          "base_uri": "https://localhost:8080/"
        },
        "id": "rRVAIbTajd-x",
        "outputId": "07bb3c20-ecfc-4a29-f3fa-fe5d9b2066bd"
      },
      "execution_count": null,
      "outputs": [
        {
          "output_type": "stream",
          "name": "stdout",
          "text": [
            "2 30\n",
            "4 50\n",
            "5 60\n",
            "3 40\n",
            "6 70\n",
            "0 10\n",
            "7 80\n",
            "1 20\n"
          ]
        },
        {
          "output_type": "execute_result",
          "data": {
            "text/plain": [
              "7"
            ]
          },
          "metadata": {},
          "execution_count": 5
        }
      ]
    },
    {
      "cell_type": "code",
      "source": [
        "def 함수(x):\n",
        "    print(x, len(ll[x]))\n",
        "    return len(ll[x])\n",
        "\n",
        "l = [2, 4, 5, 3, 6, 0, 7, 1]\n",
        "ll = ['hello', 'a', 'bb', 'ccc', 'a', 'bbbb', 'hello world', 'cc']\n",
        "# 글자수 반환 [2]가 들어가면 'bb' 글자수 반환\n",
        "max(l, key=함수)"
      ],
      "metadata": {
        "colab": {
          "base_uri": "https://localhost:8080/"
        },
        "id": "dpImC3kFk2dG",
        "outputId": "9bbb43f3-bd4f-436d-d473-9d13a6e7bb73"
      },
      "execution_count": null,
      "outputs": [
        {
          "output_type": "stream",
          "name": "stdout",
          "text": [
            "2 2\n",
            "4 1\n",
            "5 4\n",
            "3 3\n",
            "6 11\n",
            "0 5\n",
            "7 2\n",
            "1 1\n"
          ]
        },
        {
          "output_type": "execute_result",
          "data": {
            "text/plain": [
              "6"
            ]
          },
          "metadata": {},
          "execution_count": 6
        }
      ]
    },
    {
      "cell_type": "code",
      "source": [
        "def 함수(x): #('test1')\n",
        "    return d.get(x) # max(d)에 있는 키 값이 순회\n",
        "#('test1')\n",
        "d = {\n",
        "      'test1': 10,\n",
        "      'test2': 20,\n",
        "      'test3': 31,\n",
        "      'test4': 11,\n",
        "}\n",
        "\n",
        "max(d, key=d.get)\n",
        "# max(d, key=lambda x: d[x])\n",
        "\n",
        "max(d, key=lambda x: d[x])"
      ],
      "metadata": {
        "colab": {
          "base_uri": "https://localhost:8080/",
          "height": 36
        },
        "id": "gqSpOjCrlt7L",
        "outputId": "7d2ac790-5a99-4148-f7ed-132c4c3f14df"
      },
      "execution_count": null,
      "outputs": [
        {
          "output_type": "execute_result",
          "data": {
            "text/plain": [
              "'test3'"
            ],
            "application/vnd.google.colaboratory.intrinsic+json": {
              "type": "string"
            }
          },
          "metadata": {},
          "execution_count": 4
        }
      ]
    },
    {
      "cell_type": "code",
      "source": [
        "def 함수(x):\n",
        "    return d.get(x)\n",
        "d= {\n",
        "    'test1': 10,\n",
        "    'test2': 20,\n",
        "    'test3': 31,\n",
        "    'test4': 11,\n",
        "}\n",
        "\n",
        "max(d, key=lambda x: d[x])"
      ],
      "metadata": {
        "colab": {
          "base_uri": "https://localhost:8080/",
          "height": 36
        },
        "id": "UmA6FFbMTXBT",
        "outputId": "603c12d8-0bf8-41e2-dd14-f71ceed7cef8"
      },
      "execution_count": null,
      "outputs": [
        {
          "output_type": "execute_result",
          "data": {
            "text/plain": [
              "'test3'"
            ],
            "application/vnd.google.colaboratory.intrinsic+json": {
              "type": "string"
            }
          },
          "metadata": {},
          "execution_count": 3
        }
      ]
    },
    {
      "cell_type": "code",
      "source": [
        "# get 개념 잡고가기 get은 키를 호출 \n",
        "cabinet = {3:\"유재석\", 100:\"김태호\"}\n",
        "print(cabinet[3])\n",
        "print(cabinet.get(3))"
      ],
      "metadata": {
        "colab": {
          "base_uri": "https://localhost:8080/"
        },
        "id": "6kzLOuzdQPqi",
        "outputId": "e3179c20-e653-4909-8f00-6d70f61961b7"
      },
      "execution_count": null,
      "outputs": [
        {
          "output_type": "stream",
          "name": "stdout",
          "text": [
            "유재석\n",
            "유재석\n"
          ]
        }
      ]
    },
    {
      "cell_type": "code",
      "source": [
        "cabinet = {\"유재석\":3, \"김태호\":100}\n",
        "print(cabinet.get(\"김태호\"))"
      ],
      "metadata": {
        "colab": {
          "base_uri": "https://localhost:8080/"
        },
        "id": "OOMldudUaEMH",
        "outputId": "c920dabd-cc66-4a02-b126-79c7ec094a54"
      },
      "execution_count": null,
      "outputs": [
        {
          "output_type": "stream",
          "name": "stdout",
          "text": [
            "100\n"
          ]
        }
      ]
    },
    {
      "cell_type": "code",
      "source": [
        "# 리턴에 초점을 맞춰주세요 \n",
        "def 함수(x):\n",
        "    return len(x)\n",
        "l = ['a','bb','ccc','dd']\n",
        "max(l, key=함수)\n",
        "max(l, key=lambda x: len(x))"
      ],
      "metadata": {
        "colab": {
          "base_uri": "https://localhost:8080/",
          "height": 36
        },
        "id": "1a2VbDrxmjTL",
        "outputId": "a0e154a5-5b4f-4d5b-d578-7039363fae58"
      },
      "execution_count": null,
      "outputs": [
        {
          "output_type": "execute_result",
          "data": {
            "text/plain": [
              "'ccc'"
            ],
            "application/vnd.google.colaboratory.intrinsic+json": {
              "type": "string"
            }
          },
          "metadata": {},
          "execution_count": 8
        }
      ]
    },
    {
      "cell_type": "code",
      "source": [
        "def 함수(x):\n",
        "    return len(x)\n",
        "l = ['a','bb','ccc','dd']\n",
        "max(l, key=lambda x: len(x))"
      ],
      "metadata": {
        "colab": {
          "base_uri": "https://localhost:8080/",
          "height": 36
        },
        "id": "5bw6K2zIY0Sr",
        "outputId": "57210828-9e07-4aaf-8b7c-93489ab59766"
      },
      "execution_count": null,
      "outputs": [
        {
          "output_type": "execute_result",
          "data": {
            "text/plain": [
              "'ccc'"
            ],
            "application/vnd.google.colaboratory.intrinsic+json": {
              "type": "string"
            }
          },
          "metadata": {},
          "execution_count": 9
        }
      ]
    },
    {
      "cell_type": "code",
      "source": [
        "# return에 초점을 맞추세요\n",
        "def 함수(x): \n",
        "    return d.get(x)\n",
        "수학 = {\n",
        "      '학생1': 10,\n",
        "      '학생2': 20,\n",
        "      '학생3': 31,\n",
        "      '학생4': 11,\n",
        "}\n",
        "\n",
        "과학 = {\n",
        "      '학생1': 11,\n",
        "      '학생2': 17,\n",
        "      '학생3': 13,\n",
        "      '학생4': 11,\n",
        "      '학생5': 25,\n",
        "      '학생6': 100,\n",
        "\n",
        "}\n",
        "수학점수가가장큰사람 = max(수학, key=수학.get)\n",
        "과학점수가가장큰사람 = max(과학, key=과학.get)\n",
        "max(수학, key=과학.get)"
      ],
      "metadata": {
        "colab": {
          "base_uri": "https://localhost:8080/",
          "height": 36
        },
        "id": "D2fNSgIRnRZJ",
        "outputId": "d1229ca7-5a30-4869-a93c-cb23829495e9"
      },
      "execution_count": null,
      "outputs": [
        {
          "output_type": "execute_result",
          "data": {
            "text/plain": [
              "'학생2'"
            ],
            "application/vnd.google.colaboratory.intrinsic+json": {
              "type": "string"
            }
          },
          "metadata": {},
          "execution_count": 10
        }
      ]
    },
    {
      "cell_type": "code",
      "source": [
        "def 함수(x): \n",
        "    return d.get(x)\n",
        "수학 = {\n",
        "      '학생1': 10,\n",
        "      '학생2': 20,\n",
        "      '학생3': 31,\n",
        "      '학생4': 11,\n",
        "}\n",
        "\n",
        "과학 = {\n",
        "      '학생1': 11,\n",
        "      '학생2': 17,\n",
        "      '학생3': 13,\n",
        "      '학생4': 11,\n",
        "      '학생5': 25,\n",
        "      '학생6': 100,\n",
        "\n",
        "}\n",
        "\n",
        "max(수학, key=수학.get)\n",
        "max(과학, key=과학.get)\n",
        "max(수학, key=과학.get)"
      ],
      "metadata": {
        "colab": {
          "base_uri": "https://localhost:8080/",
          "height": 36
        },
        "id": "QHeN6oiYc_k0",
        "outputId": "5278091e-5bf9-4a22-a3ae-c5b60f3e554a"
      },
      "execution_count": null,
      "outputs": [
        {
          "output_type": "execute_result",
          "data": {
            "text/plain": [
              "'학생2'"
            ],
            "application/vnd.google.colaboratory.intrinsic+json": {
              "type": "string"
            }
          },
          "metadata": {},
          "execution_count": 29
        }
      ]
    },
    {
      "cell_type": "markdown",
      "source": [
        "##(질의응답) 함수의 아규먼트 순서"
      ],
      "metadata": {
        "id": "vyee9UI7i-l9"
      }
    },
    {
      "cell_type": "code",
      "source": [
        "def f(a, b, c):\n",
        "    print(a, b, c)\n",
        "\n",
        "# f() # error\n",
        "# f(100, 10) # error\n",
        "f(a=100, b=200, c=300)\n",
        "f(c=300, a=100, b=200) # 실무에서 이렇게 순서를 바꿔서 넣지 않고 보통 순서를 지켜줍니다.\n",
        "\n",
        "# 실무에서 언제 사용이 될까요 ?\n",
        "# 파라미터, 아규먼츠가 매우 많을 때 \n",
        "# 이런 함수가 나오면 이 함수가 무엇을 뜻하는 것일까요?\n",
        "# addNewControl(\"Title\",20,50,100,50,200,300,150)\n",
        "# addNewControl(\"Title\",height=20, width=50, textlen=100, ...)\n",
        "# 어? 컨트롤 박스를 만드는 구나... \n"
      ],
      "metadata": {
        "id": "dE98jxWSprH_"
      },
      "execution_count": null,
      "outputs": []
    },
    {
      "cell_type": "code",
      "source": [
        "def f(a=10, b=20, c=30):\n",
        "    print(a, b, c)\n",
        "\n",
        "f() \n",
        "f(100, 10) \n",
        "f(a=100, b=200, c=300)\n",
        "f(c=300, a=100, b=200)"
      ],
      "metadata": {
        "colab": {
          "base_uri": "https://localhost:8080/"
        },
        "id": "cPEMyK6_rPgl",
        "outputId": "598d9918-61b9-49be-f1f9-ab49bb23fe5d"
      },
      "execution_count": null,
      "outputs": [
        {
          "output_type": "stream",
          "name": "stdout",
          "text": [
            "10 20 30\n",
            "100 10 30\n",
            "100 200 300\n",
            "100 200 300\n"
          ]
        }
      ]
    },
    {
      "cell_type": "code",
      "source": [
        "def f(a=10, b=20, c): # c만 default value를 안주게 되면 error, 순서대로 안주어야 합니다.\n",
        "    print(a, b, c)\n",
        "\n",
        "# f() # error\n",
        "# f(100, 10) # error\n",
        "# f(a=100, b=200, c=300) # error\n",
        "# f(c=300, a=100, b=200) # error\n",
        "# f(c=300)# error 에러를 줄거면 'a' 순서부터 주어야 한다.\n"
      ],
      "metadata": {
        "id": "paW8fMDorn97"
      },
      "execution_count": null,
      "outputs": []
    },
    {
      "cell_type": "code",
      "source": [
        "def f(a, b=20, c=10): # 순서대로 안주어야 하기 때문에 a에 값을 넣지 않았습니다.\n",
        "    print(a, b, c)\n",
        "\n",
        "# f() # error\n",
        "f(100, 10)\n",
        "f(a=100, b=200, c=300)\n",
        "f(c=300, a=100, b=200)"
      ],
      "metadata": {
        "colab": {
          "base_uri": "https://localhost:8080/"
        },
        "id": "9nqStX7KsA60",
        "outputId": "058d3573-2638-4202-9fba-d620c7f9364a"
      },
      "execution_count": null,
      "outputs": [
        {
          "output_type": "stream",
          "name": "stdout",
          "text": [
            "100 10 10\n",
            "100 200 300\n",
            "100 200 300\n"
          ]
        }
      ]
    },
    {
      "cell_type": "markdown",
      "source": [
        "## (질의응답)zip, map 등 한 번 순회가 되면 순회가 안되는 이유"
      ],
      "metadata": {
        "id": "j-6SjkjWiw9Y"
      }
    },
    {
      "cell_type": "code",
      "source": [
        "a = [1, 2, 3]\n",
        "b = ['a', 'b', 'c']\n",
        "\n",
        "z = zip(a, b)\n",
        "print(list(z)) # [(1, 'a'), (2, 'b'), (3, 'c')]\n",
        "\n",
        "# zip 객체는 한 번 사용되었으므로 빈 리스트가 반환됩니다.\n",
        "print(list(z)) # []"
      ],
      "metadata": {
        "colab": {
          "base_uri": "https://localhost:8080/"
        },
        "id": "IqiLlZ1rvfwE",
        "outputId": "59f2e671-40b4-43a8-dc16-f956c80f968a"
      },
      "execution_count": null,
      "outputs": [
        {
          "output_type": "stream",
          "name": "stdout",
          "text": [
            "[(1, 'a'), (2, 'b'), (3, 'c')]\n",
            "[]\n"
          ]
        }
      ]
    },
    {
      "cell_type": "code",
      "source": [
        "a = [1, 2, 3]\n",
        "b = ['a', 'b', 'c']\n",
        "z = zip(a,b)\n",
        "print(list(z))"
      ],
      "metadata": {
        "colab": {
          "base_uri": "https://localhost:8080/"
        },
        "id": "3aDQA7Aoe2te",
        "outputId": "b8a2ea7b-5e22-4720-9179-3c28cf736066"
      },
      "execution_count": null,
      "outputs": [
        {
          "output_type": "stream",
          "name": "stdout",
          "text": [
            "[(1, 'a'), (2, 'b'), (3, 'c')]\n",
            "[]\n"
          ]
        }
      ]
    },
    {
      "cell_type": "code",
      "source": [
        "li = [1, 2, 3]\n",
        "st = ['a', 'b', 'c']\n",
        "z = zip(li, st)\n",
        "\n",
        "for i in z:\n",
        "    print(i)\n",
        "\n",
        "for i in z:\n",
        "    print(i)"
      ],
      "metadata": {
        "colab": {
          "base_uri": "https://localhost:8080/"
        },
        "id": "PfNejCbXv0od",
        "outputId": "14c80f4a-4b67-42e1-c896-eeb5e7ed464a"
      },
      "execution_count": null,
      "outputs": [
        {
          "output_type": "stream",
          "name": "stdout",
          "text": [
            "(1, 'a')\n",
            "(2, 'b')\n",
            "(3, 'c')\n"
          ]
        }
      ]
    },
    {
      "cell_type": "code",
      "source": [
        "li = [1, 2, 3]\n",
        "st = ['a', 'b', 'c']\n",
        "z = zip(li,st)\n",
        "for i in z:\n",
        "    print(i)"
      ],
      "metadata": {
        "colab": {
          "base_uri": "https://localhost:8080/"
        },
        "id": "SkOXmLoBfUXQ",
        "outputId": "36ad5186-9141-42c7-fbc1-a965563b4044"
      },
      "execution_count": null,
      "outputs": [
        {
          "output_type": "stream",
          "name": "stdout",
          "text": [
            "(1, 'a')\n",
            "(2, 'b')\n",
            "(3, 'c')\n"
          ]
        }
      ]
    },
    {
      "cell_type": "code",
      "source": [
        "li = [1, 2, 3]\n",
        "st = ['a', 'b', 'c']\n",
        "i = iter(zip(li,st))\n",
        "next(i)\n",
        "# iter - next 내장함수"
      ],
      "metadata": {
        "colab": {
          "base_uri": "https://localhost:8080/"
        },
        "id": "7z7mvTcsfu_b",
        "outputId": "70b67fff-be40-47d3-9caf-a9919a4dc665"
      },
      "execution_count": null,
      "outputs": [
        {
          "output_type": "execute_result",
          "data": {
            "text/plain": [
              "(1, 'a')"
            ]
          },
          "metadata": {},
          "execution_count": 46
        }
      ]
    },
    {
      "cell_type": "code",
      "source": [
        "li = [1, 2, 3]\n",
        "z = map(lambda x:x**2, li)\n",
        "\n",
        "for i in z:\n",
        "    print(i)\n",
        "\n",
        "for i in z:\n",
        "    print(i)"
      ],
      "metadata": {
        "colab": {
          "base_uri": "https://localhost:8080/"
        },
        "id": "HjA8251iwlPi",
        "outputId": "e288c61c-416e-4fb7-c9f4-2e80ed9fb132"
      },
      "execution_count": null,
      "outputs": [
        {
          "output_type": "stream",
          "name": "stdout",
          "text": [
            "1\n",
            "4\n",
            "9\n"
          ]
        }
      ]
    },
    {
      "cell_type": "code",
      "source": [
        "li = [1,2,3]\n",
        "z = map(lambda x: x**2, li)\n",
        "for i in z:\n",
        "    print(i)"
      ],
      "metadata": {
        "colab": {
          "base_uri": "https://localhost:8080/"
        },
        "id": "LvsCAvd-gasW",
        "outputId": "3b2a0ca3-c4d6-43ef-9d71-90865ffc3649"
      },
      "execution_count": null,
      "outputs": [
        {
          "output_type": "stream",
          "name": "stdout",
          "text": [
            "1\n",
            "4\n",
            "9\n"
          ]
        }
      ]
    },
    {
      "cell_type": "code",
      "source": [
        "li = [1, 2, 3]\n",
        "z = reversed(li)\n",
        "\n",
        "for i in z:\n",
        "    print(i)\n",
        "\n",
        "for i in z:\n",
        "    print(i)"
      ],
      "metadata": {
        "colab": {
          "base_uri": "https://localhost:8080/"
        },
        "id": "dfvb2xRpwsl4",
        "outputId": "dcec149b-8b89-470b-bbdd-c65a8510407c"
      },
      "execution_count": null,
      "outputs": [
        {
          "output_type": "stream",
          "name": "stdout",
          "text": [
            "3\n",
            "2\n",
            "1\n"
          ]
        }
      ]
    },
    {
      "cell_type": "code",
      "source": [
        "li = [1, 2, 3]\n",
        "z = filter(lambda x:x>1, li)\n",
        "\n",
        "for i in z:\n",
        "    print(i)\n",
        "\n",
        "for i in z:\n",
        "    print(i)"
      ],
      "metadata": {
        "colab": {
          "base_uri": "https://localhost:8080/"
        },
        "id": "QJFOk6Pxw1eS",
        "outputId": "c87919f0-7487-43dd-87d5-c3d565b51b5b"
      },
      "execution_count": null,
      "outputs": [
        {
          "output_type": "stream",
          "name": "stdout",
          "text": [
            "2\n",
            "3\n"
          ]
        }
      ]
    },
    {
      "cell_type": "code",
      "source": [
        "# 계속 순회가 가능하게 설계가 되어 있습니다. # sorted 순회 가능 \n",
        "# 이런 설계를 뒤에서 우리가 직접 해보게 될 것입니다. \n",
        "li = [1, 2, 3]\n",
        "z = sorted(li)\n",
        "\n",
        "for i in z:\n",
        "    print(i)\n",
        "\n",
        "for i in z:\n",
        "    print(i)"
      ],
      "metadata": {
        "colab": {
          "base_uri": "https://localhost:8080/"
        },
        "id": "-douwB8vw3dQ",
        "outputId": "c6a0141b-39b4-48ab-e514-111b200e42ce"
      },
      "execution_count": null,
      "outputs": [
        {
          "output_type": "stream",
          "name": "stdout",
          "text": [
            "1\n",
            "2\n",
            "3\n",
            "1\n",
            "2\n",
            "3\n"
          ]
        }
      ]
    },
    {
      "cell_type": "markdown",
      "source": [
        "## 조건문"
      ],
      "metadata": {
        "id": "vDS5hxlXxdO8"
      }
    },
    {
      "cell_type": "markdown",
      "source": [
        "* if, elif, else, continue, break"
      ],
      "metadata": {
        "id": "021r7BUgxfLc"
      }
    },
    {
      "cell_type": "code",
      "source": [
        "x = 2\n",
        "if x > 1  and x < 10:\n",
        "    print('Hello')"
      ],
      "metadata": {
        "colab": {
          "base_uri": "https://localhost:8080/"
        },
        "id": "X1TX2qMszHg0",
        "outputId": "b98f3228-4dba-45ea-c78b-153ab95ded7e"
      },
      "execution_count": null,
      "outputs": [
        {
          "output_type": "stream",
          "name": "stdout",
          "text": [
            "Hello\n"
          ]
        }
      ]
    },
    {
      "cell_type": "code",
      "source": [
        "if True:\n",
        "    print('hello')"
      ],
      "metadata": {
        "id": "qzNGdYHMzZWd"
      },
      "execution_count": null,
      "outputs": []
    },
    {
      "cell_type": "code",
      "source": [
        "if 12309:\n",
        "    print('hello')"
      ],
      "metadata": {
        "id": "3xyEJ4HlzcjD"
      },
      "execution_count": null,
      "outputs": []
    },
    {
      "cell_type": "code",
      "source": [
        "def f():\n",
        "    return False #True와 False로 바꿔보세요 \n",
        "\n",
        "if f():\n",
        "    print('hello')\n",
        "    print('one')\n",
        "print('two') # False면 if 밖에 있는 print('two')만 출력"
      ],
      "metadata": {
        "id": "oc1jcduhzgIq"
      },
      "execution_count": null,
      "outputs": []
    },
    {
      "cell_type": "code",
      "source": [
        "if '': #{},{},''는 모두 False 취급 합니다.\n",
        "    print('hello')\n",
        "    print('one')\n",
        "print('two') # if 함수가 ''공백이어서 two만 출력"
      ],
      "metadata": {
        "id": "BKSlYGCI0B9N"
      },
      "execution_count": null,
      "outputs": []
    },
    {
      "cell_type": "code",
      "source": [
        "if ' ': # 공백이 있음 True\n",
        "    print('hello')\n",
        "    print('one')\n",
        "print('two')"
      ],
      "metadata": {
        "id": "iO1iBaPz0Mh3",
        "colab": {
          "base_uri": "https://localhost:8080/"
        },
        "outputId": "3358d258-5c68-4cf9-ef03-3343ab8a6cac"
      },
      "execution_count": null,
      "outputs": [
        {
          "output_type": "stream",
          "name": "stdout",
          "text": [
            "hello\n",
            "one\n",
            "two\n"
          ]
        }
      ]
    },
    {
      "cell_type": "code",
      "source": [
        "if [              ]: #False \n",
        "    print('hello')\n",
        "    print('one')\n",
        "print('two')"
      ],
      "metadata": {
        "id": "-Ap-dYcH0VRd",
        "colab": {
          "base_uri": "https://localhost:8080/"
        },
        "outputId": "653fd972-ce91-4af2-b5d3-8d8c98f2093c"
      },
      "execution_count": null,
      "outputs": [
        {
          "output_type": "stream",
          "name": "stdout",
          "text": [
            "two\n"
          ]
        }
      ]
    },
    {
      "cell_type": "code",
      "source": [
        "if [.]: # SyntaxError\n",
        "    print('hello')\n",
        "    print('one')\n",
        "print('two')"
      ],
      "metadata": {
        "id": "xkXMQKHH0ZXx"
      },
      "execution_count": null,
      "outputs": []
    },
    {
      "cell_type": "code",
      "source": [
        "if [10,\n",
        "    20,\n",
        "    30, # 마지막 콤마는 허락합니다! 소괄호, 중괄호, 대괄호에 콤마 뒤에오는 공백은 병합한다\n",
        "    ]: \n",
        "    print('hello')\n",
        "    print('one')\n",
        "print('two')"
      ],
      "metadata": {
        "id": "-01T7YI60ivi",
        "colab": {
          "base_uri": "https://localhost:8080/"
        },
        "outputId": "f298adc2-8a37-45f2-a010-67fa810301e4"
      },
      "execution_count": null,
      "outputs": [
        {
          "output_type": "stream",
          "name": "stdout",
          "text": [
            "hello\n",
            "one\n",
            "two\n"
          ]
        }
      ]
    },
    {
      "cell_type": "code",
      "source": [
        "if None:\n",
        "    print('false')"
      ],
      "metadata": {
        "id": "lozirBzT2apb"
      },
      "execution_count": null,
      "outputs": []
    },
    {
      "cell_type": "code",
      "source": [
        "class int(int):\n",
        "    def __eq__(self, next): # eq면 다 true로 만들어줌 \n",
        "        return True\n",
        "\n",
        "if int('11') == int('10'):\n",
        "    print('hello')"
      ],
      "metadata": {
        "id": "610cK_rY1YdW",
        "colab": {
          "base_uri": "https://localhost:8080/"
        },
        "outputId": "8e805f29-e7a6-4345-d815-31d0d1097550"
      },
      "execution_count": null,
      "outputs": [
        {
          "output_type": "stream",
          "name": "stdout",
          "text": [
            "hello\n"
          ]
        }
      ]
    },
    {
      "cell_type": "code",
      "source": [
        "if 10 > 11:\n",
        "    print('one')\n",
        "    print('two')\n",
        "else: \n",
        "    print('three')"
      ],
      "metadata": {
        "id": "TH53KFFh2xGP",
        "colab": {
          "base_uri": "https://localhost:8080/"
        },
        "outputId": "9420c03d-9cfb-459c-bf93-38d9c1024d69"
      },
      "execution_count": null,
      "outputs": [
        {
          "output_type": "stream",
          "name": "stdout",
          "text": [
            "three\n"
          ]
        }
      ]
    },
    {
      "cell_type": "code",
      "source": [
        "# else가 없어도 되는 경우\n",
        "def f():\n",
        "    if 10 > 11:\n",
        "        return 'one'\n",
        "    return 'two' # false여서 two출력?\n",
        "\n",
        "print(f())"
      ],
      "metadata": {
        "id": "TPPF1ECl3NyD",
        "colab": {
          "base_uri": "https://localhost:8080/"
        },
        "outputId": "fcf7236a-a846-4771-9849-ad89d2a59038"
      },
      "execution_count": null,
      "outputs": [
        {
          "output_type": "stream",
          "name": "stdout",
          "text": [
            "two\n"
          ]
        }
      ]
    },
    {
      "cell_type": "code",
      "source": [
        "def f():\n",
        "    if 10 > 11:\n",
        "        return 'one'\n",
        "    return 'two'\n",
        "print(f())"
      ],
      "metadata": {
        "colab": {
          "base_uri": "https://localhost:8080/"
        },
        "id": "S9vlJM0EFek6",
        "outputId": "4eab277f-af84-4d62-d15e-e81c14ca0dc9"
      },
      "execution_count": null,
      "outputs": [
        {
          "output_type": "stream",
          "name": "stdout",
          "text": [
            "two\n"
          ]
        }
      ]
    },
    {
      "cell_type": "code",
      "source": [
        "# 여러개의 if문을 단축할 수 있는 방법 =>\n",
        "# 가독성이 좋아지는 것을 선택하세요 ! \n",
        "# and구문으로 if를 합칠 수 있다. \n",
        "x = 10\n",
        "if x >5:\n",
        "    if type(x) == int:\n",
        "        print('one')\n",
        "# 위의 코드를 한줄로 나타낸것 ! \n",
        "if x > 5 and type(x) == int:\n",
        "    print('one')"
      ],
      "metadata": {
        "id": "D20thGGm3oww"
      },
      "execution_count": null,
      "outputs": []
    },
    {
      "cell_type": "code",
      "source": [
        "x = 10\n",
        "if x >5:\n",
        "    if type(x) == int:\n",
        "        if x % 2 == 0:\n",
        "            print('one')\n",
        "# 위의 코드를 한줄로 나타낸것 ! \n",
        "if x > 5 and type(x) == int and x % 2 == 0:\n",
        "    print('one')"
      ],
      "metadata": {
        "id": "bE6ppRR44Sca"
      },
      "execution_count": null,
      "outputs": []
    },
    {
      "cell_type": "code",
      "source": [
        "## 순서 if , elif, else로 해야함 0-2"
      ],
      "metadata": {
        "id": "q-EwMYrg5eS-"
      },
      "execution_count": null,
      "outputs": []
    },
    {
      "cell_type": "code",
      "source": [
        "if True:\n",
        "    print('hello')\n",
        "if True:\n",
        "    print('hello')\n",
        "if True:\n",
        "    print('hello')\n",
        "else:\n",
        "    print('hello')"
      ],
      "metadata": {
        "id": "_0REiS2Q5rfD"
      },
      "execution_count": null,
      "outputs": []
    },
    {
      "cell_type": "code",
      "source": [
        "if True:\n",
        "    print('hello')\n",
        "elif True:\n",
        "    print('hello')\n",
        "elif True:\n",
        "    print('hello')\n",
        "else:\n",
        "    print('hello')"
      ],
      "metadata": {
        "id": "ZmvonU4o5r0m"
      },
      "execution_count": null,
      "outputs": []
    },
    {
      "cell_type": "code",
      "source": [
        "elif True: # error 위에 구문이 있어야 합니다.\n",
        "    print('hello')\n",
        "elif True:\n",
        "    print('hello')\n",
        "else:\n",
        "    print('hello')"
      ],
      "metadata": {
        "id": "kcerY42q5ttf"
      },
      "execution_count": null,
      "outputs": []
    },
    {
      "cell_type": "code",
      "source": [
        "score = 81\n",
        "money = 0\n",
        "\n",
        "if score >= 90: # 만약에 조건이 참이라면\n",
        "    print('mom : i\\'m so happy!')\n",
        "    money += 1000000\n",
        "elif score >= 80: # 그렇지 않고 만약에 조건이 참이라면\n",
        "    print('mom : i\\'m happy!')\n",
        "    money += 100000\n",
        "elif score >= 70: # '그렇지 않고 만약에'에서 '그렇지 않고'가 만족이 안되기 때문에 실행이 안됨 \n",
        "    print('mom : i\\'m so...!')\n",
        "    money += 10000\n",
        "elif score >= 60:\n",
        "    print('mom : i\\'m so...!')\n",
        "    money += 1000\n",
        "else:\n",
        "    print('mom : i\\'m...!')\n",
        "print(money)\n",
        "# if, elif, else구문은 함께 썼다면 한 덩어리가 되어\n",
        "# 하나만 실행이 되고 나머지는 실행이 되지 않습니다. "
      ],
      "metadata": {
        "id": "EzCgHqZexs1Q",
        "colab": {
          "base_uri": "https://localhost:8080/"
        },
        "outputId": "1bc51c3d-f376-4f34-eacd-c2e44183c20f"
      },
      "execution_count": null,
      "outputs": [
        {
          "output_type": "stream",
          "name": "stdout",
          "text": [
            "mom : i'm happy!\n",
            "100000\n"
          ]
        }
      ]
    },
    {
      "cell_type": "code",
      "source": [
        "# ctrl + m, m 누르시면 코드블록이 마크다운 블록이 된다.\n",
        "# ctrl + m, Y 누르시면 마크다운이 코드 블록이 된다."
      ],
      "metadata": {
        "id": "CMjJDdHE5-P1"
      },
      "execution_count": null,
      "outputs": []
    },
    {
      "cell_type": "markdown",
      "source": [
        "## if 심화"
      ],
      "metadata": {
        "id": "bgMzfn6g50Wg"
      }
    },
    {
      "cell_type": "code",
      "source": [
        "# 저는 개인적으로 해당 문법이 가독성을 떨어트린다 라고 생각해서 \n",
        "# 권장하진 않는다.\n",
        "if 10 > 5: print('hello') # 1줄에 사용하는 것이 가능합니다."
      ],
      "metadata": {
        "id": "Uu6zZQOL532D"
      },
      "execution_count": null,
      "outputs": []
    },
    {
      "cell_type": "code",
      "source": [
        "if 1 > 5 : print('hello')\n",
        "elif 5 > 1: print('world')"
      ],
      "metadata": {
        "id": "XYYBVNwr8tSf"
      },
      "execution_count": null,
      "outputs": []
    },
    {
      "cell_type": "code",
      "source": [
        "if 1 > 5 : print('hello')\n",
        "elif 1 > 5: print('world')\n",
        "else: print('hello world')"
      ],
      "metadata": {
        "id": "lI12rREf83yM",
        "colab": {
          "base_uri": "https://localhost:8080/"
        },
        "outputId": "c9578354-3efa-43c1-bada-e605f8476844"
      },
      "execution_count": null,
      "outputs": [
        {
          "output_type": "stream",
          "name": "stdout",
          "text": [
            "hello world\n"
          ]
        }
      ]
    },
    {
      "cell_type": "code",
      "source": [
        "# 3항 연산자는 가독성을 해치지 않는 선에서 많이 사용한다. \n",
        "(print('one')if 5 > 1 else print('two')) # 괄호로 마지막에 닫아둬야 가독성이 좋음"
      ],
      "metadata": {
        "id": "lqnamqt49LyE",
        "colab": {
          "base_uri": "https://localhost:8080/"
        },
        "outputId": "bf9eb926-a3db-4166-e7b3-f58184298d84"
      },
      "execution_count": null,
      "outputs": [
        {
          "output_type": "stream",
          "name": "stdout",
          "text": [
            "one\n"
          ]
        }
      ]
    },
    {
      "cell_type": "code",
      "source": [
        "if 5 > 1 print('one') else print('two') # error 이렇게 사용하지 않는다\n",
        "# 3항 연산자는 print가 앞에 옴"
      ],
      "metadata": {
        "id": "pQNp_dTG9vLc"
      },
      "execution_count": null,
      "outputs": []
    },
    {
      "cell_type": "code",
      "source": [
        "if 5 > 1:\n",
        "    print('one')\n",
        "else:\n",
        "     print('two')"
      ],
      "metadata": {
        "id": "A43hZxx099b_"
      },
      "execution_count": null,
      "outputs": []
    },
    {
      "cell_type": "code",
      "source": [
        "# 할당이나 return에서 많이 사용합니다.\n",
        "# 할당이나 return을 할 때 어떤 조건을 달고 싶을 때 \n",
        "# 그런데 일반 if문과 else문 거창하다고 생각이 되었을 때 \n",
        "y = 100\n",
        "x = 'one' if y > 80 else None\n",
        "x"
      ],
      "metadata": {
        "id": "IAwAnAfm-JWh",
        "colab": {
          "base_uri": "https://localhost:8080/",
          "height": 36
        },
        "outputId": "1d25ff5c-ca29-4b49-c9c2-58b4a5aafe83"
      },
      "execution_count": null,
      "outputs": [
        {
          "output_type": "execute_result",
          "data": {
            "text/plain": [
              "'one'"
            ],
            "application/vnd.google.colaboratory.intrinsic+json": {
              "type": "string"
            }
          },
          "metadata": {},
          "execution_count": 75
        }
      ]
    },
    {
      "cell_type": "code",
      "source": [
        "def f(y):\n",
        "    if y > 80:\n",
        "        x = 'one'\n",
        "    else:\n",
        "        x = None\n",
        "    return x\n",
        "    \n",
        "print(f(100))\n",
        "print(f(30))"
      ],
      "metadata": {
        "id": "A11wLUzA-xeE",
        "colab": {
          "base_uri": "https://localhost:8080/"
        },
        "outputId": "e741d259-6f2e-4892-ff5e-8feb9ffdbd0d"
      },
      "execution_count": null,
      "outputs": [
        {
          "output_type": "stream",
          "name": "stdout",
          "text": [
            "one\n",
            "None\n"
          ]
        }
      ]
    },
    {
      "cell_type": "code",
      "source": [
        "# 3항 연산자\n",
        "def f(y):\n",
        "    return 'one' if y > 80 else None\n",
        "    \n",
        "print(f(100))\n",
        "print(f(30))"
      ],
      "metadata": {
        "id": "mQhkWotO_L3f"
      },
      "execution_count": null,
      "outputs": []
    },
    {
      "cell_type": "code",
      "source": [
        "def f(y):\n",
        "    if y > 80:\n",
        "        return one\n",
        "    return None\n",
        "    \n",
        "print(f(100))\n",
        "print(f(30))"
      ],
      "metadata": {
        "id": "qN19adZG_jar"
      },
      "execution_count": null,
      "outputs": []
    },
    {
      "cell_type": "code",
      "source": [
        "def f(y):\n",
        "    return 'one' if y > 80 else None\n",
        "\n",
        "print(f(100))\n",
        "print(f(20))"
      ],
      "metadata": {
        "colab": {
          "base_uri": "https://localhost:8080/"
        },
        "id": "M9KtEgSMLwt7",
        "outputId": "f7b4b2d9-6369-4ad4-8164-f7177046962d"
      },
      "execution_count": null,
      "outputs": [
        {
          "output_type": "stream",
          "name": "stdout",
          "text": [
            "one\n",
            "None\n"
          ]
        }
      ]
    },
    {
      "cell_type": "code",
      "source": [
        "def custom_sum(x):\n",
        "    return sum(x)\n",
        "\n",
        "custom_sum([1,2,3,4,5,6]) # 21\n",
        "custom_sum([1,2,3,4,'5',6]) #float('inf')"
      ],
      "metadata": {
        "id": "ZirlOz9t_vCt"
      },
      "execution_count": null,
      "outputs": []
    },
    {
      "cell_type": "code",
      "source": [
        "# 이해를 위해 만든 예제이지 효율적이진 않습니다.\n",
        "def custom_sum(li):\n",
        "    return sum(li) if len(list(filter(lambda x:type(x)==int, li))) == len(li) else float('inf')\n",
        "\n",
        "custom_sum([1, 2, 3, 4, 5, 6]) # 21\n",
        "custom_sum([1, 2, 3, 4, '5', 6]) # float('inf')"
      ],
      "metadata": {
        "colab": {
          "base_uri": "https://localhost:8080/"
        },
        "id": "srNbnwYaMKF2",
        "outputId": "40257929-27cf-49a9-b277-a5e287032b10"
      },
      "execution_count": null,
      "outputs": [
        {
          "output_type": "execute_result",
          "data": {
            "text/plain": [
              "inf"
            ]
          },
          "metadata": {},
          "execution_count": 82
        }
      ]
    },
    {
      "cell_type": "code",
      "source": [
        "def custom_sum(x):\n",
        "    return sum(x) if len(list(filter(lambda x:type(x)==int, x))) == len(x) else float('inf')\n",
        "\n",
        "custom_sum([1,2,3,4,5,6]) # 21\n",
        "custom_sum([1,2,3,4,'5',6]) #float('inf')"
      ],
      "metadata": {
        "id": "hOGn5AvUAV6E"
      },
      "execution_count": null,
      "outputs": []
    },
    {
      "cell_type": "code",
      "source": [
        "l = [1,2,3,'4','5']\n",
        "list(filter(lambda x: type(x) == int, l))\n",
        "len(list(filter(lambda x: type(x) == int, l)))\n",
        "len(l)"
      ],
      "metadata": {
        "id": "xECRnDDUA0ds",
        "colab": {
          "base_uri": "https://localhost:8080/"
        },
        "outputId": "c7b71789-220a-4794-f8c6-43db195bea16"
      },
      "execution_count": null,
      "outputs": [
        {
          "output_type": "execute_result",
          "data": {
            "text/plain": [
              "5"
            ]
          },
          "metadata": {},
          "execution_count": 83
        }
      ]
    },
    {
      "cell_type": "code",
      "source": [
        "l = [1,2,3,'4','5']\n",
        "list(filter(lambda x:type(x)== int,l))\n",
        "len(list(filter(lambda x:type(x)==int,l)))\n",
        "len(l)"
      ],
      "metadata": {
        "colab": {
          "base_uri": "https://localhost:8080/"
        },
        "id": "ofsJGUczNT1X",
        "outputId": "48f7dc32-0338-4f16-b92f-8046b5472e6b"
      },
      "execution_count": null,
      "outputs": [
        {
          "output_type": "execute_result",
          "data": {
            "text/plain": [
              "5"
            ]
          },
          "metadata": {},
          "execution_count": 86
        }
      ]
    },
    {
      "cell_type": "code",
      "source": [
        "# # 문제 : 다음 if문을 3항 연산자로 표현해주세요\n",
        "# if x % 2 ==0:\n",
        "#     홀짝여부 = '짝수'\n",
        "# else:\n",
        "#     홀짝여부 = '홀수'\n",
        "# x = 10\n",
        "# 홀짝여부 = \n",
        "# x = 10\n",
        "# '짝수' if x % 2 == 0 else print '홀수'\n",
        "\n",
        "def f(x):\n",
        "    '짝수' if x % 2 == 0 else print '홀수'\n",
        "f(10)"
      ],
      "metadata": {
        "id": "YUh7_xA1CbeZ"
      },
      "execution_count": null,
      "outputs": []
    },
    {
      "cell_type": "code",
      "source": [
        "# 지금하는 것은 위 보다 빈도도 거의 없습니다.\n",
        "# 3항 연산자의 중첩\n",
        "# '조건1이 True일 때' if '조건1' else '조건1일 False이고 조건2가 True일 때' if '조건2' else '조건1, 조건2가 False일 때'"
      ],
      "metadata": {
        "id": "_6XXu1uJD4BN"
      },
      "execution_count": null,
      "outputs": []
    },
    {
      "cell_type": "code",
      "source": [
        "# '조건1이 True일 때' \n",
        "if '조건1' \n",
        "else '조건1일 False이고 조건2가 True일 때' \n",
        "    if '조건2' \n",
        "    else '조건1, 조건2가 False일 때'"
      ],
      "metadata": {
        "id": "RDUR-SfLESRh"
      },
      "execution_count": null,
      "outputs": []
    },
    {
      "cell_type": "code",
      "source": [
        "x = 15\n",
        "if x % 2 ==0:\n",
        "    배수 = '2X' # 2의 배수\n",
        "elif x % 3 ==0:\n",
        "    배수 = '3X' # 3의 배수\n",
        "else:\n",
        "    배수 = '?' # 2의 배수도 아니고 3의 배수도 아니다 \n",
        "배수"
      ],
      "metadata": {
        "id": "BxsFc-FJEoOA"
      },
      "execution_count": null,
      "outputs": []
    },
    {
      "cell_type": "code",
      "source": [
        "x = 15\n",
        "if x % 2 ==0:\n",
        "    배수 = '2X' # 2의 배수\n",
        "elif x % 3 ==0:\n",
        "    배수 = '3X' # 3의 배수\n",
        "else:\n",
        "    배수 = '?' # 2의 배수도 아니고 3의 배수도 아니다 \n",
        "배수"
      ],
      "metadata": {
        "colab": {
          "base_uri": "https://localhost:8080/",
          "height": 36
        },
        "id": "P0oB4bfxPEk8",
        "outputId": "2d9ace25-950a-44b4-a8ec-bd1f17f0d6a0"
      },
      "execution_count": null,
      "outputs": [
        {
          "output_type": "execute_result",
          "data": {
            "text/plain": [
              "'3X'"
            ],
            "application/vnd.google.colaboratory.intrinsic+json": {
              "type": "string"
            }
          },
          "metadata": {},
          "execution_count": 88
        }
      ]
    },
    {
      "cell_type": "code",
      "source": [
        "x = 15\n",
        "배수 = '2x' if x % 2 ==0 else '3x' if x % 3 ==0 else '?'"
      ],
      "metadata": {
        "id": "Kckhg9dToJM7"
      },
      "execution_count": null,
      "outputs": []
    },
    {
      "cell_type": "code",
      "source": [
        "x = 15\n",
        "배수 = '2X' if x % 2 ==0 else '3X' if x % 3 ==0 else '?'\n",
        "배수"
      ],
      "metadata": {
        "id": "4sMLITiFFJkM"
      },
      "execution_count": null,
      "outputs": []
    },
    {
      "cell_type": "code",
      "source": [
        "x = 15\n",
        "배수 = '2X' if x % 2 ==0 else '3X' if x % 3 ==0 else '?'\n",
        "배수"
      ],
      "metadata": {
        "colab": {
          "base_uri": "https://localhost:8080/",
          "height": 36
        },
        "id": "DXoDz36xQKvw",
        "outputId": "b0202944-ac9b-408d-944e-fc9f2d272cbd"
      },
      "execution_count": null,
      "outputs": [
        {
          "output_type": "execute_result",
          "data": {
            "text/plain": [
              "'3X'"
            ],
            "application/vnd.google.colaboratory.intrinsic+json": {
              "type": "string"
            }
          },
          "metadata": {},
          "execution_count": 92
        }
      ]
    },
    {
      "cell_type": "markdown",
      "source": [
        "## 반복문"
      ],
      "metadata": {
        "id": "Fr6Lb8hoFyDJ"
      }
    },
    {
      "cell_type": "code",
      "source": [
        "# 반복문의 기본 형태 \n",
        "# for 변수 in 순회가능한객체 :\n",
        "#     code"
      ],
      "metadata": {
        "id": "AXLGFCt1GM3n"
      },
      "execution_count": null,
      "outputs": []
    },
    {
      "cell_type": "code",
      "source": [
        "# 순회가능한객체 != 시퀀스형자료형 # 순서가 없어도 순회가 가능하기 때문에 "
      ],
      "metadata": {
        "id": "U0I8QaupGbc5"
      },
      "execution_count": null,
      "outputs": []
    },
    {
      "cell_type": "code",
      "source": [
        "for i in 'hello world':\n",
        "    print(i)"
      ],
      "metadata": {
        "id": "iflAjEk4Gk8X",
        "colab": {
          "base_uri": "https://localhost:8080/"
        },
        "outputId": "a7d6616a-a8b2-49be-e8b3-fc35da763132"
      },
      "execution_count": null,
      "outputs": [
        {
          "output_type": "stream",
          "name": "stdout",
          "text": [
            "h\n",
            "e\n",
            "l\n",
            "l\n",
            "o\n",
            " \n",
            "w\n",
            "o\n",
            "r\n",
            "l\n",
            "d\n"
          ]
        }
      ]
    },
    {
      "cell_type": "code",
      "source": [
        "for i in 10: # error 순회가능한 객체가 아님\n",
        "    print(i)"
      ],
      "metadata": {
        "id": "pwz1UBpbGxza"
      },
      "execution_count": null,
      "outputs": []
    },
    {
      "cell_type": "code",
      "source": [
        "for i in 10.1: # error 순회가능한 객체가 아님\n",
        "    print(i)"
      ],
      "metadata": {
        "id": "jkBd5YoxG2OV"
      },
      "execution_count": null,
      "outputs": []
    },
    {
      "cell_type": "code",
      "source": [
        "for i in [1,2,3]:\n",
        "    print(i)"
      ],
      "metadata": {
        "id": "hzLkP6gZG5jA",
        "colab": {
          "base_uri": "https://localhost:8080/"
        },
        "outputId": "2a2840ac-0a7b-4963-b49b-96292c95e3f2"
      },
      "execution_count": null,
      "outputs": [
        {
          "output_type": "stream",
          "name": "stdout",
          "text": [
            "1\n",
            "2\n",
            "3\n"
          ]
        }
      ]
    },
    {
      "cell_type": "code",
      "source": [
        "for i in {1,2,3}: # 순서는 보장하지 않지만 순회는 가능하다\n",
        "    print(i)"
      ],
      "metadata": {
        "id": "q3OZ6hzLHCZA",
        "colab": {
          "base_uri": "https://localhost:8080/"
        },
        "outputId": "13b22f48-ccc9-43c7-fbba-108e7a9dfb37"
      },
      "execution_count": null,
      "outputs": [
        {
          "output_type": "stream",
          "name": "stdout",
          "text": [
            "1\n",
            "2\n",
            "3\n"
          ]
        }
      ]
    },
    {
      "cell_type": "code",
      "source": [
        "for i in {'one':1, 'two':2, 'three':3}:\n",
        "    print(i)"
      ],
      "metadata": {
        "id": "BrZTxsq1HH_M",
        "colab": {
          "base_uri": "https://localhost:8080/"
        },
        "outputId": "7afb3ef1-0bc4-41ea-ac9b-c68c5795588c"
      },
      "execution_count": null,
      "outputs": [
        {
          "output_type": "stream",
          "name": "stdout",
          "text": [
            "one\n",
            "two\n",
            "three\n"
          ]
        }
      ]
    },
    {
      "cell_type": "code",
      "source": [
        "# 딕셔너리에서 값도 가져오고 싶다면\n",
        "딕셔너리 = {\n",
        "    '하나' : 'one',\n",
        "    '둘' : 'two',\n",
        "    '셋' : 'three',\n",
        "}\n",
        "for i,j in 딕셔너리.items():\n",
        "    print(\"{0} : {1}\".format(i,j))"
      ],
      "metadata": {
        "colab": {
          "base_uri": "https://localhost:8080/"
        },
        "id": "TZ9G9-20Awlr",
        "outputId": "51428193-2798-4853-9181-8456231e2e07"
      },
      "execution_count": null,
      "outputs": [
        {
          "output_type": "stream",
          "name": "stdout",
          "text": [
            "하나 : one\n",
            "둘 : two\n",
            "셋 : three\n"
          ]
        }
      ]
    },
    {
      "cell_type": "code",
      "source": [
        "# 변수에는 range, enumerate, zip, map, sorted, reversed\n",
        "for i in range(10):\n",
        "    print(i)"
      ],
      "metadata": {
        "id": "YPWiBbf8HPtO",
        "colab": {
          "base_uri": "https://localhost:8080/"
        },
        "outputId": "cf32a17b-3850-407b-f897-197b30792fed"
      },
      "execution_count": null,
      "outputs": [
        {
          "output_type": "stream",
          "name": "stdout",
          "text": [
            "0\n",
            "1\n",
            "2\n",
            "3\n",
            "4\n",
            "5\n",
            "6\n",
            "7\n",
            "8\n",
            "9\n"
          ]
        }
      ]
    },
    {
      "cell_type": "code",
      "source": [
        "언어순위 = ['Python','JavaScript','Java','Ruby']\n",
        "for i in 언어순위:\n",
        "    print(i)"
      ],
      "metadata": {
        "id": "-pzhbiZmHgP2",
        "colab": {
          "base_uri": "https://localhost:8080/"
        },
        "outputId": "3b829bc3-46bf-4855-aa55-c9f2f44f2be7"
      },
      "execution_count": null,
      "outputs": [
        {
          "output_type": "stream",
          "name": "stdout",
          "text": [
            "Python\n",
            "JavaScript\n",
            "Java\n",
            "Ruby\n"
          ]
        }
      ]
    },
    {
      "cell_type": "code",
      "source": [
        "언어순위 = ['Python','JavaScript','Java','Ruby']\n",
        "for i in enumerate(언어순위,1):\n",
        "    print(i)"
      ],
      "metadata": {
        "colab": {
          "base_uri": "https://localhost:8080/"
        },
        "id": "D1oPdCs8Snuu",
        "outputId": "107d50c9-79c5-4cc1-de2d-8e50de35903c"
      },
      "execution_count": null,
      "outputs": [
        {
          "output_type": "stream",
          "name": "stdout",
          "text": [
            "(1, 'Python')\n",
            "(2, 'JavaScript')\n",
            "(3, 'Java')\n",
            "(4, 'Ruby')\n"
          ]
        }
      ]
    },
    {
      "cell_type": "code",
      "source": [
        "언어순위 = ['Python','JavaScript','Java','Ruby']\n",
        "for i in enumerate(언어순위,1): #enumerate를 쓰면 숫자가 앞에 출력 \n",
        "# 1부터 출력하고 싶으면 뒤에 1을 붙임 \n",
        "    print(i)"
      ],
      "metadata": {
        "id": "KR1fgftGHwXC"
      },
      "execution_count": null,
      "outputs": []
    },
    {
      "cell_type": "code",
      "source": [
        "언어순위 = ['Python','JavaScript','Java','Ruby']\n",
        "for i,j in enumerate(언어순위,101):\n",
        "    print(i,j)"
      ],
      "metadata": {
        "id": "G-tlURlxIFVC",
        "colab": {
          "base_uri": "https://localhost:8080/"
        },
        "outputId": "7f43ca1e-b2db-49a7-c7c1-e0d8767a49e3"
      },
      "execution_count": null,
      "outputs": [
        {
          "output_type": "stream",
          "name": "stdout",
          "text": [
            "101 Python\n",
            "102 JavaScript\n",
            "103 Java\n",
            "104 Ruby\n"
          ]
        }
      ]
    },
    {
      "cell_type": "code",
      "source": [
        "언어순위 = ['Python','JavaScript','Java','Ruby']\n",
        "for i,j in enumerate(언어순위,1):\n",
        "    print(i,j)"
      ],
      "metadata": {
        "colab": {
          "base_uri": "https://localhost:8080/"
        },
        "id": "6lHd7hs4rUZm",
        "outputId": "7f282a21-2f70-4691-c1c6-ad730c282e2c"
      },
      "execution_count": null,
      "outputs": [
        {
          "output_type": "stream",
          "name": "stdout",
          "text": [
            "1 Python\n",
            "2 JavaScript\n",
            "3 Java\n",
            "4 Ruby\n"
          ]
        }
      ]
    },
    {
      "cell_type": "code",
      "source": [
        "for _ in range(3):\n",
        "    print('hello world')"
      ],
      "metadata": {
        "colab": {
          "base_uri": "https://localhost:8080/"
        },
        "id": "rW_ollWW1MrO",
        "outputId": "b9c18e00-4ab6-4ade-d773-a9fac5af2358"
      },
      "execution_count": null,
      "outputs": [
        {
          "output_type": "stream",
          "name": "stdout",
          "text": [
            "hello world\n",
            "hello world\n",
            "hello world\n"
          ]
        }
      ]
    },
    {
      "cell_type": "code",
      "source": [
        "for _, i in [[1,2],[3,4],[5,6]]: # 뒷글자만 출력 언패킹\n",
        "    print('hello world') \n",
        "    print(i)"
      ],
      "metadata": {
        "colab": {
          "base_uri": "https://localhost:8080/"
        },
        "id": "hzmWQQ4O1Wgd",
        "outputId": "92fa6886-2778-4eca-c4eb-71825683d0cf"
      },
      "execution_count": null,
      "outputs": [
        {
          "output_type": "stream",
          "name": "stdout",
          "text": [
            "hello world\n",
            "2\n",
            "hello world\n",
            "4\n",
            "hello world\n",
            "6\n"
          ]
        }
      ]
    },
    {
      "cell_type": "code",
      "source": [
        "s = 0\n",
        "for i in range(0,101,2):\n",
        "    s+= i\n",
        "s"
      ],
      "metadata": {
        "colab": {
          "base_uri": "https://localhost:8080/"
        },
        "id": "HEUttEwt1ki1",
        "outputId": "379c763c-26c2-4371-e2d9-9eab5bcc6a1a"
      },
      "execution_count": null,
      "outputs": [
        {
          "output_type": "execute_result",
          "data": {
            "text/plain": [
              "2550"
            ]
          },
          "metadata": {},
          "execution_count": 4
        }
      ]
    },
    {
      "cell_type": "code",
      "source": [
        "for i in range(10, 1, -2):\n",
        "    print(i)"
      ],
      "metadata": {
        "colab": {
          "base_uri": "https://localhost:8080/"
        },
        "id": "mOWLz_2Rt7xV",
        "outputId": "cc2fc7fa-1a9b-4ba4-d285-26efb987ccb6"
      },
      "execution_count": null,
      "outputs": [
        {
          "output_type": "stream",
          "name": "stdout",
          "text": [
            "10\n",
            "8\n",
            "6\n",
            "4\n",
            "2\n"
          ]
        }
      ]
    },
    {
      "cell_type": "code",
      "source": [
        "listx= [100,200,300,400]\n",
        "strx= 'abcd'\n",
        "dictx = {'one':1, 'two':2}\n",
        "\n",
        "listxlter = iter(listx)\n",
        "strxlter= iter(strx)\n",
        "dictxlter= iter(dictx)\n",
        "\n",
        "# 시퀀스형 자료형에만 next가 되는 것이 아니고 \n",
        "# next 다음 순회 값을 지정할 뿐입니다.\n",
        "print(next(listxlter), next(listxlter), next(listxlter), next(listxlter))\n",
        "print(next(strxlter), next(strxlter), next(strxlter), next(strxlter))\n",
        "print(next(dictxlter), next(dictxlter))"
      ],
      "metadata": {
        "colab": {
          "base_uri": "https://localhost:8080/"
        },
        "id": "XaP_UVeJ2KCR",
        "outputId": "e5d6ee61-9c74-4380-c79d-72f568c210ef"
      },
      "execution_count": null,
      "outputs": [
        {
          "output_type": "stream",
          "name": "stdout",
          "text": [
            "100 200 300 400\n",
            "a b c d\n",
            "one two\n"
          ]
        }
      ]
    },
    {
      "cell_type": "code",
      "source": [
        "for i in generator() # 제네레이터가 i로 넣음 "
      ],
      "metadata": {
        "id": "h84r7bdE2wug"
      },
      "execution_count": null,
      "outputs": []
    },
    {
      "cell_type": "code",
      "source": [
        "# for True: # 이렇게 사용하지는 못한다. \n",
        "#     print('hello')"
      ],
      "metadata": {
        "id": "2_WDDNgW284b"
      },
      "execution_count": null,
      "outputs": []
    },
    {
      "cell_type": "markdown",
      "source": [
        "## break과 continue"
      ],
      "metadata": {
        "id": "_glG_ZfB3T8S"
      }
    },
    {
      "cell_type": "code",
      "source": [
        "for i in range(10): # i가 5가 되어서 멈춤 \n",
        "    print(i)\n",
        "    if i == 5:\n",
        "        break"
      ],
      "metadata": {
        "colab": {
          "base_uri": "https://localhost:8080/"
        },
        "id": "ie-pXDQ43e_e",
        "outputId": "24b93a94-c96e-47ad-c049-cc0ca0a555e2"
      },
      "execution_count": null,
      "outputs": [
        {
          "output_type": "stream",
          "name": "stdout",
          "text": [
            "0\n",
            "1\n",
            "2\n",
            "3\n",
            "4\n",
            "5\n"
          ]
        }
      ]
    },
    {
      "cell_type": "code",
      "source": [
        "for i in range(100):\n",
        "    print(f'{i} 물고기를 잡았습니다.')\n",
        "    if i == 5:\n",
        "        print('만선입니다. 물고기를 다 잡았습니다.')\n",
        "        break\n",
        "else:\n",
        "    print('아직 여유가 좀 있지만, 물고기가 더 없는 것 같으니 이정도로 만족하고 돌아갑시다.')\n",
        "print('수고하셨습니다.')"
      ],
      "metadata": {
        "colab": {
          "base_uri": "https://localhost:8080/"
        },
        "id": "VUQF6fuEDasB",
        "outputId": "14457a71-481c-4b81-a6bc-be7270cbc98f"
      },
      "execution_count": null,
      "outputs": [
        {
          "output_type": "stream",
          "name": "stdout",
          "text": [
            "0 물고기를 잡았습니다.\n",
            "1 물고기를 잡았습니다.\n",
            "2 물고기를 잡았습니다.\n",
            "3 물고기를 잡았습니다.\n",
            "4 물고기를 잡았습니다.\n",
            "5 물고기를 잡았습니다.\n",
            "만선입니다. 물고기를 다 잡았습니다.\n",
            "수고하셨습니다.\n"
          ]
        }
      ]
    },
    {
      "cell_type": "code",
      "source": [
        "for i in range(5): # 0-4까지 출력하므로 \n",
        "    print(f'{i} 물고기를 잡았습니다.')\n",
        "    if i == 5:\n",
        "        print('만선입니다. 물고기를 다 잡았습니다.')\n",
        "        break\n",
        "else:\n",
        "    print('아직 여유가 좀 있지만, 물고기가 더 없는 것 같으니 이정도로 만족하고 돌아갑시다.')\n",
        "print('수고하셨습니다.')"
      ],
      "metadata": {
        "colab": {
          "base_uri": "https://localhost:8080/"
        },
        "id": "P3Im8MCYEgS6",
        "outputId": "cc1a9247-3512-4243-e0b9-cebf4e84b3d5"
      },
      "execution_count": null,
      "outputs": [
        {
          "output_type": "stream",
          "name": "stdout",
          "text": [
            "0 물고기를 잡았습니다.\n",
            "1 물고기를 잡았습니다.\n",
            "2 물고기를 잡았습니다.\n",
            "3 물고기를 잡았습니다.\n",
            "4 물고기를 잡았습니다.\n",
            "아직 여유가 좀 있지만, 물고기가 더 없는 것 같으니 이정도로 만족하고 돌아갑시다.\n",
            "수고하셨습니다.\n"
          ]
        }
      ]
    },
    {
      "cell_type": "code",
      "source": [
        "# 모든 for가 중단이 되는 것은 아닙니다! \n",
        "# 자신을 감싸고 있는 단일 반복문만 탈출합니다.\n",
        "\n",
        "for i in range(10):\n",
        "    print('----------------')\n",
        "    print(i)\n",
        "    for j in range(10):\n",
        "        print(i, j)\n",
        "        if i == 5:\n",
        "            break"
      ],
      "metadata": {
        "colab": {
          "base_uri": "https://localhost:8080/"
        },
        "id": "1ajgfVu_3-5V",
        "outputId": "240cc43e-b012-41f6-d263-38e77f2d87f8"
      },
      "execution_count": null,
      "outputs": [
        {
          "output_type": "stream",
          "name": "stdout",
          "text": [
            "----------------\n",
            "0\n",
            "0 0\n",
            "0 1\n",
            "0 2\n",
            "0 3\n",
            "0 4\n",
            "0 5\n",
            "0 6\n",
            "0 7\n",
            "0 8\n",
            "0 9\n",
            "----------------\n",
            "1\n",
            "1 0\n",
            "1 1\n",
            "1 2\n",
            "1 3\n",
            "1 4\n",
            "1 5\n",
            "1 6\n",
            "1 7\n",
            "1 8\n",
            "1 9\n",
            "----------------\n",
            "2\n",
            "2 0\n",
            "2 1\n",
            "2 2\n",
            "2 3\n",
            "2 4\n",
            "2 5\n",
            "2 6\n",
            "2 7\n",
            "2 8\n",
            "2 9\n",
            "----------------\n",
            "3\n",
            "3 0\n",
            "3 1\n",
            "3 2\n",
            "3 3\n",
            "3 4\n",
            "3 5\n",
            "3 6\n",
            "3 7\n",
            "3 8\n",
            "3 9\n",
            "----------------\n",
            "4\n",
            "4 0\n",
            "4 1\n",
            "4 2\n",
            "4 3\n",
            "4 4\n",
            "4 5\n",
            "4 6\n",
            "4 7\n",
            "4 8\n",
            "4 9\n",
            "----------------\n",
            "5\n",
            "5 0\n",
            "----------------\n",
            "6\n",
            "6 0\n",
            "6 1\n",
            "6 2\n",
            "6 3\n",
            "6 4\n",
            "6 5\n",
            "6 6\n",
            "6 7\n",
            "6 8\n",
            "6 9\n",
            "----------------\n",
            "7\n",
            "7 0\n",
            "7 1\n",
            "7 2\n",
            "7 3\n",
            "7 4\n",
            "7 5\n",
            "7 6\n",
            "7 7\n",
            "7 8\n",
            "7 9\n",
            "----------------\n",
            "8\n",
            "8 0\n",
            "8 1\n",
            "8 2\n",
            "8 3\n",
            "8 4\n",
            "8 5\n",
            "8 6\n",
            "8 7\n",
            "8 8\n",
            "8 9\n",
            "----------------\n",
            "9\n",
            "9 0\n",
            "9 1\n",
            "9 2\n",
            "9 3\n",
            "9 4\n",
            "9 5\n",
            "9 6\n",
            "9 7\n",
            "9 8\n",
            "9 9\n"
          ]
        }
      ]
    },
    {
      "cell_type": "code",
      "source": [
        "# continue는 다음 루프로 간다. \n",
        "# 아래 코드에서 continue는 의미가 없습니다.\n",
        "# 아래 코드에서 print를 실행시키지 않고\n",
        "# 다음루프로 가게된다.\n",
        "for i in range(10): \n",
        "    print(i)\n",
        "    if i == 5:\n",
        "        continue\n",
        "    print(i)"
      ],
      "metadata": {
        "colab": {
          "base_uri": "https://localhost:8080/"
        },
        "id": "3piuFZC348WR",
        "outputId": "5e1d1624-8552-4489-96fb-0c3efc4bb147"
      },
      "execution_count": null,
      "outputs": [
        {
          "output_type": "stream",
          "name": "stdout",
          "text": [
            "0\n",
            "0\n",
            "1\n",
            "1\n",
            "2\n",
            "2\n",
            "3\n",
            "3\n",
            "4\n",
            "4\n",
            "5\n",
            "6\n",
            "6\n",
            "7\n",
            "7\n",
            "8\n",
            "8\n",
            "9\n",
            "9\n"
          ]
        }
      ]
    },
    {
      "cell_type": "code",
      "source": [
        "for i in range(0,10,2):\n",
        "    print(i)"
      ],
      "metadata": {
        "colab": {
          "base_uri": "https://localhost:8080/"
        },
        "id": "X6szSTRx75in",
        "outputId": "b48c658a-c1f5-463a-c531-32af93010c43"
      },
      "execution_count": null,
      "outputs": [
        {
          "output_type": "stream",
          "name": "stdout",
          "text": [
            "0\n",
            "2\n",
            "4\n",
            "6\n",
            "8\n"
          ]
        }
      ]
    },
    {
      "cell_type": "code",
      "source": [
        "# 실행과 동시에 정지를 눌러주세요.\n",
        "# 무한반복입니다.\n",
        "# 아래 코드는 효율적이지 못하니\n",
        "# 뒤에서 배울 generator로 무한반복을 구현해주세요.\n",
        "l = [1]\n",
        "for i in l:\n",
        "    l.append(i+1)\n",
        "    print(i)"
      ],
      "metadata": {
        "id": "L0V73zHZ79iE"
      },
      "execution_count": null,
      "outputs": []
    },
    {
      "cell_type": "markdown",
      "source": [
        "## for와 else 구문"
      ],
      "metadata": {
        "id": "tcN4c8tM54BA"
      }
    },
    {
      "cell_type": "code",
      "source": [
        "# 다른 언어에서는 이 구문이 작동되지 않는다.\n",
        "for i in range(10):\n",
        "    if i == 5:\n",
        "        break\n",
        "else:\n",
        "    print('정상종료!')"
      ],
      "metadata": {
        "id": "FbpRzYYE6V8b"
      },
      "execution_count": null,
      "outputs": []
    },
    {
      "cell_type": "code",
      "source": [
        "# 반복문 + else구문은\n",
        "# 반복문이 break를 쓰지 않고 정상 종료 되었을 때\n",
        "# else 구문이 실행됩니다.\n",
        "for i in range(10):\n",
        "    if i == 5:\n",
        "        pass\n",
        "else:\n",
        "    print('정상종료!')"
      ],
      "metadata": {
        "colab": {
          "base_uri": "https://localhost:8080/"
        },
        "id": "5SMEj0f56vKg",
        "outputId": "690d33ef-eabd-482b-d77f-bae3cd8c3067"
      },
      "execution_count": null,
      "outputs": [
        {
          "output_type": "stream",
          "name": "stdout",
          "text": [
            "정상종료!\n"
          ]
        }
      ]
    },
    {
      "cell_type": "code",
      "source": [
        "for i in range(10):\n",
        "    if i == 5:\n",
        "        pass #패스를 했기 때문에 '정상종료'가 출력됨 9개\n",
        "    else:\n",
        "        print('정상종료!')"
      ],
      "metadata": {
        "colab": {
          "base_uri": "https://localhost:8080/"
        },
        "id": "qbNgZ_p0fD0V",
        "outputId": "a172ff21-a022-4c29-c5be-ce0e0f75f95a"
      },
      "execution_count": null,
      "outputs": [
        {
          "output_type": "stream",
          "name": "stdout",
          "text": [
            "정상종료!\n",
            "정상종료!\n",
            "정상종료!\n",
            "정상종료!\n",
            "정상종료!\n",
            "정상종료!\n",
            "정상종료!\n",
            "정상종료!\n",
            "정상종료!\n"
          ]
        }
      ]
    },
    {
      "cell_type": "markdown",
      "source": [
        "## 리스트 표현식(list comprehension)"
      ],
      "metadata": {
        "id": "e6fAe6Cq5lpe"
      }
    },
    {
      "cell_type": "code",
      "source": [
        "# 별 3.5개\n",
        "# 리스트 안에 반복문이나 조건문을 넣어 한 번에 리스트를 생성하는 기법\n",
        "# 리스트 표현식은 for보다 빠릅니다! (가독성 + 속도우위)\n",
        "l = []\n",
        "for i in range(10):\n",
        "    l.append(i) # 괄호에 추가로 숫자를 넣음 \n",
        "l"
      ],
      "metadata": {
        "colab": {
          "base_uri": "https://localhost:8080/"
        },
        "id": "np48gAaD7n-U",
        "outputId": "52ab6ab7-3b29-40e5-ee1c-0cbae49f0a2a"
      },
      "execution_count": null,
      "outputs": [
        {
          "output_type": "execute_result",
          "data": {
            "text/plain": [
              "[0, 1, 2, 3, 4, 5, 6, 7, 8, 9]"
            ]
          },
          "metadata": {},
          "execution_count": 23
        }
      ]
    },
    {
      "cell_type": "code",
      "source": [
        "l = []\n",
        "for i in range(10):\n",
        "    l.append(i)\n",
        "l"
      ],
      "metadata": {
        "colab": {
          "base_uri": "https://localhost:8080/"
        },
        "id": "xjO7l4-tg1yo",
        "outputId": "ecb5ef13-9f6e-4188-f55d-dcc3c445f4b4"
      },
      "execution_count": null,
      "outputs": [
        {
          "output_type": "execute_result",
          "data": {
            "text/plain": [
              "[0, 1, 2, 3, 4, 5, 6, 7, 8, 9]"
            ]
          },
          "metadata": {},
          "execution_count": 12
        }
      ]
    },
    {
      "cell_type": "code",
      "source": [
        "[i for i in range(10)] # 3항연산자랑 비슷함 for i in range가 true면? i"
      ],
      "metadata": {
        "colab": {
          "base_uri": "https://localhost:8080/"
        },
        "id": "8VBaOsz09ile",
        "outputId": "51dfb256-ef41-494a-c54e-e31bbf3cfbe8"
      },
      "execution_count": null,
      "outputs": [
        {
          "output_type": "execute_result",
          "data": {
            "text/plain": [
              "[0, 1, 2, 3, 4, 5, 6, 7, 8, 9]"
            ]
          },
          "metadata": {},
          "execution_count": 24
        }
      ]
    },
    {
      "cell_type": "code",
      "source": [
        "# 이 정도만 하실 수 있으면 우리 수업에서는 문제 없습니다. \n",
        "l = []\n",
        "for i in range(10):\n",
        "    if i % 2 ==0:\n",
        "        l.append(i)\n",
        "l"
      ],
      "metadata": {
        "colab": {
          "base_uri": "https://localhost:8080/"
        },
        "id": "CrTg_vdt-EI5",
        "outputId": "288b2c9c-59e7-4391-d7c6-282f54ca62f3"
      },
      "execution_count": null,
      "outputs": [
        {
          "output_type": "execute_result",
          "data": {
            "text/plain": [
              "[0, 2, 4, 6, 8]"
            ]
          },
          "metadata": {},
          "execution_count": 25
        }
      ]
    },
    {
      "cell_type": "code",
      "source": [
        "l = []\n",
        "for i in range(10): # 0,1,2,3,4,5,6,7,8,9\n",
        "    if i % 2 ==0: # 0,2,4,6,8\n",
        "        l.append(i)\n",
        "l"
      ],
      "metadata": {
        "id": "wMNp-tpqhzcn"
      },
      "execution_count": null,
      "outputs": []
    },
    {
      "cell_type": "code",
      "source": [
        "[i for i in range(10) if i % 2 ==0]"
      ],
      "metadata": {
        "colab": {
          "base_uri": "https://localhost:8080/"
        },
        "id": "9VUDyFKE-QD_",
        "outputId": "277a8a44-76b7-4091-d2e0-203258e00d18"
      },
      "execution_count": null,
      "outputs": [
        {
          "output_type": "execute_result",
          "data": {
            "text/plain": [
              "[0, 2, 4, 6, 8]"
            ]
          },
          "metadata": {},
          "execution_count": 26
        }
      ]
    },
    {
      "cell_type": "code",
      "source": [
        "list(range(0,10,2)) # 이것도 가능하고, 직관적이죠"
      ],
      "metadata": {
        "colab": {
          "base_uri": "https://localhost:8080/"
        },
        "id": "pqpcS_0N-nV7",
        "outputId": "c5e782f4-3a9c-471b-ccb5-72d2da1d99b2"
      },
      "execution_count": null,
      "outputs": [
        {
          "output_type": "execute_result",
          "data": {
            "text/plain": [
              "[0, 2, 4, 6, 8]"
            ]
          },
          "metadata": {},
          "execution_count": 27
        }
      ]
    },
    {
      "cell_type": "code",
      "source": [
        "l = ['aa', 'abc', 'bbb', 'ccc', 'aba']\n",
        "[i for i in l if 'a' in i]"
      ],
      "metadata": {
        "colab": {
          "base_uri": "https://localhost:8080/"
        },
        "id": "vVBKePX8-u-m",
        "outputId": "f175a9dd-711d-403d-bbc3-35f5f06be1ec"
      },
      "execution_count": null,
      "outputs": [
        {
          "output_type": "execute_result",
          "data": {
            "text/plain": [
              "['aa', 'abc', 'aba']"
            ]
          },
          "metadata": {},
          "execution_count": 28
        }
      ]
    },
    {
      "cell_type": "code",
      "source": [
        "# 아래 코드는 어떻게 할까요?\n",
        "l = []\n",
        "for i in range(10):\n",
        "    if i % 2 ==0:\n",
        "        l.append(i)\n",
        "    elif i % 3 ==0:\n",
        "        l.append(i)\n",
        "l"
      ],
      "metadata": {
        "colab": {
          "base_uri": "https://localhost:8080/"
        },
        "id": "i5rj5fS9_F93",
        "outputId": "668bc6e7-e779-449a-e0de-f56435210515"
      },
      "execution_count": null,
      "outputs": [
        {
          "output_type": "execute_result",
          "data": {
            "text/plain": [
              "[0, 2, 3, 4, 6, 8, 9]"
            ]
          },
          "metadata": {},
          "execution_count": 31
        }
      ]
    },
    {
      "cell_type": "code",
      "source": [
        "[i for i in range(10) if i % 2 ==0 or i % 3 ==0]"
      ],
      "metadata": {
        "colab": {
          "base_uri": "https://localhost:8080/"
        },
        "id": "kciVqtQqRGCz",
        "outputId": "7d6ef3a1-d335-4651-8fcd-22ba419a2ce9"
      },
      "execution_count": null,
      "outputs": [
        {
          "output_type": "execute_result",
          "data": {
            "text/plain": [
              "[0, 2, 3, 4, 6, 8, 9]"
            ]
          },
          "metadata": {},
          "execution_count": 19
        }
      ]
    },
    {
      "cell_type": "code",
      "source": [
        "l = []\n",
        "for i in range(10):\n",
        "    if i % 2 ==0 or i % 3 ==0:\n",
        "        l.append(i)\n",
        "l"
      ],
      "metadata": {
        "colab": {
          "base_uri": "https://localhost:8080/"
        },
        "id": "ebusn748BqEn",
        "outputId": "3667f6f0-09ed-483a-8266-83f21ed56465"
      },
      "execution_count": null,
      "outputs": [
        {
          "output_type": "execute_result",
          "data": {
            "text/plain": [
              "[0, 2, 3, 4, 6, 8, 9]"
            ]
          },
          "metadata": {},
          "execution_count": 32
        }
      ]
    },
    {
      "cell_type": "code",
      "source": [
        "l = []\n",
        "for i in range(10):\n",
        "    if i % 2 ==0 or i % 3 ==0:\n",
        "        l.append(i)\n",
        "l"
      ],
      "metadata": {
        "colab": {
          "base_uri": "https://localhost:8080/"
        },
        "id": "AiCEfgTDo1wK",
        "outputId": "8e02fc69-898d-4dc3-dcb3-d965769b3cd4"
      },
      "execution_count": null,
      "outputs": [
        {
          "output_type": "execute_result",
          "data": {
            "text/plain": [
              "[0, 2, 3, 4, 6, 8, 9]"
            ]
          },
          "metadata": {},
          "execution_count": 35
        }
      ]
    },
    {
      "cell_type": "code",
      "source": [
        "[i for i in range(10) if i % 2 ==0 or i % 3 ==0]\n",
        "# 먼저 []놓고 append(i)의 i를 추가"
      ],
      "metadata": {
        "colab": {
          "base_uri": "https://localhost:8080/"
        },
        "id": "qL2jFPagCBJ8",
        "outputId": "854ba592-73e9-4a7f-fb99-ce91ad36d107"
      },
      "execution_count": null,
      "outputs": [
        {
          "output_type": "execute_result",
          "data": {
            "text/plain": [
              "[0, 2, 3, 4, 6, 8, 9]"
            ]
          },
          "metadata": {},
          "execution_count": 33
        }
      ]
    },
    {
      "cell_type": "code",
      "source": [
        "[i for i in range(10) if i % 2 ==0 or i % 3 ==0]"
      ],
      "metadata": {
        "colab": {
          "base_uri": "https://localhost:8080/"
        },
        "id": "6VIlR7xIpQB6",
        "outputId": "c40b3b7e-9083-4344-f78a-3d2775733c30"
      },
      "execution_count": null,
      "outputs": [
        {
          "output_type": "execute_result",
          "data": {
            "text/plain": [
              "[0, 2, 3, 4, 6, 8, 9]"
            ]
          },
          "metadata": {},
          "execution_count": 36
        }
      ]
    },
    {
      "cell_type": "code",
      "source": [
        "#구구단\n",
        "# 손으로 곡 순회 1번씩 돌아보셔야 합니다.\n",
        "# for i in range(2, 10):\n",
        "#     for j in range(1, 10):\n",
        "#         print(i, j, i*j)\n",
        "\n",
        "'''\n",
        "# step 0\n",
        "# 이렇게 손이나 문자열로 늘여트려놓고\n",
        "# 내가 무엇을 줄일 수 있을까?를 고민하세요.\n",
        "2 1 2\n",
        "2 2 4\n",
        "2 3 6\n",
        "2 4 8\n",
        "2 5 10\n",
        "2 6 12\n",
        "2 7 14\n",
        "2 8 16\n",
        "2 9 18\n",
        "3 1 3\n",
        "3 2 6\n",
        "3 3 9\n",
        "3 4 12\n",
        "3 5 15\n",
        "3 6 18\n",
        "3 7 21\n",
        "3 8 24\n",
        "3 9 27\n",
        "'''\n",
        "\n",
        "# step 1 ~ 100 이렇게 하나씩 줄여가면 됩니다.\n",
        "# for i in range(1, 10):\n",
        "#     print(2, i, 99)\n",
        "\n",
        "# step 1 ~ 100 이렇게 하나씩 줄여가면 됩니다.\n",
        "# for i in range(1, 10):\n",
        "#     print(2, i, 2*i)\n",
        "\n",
        "for 단 in range(2, 10):\n",
        "    for i in range(1, 10):\n",
        "        print(단, i, 단*i)"
      ],
      "metadata": {
        "id": "Lc-fUtOuCR_y"
      },
      "execution_count": null,
      "outputs": []
    },
    {
      "cell_type": "code",
      "source": [
        "for 단 in range(2,10):\n",
        "    for i in range(1,10):\n",
        "        print(단, i, 단*i)"
      ],
      "metadata": {
        "colab": {
          "base_uri": "https://localhost:8080/"
        },
        "id": "Dcr7TkZZrdLI",
        "outputId": "3e01077e-00ee-43c3-8bb9-016c30946d07"
      },
      "execution_count": null,
      "outputs": [
        {
          "output_type": "stream",
          "name": "stdout",
          "text": [
            "2 1 2\n",
            "2 2 4\n",
            "2 3 6\n",
            "2 4 8\n",
            "2 5 10\n",
            "2 6 12\n",
            "2 7 14\n",
            "2 8 16\n",
            "2 9 18\n",
            "3 1 3\n",
            "3 2 6\n",
            "3 3 9\n",
            "3 4 12\n",
            "3 5 15\n",
            "3 6 18\n",
            "3 7 21\n",
            "3 8 24\n",
            "3 9 27\n",
            "4 1 4\n",
            "4 2 8\n",
            "4 3 12\n",
            "4 4 16\n",
            "4 5 20\n",
            "4 6 24\n",
            "4 7 28\n",
            "4 8 32\n",
            "4 9 36\n",
            "5 1 5\n",
            "5 2 10\n",
            "5 3 15\n",
            "5 4 20\n",
            "5 5 25\n",
            "5 6 30\n",
            "5 7 35\n",
            "5 8 40\n",
            "5 9 45\n",
            "6 1 6\n",
            "6 2 12\n",
            "6 3 18\n",
            "6 4 24\n",
            "6 5 30\n",
            "6 6 36\n",
            "6 7 42\n",
            "6 8 48\n",
            "6 9 54\n",
            "7 1 7\n",
            "7 2 14\n",
            "7 3 21\n",
            "7 4 28\n",
            "7 5 35\n",
            "7 6 42\n",
            "7 7 49\n",
            "7 8 56\n",
            "7 9 63\n",
            "8 1 8\n",
            "8 2 16\n",
            "8 3 24\n",
            "8 4 32\n",
            "8 5 40\n",
            "8 6 48\n",
            "8 7 56\n",
            "8 8 64\n",
            "8 9 72\n",
            "9 1 9\n",
            "9 2 18\n",
            "9 3 27\n",
            "9 4 36\n",
            "9 5 45\n",
            "9 6 54\n",
            "9 7 63\n",
            "9 8 72\n",
            "9 9 81\n"
          ]
        }
      ]
    },
    {
      "cell_type": "code",
      "source": [
        "# 별찍기\n",
        "# 트리 만드는 문제도 있고, 원 만드는 문제도 있고...\n",
        "'''\n",
        "*\n",
        "**\n",
        "***\n",
        "****\n",
        "*****\n",
        "'''"
      ],
      "metadata": {
        "id": "Nsosmz3vE6q-"
      },
      "execution_count": null,
      "outputs": []
    },
    {
      "cell_type": "code",
      "source": [
        "user_input = int(input('찍을 별의 층수?'))\n",
        "for i in range(user_input+1):\n",
        "    print('*'*i)"
      ],
      "metadata": {
        "colab": {
          "base_uri": "https://localhost:8080/"
        },
        "id": "8w5DTkQFEh3q",
        "outputId": "f9120c20-20e6-4e2f-8708-bad71841eb44"
      },
      "execution_count": null,
      "outputs": [
        {
          "output_type": "stream",
          "name": "stdout",
          "text": [
            "찍을 별의 층수?5\n",
            "\n",
            "*\n",
            "**\n",
            "***\n",
            "****\n",
            "*****\n"
          ]
        }
      ]
    },
    {
      "cell_type": "code",
      "source": [
        "user_input = int(input('찍을 별의 층수?'))\n",
        "for i in range(user_input+1):\n",
        "    print('*'*i)"
      ],
      "metadata": {
        "colab": {
          "base_uri": "https://localhost:8080/"
        },
        "id": "1Y1ssHFOxlLB",
        "outputId": "8ff5c368-d4f5-450d-ba3a-04ec22f36613"
      },
      "execution_count": null,
      "outputs": [
        {
          "output_type": "stream",
          "name": "stdout",
          "text": [
            "찍을 별의 층수?9\n",
            "\n",
            "*\n",
            "**\n",
            "***\n",
            "****\n",
            "*****\n",
            "******\n",
            "*******\n",
            "********\n",
            "*********\n"
          ]
        }
      ]
    },
    {
      "cell_type": "code",
      "source": [
        "l =[]\n",
        "for i in range(2,10):\n",
        "    for j in range(1,10):\n",
        "        l.append([i,j, i*j])\n",
        "l"
      ],
      "metadata": {
        "id": "IhsyvYlBFBPb"
      },
      "execution_count": null,
      "outputs": []
    },
    {
      "cell_type": "code",
      "source": [
        "l = []\n",
        "for i in range(2,10):\n",
        "    for j in range(1,10):\n",
        "        l.append([i,j,i*j])\n",
        "l"
      ],
      "metadata": {
        "colab": {
          "base_uri": "https://localhost:8080/"
        },
        "id": "EYtn1Sz3zUnX",
        "outputId": "7126d2e0-1226-4be2-e6cf-f170540ac6b3"
      },
      "execution_count": null,
      "outputs": [
        {
          "output_type": "execute_result",
          "data": {
            "text/plain": [
              "[[2, 1, 2],\n",
              " [2, 2, 4],\n",
              " [2, 3, 6],\n",
              " [2, 4, 8],\n",
              " [2, 5, 10],\n",
              " [2, 6, 12],\n",
              " [2, 7, 14],\n",
              " [2, 8, 16],\n",
              " [2, 9, 18],\n",
              " [3, 1, 3],\n",
              " [3, 2, 6],\n",
              " [3, 3, 9],\n",
              " [3, 4, 12],\n",
              " [3, 5, 15],\n",
              " [3, 6, 18],\n",
              " [3, 7, 21],\n",
              " [3, 8, 24],\n",
              " [3, 9, 27],\n",
              " [4, 1, 4],\n",
              " [4, 2, 8],\n",
              " [4, 3, 12],\n",
              " [4, 4, 16],\n",
              " [4, 5, 20],\n",
              " [4, 6, 24],\n",
              " [4, 7, 28],\n",
              " [4, 8, 32],\n",
              " [4, 9, 36],\n",
              " [5, 1, 5],\n",
              " [5, 2, 10],\n",
              " [5, 3, 15],\n",
              " [5, 4, 20],\n",
              " [5, 5, 25],\n",
              " [5, 6, 30],\n",
              " [5, 7, 35],\n",
              " [5, 8, 40],\n",
              " [5, 9, 45],\n",
              " [6, 1, 6],\n",
              " [6, 2, 12],\n",
              " [6, 3, 18],\n",
              " [6, 4, 24],\n",
              " [6, 5, 30],\n",
              " [6, 6, 36],\n",
              " [6, 7, 42],\n",
              " [6, 8, 48],\n",
              " [6, 9, 54],\n",
              " [7, 1, 7],\n",
              " [7, 2, 14],\n",
              " [7, 3, 21],\n",
              " [7, 4, 28],\n",
              " [7, 5, 35],\n",
              " [7, 6, 42],\n",
              " [7, 7, 49],\n",
              " [7, 8, 56],\n",
              " [7, 9, 63],\n",
              " [8, 1, 8],\n",
              " [8, 2, 16],\n",
              " [8, 3, 24],\n",
              " [8, 4, 32],\n",
              " [8, 5, 40],\n",
              " [8, 6, 48],\n",
              " [8, 7, 56],\n",
              " [8, 8, 64],\n",
              " [8, 9, 72],\n",
              " [9, 1, 9],\n",
              " [9, 2, 18],\n",
              " [9, 3, 27],\n",
              " [9, 4, 36],\n",
              " [9, 5, 45],\n",
              " [9, 6, 54],\n",
              " [9, 7, 63],\n",
              " [9, 8, 72],\n",
              " [9, 9, 81]]"
            ]
          },
          "metadata": {},
          "execution_count": 52
        }
      ]
    },
    {
      "cell_type": "code",
      "source": [
        "[[i, j, i*j] for i in range(2,10) for j in range(1,10)]"
      ],
      "metadata": {
        "id": "-poRz1ZHFOlF"
      },
      "execution_count": null,
      "outputs": []
    },
    {
      "cell_type": "markdown",
      "source": [
        "## 다중 리스트 순회"
      ],
      "metadata": {
        "id": "_vpMS3hXFd4N"
      }
    },
    {
      "cell_type": "code",
      "source": [
        "skill = [\n",
        "        ('고기잡이', 100),\n",
        "        ('고기팔기', 120),\n",
        "        ('낚시', 5),\n",
        "        ('통발', 5),\n",
        "        ('큰그물', 5)\n",
        "]\n",
        "\n",
        "for i,j in skill:\n",
        "    print(i,j)"
      ],
      "metadata": {
        "colab": {
          "base_uri": "https://localhost:8080/"
        },
        "id": "TIMVX-PGFgD0",
        "outputId": "f8c0ef08-2f4e-4f5e-fc4e-86cb347aa7c6"
      },
      "execution_count": null,
      "outputs": [
        {
          "output_type": "stream",
          "name": "stdout",
          "text": [
            "고기잡이 100\n",
            "고기팔기 120\n",
            "낚시 5\n",
            "통발 5\n",
            "큰그물 5\n"
          ]
        }
      ]
    },
    {
      "cell_type": "code",
      "source": [
        "skill_name = ['고기잡이', '고기팔기', '낚시']\n",
        "skill_point = [100, 120, 5]\n",
        "\n",
        "for i, j in zip(skill_name, skill_point):\n",
        "    print(i,j)"
      ],
      "metadata": {
        "colab": {
          "base_uri": "https://localhost:8080/"
        },
        "id": "5B2-9j6pGF08",
        "outputId": "fdbbb362-4e03-4503-837e-c10c44172de7"
      },
      "execution_count": null,
      "outputs": [
        {
          "output_type": "stream",
          "name": "stdout",
          "text": [
            "고기잡이 100\n",
            "고기팔기 120\n",
            "낚시 5\n"
          ]
        }
      ]
    },
    {
      "cell_type": "code",
      "source": [
        "skill_name = ['고기잡이', '고기팔기', '낚시']\n",
        "skill_point = [100,120,5]\n",
        "\n",
        "for i,j in zip(skill_name, skill_point):\n",
        "    print(i,j)"
      ],
      "metadata": {
        "colab": {
          "base_uri": "https://localhost:8080/"
        },
        "id": "EvORDg542Rti",
        "outputId": "dc30776b-dbff-449f-e223-ef8cf492474a"
      },
      "execution_count": null,
      "outputs": [
        {
          "output_type": "stream",
          "name": "stdout",
          "text": [
            "고기잡이 100\n",
            "고기팔기 120\n",
            "낚시 5\n"
          ]
        }
      ]
    },
    {
      "cell_type": "code",
      "source": [
        "# 이정도 코드만 아셔도 실무하는 것에는 무리가 없습니다.\n",
        "skill = [\n",
        "        ('고기잡이', [1, 100]),\n",
        "        ('고기팔기', [1, 100]),\n",
        "        ('낚시', [2, 100]),\n",
        "        ('통발', [2, 100]),\n",
        "        ('큰그물', [2, 100])\n",
        "]\n",
        "\n",
        "for i, [x, y] in skill: # i '고기잡이' [x,y] -> 1,100\n",
        "    print(i, x, y)"
      ],
      "metadata": {
        "colab": {
          "base_uri": "https://localhost:8080/"
        },
        "id": "5pj44szuGoWJ",
        "outputId": "b0e0e0eb-764f-4bda-bc78-1cf2f29aba40"
      },
      "execution_count": null,
      "outputs": [
        {
          "output_type": "stream",
          "name": "stdout",
          "text": [
            "고기잡이 1 100\n",
            "고기팔기 1 100\n",
            "낚시 2 100\n",
            "통발 2 100\n",
            "큰그물 2 100\n"
          ]
        }
      ]
    },
    {
      "cell_type": "code",
      "source": [
        "skill = [\n",
        "        ('고기잡이', [1, 100]),\n",
        "        ('고기팔기', [1, 100]),\n",
        "        ('낚시', [2, 100]),\n",
        "        ('통발', [2, 100]),\n",
        "        ('큰그물', [2, 100])\n",
        "]\n",
        "for i,[x,y] in skill:\n",
        "    print(i,x,y)"
      ],
      "metadata": {
        "colab": {
          "base_uri": "https://localhost:8080/"
        },
        "id": "JW3WhmfV3bA7",
        "outputId": "28c56e1c-cc83-4412-cbf8-99ea8e770002"
      },
      "execution_count": null,
      "outputs": [
        {
          "output_type": "stream",
          "name": "stdout",
          "text": [
            "고기잡이 1 100\n",
            "고기팔기 1 100\n",
            "낚시 2 100\n",
            "통발 2 100\n",
            "큰그물 2 100\n"
          ]
        }
      ]
    },
    {
      "cell_type": "code",
      "source": [
        "skill = [\n",
        "        ('고기잡이', (1, 100)),\n",
        "        ('고기팔기', (1, 100)),\n",
        "        ('낚시', (2, 100)),\n",
        "        ('통발', (2, 100)),\n",
        "        ('큰그물', (2, 100))\n",
        "]\n",
        "\n",
        "for i, [x, y] in skill:\n",
        "    print(i, x, y)"
      ],
      "metadata": {
        "colab": {
          "base_uri": "https://localhost:8080/"
        },
        "id": "FQVqVyW4HLal",
        "outputId": "07e9cf20-6af0-406d-d577-339b5f5b5ef8"
      },
      "execution_count": null,
      "outputs": [
        {
          "output_type": "stream",
          "name": "stdout",
          "text": [
            "고기잡이 1 100\n",
            "고기팔기 1 100\n",
            "낚시 2 100\n",
            "통발 2 100\n",
            "큰그물 2 100\n"
          ]
        }
      ]
    },
    {
      "cell_type": "code",
      "source": [
        "skill = [\n",
        "        ('고기잡이', (1, 100)),\n",
        "        ('고기팔기', (1, 100)),\n",
        "        ('낚시', (2, 100)),\n",
        "        ('통발', (2, 100)),\n",
        "        ('큰그물', (2, 100))\n",
        "]\n",
        "for i, [x,y] in skill:\n",
        "    print(i,x,y)"
      ],
      "metadata": {
        "colab": {
          "base_uri": "https://localhost:8080/"
        },
        "id": "hsDj0tQt6fyg",
        "outputId": "0754c27b-6c39-4c17-9ae5-ea9349177a00"
      },
      "execution_count": null,
      "outputs": [
        {
          "output_type": "stream",
          "name": "stdout",
          "text": [
            "고기잡이 1 100\n",
            "고기팔기 1 100\n",
            "낚시 2 100\n",
            "통발 2 100\n",
            "큰그물 2 100\n"
          ]
        }
      ]
    },
    {
      "cell_type": "code",
      "source": [
        "# 문제\n",
        "# data는 다음과 같은 데이터가 있습니다.\n",
        "# 각각 skill 이름, skill 제한 레벨, skill 포인트, skill 등급입니다.\n",
        "# 아래와 같이 출력해주세요.\n",
        "data = [\n",
        "        ('고기잡이', (1, 100, 'S')),\n",
        "        ('고기팔기', (1, 100, 'A')),\n",
        "        ('낚시', (2, 100, 'A')),\n",
        "        ('통발', (2, 100, 'B')),\n",
        "        ('큰그물', (2, 100, 'S'))\n",
        "]\n",
        "\n",
        "\n",
        "# 출력값\n",
        "# 아래와 같은 형식으로 총 5개 출력해야 합니다.\n",
        "# '축하합니다. S등급에 skill 고기잡이를 습득하셨습니다! \n",
        "#  해당 스킬은 레벨 제한 1에 스필 포인트 100입니다.'"
      ],
      "metadata": {
        "id": "mpzmFcZlH3tP"
      },
      "execution_count": null,
      "outputs": []
    },
    {
      "cell_type": "code",
      "source": [
        "for i, [x,y,z] in data:\n",
        "    print('축하합니다. {}등급에 skill {}를 습득하셨습니다! 해당 스킬은 레벨 제한 {}에 스필 포인트{}입니다.'.format(z,i,x,y))\n"
      ],
      "metadata": {
        "colab": {
          "base_uri": "https://localhost:8080/"
        },
        "id": "vrXT6E1FJDGo",
        "outputId": "68dbe32e-c32c-4560-a242-8dbf35119bf7"
      },
      "execution_count": null,
      "outputs": [
        {
          "output_type": "stream",
          "name": "stdout",
          "text": [
            "축하합니다. S등급에 skill 고기잡이를 습득하셨습니다! 해당 스킬은 레벨 제한 1에 스필 포인트100입니다.\n",
            "축하합니다. A등급에 skill 고기팔기를 습득하셨습니다! 해당 스킬은 레벨 제한 1에 스필 포인트100입니다.\n",
            "축하합니다. A등급에 skill 낚시를 습득하셨습니다! 해당 스킬은 레벨 제한 2에 스필 포인트100입니다.\n",
            "축하합니다. B등급에 skill 통발를 습득하셨습니다! 해당 스킬은 레벨 제한 2에 스필 포인트100입니다.\n",
            "축하합니다. S등급에 skill 큰그물를 습득하셨습니다! 해당 스킬은 레벨 제한 2에 스필 포인트100입니다.\n"
          ]
        }
      ]
    },
    {
      "cell_type": "code",
      "source": [
        "# 문제\n",
        "# data는 다음과 같은 데이터가 있습니다.\n",
        "# 각각 skill 이름, skill 제한 레벨, skill 포인트, skill 등급입니다.\n",
        "# 아래와 같이 출력해주세요.\n",
        "data = [\n",
        "        ('고기잡이', (1, 100, 'S')),\n",
        "        ('고기팔기', (1, 100, 'A')),\n",
        "        ('낚시', (2, 100, 'A')),\n",
        "        ('통발', (2, 100, 'B')),\n",
        "        ('큰그물', (2, 100, 'S'))\n",
        "]\n",
        "\n",
        "\n",
        "# 출력값\n",
        "# 아래와 같은 형식으로 총 5개 출력해야 합니다.\n",
        "# '축하합니다. S등급에 skill 고기잡이를 습득하셨습니다! \n",
        "#  해당 스킬은 레벨 제한 1에 스필 포인트 100입니다.'\n",
        "\n",
        "for i, [x,y,z] in data:\n",
        "    print('축하합니다. {}등급에 skill {}를 습득하셨습니다! 해당 스킬은 레벨 제한 1에 스필 포인트{}입니다.'.format(z,i,y,x))"
      ],
      "metadata": {
        "colab": {
          "base_uri": "https://localhost:8080/"
        },
        "id": "kLoP2PPp63Xb",
        "outputId": "c27e4ca8-87c1-4147-cc88-53b4de6b7821"
      },
      "execution_count": null,
      "outputs": [
        {
          "output_type": "stream",
          "name": "stdout",
          "text": [
            "축하합니다. S등급에 skill 고기잡이를 습득하셨습니다! 해당 스킬은 레벨 제한 1에 스필 포인트100입니다.\n",
            "축하합니다. A등급에 skill 고기팔기를 습득하셨습니다! 해당 스킬은 레벨 제한 1에 스필 포인트100입니다.\n",
            "축하합니다. A등급에 skill 낚시를 습득하셨습니다! 해당 스킬은 레벨 제한 1에 스필 포인트100입니다.\n",
            "축하합니다. B등급에 skill 통발를 습득하셨습니다! 해당 스킬은 레벨 제한 1에 스필 포인트100입니다.\n",
            "축하합니다. S등급에 skill 큰그물를 습득하셨습니다! 해당 스킬은 레벨 제한 1에 스필 포인트100입니다.\n"
          ]
        }
      ]
    },
    {
      "cell_type": "markdown",
      "source": [
        "## while"
      ],
      "metadata": {
        "id": "5GVm6gKVMQDC"
      }
    },
    {
      "cell_type": "code",
      "source": [
        "# 반복문 : for, while\n",
        "a = 1\n",
        "while a < 10 : # True인 동안에\n",
        "    print(a)\n",
        "    a += 1"
      ],
      "metadata": {
        "colab": {
          "base_uri": "https://localhost:8080/"
        },
        "id": "IksM3ImYMR6p",
        "outputId": "2b6cf3e1-4fa5-4510-8063-7b46c66b2ce5"
      },
      "execution_count": null,
      "outputs": [
        {
          "output_type": "stream",
          "name": "stdout",
          "text": [
            "1\n",
            "2\n",
            "3\n",
            "4\n",
            "5\n",
            "6\n",
            "7\n",
            "8\n",
            "9\n"
          ]
        }
      ]
    },
    {
      "cell_type": "code",
      "source": [
        "# while문은 조건이 참인 동안에 명령을 반복해서 수행 \n",
        "a = 1\n",
        "while a < 10: \n",
        "    print(a)\n",
        "    a += 1"
      ],
      "metadata": {
        "colab": {
          "base_uri": "https://localhost:8080/"
        },
        "id": "lWzDIVtr9GPA",
        "outputId": "1d2b2b6a-6076-4058-c5f0-7c9ddbc1560c"
      },
      "execution_count": null,
      "outputs": [
        {
          "output_type": "stream",
          "name": "stdout",
          "text": [
            "1\n",
            "2\n",
            "3\n",
            "4\n",
            "5\n",
            "6\n",
            "7\n",
            "8\n",
            "9\n"
          ]
        }
      ]
    },
    {
      "cell_type": "code",
      "source": [
        "# while문의 조건을 부분에 bool형인 Ture가 오게 하면 반복문은 무한 반복\n",
        "# 무한 반복이 일어나지 않게 하기 위해 break문으로 조건을 탈출\n",
        "\n",
        "숫자 = 0\n",
        "while True:\n",
        "\tprint(\"현재 숫자는 \", 숫자, \"입니다.\")\n",
        "\t숫자 += 1\n",
        "\tif 숫자 > 5:\n",
        "\t\tprint(\"반복문을 종료합니다.\")\n",
        "\t\tbreak"
      ],
      "metadata": {
        "colab": {
          "base_uri": "https://localhost:8080/"
        },
        "id": "F4SUvSGfAouQ",
        "outputId": "7ad152e7-f794-43d6-b24d-3d9d0d502599"
      },
      "execution_count": null,
      "outputs": [
        {
          "output_type": "stream",
          "name": "stdout",
          "text": [
            "현재 숫자는  0 입니다.\n",
            "현재 숫자는  1 입니다.\n",
            "현재 숫자는  2 입니다.\n",
            "현재 숫자는  3 입니다.\n",
            "현재 숫자는  4 입니다.\n",
            "현재 숫자는  5 입니다.\n",
            "반복문을 종료합니다.\n"
          ]
        }
      ]
    },
    {
      "cell_type": "code",
      "source": [
        "숫자 = 0 \n",
        "while True:\n",
        "    print('현재 숫자는 ', 숫자, '입니다.')\n",
        "    숫자 += 1\n",
        "    if 숫자 > 5:\n",
        "        print(\"반복문을 종료합니다.\")\n",
        "        break"
      ],
      "metadata": {
        "colab": {
          "base_uri": "https://localhost:8080/"
        },
        "id": "node_7AAAzQu",
        "outputId": "ff6f84ed-adad-46e0-87ad-39cce4ad909b"
      },
      "execution_count": null,
      "outputs": [
        {
          "output_type": "stream",
          "name": "stdout",
          "text": [
            "현재 숫자는  0 입니다.\n",
            "현재 숫자는  1 입니다.\n",
            "현재 숫자는  2 입니다.\n",
            "현재 숫자는  3 입니다.\n",
            "현재 숫자는  4 입니다.\n",
            "현재 숫자는  5 입니다.\n",
            "반복문을 종료합니다.\n"
          ]
        }
      ]
    },
    {
      "cell_type": "code",
      "source": [
        "숫자 = 0\n",
        "while 숫자 < 5:\n",
        "\tprint(\"현재 숫자는 \", 숫자, \"입니다.\")\n",
        "\t숫자 += 1\n",
        "\tif 숫자 > 3:\n",
        "\t\t    break\n",
        "else:\n",
        "    print('반복문을 종료합니다.')"
      ],
      "metadata": {
        "colab": {
          "base_uri": "https://localhost:8080/"
        },
        "id": "ZBErZAmdCZ6e",
        "outputId": "b0b4f98e-cce6-48df-a3e9-04fe15fff2a0"
      },
      "execution_count": null,
      "outputs": [
        {
          "output_type": "stream",
          "name": "stdout",
          "text": [
            "현재 숫자는  0 입니다.\n",
            "현재 숫자는  1 입니다.\n",
            "현재 숫자는  2 입니다.\n",
            "현재 숫자는  3 입니다.\n"
          ]
        }
      ]
    },
    {
      "cell_type": "code",
      "source": [
        "# while 특정요소:\n",
        "#     특정요소 값 꺼내는 문법\n",
        "#     특정요소가 모두 없어질 때까지\n",
        "l = [1,2,3]\n",
        "while l: \n",
        "    print(l.pop())"
      ],
      "metadata": {
        "colab": {
          "base_uri": "https://localhost:8080/"
        },
        "id": "BkiKSBGKMt8V",
        "outputId": "46118522-e434-4cbb-9935-ed1860b1c87d"
      },
      "execution_count": null,
      "outputs": [
        {
          "output_type": "stream",
          "name": "stdout",
          "text": [
            "3\n",
            "2\n",
            "1\n"
          ]
        }
      ]
    },
    {
      "cell_type": "code",
      "source": [
        "l = {1,2,3}\n",
        "while l: \n",
        "    print(l.pop())"
      ],
      "metadata": {
        "colab": {
          "base_uri": "https://localhost:8080/"
        },
        "id": "mp4nA99oPewC",
        "outputId": "7e743513-1a57-44a1-a015-f40b821d368d"
      },
      "execution_count": null,
      "outputs": [
        {
          "output_type": "stream",
          "name": "stdout",
          "text": [
            "1\n",
            "2\n",
            "3\n"
          ]
        }
      ]
    },
    {
      "cell_type": "code",
      "source": [
        "# 중복되는 문자열 중 가장 첫번째 나온\n",
        "# 문자의 index를 반환하라!\n",
        "s = 'abbbbbccdennnnneefefg'\n",
        "ss = set(s)\n",
        "while ss:\n",
        "    string = ss.pop()\n",
        "    print(string, s.index(string))"
      ],
      "metadata": {
        "colab": {
          "base_uri": "https://localhost:8080/"
        },
        "id": "-tvtqfJ0PkiE",
        "outputId": "9b36c777-8a85-49d9-a84a-17ce654230a4"
      },
      "execution_count": null,
      "outputs": [
        {
          "output_type": "stream",
          "name": "stdout",
          "text": [
            "e 9\n",
            "n 10\n",
            "d 8\n",
            "f 17\n",
            "c 6\n",
            "a 0\n",
            "g 20\n",
            "b 1\n"
          ]
        }
      ]
    },
    {
      "cell_type": "code",
      "source": [
        "s = 'abbbbbccdennnnneefefg' ## 이거 이해 못함 \n",
        "ss = set(s)\n",
        "while ss:\n",
        "    string = ss.pop()\n",
        "    print(string, s.index(string))"
      ],
      "metadata": {
        "colab": {
          "base_uri": "https://localhost:8080/"
        },
        "id": "iMczp22ZDGHh",
        "outputId": "3a23d8d3-dd73-4fef-f6b9-f94d05d0d570"
      },
      "execution_count": null,
      "outputs": [
        {
          "output_type": "stream",
          "name": "stdout",
          "text": [
            "g 20\n",
            "n 10\n",
            "a 0\n",
            "b 1\n",
            "f 17\n",
            "d 8\n",
            "e 9\n",
            "c 6\n"
          ]
        }
      ]
    },
    {
      "cell_type": "code",
      "source": [
        "# 이러한 무한반복은 메모리를 모두 소진한다.\n",
        "# 서버가 뻗을 수도 있다. \n",
        "while True:\n",
        "    user_input = input('$')\n",
        "    split_data = user_input.split(' ')\n",
        "    if split_data[0] == 'mkdir':\n",
        "        print(f'{split_data[1]}폴더가 생성되었습니다!')\n",
        "    elif split_data[0] == 'rmdir':\n",
        "        print(f'{split_data[1]}폴더가 삭제되었습니다!')\n",
        "    elif split_data[0] == 'exit':\n",
        "        print('프로그램 종료합니다.')\n",
        "        break"
      ],
      "metadata": {
        "id": "SsZANqVdQRSZ"
      },
      "execution_count": null,
      "outputs": []
    },
    {
      "cell_type": "code",
      "source": [
        "#[In]\n",
        "\n",
        "for i in range(2, 10):\n",
        "    for j in range(1, 10):\n",
        "        if j > 5:\n",
        "            break\n",
        "        print(f'{i} X {j} = {i*j}')"
      ],
      "metadata": {
        "colab": {
          "base_uri": "https://localhost:8080/"
        },
        "id": "jmWjC_vsD10a",
        "outputId": "be5f1965-6371-47c6-91a5-3c3131753b1e"
      },
      "execution_count": null,
      "outputs": [
        {
          "output_type": "stream",
          "name": "stdout",
          "text": [
            "2 X 1 = 2\n",
            "2 X 2 = 4\n",
            "2 X 3 = 6\n",
            "2 X 4 = 8\n",
            "2 X 5 = 10\n",
            "3 X 1 = 3\n",
            "3 X 2 = 6\n",
            "3 X 3 = 9\n",
            "3 X 4 = 12\n",
            "3 X 5 = 15\n",
            "4 X 1 = 4\n",
            "4 X 2 = 8\n",
            "4 X 3 = 12\n",
            "4 X 4 = 16\n",
            "4 X 5 = 20\n",
            "5 X 1 = 5\n",
            "5 X 2 = 10\n",
            "5 X 3 = 15\n",
            "5 X 4 = 20\n",
            "5 X 5 = 25\n",
            "6 X 1 = 6\n",
            "6 X 2 = 12\n",
            "6 X 3 = 18\n",
            "6 X 4 = 24\n",
            "6 X 5 = 30\n",
            "7 X 1 = 7\n",
            "7 X 2 = 14\n",
            "7 X 3 = 21\n",
            "7 X 4 = 28\n",
            "7 X 5 = 35\n",
            "8 X 1 = 8\n",
            "8 X 2 = 16\n",
            "8 X 3 = 24\n",
            "8 X 4 = 32\n",
            "8 X 5 = 40\n",
            "9 X 1 = 9\n",
            "9 X 2 = 18\n",
            "9 X 3 = 27\n",
            "9 X 4 = 36\n",
            "9 X 5 = 45\n"
          ]
        }
      ]
    },
    {
      "cell_type": "code",
      "source": [
        "d = '안_녕'\n",
        "d.split('_')"
      ],
      "metadata": {
        "colab": {
          "base_uri": "https://localhost:8080/"
        },
        "id": "4NHT7tZlR8d-",
        "outputId": "d332b201-540f-49a8-b473-75e1fdf898fd"
      },
      "execution_count": null,
      "outputs": [
        {
          "output_type": "execute_result",
          "data": {
            "text/plain": [
              "['안', '녕']"
            ]
          },
          "metadata": {},
          "execution_count": 68
        }
      ]
    },
    {
      "cell_type": "code",
      "source": [
        "import random\n",
        "random.randint(1,100)"
      ],
      "metadata": {
        "colab": {
          "base_uri": "https://localhost:8080/"
        },
        "id": "raOLbCKtSITu",
        "outputId": "7d9a35df-148c-4e07-c8c0-4fafa951df7c"
      },
      "execution_count": null,
      "outputs": [
        {
          "output_type": "execute_result",
          "data": {
            "text/plain": [
              "14"
            ]
          },
          "metadata": {},
          "execution_count": 72
        }
      ]
    },
    {
      "cell_type": "code",
      "source": [
        "import random\n",
        "# up down game\n",
        "result = random.randint(1,100)\n",
        "while True:\n",
        "    user_input = int(input())\n",
        "    if user_input > result:\n",
        "        print('down')\n",
        "    elif user_input < result:\n",
        "        print('up')\n",
        "    else:\n",
        "        print('맞췄습니다!')\n",
        "        print('프로그램을 종료합니다.')\n",
        "        break"
      ],
      "metadata": {
        "colab": {
          "base_uri": "https://localhost:8080/"
        },
        "id": "t_AgXW--THng",
        "outputId": "949f577a-904c-41d6-9b77-17209e68ec73"
      },
      "execution_count": null,
      "outputs": [
        {
          "output_type": "stream",
          "name": "stdout",
          "text": [
            "20\n",
            "up\n",
            "40\n",
            "up\n",
            "70\n",
            "up\n",
            "80\n",
            "up\n",
            "90\n",
            "up\n",
            "100\n",
            "down\n",
            "98\n",
            "맞췄습니다!\n",
            "프로그램을 종료합니다.\n"
          ]
        }
      ]
    },
    {
      "cell_type": "code",
      "source": [
        "# 구구단이 출력되지 않는 코드 \n",
        "# 한땀한땀 따라가면서 왜 출력이 되지 않는지 체크해보세요.\n",
        "# 왜 2단만 출력했을까?\n",
        "x = 2\n",
        "y = 1\n",
        "while x < 10:\n",
        "    while y < 10:\n",
        "        print(x,y,x*y)\n",
        "        y+= 1\n",
        "    x += 1"
      ],
      "metadata": {
        "colab": {
          "base_uri": "https://localhost:8080/",
          "height": 438
        },
        "id": "tjz1JXx0Tw8B",
        "outputId": "21d0e59e-0716-4c12-92b6-9b317de2d9a2"
      },
      "execution_count": null,
      "outputs": [
        {
          "output_type": "stream",
          "name": "stdout",
          "text": [
            "2 1 2\n",
            "2 2 4\n",
            "2 3 6\n",
            "2 4 8\n",
            "2 5 10\n",
            "2 6 12\n",
            "2 7 14\n",
            "2 8 16\n",
            "2 9 18\n"
          ]
        },
        {
          "output_type": "error",
          "ename": "KeyboardInterrupt",
          "evalue": "ignored",
          "traceback": [
            "\u001b[0;31m---------------------------------------------------------------------------\u001b[0m",
            "\u001b[0;31mKeyboardInterrupt\u001b[0m                         Traceback (most recent call last)",
            "\u001b[0;32m<ipython-input-74-b54905432ff4>\u001b[0m in \u001b[0;36m<cell line: 6>\u001b[0;34m()\u001b[0m\n\u001b[1;32m      5\u001b[0m \u001b[0my\u001b[0m \u001b[0;34m=\u001b[0m \u001b[0;36m1\u001b[0m\u001b[0;34m\u001b[0m\u001b[0;34m\u001b[0m\u001b[0m\n\u001b[1;32m      6\u001b[0m \u001b[0;32mwhile\u001b[0m \u001b[0mx\u001b[0m \u001b[0;34m<\u001b[0m \u001b[0;36m10\u001b[0m\u001b[0;34m:\u001b[0m\u001b[0;34m\u001b[0m\u001b[0;34m\u001b[0m\u001b[0m\n\u001b[0;32m----> 7\u001b[0;31m     \u001b[0;32mwhile\u001b[0m \u001b[0my\u001b[0m \u001b[0;34m<\u001b[0m \u001b[0;36m10\u001b[0m\u001b[0;34m:\u001b[0m\u001b[0;34m\u001b[0m\u001b[0;34m\u001b[0m\u001b[0m\n\u001b[0m\u001b[1;32m      8\u001b[0m         \u001b[0mprint\u001b[0m\u001b[0;34m(\u001b[0m\u001b[0mx\u001b[0m\u001b[0;34m,\u001b[0m\u001b[0my\u001b[0m\u001b[0;34m,\u001b[0m\u001b[0mx\u001b[0m\u001b[0;34m*\u001b[0m\u001b[0my\u001b[0m\u001b[0;34m)\u001b[0m\u001b[0;34m\u001b[0m\u001b[0;34m\u001b[0m\u001b[0m\n\u001b[1;32m      9\u001b[0m         \u001b[0my\u001b[0m\u001b[0;34m+=\u001b[0m \u001b[0;36m1\u001b[0m\u001b[0;34m\u001b[0m\u001b[0;34m\u001b[0m\u001b[0m\n",
            "\u001b[0;31mKeyboardInterrupt\u001b[0m: "
          ]
        }
      ]
    },
    {
      "cell_type": "code",
      "source": [
        "x = 2\n",
        "y = 1\n",
        "while x < 10:\n",
        "    while y < 10:\n",
        "        print(x,y,x*y)\n",
        "        y+= 1\n",
        "    y = 1 #초기화를 해주어야 다음 while에서 y<10에 들어갈 수 있다. 그냥 외워\n",
        "    x += 1"
      ],
      "metadata": {
        "id": "4z6GQdJ_UXyb",
        "colab": {
          "base_uri": "https://localhost:8080/"
        },
        "outputId": "a7364bee-536c-4c1b-ff47-9f0c3a6c4d28"
      },
      "execution_count": null,
      "outputs": [
        {
          "output_type": "stream",
          "name": "stdout",
          "text": [
            "2 1 2\n",
            "2 2 4\n",
            "2 3 6\n",
            "2 4 8\n",
            "2 5 10\n",
            "2 6 12\n",
            "2 7 14\n",
            "2 8 16\n",
            "2 9 18\n",
            "3 1 3\n",
            "3 2 6\n",
            "3 3 9\n",
            "3 4 12\n",
            "3 5 15\n",
            "3 6 18\n",
            "3 7 21\n",
            "3 8 24\n",
            "3 9 27\n",
            "4 1 4\n",
            "4 2 8\n",
            "4 3 12\n",
            "4 4 16\n",
            "4 5 20\n",
            "4 6 24\n",
            "4 7 28\n",
            "4 8 32\n",
            "4 9 36\n",
            "5 1 5\n",
            "5 2 10\n",
            "5 3 15\n",
            "5 4 20\n",
            "5 5 25\n",
            "5 6 30\n",
            "5 7 35\n",
            "5 8 40\n",
            "5 9 45\n",
            "6 1 6\n",
            "6 2 12\n",
            "6 3 18\n",
            "6 4 24\n",
            "6 5 30\n",
            "6 6 36\n",
            "6 7 42\n",
            "6 8 48\n",
            "6 9 54\n",
            "7 1 7\n",
            "7 2 14\n",
            "7 3 21\n",
            "7 4 28\n",
            "7 5 35\n",
            "7 6 42\n",
            "7 7 49\n",
            "7 8 56\n",
            "7 9 63\n",
            "8 1 8\n",
            "8 2 16\n",
            "8 3 24\n",
            "8 4 32\n",
            "8 5 40\n",
            "8 6 48\n",
            "8 7 56\n",
            "8 8 64\n",
            "8 9 72\n",
            "9 1 9\n",
            "9 2 18\n",
            "9 3 27\n",
            "9 4 36\n",
            "9 5 45\n",
            "9 6 54\n",
            "9 7 63\n",
            "9 8 72\n",
            "9 9 81\n"
          ]
        }
      ]
    },
    {
      "cell_type": "code",
      "source": [
        "count = 0\n",
        "while True:\n",
        "    print(count)\n",
        "    if count == 5:\n",
        "        break\n",
        "    count += 1\n",
        "print('end')"
      ],
      "metadata": {
        "colab": {
          "base_uri": "https://localhost:8080/"
        },
        "id": "vsKgELfaUimc",
        "outputId": "88088763-d74d-41dc-d888-5367252b09c0"
      },
      "execution_count": null,
      "outputs": [
        {
          "output_type": "stream",
          "name": "stdout",
          "text": [
            "0\n",
            "1\n",
            "2\n",
            "3\n",
            "4\n",
            "5\n",
            "end\n"
          ]
        }
      ]
    },
    {
      "cell_type": "code",
      "source": [
        "count = 0\n",
        "while True:\n",
        "    print(count)\n",
        "    if count == 5:\n",
        "       break\n",
        "    count += 1\n",
        "    print('end')"
      ],
      "metadata": {
        "colab": {
          "base_uri": "https://localhost:8080/"
        },
        "id": "CpUTFAlVGeZA",
        "outputId": "344b3a38-0f33-41db-9156-063c66998026"
      },
      "execution_count": null,
      "outputs": [
        {
          "output_type": "stream",
          "name": "stdout",
          "text": [
            "0\n",
            "end\n",
            "1\n",
            "end\n",
            "2\n",
            "end\n",
            "3\n",
            "end\n",
            "4\n",
            "end\n",
            "5\n"
          ]
        }
      ]
    },
    {
      "cell_type": "code",
      "source": [
        "# 0.3000000000000004\n",
        "count = 0.0\n",
        "while True:\n",
        "    print(count)\n",
        "    if count == 0.3: # 부동소수점 문제가 발생할 수 있다. 계속 무한반복\n",
        "        break\n",
        "    count += 0.1\n",
        "print('end')"
      ],
      "metadata": {
        "id": "zDtH6QzUVAjI"
      },
      "execution_count": null,
      "outputs": []
    },
    {
      "cell_type": "code",
      "source": [
        "# 다른 언어에서는 이 구문이 작동되지 않습니다.\n",
        "i = 0\n",
        "while i < 10:\n",
        "    if i == 5:\n",
        "        break\n",
        "    i += 1\n",
        "else:\n",
        "    print('정상종료!')"
      ],
      "metadata": {
        "id": "J8_WKmkyVbO3"
      },
      "execution_count": null,
      "outputs": []
    },
    {
      "cell_type": "code",
      "source": [
        "i = 0\n",
        "while i < 10:\n",
        "    i += 1\n",
        "else:\n",
        "    print('정상종료!')"
      ],
      "metadata": {
        "colab": {
          "base_uri": "https://localhost:8080/"
        },
        "id": "jjk4A9xgVte3",
        "outputId": "f857b7b8-cb85-4e5f-9fa4-f28d36ea6518"
      },
      "execution_count": null,
      "outputs": [
        {
          "output_type": "stream",
          "name": "stdout",
          "text": [
            "정상종료!\n"
          ]
        }
      ]
    },
    {
      "cell_type": "markdown",
      "source": [
        "* https://school.programmers.co.kr/learn/courses/30/lessons/120871"
      ],
      "metadata": {
        "id": "MeSFB7FRX_Qf"
      }
    },
    {
      "cell_type": "code",
      "source": [
        "count10 = 0\n",
        "n = 15\n",
        "while count10 < n:\n",
        "    print(count10)\n",
        "    count10 += 1"
      ],
      "metadata": {
        "colab": {
          "base_uri": "https://localhost:8080/"
        },
        "id": "j3_zE3FLYeqV",
        "outputId": "5c56eca7-a9dc-4d73-e9d8-8e3039078d82"
      },
      "execution_count": null,
      "outputs": [
        {
          "output_type": "stream",
          "name": "stdout",
          "text": [
            "0\n",
            "1\n",
            "2\n",
            "3\n",
            "4\n",
            "5\n",
            "6\n",
            "7\n",
            "8\n",
            "9\n",
            "10\n",
            "11\n",
            "12\n",
            "13\n",
            "14\n"
          ]
        }
      ]
    },
    {
      "cell_type": "code",
      "source": [
        "count10 = 0\n",
        "n = 15\n",
        "while count10 < n:\n",
        "    print(count10)\n",
        "    count10+=1"
      ],
      "metadata": {
        "colab": {
          "base_uri": "https://localhost:8080/"
        },
        "id": "GGHd5dCtIxxt",
        "outputId": "a12c9ad1-9db6-410c-80ae-b903d11256f6"
      },
      "execution_count": null,
      "outputs": [
        {
          "output_type": "stream",
          "name": "stdout",
          "text": [
            "0\n",
            "1\n",
            "2\n",
            "3\n",
            "4\n",
            "5\n",
            "6\n",
            "7\n",
            "8\n",
            "9\n",
            "10\n",
            "11\n",
            "12\n",
            "13\n",
            "14\n"
          ]
        }
      ]
    },
    {
      "cell_type": "code",
      "source": [
        "\n",
        "#for, else문\n",
        "for i in range(5, 0, -1):\n",
        "    print(\"고등어 \", i, \" 개 남았습니다.\")\n",
        "else:\n",
        "    print('고등어 다 팔렸습니다.')\n"
      ],
      "metadata": {
        "colab": {
          "base_uri": "https://localhost:8080/"
        },
        "id": "4rd9_95yLJBe",
        "outputId": "d269bde4-752d-49be-e1df-644fadcaf8f9"
      },
      "execution_count": null,
      "outputs": [
        {
          "output_type": "stream",
          "name": "stdout",
          "text": [
            "고등어  5  개 남았습니다.\n",
            "고등어  4  개 남았습니다.\n",
            "고등어  3  개 남았습니다.\n",
            "고등어  2  개 남았습니다.\n",
            "고등어  1  개 남았습니다.\n",
            "고등어 다 팔렸습니다.\n"
          ]
        }
      ]
    },
    {
      "cell_type": "code",
      "source": [
        "# step 2 조건만 구현\n",
        "count10 = 0\n",
        "count3 = 0 # 3x 마을에서 쓰는 숫자\n",
        "n = 5\n",
        "while count10 < n + 1: \n",
        "    count10 += 1 \n",
        "    count3 += 1 \n",
        "    if count3 % 3 ==0 or '3' in str(count3):\n",
        "        count3 += 1\n",
        "    # 저주의 숫자를 지나가도 다시 저주의 숫자일 수 있습니다\n",
        "    # 체크를 계속 해야 하는데 한번만 합니다\n",
        "    print(count10, count3)\n",
        "count3"
      ],
      "metadata": {
        "colab": {
          "base_uri": "https://localhost:8080/"
        },
        "id": "APD5ZQ7PY0jX",
        "outputId": "c7373fdb-2e59-48a9-8d5e-4098508c52fc"
      },
      "execution_count": null,
      "outputs": [
        {
          "output_type": "stream",
          "name": "stdout",
          "text": [
            "1 1\n",
            "2 2\n",
            "3 4\n",
            "4 5\n",
            "5 7\n",
            "6 8\n"
          ]
        },
        {
          "output_type": "execute_result",
          "data": {
            "text/plain": [
              "8"
            ]
          },
          "metadata": {},
          "execution_count": 86
        }
      ]
    },
    {
      "cell_type": "code",
      "source": [
        "def solution(n):\n",
        "    count10 = 0\n",
        "    count3 = 0\n",
        "    while count10 < n:\n",
        "        count10 += 1\n",
        "        count3 += 1\n",
        "        while count3 % 3 == 0 or '3' in str(count3):\n",
        "            count3 += 1\n",
        "    return count3"
      ],
      "metadata": {
        "id": "7gMTk2kkuVrP"
      },
      "execution_count": null,
      "outputs": []
    },
    {
      "cell_type": "code",
      "source": [
        "def solution(n):\n",
        "    return [i for i in range(1, 1001) if i % 3 != 0 and not('3' in str(i))][n-1]"
      ],
      "metadata": {
        "id": "i-trK_fHuYn8"
      },
      "execution_count": null,
      "outputs": []
    },
    {
      "cell_type": "code",
      "source": [
        "[i for i in range(1, 31) if i % 3 != 0 and not('3' in str(i))][n-1]"
      ],
      "metadata": {
        "colab": {
          "base_uri": "https://localhost:8080/"
        },
        "id": "tmiHZiZwupFk",
        "outputId": "1b53ef6b-32a5-435a-aac3-c08baa0f8b40"
      },
      "execution_count": null,
      "outputs": [
        {
          "output_type": "execute_result",
          "data": {
            "text/plain": [
              "7"
            ]
          },
          "metadata": {},
          "execution_count": 101
        }
      ]
    },
    {
      "cell_type": "code",
      "source": [],
      "metadata": {
        "id": "VbpVx13fLIWh"
      },
      "execution_count": null,
      "outputs": []
    },
    {
      "cell_type": "markdown",
      "source": [
        "## 예외처리(try, except, else)"
      ],
      "metadata": {
        "id": "IHS65M-XV404"
      }
    },
    {
      "cell_type": "code",
      "source": [
        "# try:\n",
        "#   실행문\n",
        "# except:\n",
        "#   예외 발생시 처리문\n",
        "# else:\n",
        "#   예외 발생하지 않을 경우 실행문\n"
      ],
      "metadata": {
        "id": "bexIGZqTV_wI"
      },
      "execution_count": null,
      "outputs": []
    },
    {
      "cell_type": "code",
      "source": [
        "try:\n",
        "    i = 1\n",
        "    j = 0\n",
        "    x = i/j\n",
        "except:\n",
        "    print('error')\n",
        "else:\n",
        "    print(x)"
      ],
      "metadata": {
        "colab": {
          "base_uri": "https://localhost:8080/"
        },
        "id": "nEGiInF0WUBY",
        "outputId": "644c33f4-a154-4424-80e4-4e25763f3fd5"
      },
      "execution_count": null,
      "outputs": [
        {
          "output_type": "stream",
          "name": "stdout",
          "text": [
            "error\n"
          ]
        }
      ]
    },
    {
      "cell_type": "markdown",
      "source": [
        "## 실제 데이터를 가지고 연습(json gen)"
      ],
      "metadata": {
        "id": "SXCkLblYvDDU"
      }
    },
    {
      "cell_type": "code",
      "source": [
        "data = [\n",
        "  {\n",
        "    \"_id\": \"6459c9f4ebc9d86c2a656d5e\",\n",
        "    \"index\": 0,\n",
        "    \"age\": 27,\n",
        "    \"name\": \"Burgess Hammond\",\n",
        "    \"gender\": \"male\"\n",
        "  },\n",
        "  {\n",
        "    \"_id\": \"6459c9f4d99872fea5ad0459\",\n",
        "    \"index\": 1,\n",
        "    \"age\": 38,\n",
        "    \"name\": \"Leon Luna\",\n",
        "    \"gender\": \"male\"\n",
        "  },\n",
        "  {\n",
        "    \"_id\": \"6459c9f4234b6e3701033326\",\n",
        "    \"index\": 2,\n",
        "    \"age\": 35,\n",
        "    \"name\": \"Huber Nieves\",\n",
        "    \"gender\": \"male\"\n",
        "  }\n",
        "]\n",
        "\n",
        "# 반복문을 사용해도 좋지만,\n",
        "# 반복문을 사용하실 수 없다면 index로만 계산하셔도 좋습니다.\n",
        "# 회원들의 평균 나이\n",
        "# 회원들의 남녀 성비\n",
        "1. (data[0]['age'] + data[1]['age'] + data[2]['age']) /3\n",
        "2. "
      ],
      "metadata": {
        "colab": {
          "base_uri": "https://localhost:8080/"
        },
        "id": "ixghpvftvN8f",
        "outputId": "38ba8f8f-227a-4d63-ed48-f7b48d6552b5"
      },
      "execution_count": null,
      "outputs": [
        {
          "output_type": "execute_result",
          "data": {
            "text/plain": [
              "27"
            ]
          },
          "metadata": {},
          "execution_count": 85
        }
      ]
    },
    {
      "cell_type": "code",
      "source": [
        "#lv0\n",
        "(data[0]['age'] + data[1]['age']+ data[2]['age']) / 3\n",
        "\n",
        "성별 = []\n",
        "성별.append(data[0]['gender'])\n",
        "성별.append(data[1]['gender'])\n",
        "성별.append(data[2]['gender'])\n",
        "print(성별)\n",
        "print(성별.count('male') / len(data) * 100)\n",
        "print(성별.count('female') / len(data) * 100)"
      ],
      "metadata": {
        "colab": {
          "base_uri": "https://localhost:8080/"
        },
        "id": "3KQIyX7AzxL5",
        "outputId": "f6accf3b-a74b-4530-9afc-8038874f8087"
      },
      "execution_count": null,
      "outputs": [
        {
          "output_type": "stream",
          "name": "stdout",
          "text": [
            "['male', 'male', 'male']\n",
            "100.0\n",
            "0.0\n"
          ]
        }
      ]
    },
    {
      "cell_type": "code",
      "source": [
        "#lv1\n",
        "# 좋은 코드는 아닙니다.\n",
        "age_sum = 0\n",
        "for i in range(3):\n",
        "    age_sum += data[i]['age']\n",
        "age_sum / 3\n",
        "\n",
        "성별 = []\n",
        "for i in range(3):\n",
        "    성별.append(data[i]['gender'])\n",
        "print(성별.count('male') / len(data) * 100)\n",
        "print(성별.count('female') / len(data) * 100)"
      ],
      "metadata": {
        "colab": {
          "base_uri": "https://localhost:8080/"
        },
        "id": "52BtT_uP0ns5",
        "outputId": "46cfd587-c3c6-4808-f6e1-e1c218830abb"
      },
      "execution_count": null,
      "outputs": [
        {
          "output_type": "stream",
          "name": "stdout",
          "text": [
            "100.0\n",
            "0.0\n"
          ]
        }
      ]
    },
    {
      "cell_type": "code",
      "source": [
        "#lv2\n",
        "# list(map(lambda x: x['age'], data))\n",
        "sum(map(lambda x: x['age'], data)) / len(data)\n",
        "\n",
        "# 성별 (1줄)\n",
        "print(len(list(filter(lambda x: x['gender']=='male', data))) / len(data) * 100)\n",
        "print(len(list(filter(lambda x: x['gender']=='female', data))) / len(data) * 100)\n",
        "\n"
      ],
      "metadata": {
        "colab": {
          "base_uri": "https://localhost:8080/"
        },
        "id": "iwR40_tu1SyZ",
        "outputId": "8f04510e-5313-49ef-e66e-73881944ff9f"
      },
      "execution_count": null,
      "outputs": [
        {
          "output_type": "stream",
          "name": "stdout",
          "text": [
            "100.0\n",
            "0.0\n"
          ]
        }
      ]
    },
    {
      "cell_type": "markdown",
      "source": [
        "## 알아야 하는 built-in function"
      ],
      "metadata": {
        "id": "a3PiAuQRhcOd"
      }
    },
    {
      "cell_type": "markdown",
      "source": [
        "### 수학적 통계에 필요한 함수"
      ],
      "metadata": {
        "id": "iphSIT_e-U0_"
      }
    },
    {
      "cell_type": "markdown",
      "source": [
        "- abs( ) : 괄호 안에 있는 값을 절대값으로 출력해줍니다.\n",
        "- all( ) : 괄호 안에 있는 값들이 모두 True(False)일 때 True(False)를 출력합니다.\n",
        "- any( ) : 괄호안에 있는 값이 하나라고 True이면 True로 출력합니다.\n",
        "- pow( ) : 제곱을 출력합니다.\n",
        "- max( ) : 값의 최댓값을 출력합니다.\n",
        "- min( ) : 값의 최솟값을 출력합니다.\n",
        "- sum( ) : 값의 합계를 출력합니다.\n",
        "- len( ) : 문자열의 길이를 출력합니다.\n",
        "- sorted( ) : 데이터를 정렬해줍니다.\n",
        "- reversed( ) : 정렬되지 않은 상태에서 값을 역순으로 출력합니다."
      ],
      "metadata": {
        "id": "2S7RS-_x7wK8"
      }
    },
    {
      "cell_type": "code",
      "source": [
        "abs(-1) # 절대값\n",
        "all([True,True,True]) # 괄호안에 있는 모든 값들이 True일 때 트루를 출력\n",
        "all([False,True,True])\n",
        "all(['a','b','ccc'])\n",
        "all(['a','','ccc'])"
      ],
      "metadata": {
        "colab": {
          "base_uri": "https://localhost:8080/"
        },
        "id": "S-oi-jtH7x7W",
        "outputId": "3e413f5e-e782-450a-8718-d70d49e2d011"
      },
      "execution_count": null,
      "outputs": [
        {
          "output_type": "execute_result",
          "data": {
            "text/plain": [
              "False"
            ]
          },
          "metadata": {},
          "execution_count": 144
        }
      ]
    },
    {
      "cell_type": "code",
      "source": [
        "sum([[1,2],[3,4],[5,6]],[])\n",
        "sum([1,2,3,4,5], 100)"
      ],
      "metadata": {
        "colab": {
          "base_uri": "https://localhost:8080/"
        },
        "id": "U1OaRPCK9QuG",
        "outputId": "8472475b-e27a-4bc7-9780-6687a137dd45"
      },
      "execution_count": null,
      "outputs": [
        {
          "output_type": "execute_result",
          "data": {
            "text/plain": [
              "115"
            ]
          },
          "metadata": {},
          "execution_count": 147
        }
      ]
    },
    {
      "cell_type": "code",
      "source": [
        "sum([[1,2],[3,4],[5,6]],[])"
      ],
      "metadata": {
        "colab": {
          "base_uri": "https://localhost:8080/"
        },
        "id": "H9zP26onNUm-",
        "outputId": "2481dc6b-bb4e-406d-c8b0-18f1a71a022f"
      },
      "execution_count": null,
      "outputs": [
        {
          "output_type": "execute_result",
          "data": {
            "text/plain": [
              "[1, 2, 3, 4, 5, 6]"
            ]
          },
          "metadata": {},
          "execution_count": 88
        }
      ]
    },
    {
      "cell_type": "code",
      "source": [
        "# len이 없는 것들 map, zip, filter # \n",
        "class str(str):\n",
        "    def __len__(self):\n",
        "        return 1000\n",
        "len(str('hello world'))"
      ],
      "metadata": {
        "colab": {
          "base_uri": "https://localhost:8080/"
        },
        "id": "zmvkUbR59tfH",
        "outputId": "ec097fb6-a95f-47d2-b4a0-e23fc599935a"
      },
      "execution_count": null,
      "outputs": [
        {
          "output_type": "execute_result",
          "data": {
            "text/plain": [
              "1000"
            ]
          },
          "metadata": {},
          "execution_count": 150
        }
      ]
    },
    {
      "cell_type": "code",
      "source": [
        "len(zip([1,2,3],'abc')) # error"
      ],
      "metadata": {
        "id": "igvM0Y4J-CeF"
      },
      "execution_count": null,
      "outputs": []
    },
    {
      "cell_type": "code",
      "source": [
        "# 기억하렴 # \n",
        "# len이 없는 것들 map, zip, filter "
      ],
      "metadata": {
        "id": "v6RTqKbXOdXp"
      },
      "execution_count": null,
      "outputs": []
    },
    {
      "cell_type": "markdown",
      "source": [
        "## 형변환 함수"
      ],
      "metadata": {
        "id": "shZzxbBN-iWD"
      }
    },
    {
      "cell_type": "code",
      "source": [
        "l = [1,2,3]\n",
        "type(l)"
      ],
      "metadata": {
        "colab": {
          "base_uri": "https://localhost:8080/"
        },
        "id": "RNBnu9HK-6o-",
        "outputId": "453cc9d3-2378-4f29-b8b9-a2e40f8014e0"
      },
      "execution_count": null,
      "outputs": [
        {
          "output_type": "execute_result",
          "data": {
            "text/plain": [
              "list"
            ]
          },
          "metadata": {},
          "execution_count": 152
        }
      ]
    },
    {
      "cell_type": "code",
      "source": [
        "# 아래 3개는 int형\n",
        "# bin() : 2진법\n",
        "# oct() : 8진법\n",
        "# hex() : 16진법\n",
        "bin(7)\n",
        "type(bin(7)) # str\n",
        "0b111\n",
        "type(0b111) # int\n",
        "int('111',2) # 2진수\n",
        "int('0b111',2)\n",
        "int(0b111,2) # error"
      ],
      "metadata": {
        "colab": {
          "base_uri": "https://localhost:8080/"
        },
        "id": "E7rb8OZV-98H",
        "outputId": "7dd7e1e5-ae25-4512-a052-218e2a7032f2"
      },
      "execution_count": null,
      "outputs": [
        {
          "output_type": "execute_result",
          "data": {
            "text/plain": [
              "7"
            ]
          },
          "metadata": {},
          "execution_count": 157
        }
      ]
    },
    {
      "cell_type": "code",
      "source": [
        "# ord()\n",
        "# chr(65)\n",
        "ord('A')"
      ],
      "metadata": {
        "colab": {
          "base_uri": "https://localhost:8080/"
        },
        "id": "713msizP_t-x",
        "outputId": "55bb1b24-8740-4d60-aeb7-6c1e103c41e5"
      },
      "execution_count": null,
      "outputs": [
        {
          "output_type": "execute_result",
          "data": {
            "text/plain": [
              "65"
            ]
          },
          "metadata": {},
          "execution_count": 159
        }
      ]
    },
    {
      "cell_type": "code",
      "source": [
        "# list(range(start,stop,step))\n",
        "list(range(0,10,2))\n",
        "list(range(0,10))\n",
        "list(range(10))\n",
        "list(range(-10,10,2))\n",
        "list(range(0,-10,-2))"
      ],
      "metadata": {
        "colab": {
          "base_uri": "https://localhost:8080/"
        },
        "id": "srrRcDbnARrA",
        "outputId": "3ff5ab57-228d-4c45-8560-af6ca7d9dc00"
      },
      "execution_count": null,
      "outputs": [
        {
          "output_type": "execute_result",
          "data": {
            "text/plain": [
              "[0, -2, -4, -6, -8]"
            ]
          },
          "metadata": {},
          "execution_count": 163
        }
      ]
    },
    {
      "cell_type": "code",
      "source": [
        "#list(range(start,stop,step))\n",
        "list(range(0,10,2))"
      ],
      "metadata": {
        "colab": {
          "base_uri": "https://localhost:8080/"
        },
        "id": "tgpSXuh4OwbS",
        "outputId": "a801cc2a-a947-47ec-b719-dc5607880c99"
      },
      "execution_count": null,
      "outputs": [
        {
          "output_type": "execute_result",
          "data": {
            "text/plain": [
              "[0, 2, 4, 6, 8]"
            ]
          },
          "metadata": {},
          "execution_count": 98
        }
      ]
    },
    {
      "cell_type": "code",
      "source": [
        "x = [10,20,30]\n",
        "for i,j in enumerate(x,1):\n",
        "    print(i,j)"
      ],
      "metadata": {
        "colab": {
          "base_uri": "https://localhost:8080/"
        },
        "id": "7BQ2erRPPDBP",
        "outputId": "873a5791-4f58-44ea-914a-b6dc20ef50a7"
      },
      "execution_count": null,
      "outputs": [
        {
          "output_type": "stream",
          "name": "stdout",
          "text": [
            "1 10\n",
            "2 20\n",
            "3 30\n"
          ]
        }
      ]
    },
    {
      "cell_type": "code",
      "source": [
        "# 'abc', '123'\n",
        "list(zip('abc','123'))"
      ],
      "metadata": {
        "colab": {
          "base_uri": "https://localhost:8080/"
        },
        "id": "ipA7UGYjPOv-",
        "outputId": "76ba8439-4812-43d2-d80f-4a9311402450"
      },
      "execution_count": null,
      "outputs": [
        {
          "output_type": "execute_result",
          "data": {
            "text/plain": [
              "[('a', '1'), ('b', '2'), ('c', '3')]"
            ]
          },
          "metadata": {},
          "execution_count": 103
        }
      ]
    },
    {
      "cell_type": "code",
      "source": [
        "def 곱하기둘(x):\n",
        "    return x * 2\n",
        "# map(함수, 순회가능한_객체) # 함수를 묶어줌 \n",
        "list(map(곱하기둘, '123'))"
      ],
      "metadata": {
        "colab": {
          "base_uri": "https://localhost:8080/"
        },
        "id": "_yat2z6rPmCT",
        "outputId": "f7b817c4-5981-4798-fdb5-1f480e0a023b"
      },
      "execution_count": null,
      "outputs": [
        {
          "output_type": "execute_result",
          "data": {
            "text/plain": [
              "['11', '22', '33']"
            ]
          },
          "metadata": {},
          "execution_count": 104
        }
      ]
    },
    {
      "cell_type": "code",
      "source": [
        "def 함수(x):\n",
        "    return x > 5\n",
        "list(filter(함수, range(10)))"
      ],
      "metadata": {
        "colab": {
          "base_uri": "https://localhost:8080/"
        },
        "id": "QlIs_j05P2C2",
        "outputId": "a9b4c94d-dc31-45ba-9085-f2dbb9e7d699"
      },
      "execution_count": null,
      "outputs": [
        {
          "output_type": "execute_result",
          "data": {
            "text/plain": [
              "[6, 7, 8, 9]"
            ]
          },
          "metadata": {},
          "execution_count": 105
        }
      ]
    },
    {
      "cell_type": "markdown",
      "source": [
        "### 도움말"
      ],
      "metadata": {
        "id": "x0vagt50AmuR"
      }
    },
    {
      "cell_type": "code",
      "source": [
        "def hojun():\n",
        "    '''\n",
        "    이호준이 작성한함수\n",
        "    '''\n",
        "    pass\n",
        "help(hojun)"
      ],
      "metadata": {
        "id": "sIGcYkSOApPB"
      },
      "execution_count": null,
      "outputs": []
    },
    {
      "cell_type": "markdown",
      "source": [
        "## Object 관련 함수"
      ],
      "metadata": {
        "id": "KBFqFb1XAzaD"
      }
    },
    {
      "cell_type": "markdown",
      "source": [
        "* dir()\n",
        "* id()\n",
        "* type()"
      ],
      "metadata": {
        "id": "--j_reCZA8PW"
      }
    },
    {
      "cell_type": "code",
      "source": [
        "# dir() #directory에 약자로 대상이 가진 attribute를 모두 출력합니다.\n",
        "# attribute가 무엇인가? class에서 배울 멤버 + 메서드입니다."
      ],
      "metadata": {
        "id": "OkxYbt7sA3Cj"
      },
      "execution_count": null,
      "outputs": []
    },
    {
      "cell_type": "code",
      "source": [
        "def f():\n",
        "    return 100\n",
        "f.name = 'leehojun'\n",
        "dir(f)\n",
        "print(f.name)"
      ],
      "metadata": {
        "colab": {
          "base_uri": "https://localhost:8080/"
        },
        "id": "zwsZxMDnBMa-",
        "outputId": "e29d0c78-5f0c-4c39-f7f7-704b5063c462"
      },
      "execution_count": null,
      "outputs": [
        {
          "output_type": "stream",
          "name": "stdout",
          "text": [
            "leehojun\n"
          ]
        }
      ]
    },
    {
      "cell_type": "code",
      "source": [
        "l = 10\n",
        "# 복사가 제대로 이뤄졌나? 확인할 때\n",
        "id(l) # 깊은복사, 얕은복사"
      ],
      "metadata": {
        "colab": {
          "base_uri": "https://localhost:8080/"
        },
        "id": "vEHy3UHUB_zI",
        "outputId": "ca17da0d-7c31-478e-988a-c7fdf0f27553"
      },
      "execution_count": null,
      "outputs": [
        {
          "output_type": "execute_result",
          "data": {
            "text/plain": [
              "140552905622032"
            ]
          },
          "metadata": {},
          "execution_count": 166
        }
      ]
    },
    {
      "cell_type": "code",
      "source": [
        "type('abc') # str\n",
        "print(type('abc')) # class str\n",
        "print(type(f)) # class가 전체 python을 관통하고 있다."
      ],
      "metadata": {
        "colab": {
          "base_uri": "https://localhost:8080/"
        },
        "id": "73mT510RCUOn",
        "outputId": "a82129db-e264-4c0e-8622-70008826b8cb"
      },
      "execution_count": null,
      "outputs": [
        {
          "output_type": "stream",
          "name": "stdout",
          "text": [
            "<class 'str'>\n",
            "<class 'function'>\n"
          ]
        }
      ]
    },
    {
      "cell_type": "markdown",
      "source": [
        "## 유용한 순회 가능 객체\n",
        "* 외우슈 "
      ],
      "metadata": {
        "id": "nai8g2uUIGkl"
      }
    },
    {
      "cell_type": "code",
      "source": [
        "list(enumerate([10,20,30])) # 순위를 매김"
      ],
      "metadata": {
        "colab": {
          "base_uri": "https://localhost:8080/"
        },
        "id": "rRBa6LjLC0OQ",
        "outputId": "7c20e0e8-48fd-47b8-a992-24b3cc09fa11"
      },
      "execution_count": null,
      "outputs": [
        {
          "output_type": "execute_result",
          "data": {
            "text/plain": [
              "[(0, 10), (1, 20), (2, 30)]"
            ]
          },
          "metadata": {},
          "execution_count": 169
        }
      ]
    },
    {
      "cell_type": "code",
      "source": [
        "list(enumerate([10,20,30],100)) # 100부터 세라\n",
        "list(enumerate([10,20,30],'abc')) # error뒤에 시퀀스 에러 a,b,c는 안됨"
      ],
      "metadata": {
        "colab": {
          "base_uri": "https://localhost:8080/"
        },
        "id": "FppPHbQlDmda",
        "outputId": "d5ae2183-4c64-4afb-ef77-4662f00eed0b"
      },
      "execution_count": null,
      "outputs": [
        {
          "output_type": "execute_result",
          "data": {
            "text/plain": [
              "[(100, 10), (101, 20), (102, 30)]"
            ]
          },
          "metadata": {},
          "execution_count": 170
        }
      ]
    },
    {
      "cell_type": "code",
      "source": [
        "def 함수(x):\n",
        "    return x > 15\n",
        "list(filter(함수, [10,20,30,40])) # filter true인것만 반환\n",
        "list(filter(None,[True,True,False,False])) #True인것만 반환\n",
        "#filter에 None 주는 것이 어디에 유용할까요?\n",
        "#여러가지 자료형이 섞여 있을 때 값이 들어있는 것만 찾을 경우\n",
        "list(filter(None,[[],'abc','',''])) #'abc'만 반환 "
      ],
      "metadata": {
        "colab": {
          "base_uri": "https://localhost:8080/"
        },
        "id": "VR78tbyOGdkX",
        "outputId": "6529b2fe-5511-4d40-bb28-31e420627cb2"
      },
      "execution_count": null,
      "outputs": [
        {
          "output_type": "execute_result",
          "data": {
            "text/plain": [
              "['abc']"
            ]
          },
          "metadata": {},
          "execution_count": 173
        }
      ]
    },
    {
      "cell_type": "code",
      "source": [
        "def 함수(x):\n",
        "    return x > 15\n",
        "list(filter(함수, [10,20,30,40])) # list filter 함수 range\n",
        "list(filter(None,[True,True,False,False])) # True인것만 반환\n",
        "list(filter(None,[[],'abc','','']))\n",
        "# 여러가지 자료형이 섞여 있을 때 값이 들어있는 것만 찾을 경우"
      ],
      "metadata": {
        "colab": {
          "base_uri": "https://localhost:8080/"
        },
        "id": "Xfk4pAQtRKNj",
        "outputId": "2a0afa49-e1f7-4eb4-cdfd-08fd7e35e485"
      },
      "execution_count": null,
      "outputs": [
        {
          "output_type": "execute_result",
          "data": {
            "text/plain": [
              "['abc']"
            ]
          },
          "metadata": {},
          "execution_count": 109
        }
      ]
    },
    {
      "cell_type": "code",
      "source": [
        "list(zip('abc','def','ght',[1,2,3],[4,5,6,7]))"
      ],
      "metadata": {
        "colab": {
          "base_uri": "https://localhost:8080/"
        },
        "id": "s5zBtWuQHU7T",
        "outputId": "83c97252-9588-4bae-d5b6-da81c9b658b6"
      },
      "execution_count": null,
      "outputs": [
        {
          "output_type": "execute_result",
          "data": {
            "text/plain": [
              "[('a', 'd', 'g', 1, 4), ('b', 'e', 'h', 2, 5), ('c', 'f', 't', 3, 6)]"
            ]
          },
          "metadata": {},
          "execution_count": 174
        }
      ]
    },
    {
      "cell_type": "code",
      "source": [
        "x = [5,4,6,8,2]\n",
        "list(zip('abcdefg',sorted(x))) #sorted니까 정렬 순서대로 2,4,5,6,8"
      ],
      "metadata": {
        "colab": {
          "base_uri": "https://localhost:8080/"
        },
        "id": "Csi-n_iwHtWS",
        "outputId": "09d3601d-4aea-4c3e-b7e6-a89a696b8a7f"
      },
      "execution_count": null,
      "outputs": [
        {
          "output_type": "execute_result",
          "data": {
            "text/plain": [
              "[('a', 2), ('b', 4), ('c', 5), ('d', 6), ('e', 8)]"
            ]
          },
          "metadata": {},
          "execution_count": 175
        }
      ]
    },
    {
      "cell_type": "code",
      "source": [
        "x = [5,4,6,8,2]\n",
        "list(zip('abcde',sorted(x)))"
      ],
      "metadata": {
        "colab": {
          "base_uri": "https://localhost:8080/"
        },
        "id": "Dw8qGpNISQ1O",
        "outputId": "db0dd0d5-f0a3-46e6-971f-b9fc009fb4fe"
      },
      "execution_count": null,
      "outputs": [
        {
          "output_type": "execute_result",
          "data": {
            "text/plain": [
              "[('a', 2), ('b', 4), ('c', 5), ('d', 6), ('e', 8)]"
            ]
          },
          "metadata": {},
          "execution_count": 113
        }
      ]
    },
    {
      "cell_type": "code",
      "source": [
        "x = [5,4,6,8,2]\n",
        "y = [7,6,45,4,2,3,3]\n",
        "list(zip('abcdefg',zip(x,y)))"
      ],
      "metadata": {
        "colab": {
          "base_uri": "https://localhost:8080/"
        },
        "id": "p0GsSRZPIKlR",
        "outputId": "a30956b2-0ad1-4bf5-c867-a0e3b1e8f077"
      },
      "execution_count": null,
      "outputs": [
        {
          "output_type": "execute_result",
          "data": {
            "text/plain": [
              "[('a', (5, 7)), ('b', (4, 6)), ('c', (6, 45)), ('d', (8, 4)), ('e', (2, 2))]"
            ]
          },
          "metadata": {},
          "execution_count": 114
        }
      ]
    },
    {
      "cell_type": "markdown",
      "source": [
        "## args, kargs"
      ],
      "metadata": {
        "id": "R8pxK2uRikcB"
      }
    },
    {
      "cell_type": "markdown",
      "source": [
        "* 가변 아규먼트, 가변 키워드 아규먼트"
      ],
      "metadata": {
        "id": "7nNwYIgfIsC2"
      }
    },
    {
      "cell_type": "code",
      "source": [
        "def print_args(*args): # 꼭 args가 될 필요는 없습니다\n",
        "    print(args)\n",
        "\n",
        "print_args(100, True, 'leehojun') # 가변아규먼트를 한번에 넣고 싶을 때"
      ],
      "metadata": {
        "colab": {
          "base_uri": "https://localhost:8080/"
        },
        "id": "PTSqF0rgIhAY",
        "outputId": "31562bf3-e2da-433c-df51-45c0f4a71d41"
      },
      "execution_count": null,
      "outputs": [
        {
          "output_type": "stream",
          "name": "stdout",
          "text": [
            "(100, True, 'leehojun')\n"
          ]
        }
      ]
    },
    {
      "cell_type": "code",
      "source": [
        "def print_kwargs(a, **kwargs): # 꼭 kwargs가 될 필요는 없다.\n",
        "    print(a)\n",
        "    print(kwargs)\n",
        "\n",
        "\n",
        "print_kwargs(100, name='leehojun', age='10')"
      ],
      "metadata": {
        "colab": {
          "base_uri": "https://localhost:8080/"
        },
        "id": "Dvr3R4zbI_Nm",
        "outputId": "6bd1895d-8d55-45b5-8585-35c114ac9d4d"
      },
      "execution_count": null,
      "outputs": [
        {
          "output_type": "stream",
          "name": "stdout",
          "text": [
            "100\n",
            "{'name': 'leehojun', 'age': '10'}\n"
          ]
        }
      ]
    },
    {
      "cell_type": "code",
      "source": [
        "def print_args(b, *args): # 꼭 args가 될 필요는 없습니다\n",
        "    print(args)\n",
        "\n",
        "print_args(100, True, 'leehojun') # 가변아규먼트를 한번에 넣고 싶을 때"
      ],
      "metadata": {
        "colab": {
          "base_uri": "https://localhost:8080/"
        },
        "id": "1CSlggcSJg8L",
        "outputId": "902e21bd-0cf1-4429-f939-5ed46948096f"
      },
      "execution_count": null,
      "outputs": [
        {
          "output_type": "stream",
          "name": "stdout",
          "text": [
            "(True, 'leehojun')\n"
          ]
        }
      ]
    },
    {
      "cell_type": "code",
      "source": [
        "def print_args(b, *args): # error입니다. args 앞에 순서대로 넣을 변수가 있어야 한다.\n",
        "    print(args)\n",
        "\n",
        "print_args(100, True, b ='leehojun') "
      ],
      "metadata": {
        "id": "CTDdqAT7JuFz"
      },
      "execution_count": null,
      "outputs": []
    },
    {
      "cell_type": "code",
      "source": [
        "one, two, *three = 1,2,3,4,5 # *가 하는 역할은? 남은 데이터의 패킹\n",
        "print(one,two,three)"
      ],
      "metadata": {
        "colab": {
          "base_uri": "https://localhost:8080/"
        },
        "id": "xzAbBwfCJ_np",
        "outputId": "83c9d1db-678d-4065-fbe2-ffc07c84b910"
      },
      "execution_count": null,
      "outputs": [
        {
          "output_type": "stream",
          "name": "stdout",
          "text": [
            "1 2 [3, 4, 5]\n"
          ]
        }
      ]
    },
    {
      "cell_type": "markdown",
      "source": [
        "## lambda"
      ],
      "metadata": {
        "id": "ctaf_7OmtNTF"
      }
    },
    {
      "cell_type": "markdown",
      "source": [
        "* lambda는 익명함수라고 하며, 이름이 없는 함수입니다."
      ],
      "metadata": {
        "id": "vuABiAmrKef5"
      }
    },
    {
      "cell_type": "code",
      "source": [
        "kimyeoju = lambda x : x**2"
      ],
      "metadata": {
        "id": "VUorzOdBKjtf"
      },
      "execution_count": null,
      "outputs": []
    },
    {
      "cell_type": "code",
      "source": [
        "print(type(kimyeoju))"
      ],
      "metadata": {
        "colab": {
          "base_uri": "https://localhost:8080/"
        },
        "id": "CZI0UkbQKrU4",
        "outputId": "4dc40b10-46cf-4a49-9ad1-4041dc1b5ed3"
      },
      "execution_count": null,
      "outputs": [
        {
          "output_type": "stream",
          "name": "stdout",
          "text": [
            "<class 'function'>\n"
          ]
        }
      ]
    },
    {
      "cell_type": "code",
      "source": [
        "print(type(lambda x : x**2))"
      ],
      "metadata": {
        "colab": {
          "base_uri": "https://localhost:8080/"
        },
        "id": "o03tvj-AKwN4",
        "outputId": "23597bff-2e39-4e7a-f9a7-89347b9e589a"
      },
      "execution_count": null,
      "outputs": [
        {
          "output_type": "stream",
          "name": "stdout",
          "text": [
            "<class 'function'>\n"
          ]
        }
      ]
    },
    {
      "cell_type": "code",
      "source": [
        "print(dir(lambda x: x**2))"
      ],
      "metadata": {
        "colab": {
          "base_uri": "https://localhost:8080/"
        },
        "id": "FsVK02AiK0XK",
        "outputId": "e44d82b0-f0c4-4269-93e2-3a1a3e04f7b3"
      },
      "execution_count": null,
      "outputs": [
        {
          "output_type": "stream",
          "name": "stdout",
          "text": [
            "['__annotations__', '__builtins__', '__call__', '__class__', '__closure__', '__code__', '__defaults__', '__delattr__', '__dict__', '__dir__', '__doc__', '__eq__', '__format__', '__ge__', '__get__', '__getattribute__', '__globals__', '__gt__', '__hash__', '__init__', '__init_subclass__', '__kwdefaults__', '__le__', '__lt__', '__module__', '__name__', '__ne__', '__new__', '__qualname__', '__reduce__', '__reduce_ex__', '__repr__', '__setattr__', '__sizeof__', '__str__', '__subclasshook__']\n"
          ]
        }
      ]
    },
    {
      "cell_type": "code",
      "source": [
        "def 함수(x):\n",
        "    return x ** 2\n",
        "print(dir(함수))"
      ],
      "metadata": {
        "colab": {
          "base_uri": "https://localhost:8080/"
        },
        "id": "0JWSI3aZK4WM",
        "outputId": "1b97b9af-a4f6-4173-c464-9c157b48d9b5"
      },
      "execution_count": null,
      "outputs": [
        {
          "output_type": "stream",
          "name": "stdout",
          "text": [
            "['__annotations__', '__builtins__', '__call__', '__class__', '__closure__', '__code__', '__defaults__', '__delattr__', '__dict__', '__dir__', '__doc__', '__eq__', '__format__', '__ge__', '__get__', '__getattribute__', '__globals__', '__gt__', '__hash__', '__init__', '__init_subclass__', '__kwdefaults__', '__le__', '__lt__', '__module__', '__name__', '__ne__', '__new__', '__qualname__', '__reduce__', '__reduce_ex__', '__repr__', '__setattr__', '__sizeof__', '__str__', '__subclasshook__']\n"
          ]
        }
      ]
    },
    {
      "cell_type": "code",
      "source": [
        "def add(x, y):\n",
        "    return x + y\n",
        "def sub():\n",
        "    pass\n",
        "def div():\n",
        "    pass\n",
        "def mul():\n",
        "    pass\n",
        "caculator = [add, sub, div, mul]\n",
        "print(caculator[0](10, 20))#0번째 값은 add 입니다.\n",
        "\n",
        "caculator2 = [lambda x,y:x+y, # 직접 함수를 넣을수도 있다 \n",
        "              lambda x,y:x-y,\n",
        "              lambda x,y:x/y,\n",
        "              lambda x,y:x*y]\n",
        "print(caculator2[0](10,20)) #0번째 값은 add입니다.\n",
        "print(caculator2[0](10,20))"
      ],
      "metadata": {
        "colab": {
          "base_uri": "https://localhost:8080/"
        },
        "id": "7MWYAuMOLMj2",
        "outputId": "bc56d6b4-8b95-411f-da94-18c839b2e50a"
      },
      "execution_count": null,
      "outputs": [
        {
          "output_type": "stream",
          "name": "stdout",
          "text": [
            "30\n",
            "30\n",
            "30\n"
          ]
        }
      ]
    },
    {
      "cell_type": "code",
      "source": [
        "def f():\n",
        "    return lambda x,y:x+y\n",
        "f()(10,20)"
      ],
      "metadata": {
        "colab": {
          "base_uri": "https://localhost:8080/"
        },
        "id": "kmneq02iMJyc",
        "outputId": "ca79f148-659b-4fb2-a986-a207e6b578bb"
      },
      "execution_count": null,
      "outputs": [
        {
          "output_type": "execute_result",
          "data": {
            "text/plain": [
              "30"
            ]
          },
          "metadata": {},
          "execution_count": 191
        }
      ]
    },
    {
      "cell_type": "code",
      "source": [
        "def f(): # 참고 안해도됨 처음이자 마지막으로 보는 문법임 \n",
        "    return lambda x: lambda i: i**2\n",
        "f()(1)(10)"
      ],
      "metadata": {
        "colab": {
          "base_uri": "https://localhost:8080/"
        },
        "id": "LRmknwRJMfL8",
        "outputId": "bcf67636-f094-478e-cabb-9364be290aae"
      },
      "execution_count": null,
      "outputs": [
        {
          "output_type": "execute_result",
          "data": {
            "text/plain": [
              "100"
            ]
          },
          "metadata": {},
          "execution_count": 192
        }
      ]
    },
    {
      "cell_type": "code",
      "source": [
        "def f(): # 참고 안해도됨 처음이자 마지막으로 보는 문법임 \n",
        "    return lambda x: lambda i: x*i**2\n",
        "f()(2)(10)"
      ],
      "metadata": {
        "colab": {
          "base_uri": "https://localhost:8080/"
        },
        "id": "ykhpzU70MsPT",
        "outputId": "ad89b8e0-169b-4456-aef2-f737c57f8e97"
      },
      "execution_count": null,
      "outputs": [
        {
          "output_type": "execute_result",
          "data": {
            "text/plain": [
              "200"
            ]
          },
          "metadata": {},
          "execution_count": 194
        }
      ]
    },
    {
      "cell_type": "markdown",
      "source": [
        "## lambda 실무 응용"
      ],
      "metadata": {
        "id": "LkNbbrl7OCWy"
      }
    },
    {
      "cell_type": "markdown",
      "source": [
        "* lambda가 응용되는 곳 : map, filter, max, min, sorted"
      ],
      "metadata": {
        "id": "K20scAUIOFGO"
      }
    },
    {
      "cell_type": "code",
      "source": [
        "# 실무에서도 많이 사용됩니다.\n",
        "def 제곱(x):\n",
        "    return x ** 2\n",
        "\n",
        "# 재사용 하는 경우에는 lambda보다 함수로 선언하는 경우도 있습니다.\n",
        "list(map(제곱, [1, 2, 3, 4]))\n",
        "list(map(제곱, [1, 2, 3, 4]))\n",
        "\n",
        "# 두번째 방법\n",
        "list(map(lambda x : x ** 2, [1, 2, 3, 4]))"
      ],
      "metadata": {
        "colab": {
          "base_uri": "https://localhost:8080/"
        },
        "id": "wqfDKh8nNaMH",
        "outputId": "f5751836-48fc-4e43-96a3-884271e5f56a"
      },
      "execution_count": null,
      "outputs": [
        {
          "output_type": "execute_result",
          "data": {
            "text/plain": [
              "[1, 4, 9, 16]"
            ]
          },
          "metadata": {},
          "execution_count": 195
        }
      ]
    },
    {
      "cell_type": "code",
      "source": [
        "def 제곱(x):\n",
        "    return x ** 2\n",
        "# 재사용 하는 경우에는 lambda보다 함수로 선언하는 경우도 있다.\n",
        "list(map(제곱, [1,2,3,4])) # 함수 , range # 필터랑 비슷\n",
        "list(map(제곱, [1,2,3,4]))\n",
        "# 두번째 방법 \n",
        "list(map(lambda x: x**2, [1,2,3,4]))"
      ],
      "metadata": {
        "colab": {
          "base_uri": "https://localhost:8080/"
        },
        "id": "MCS8NgjuUkIF",
        "outputId": "18c2e736-5615-4001-ed3d-4910b8455761"
      },
      "execution_count": null,
      "outputs": [
        {
          "output_type": "execute_result",
          "data": {
            "text/plain": [
              "[1, 4, 9, 16]"
            ]
          },
          "metadata": {},
          "execution_count": 118
        }
      ]
    },
    {
      "cell_type": "code",
      "source": [
        "list(map(lambda x: x ** 2, [1,2,3,4]))"
      ],
      "metadata": {
        "colab": {
          "base_uri": "https://localhost:8080/"
        },
        "id": "YW0hf-uiVTxv",
        "outputId": "df3ba3b4-f859-4dde-8a51-ed6958522051"
      },
      "execution_count": null,
      "outputs": [
        {
          "output_type": "execute_result",
          "data": {
            "text/plain": [
              "[1, 4, 9, 16]"
            ]
          },
          "metadata": {},
          "execution_count": 119
        }
      ]
    },
    {
      "cell_type": "code",
      "source": [
        "숫자 = [1, 2, 3, 4, 5]\n",
        "승수 = [2, 2, 2, 3, 3]\n",
        "\n",
        "#문제\n",
        "#1. 숫자의 승수를 zip으로 맵핑해서 진행하세요.\n",
        "#2. 숫자를 승수만큼 승수하여 결과값을 표현해주세요.\n",
        "#3. 승수한 값이 100이상인 값을 출력하세요.\n",
        "#4. 승수한 값을 모두 더하세요.\n",
        "\n"
      ],
      "metadata": {
        "id": "SU8YuPGpObcv"
      },
      "execution_count": null,
      "outputs": []
    },
    {
      "cell_type": "code",
      "source": [
        "숫자 = [1, 2, 3, 4, 5]\n",
        "승수 = [2, 2, 2, 3, 3]\n",
        "list(zip(숫자, 승수))\n",
        "list(map(lambda x,y: x ** y, 숫자, 승수))\n",
        "list(filter(lambda x: x >= 100, map(lambda x,y:x**y, 숫자,승수)))\n",
        "sum(list(map(lambda x,y : x **y, 숫자, 승수)))"
      ],
      "metadata": {
        "colab": {
          "base_uri": "https://localhost:8080/"
        },
        "id": "i1DktPFmg5EG",
        "outputId": "4c951362-f835-4604-9123-cc7daee37c95"
      },
      "execution_count": null,
      "outputs": [
        {
          "output_type": "execute_result",
          "data": {
            "text/plain": [
              "203"
            ]
          },
          "metadata": {},
          "execution_count": 134
        }
      ]
    },
    {
      "cell_type": "code",
      "source": [
        "숫자 = [1, 2, 3, 4, 5]\n",
        "승수 = [2, 2, 2, 3, 3]\n",
        "print(list(zip(숫자, 승수)))\n",
        "print(list(map(lambda x,y: x**y, 숫자, 승수)))\n",
        "print(list(filter(lambda x : x >= 100, map(lambda x,y : x**y, 숫자, 승수))))\n",
        "print(sum(list(map(lambda x,y : x ** y, 숫자, 승수))\n",
        "\n"
      ],
      "metadata": {
        "colab": {
          "base_uri": "https://localhost:8080/",
          "height": 134
        },
        "id": "X4w3zgzEVc-k",
        "outputId": "7382f644-95ef-44de-81aa-32dda8259a68"
      },
      "execution_count": null,
      "outputs": [
        {
          "output_type": "error",
          "ename": "SyntaxError",
          "evalue": "ignored",
          "traceback": [
            "\u001b[0;36m  File \u001b[0;32m\"<ipython-input-135-a612a8b247ff>\"\u001b[0;36m, line \u001b[0;32m7\u001b[0m\n\u001b[0;31m    \u001b[0m\n\u001b[0m    ^\u001b[0m\n\u001b[0;31mSyntaxError\u001b[0m\u001b[0;31m:\u001b[0m incomplete input\n"
          ]
        }
      ]
    },
    {
      "cell_type": "code",
      "source": [
        "print(list(zip(숫자, 승수)))\n",
        "print(list(map(lambda x,y: x**y,숫자,승수)))\n",
        "print(list(filter(lambda x: x >= 100, map(lambda x,y: x**y, 숫자,승수)))) # 뒤에 map(lambda~ 이게 range역할\n",
        "print(sum(list(map(lambda x,y: x**y,숫자,승수))))\n",
        "\n",
        "\n"
      ],
      "metadata": {
        "colab": {
          "base_uri": "https://localhost:8080/"
        },
        "id": "sZ40aWS9bzLc",
        "outputId": "e60bd35f-942f-4ff8-9a17-c6a531e05150"
      },
      "execution_count": null,
      "outputs": [
        {
          "output_type": "stream",
          "name": "stdout",
          "text": [
            "[(1, 2), (2, 2), (3, 2), (4, 3), (5, 3)]\n",
            "[1, 4, 9, 64, 125]\n",
            "[125]\n",
            "203\n"
          ]
        }
      ]
    },
    {
      "cell_type": "code",
      "source": [
        "# 연습문제 \n",
        "숫자 = [1, 2, 3, 4, 5]\n",
        "승수 = [2, 2, 2, 3, 3]\n",
        "print(list(zip(숫자, 승수)))\n",
        "print(list(map(lambda x,y : x**y,숫자,승수)))\n",
        "print(list(filter(lambda x:x>=100, map(lambda  x,y : x**y,숫자,승수))))\n",
        "print(sum(list(map(lambda x,y : x**y,숫자,승수))))\n",
        "\n"
      ],
      "metadata": {
        "colab": {
          "base_uri": "https://localhost:8080/"
        },
        "id": "4orda_WAVEVM",
        "outputId": "054bf51d-daf2-4b47-bb5f-1765cde0c391"
      },
      "execution_count": null,
      "outputs": [
        {
          "output_type": "stream",
          "name": "stdout",
          "text": [
            "[(1, 2), (2, 2), (3, 2), (4, 3), (5, 3)]\n",
            "[1, 4, 9, 64, 125]\n",
            "[125]\n",
            "203\n"
          ]
        }
      ]
    },
    {
      "cell_type": "code",
      "source": [
        "숫자 = [1, 2, 3, 4, 5]\n",
        "승수 = [2, 2, 2, 3, 3]\n",
        "data = [i for i in range(len(숫자))]\n",
        "data = [(숫자[i],승수[i]) for i in range(len(숫자))]\n",
        "data"
      ],
      "metadata": {
        "colab": {
          "base_uri": "https://localhost:8080/"
        },
        "id": "YiLslqbtPoOn",
        "outputId": "4a0939a3-2384-4ded-e4eb-4aa7e2b8524d"
      },
      "execution_count": null,
      "outputs": [
        {
          "output_type": "execute_result",
          "data": {
            "text/plain": [
              "[(1, 2), (2, 2), (3, 2), (4, 3), (5, 3)]"
            ]
          },
          "metadata": {},
          "execution_count": 17
        }
      ]
    },
    {
      "cell_type": "code",
      "source": [
        "숫자 = [1, 2, 3, 4, 5]\n",
        "승수 = [2, 2, 2, 3, 3]\n",
        "\n",
        "#문제\n",
        "#1. 숫자의 승수를 zip으로 맵핑해서 진행하세요.\n",
        "#2. 숫자를 승수만큼 제곱하여 결과값을 표현해주세요.\n",
        "#3. 승수한 값이 100이상인 값을 출력하세요.\n",
        "#4. 승수한 값을 모두 더하세요.\n",
        "\n",
        "# Q1\n",
        "# Q1.1\n",
        "data = list(zip(숫자, 승수))\n",
        "\n",
        "# Q1.2 (list comprehension)\n",
        "data = [i for i in range(len(숫자))]\n",
        "###\n",
        "data = [(숫자[i], 승수[i]) for i in range(len(숫자))]\n",
        "data\n",
        "\n",
        "\n",
        "# Q2\n",
        "# Q2.1\n",
        "l = []\n",
        "for i in data:\n",
        "    l.append(i[0] ** i[1])\n",
        "print(l)\n",
        "\n",
        "# Q2.2\n",
        "def f(x):\n",
        "    return x[0] ** x[1]\n",
        "\n",
        "print(list(map(f, data)))\n",
        "\n",
        "# Q2.3\n",
        "print(list(map(lambda x:x[0] ** x[1], data)))\n",
        "\n",
        "# Q2.4\n",
        "print(list(map(lambda x:pow(x[0], x[1]), data)))\n",
        "\n",
        "# Q2.5 (list comprehension)\n",
        "[i for i in data]\n",
        "[i[0] ** i[1] for i in data] # 공간을 바로 할당해버립니다.\n",
        "\n",
        "# Q3\n",
        "# Q3.1\n",
        "l = []\n",
        "for i in map(lambda x:x[0] ** x[1], data):\n",
        "    if i >= 100:\n",
        "        l.append(i)\n",
        "print(l)\n",
        "\n",
        "# Q3.2\n",
        "def f(x):\n",
        "    return x > 100\n",
        "data2 = map(lambda x:x[0] ** x[1], data)\n",
        "print(list(filter(f, data2)))\n",
        "\n",
        "# Q3.3\n",
        "data2 = map(lambda x:x[0] ** x[1], data)\n",
        "print(list(filter(lambda x:x>=100, data2)))\n",
        "\n",
        "# Q3.4\n",
        "# list(filter(lambda x:x>=100, [1, 4, 9, 64, 125]))\n",
        "print(list(filter(lambda x:x>=100, map(lambda x:x[0] ** x[1], data))))\n",
        "\n",
        "# Q3.5\n",
        "print([i[0] ** i[1] for i in data if i[0] ** i[1] >= 100])\n",
        "\n",
        "# Q4\n",
        "sum(map(lambda x:x[0] ** x[1], data))"
      ],
      "metadata": {
        "id": "Dtew_NotTH-m"
      },
      "execution_count": null,
      "outputs": []
    },
    {
      "cell_type": "markdown",
      "source": [
        "## 클래스"
      ],
      "metadata": {
        "id": "kvIob7EvAoQz"
      }
    },
    {
      "cell_type": "markdown",
      "source": [
        "* 클래스는 데이터(멤버)와 기능(메서드)을 가지고 있는 인스턴트 객체를 생성하기 위한 역할\n",
        "* 우리가 배우고 있는 Python을 객체 지향 프로그래밍 언어\n",
        "\n",
        "* 현실(차) ===> 코드(class car())\n",
        "* 인간이 만들어 놓은 현실 세계에서의 정의 또는 약속을 class로 가져오는 것 \n",
        "\n",
        "\n"
      ],
      "metadata": {
        "id": "XUz6cSkZA04H"
      }
    },
    {
      "cell_type": "code",
      "source": [
        "class Car(object): #앞 부분을 대문자로 사용합니다.\n",
        "\tMaxSpeed = 300\n",
        "\tMaxPeople = 5\n",
        "\tdef move(self, x):\n",
        "\t\tprint(x, '의 스피드로 움직이고 있습니다.')\n",
        "\tdef stop(self):\n",
        "\t\tprint('멈췄습니다.')\n",
        "\n",
        "k5 = Car()\n",
        "k3 = Car()\n",
        "k5.move(10)\n",
        "k5.stop()\n",
        "k3.move(5)\n",
        "k3.stop()\n",
        "\n",
        "print(k5.MaxSpeed)\n",
        "print(k3.MaxSpeed)"
      ],
      "metadata": {
        "colab": {
          "base_uri": "https://localhost:8080/"
        },
        "id": "ZqX3GBdXj8TR",
        "outputId": "23729542-4bfb-4e23-f813-39959f98ab12"
      },
      "execution_count": null,
      "outputs": [
        {
          "output_type": "stream",
          "name": "stdout",
          "text": [
            "10 의 스피드로 움직이고 있습니다.\n",
            "멈췄습니다.\n",
            "5 의 스피드로 움직이고 있습니다.\n",
            "멈췄습니다.\n",
            "300\n",
            "300\n"
          ]
        }
      ]
    },
    {
      "cell_type": "code",
      "source": [
        "class CarFactory(object): # 첫 문자는 대문자로 합니다.\n",
        "    max_Speed = 300\n",
        "    max_People = 5\n",
        "    # 아래 self는 스스로를 가리키기에\n",
        "    # self는 인스턴스를 가리킵니다.\n",
        "    def move(self): \n",
        "        print('차가 움직이고 있습니다.')\n",
        "    def stop(self):\n",
        "        print('차가 멈췄습니다.')\n",
        "# 클래스로 바로 접근해서 무엇을 하는 것을 권고하지 않습니다.\n",
        "# 제대로 알지 못하는 상태에서(인스턴스 변수, 클래스 변수를 모르는 상태에서)\n",
        "print(CarFactory.max_speed) \n",
        "k5 = CarFactory() # 붕어빵(인스턴스) = 붕어빵 틀(클래스)\n",
        "k3 = CarFactory() # 차(인스턴스) = 자동차공장(클래스)"
      ],
      "metadata": {
        "id": "vvlVgdiECMUv"
      },
      "execution_count": null,
      "outputs": []
    },
    {
      "cell_type": "code",
      "source": [
        "# 메서드 : 클래스 내에 함수\n",
        "# 멤버 : 클래스 내에 변수\n",
        "class CarFactory(object): \n",
        "    max_speed = 300\n",
        "    max_people = 5\n",
        "    # 아래 self는 스스로를 가리키기에\n",
        "    # self는 인스턴스를 가리킵니다.\n",
        "    def __init__(self,userinputName): # 인스턴스가 만들어질 때 실행되는 메서드\n",
        "        self.name = userinputName  # 매직메서드 \n",
        "    def move(self): # 일반메서드\n",
        "        print(self.name, '차가 움직이고 있습니다.')\n",
        "    def stop(self):\n",
        "        print(self.name, '차가 멈췄습니다.') \n",
        "# 클래스로 바로 접근해서 무엇을 하는 것을 권고하지 않습니다.\n",
        "# 제대로 알지 못하는 상태에서(인스턴스 변수, 클래스 변수를 모르는 상태에서)\n",
        "\n",
        "\n",
        "\n",
        "# 자신의 고유의 영역에서 선언된 멤버와 메서드를 우선순위로 잡습니다 ##\n",
        "k5 = CarFactory('케이파이브') # 붕어빵(인스턴스) = 붕어빵 틀(클래스)\n",
        "k3 = CarFactory('케이쓰리') # 차(인스턴스) = 자동차공장(클래스)\n",
        "k5.move()\n",
        "k3.move()\n",
        "k5.stop()\n",
        "k3.stop()\n",
        "print(k5.max_speed)"
      ],
      "metadata": {
        "colab": {
          "base_uri": "https://localhost:8080/"
        },
        "id": "zSifxmxXEmaN",
        "outputId": "948e8858-a838-40de-80c4-8a4f355c2aa4"
      },
      "execution_count": null,
      "outputs": [
        {
          "output_type": "stream",
          "name": "stdout",
          "text": [
            "케이파이브 차가 움직이고 있습니다.\n",
            "케이쓰리 차가 움직이고 있습니다.\n",
            "케이파이브 차가 멈췄습니다.\n",
            "케이쓰리 차가 멈췄습니다.\n",
            "300\n"
          ]
        }
      ]
    },
    {
      "cell_type": "code",
      "source": [
        "print(type(k3))\n",
        "dir(k3)\n",
        "# 'max_people', 멤버\n",
        "#'max_speed', 멤버\n",
        "# 'move', 메서드\n",
        "# 'name', 멤버\n",
        "# 'stop' 메서드"
      ],
      "metadata": {
        "id": "r9I2rvCeHDUn"
      },
      "execution_count": null,
      "outputs": []
    },
    {
      "cell_type": "code",
      "source": [
        "l = [10, 20, 30]\n",
        "print(type(l))\n",
        "dir(l)\n",
        "# 전부 다 메서드 \n",
        "''' 'append',\n",
        " 'clear',\n",
        " 'copy',\n",
        " 'count',\n",
        " 'extend',\n",
        " 'index',\n",
        " 'insert',\n",
        " 'pop',\n",
        " 'remove',\n",
        " 'reverse',\n",
        " 'sort' '''"
      ],
      "metadata": {
        "id": "-VLFNoV-Gu59"
      },
      "execution_count": null,
      "outputs": []
    },
    {
      "cell_type": "code",
      "source": [
        "class list(object):\n",
        "    def __add__(self):\n",
        "        pass\n",
        "    def __class__(self):\n",
        "        pass\n",
        "    def __class_getitem__(self):\n",
        "        pass\n",
        "    def __eq__(self):\n",
        "        pass\n",
        "    def __ge__(self):\n",
        "        pass \n",
        "    # ... 생략 ...\n",
        "    def append(self):\n",
        "        pass\n",
        "    def clear(self):\n",
        "        pass\n",
        "    def copy(self):\n",
        "        pass\n",
        "    def count(self):\n",
        "        pass\n",
        "    def extend(self):\n",
        "        pass\n",
        "    def index(self):\n",
        "        pass\n",
        "    # ... 생략 ..."
      ],
      "metadata": {
        "id": "RvWKoZgLI1wc"
      },
      "execution_count": null,
      "outputs": []
    },
    {
      "cell_type": "code",
      "source": [
        "# 클래스 변수\n",
        "# 클래스 변수는 클래스 바로 하위에 자리하고 있는 변수\n",
        "# 클래스 변수는 모든 인스턴스가 공유합니다. \n",
        "class Car(object):\n",
        "    # kinds가 인스턴스에 없기에 \n",
        "    # class변수로 접근하는거고, \n",
        "    # speed는 값을 =로 할당했기에 인스턴스변수가 생기는것\n",
        "    kinds = []\n",
        "    speed = 300\n",
        "    def add_kinds(self, name):\n",
        "        self.kinds.append(name) #self.kind[name]이면 인스턴스로 사용 가능 \n",
        "    def change_speed(self, speed):\n",
        "        self.speed = speed\n",
        "\n",
        "k5 = Car()\n",
        "k3 = Car()\n",
        "k5.add_kinds('k5')\n",
        "k3.add_kinds('k3')\n",
        "k5.change_speed(500)\n",
        "k3.change_speed(250)\n",
        "\n",
        "print('k5.kinds:', k5.kinds)\n",
        "print('k3.kinds:', k3.kinds)\n",
        "print('k5.speed:', k5.speed)\n",
        "print('k3.speed:', k3.speed)"
      ],
      "metadata": {
        "colab": {
          "base_uri": "https://localhost:8080/"
        },
        "id": "JzPjMYfPT7UA",
        "outputId": "7d9657a3-1a53-4b38-fe14-a1c3eef4cc63"
      },
      "execution_count": null,
      "outputs": [
        {
          "output_type": "stream",
          "name": "stdout",
          "text": [
            "k5.kinds: ['k5', 'k3']\n",
            "k3.kinds: ['k5', 'k3']\n",
            "k5.speed: 500\n",
            "k3.speed: 250\n"
          ]
        }
      ]
    },
    {
      "cell_type": "code",
      "source": [
        "# 클래스 변수\n",
        "# 클래스 변수는 클래스 바로 하위에 자리하고 있는 변수\n",
        "# 클래스 변수는 모든 인스턴스가 공유합니다. \n",
        "class Car(object):\n",
        "    # kinds가 인스턴스 레벨에서 없어서 그걸 \n",
        "    # class변수로 접근하는거고, \n",
        "    # speed는 값을 =로 할당했기에 인스턴스변수가 생기는것\n",
        "    kinds = []\n",
        "    speed = 300\n",
        "    def add_kinds(self, name):\n",
        "        self.kinds.append(name)\n",
        "    def change_speed(self, speed):\n",
        "        self.speed = speed\n",
        "\n",
        "k5 = Car()\n",
        "k3 = Car()\n",
        "k5.speed = 500 # 500 으로 변한건 케이파이브5 인스턴스 영역이 새로 생긴 것이다.\n",
        "k3.speed # 클래스 변수는 값을 공유한다며?"
      ],
      "metadata": {
        "colab": {
          "base_uri": "https://localhost:8080/"
        },
        "id": "GVAD8c9mZaIz",
        "outputId": "cc32d96f-d68f-4347-dcb5-2c339607fdb4"
      },
      "execution_count": null,
      "outputs": [
        {
          "output_type": "execute_result",
          "data": {
            "text/plain": [
              "300"
            ]
          },
          "metadata": {},
          "execution_count": 31
        }
      ]
    },
    {
      "cell_type": "code",
      "source": [
        "주인공 = ['licat', 10000]\n",
        "\n",
        "class MobFactory(object):\n",
        "    def __init__(self, 이름, 공격력, 체력, 마력, 크기_넓이, 크기_높이, 아이템확률, x, y):\n",
        "        self.name = 이름\n",
        "        self.power = 공격력\n",
        "        self.hp = 체력\n",
        "        self.mp = 마력\n",
        "        self.width = 크기_넓이\n",
        "        self.height = 크기_높이\n",
        "        self.dropRate = 아이템확률\n",
        "\n",
        "\n",
        "    def attack(self):\n",
        "        주인공[1] -= self.power\n",
        "        print(f'{self.name}이 {self.power}데미지로 공격했습니다.')\n",
        "        print(f'주인공의 체력이 {주인공[1]}가 되었습니다.')\n",
        "\n",
        "슬라임 = MobFactory('슬라임', 1, 10, 10, 2, 2, 100, 1, 1)\n",
        "오크 = MobFactory('오크', 10, 10, 10, 2, 2, 80, 1, 1)\n",
        "고블린 = MobFactory('고블린', 100, 10, 10, 2, 2, 60, 1, 1)\n",
        "드래곤 = MobFactory('드래곤', 1000, 10, 10, 2, 2, 40, 1, 1)\n",
        "해골 = MobFactory('해골', 10000, 10, 10, 2, 2, 1, 1, 1)\n",
        "\n",
        "슬라임.attack()"
      ],
      "metadata": {
        "colab": {
          "base_uri": "https://localhost:8080/"
        },
        "id": "fS0EUgaiWAbV",
        "outputId": "5ed60749-f4bf-4990-c49f-34f59de23667"
      },
      "execution_count": null,
      "outputs": [
        {
          "output_type": "stream",
          "name": "stdout",
          "text": [
            "슬라임이 1데미지로 공격했습니다.\n",
            "주인공의 체력이 9999가 되었습니다.\n"
          ]
        }
      ]
    },
    {
      "cell_type": "code",
      "source": [
        "class MobFactory(object):\n",
        "    주인공 = ['kimyeoju', 10000]\n",
        "    def __init__(self, 이름, 공격력, 체력, 마력, 크기_넓이, 크기_높이, 아이템확률, x, y):\n",
        "        self.name = 이름\n",
        "        self.power = 공격력\n",
        "        self.hp = 체력\n",
        "        self.mp = 마력\n",
        "        self.width = 크기_넓이\n",
        "        self.height = 크기_높이\n",
        "        self.dropRate = 아이템확률\n",
        "    \n",
        "    def attack(self):\n",
        "        주인공[1] -= self.power\n",
        "        print('{0}이 {1}데미지로 공격했습니다.'.format(self.name,self.power))\n",
        "        print('주인공의 체력이 {0[1]}가 되었습니다.')\n",
        "\n",
        "슬라임 = MobFactory('슬라임', 10, 10, 5, 2, 2, 100, 1, 1)\n",
        "\n",
        "슬라임.attack()\n"
      ],
      "metadata": {
        "colab": {
          "base_uri": "https://localhost:8080/"
        },
        "id": "3d0jc0pEsxUO",
        "outputId": "b3c441ad-26ae-4832-a908-1ecd86371b6d"
      },
      "execution_count": null,
      "outputs": [
        {
          "output_type": "stream",
          "name": "stdout",
          "text": [
            "슬라임이 10데미지로 공격했습니다.\n",
            "주인공의 체력이 {0[1]}가 되었습니다.\n"
          ]
        }
      ]
    },
    {
      "cell_type": "code",
      "source": [
        "주인공 = ['licat', 10000]\n",
        "\n",
        "class MobFactory(object):\n",
        "    def __init__(self, 이름, 공격력, 체력, 마력, 크기_넓이, 크기_높이, 아이템확률, x, y):\n",
        "        self.name = 이름\n",
        "        self.power = 공격력\n",
        "        self.hp = 체력\n",
        "        self.mp = 마력\n",
        "        self.width = 크기_넓이\n",
        "        self.height = 크기_높이\n",
        "        self.dropRate = 아이템확률\n",
        "\n",
        "    def __add__(self, next):\n",
        "        if self.name == '슬라임':\n",
        "            return MobFactory(f'왕{self.name + next.name}', \n",
        "                              self.power + next.power, \n",
        "                              10, 10, 2, 2, 100, 1, 1)\n",
        "        return None\n",
        "\n",
        "    def attack(self):\n",
        "        주인공[1] -= self.power\n",
        "        print(f'{self.name}이 {self.power}데미지로 공격했습니다.')\n",
        "        print(f'주인공의 체력이 {주인공[1]}가 되었습니다.')\n",
        "    \n",
        "\n",
        "슬라임 = 슬라임 = MobFactory('슬라임', 1, 10, 10, 2, 2, 100, 1, 1)\n",
        "왕슬라임 = 슬라임 + 슬라임\n",
        "\n",
        "왕슬라임.power\n",
        "왕슬라임.name\n"
      ],
      "metadata": {
        "colab": {
          "base_uri": "https://localhost:8080/",
          "height": 36
        },
        "id": "0diPZq6j2Yie",
        "outputId": "abf69385-bc49-483b-c30b-22bff3923c79"
      },
      "execution_count": null,
      "outputs": [
        {
          "output_type": "execute_result",
          "data": {
            "text/plain": [
              "'왕슬라임슬라임'"
            ],
            "application/vnd.google.colaboratory.intrinsic+json": {
              "type": "string"
            }
          },
          "metadata": {},
          "execution_count": 140
        }
      ]
    },
    {
      "cell_type": "code",
      "source": [
        "악당 = ['devil', 10000]\n",
        "class CharacterFactory(object):\n",
        "    def __init__(self, 이름, 공격력, 체력, 마력, 크기_넓이, 크기_높이, 아이템확률, x, y):\n",
        "        self.name = 이름\n",
        "        self.power = 공격력\n",
        "        self.hp = 체력\n",
        "        self.mp = 마력\n",
        "        self.width = 크기_넓이\n",
        "        self.height = 크기_높이\n",
        "        self.dropRate = 아이템확률\n",
        "\n",
        "    def attack(self):\n",
        "        악당[1] -= self.power\n",
        "        print(f'{self.name}이 {self.power}데미지로 공격했습니다.')\n",
        "        print(f'악당의 체력이 {악당[1]}가 되었습니다.')\n",
        "\n",
        "licat = CharacterFactory('licat', 10, 10, 2, 5, 5, 98, 1, 1)\n",
        "mura = CharacterFactory('mura', 8, 5, 10, 15, 10, 90, 1, 1)\n",
        "\n",
        "licat.attack()"
      ],
      "metadata": {
        "colab": {
          "base_uri": "https://localhost:8080/"
        },
        "id": "643x_-IPdQYC",
        "outputId": "dd693c1d-5dee-4cfb-8d08-47556aa38545"
      },
      "execution_count": null,
      "outputs": [
        {
          "output_type": "stream",
          "name": "stdout",
          "text": [
            "licat이 10데미지로 공격했습니다.\n",
            "악당의 체력이 9990가 되었습니다.\n"
          ]
        }
      ]
    },
    {
      "cell_type": "code",
      "source": [
        "# 쉽고 중요한 예제!\n",
        "\n",
        "class BlogFactory(object):\n",
        "    def __init__(self, 제목, 내용, 조회수, 글쓴이, 생성날짜):\n",
        "        self.title = 제목\n",
        "        self.content = 내용\n",
        "        self.count = 조회수\n",
        "        self.writer = 글쓴이\n",
        "        self.create_date = 생성날짜\n",
        "\n",
        "게시글1 = BlogFactory(\n",
        "    '오늘 제주의 날씨',\n",
        "    '오늘 제주의 날씨는 참 좋네요! 블라블라',\n",
        "    '0',\n",
        "    '이호준',\n",
        "    '2023/05/10',\n",
        "    )\n",
        "\n",
        "게시글2 = BlogFactory(\n",
        "    '오늘 부산의 날씨',\n",
        "    '오늘 부산의 날씨는 참 좋네요! 블라블라',\n",
        "    '100000',\n",
        "    '김재현',\n",
        "    '2023/05/10',\n",
        "    )\n",
        "\n",
        "게시글3 = BlogFactory(\n",
        "    '오늘 강원의 날씨',\n",
        "    '오늘 강원의 날씨는 참 좋네요! 블라블라',\n",
        "    '10000',\n",
        "    '범남궁',\n",
        "    '2023/05/10',\n",
        "    )\n",
        "    \n",
        "게시글1.title\n",
        "게시글3.content"
      ],
      "metadata": {
        "colab": {
          "base_uri": "https://localhost:8080/",
          "height": 36
        },
        "id": "uFXpWtlakA-y",
        "outputId": "b6c7ac57-fc48-4574-f768-f8c16bd2f815"
      },
      "execution_count": null,
      "outputs": [
        {
          "output_type": "execute_result",
          "data": {
            "text/plain": [
              "'오늘 강원의 날씨는 참 좋네요! 블라블라'"
            ],
            "application/vnd.google.colaboratory.intrinsic+json": {
              "type": "string"
            }
          },
          "metadata": {},
          "execution_count": 141
        }
      ]
    },
    {
      "cell_type": "code",
      "source": [
        "# 쉽고 중요한 예제!\n",
        "\n",
        "class BlogFactory(object):\n",
        "    def __init__(self, 제목, 내용, 조회수, 글쓴이, 생성날짜):\n",
        "        self.title = 제목\n",
        "        self.content = 내용\n",
        "        self.count = 조회수\n",
        "        self.writer = 글쓴이\n",
        "        self.create_date = 생성날짜\n",
        "\n",
        "게시글1 = BlogFactory(\n",
        "    '오늘 제주의 날씨',\n",
        "    '오늘 제주의 날씨는 참 좋네요! 블라블라',\n",
        "    '0',\n",
        "    '이호준',\n",
        "    '2023/05/10',\n",
        "    )\n",
        "\n",
        "게시글2 = BlogFactory(\n",
        "    '오늘 부산의 날씨',\n",
        "    '오늘 부산의 날씨는 참 좋네요! 블라블라',\n",
        "    '100000',\n",
        "    '김재현',\n",
        "    '2023/05/10',\n",
        "    )\n",
        "\n",
        "게시글3 = BlogFactory(\n",
        "    '오늘 강원의 날씨',\n",
        "    '오늘 강원의 날씨는 참 좋네요! 블라블라',\n",
        "    '10000',\n",
        "    '범남궁',\n",
        "    '2023/05/10',\n",
        "    )\n",
        "\n",
        "data = [게시글1, 게시글2, 게시글3]\n",
        "for i in data:\n",
        "    print(i.title)"
      ],
      "metadata": {
        "colab": {
          "base_uri": "https://localhost:8080/"
        },
        "id": "gkhr9-sc4HD-",
        "outputId": "7a28fccc-686a-4614-85f5-178e2c56dbe9"
      },
      "execution_count": null,
      "outputs": [
        {
          "output_type": "stream",
          "name": "stdout",
          "text": [
            "오늘 제주의 날씨\n",
            "오늘 부산의 날씨\n",
            "오늘 강원의 날씨\n"
          ]
        }
      ]
    },
    {
      "cell_type": "code",
      "source": [
        "# 쉽고 중요한 예제!\n",
        "\n",
        "class BlogFactory(object):\n",
        "    def __init__(self, 제목, 내용, 조회수, 글쓴이, 생성날짜):\n",
        "        self.title = 제목\n",
        "        self.content = 내용\n",
        "        self.count = 조회수\n",
        "        self.writer = 글쓴이\n",
        "        self.create_date = 생성날짜\n",
        "\n",
        "게시글1 = BlogFactory(\n",
        "    '오늘 제주의 날씨',\n",
        "    '오늘 제주의 날씨는 참 좋네요! 블라블라',\n",
        "    '0',\n",
        "    '이호준',\n",
        "    '2023/05/10',\n",
        "    )\n",
        "\n",
        "게시글2 = BlogFactory(\n",
        "    '오늘 부산의 날씨',\n",
        "    '오늘 부산의 날씨는 참 좋네요! 블라블라',\n",
        "    '100000',\n",
        "    '김재현',\n",
        "    '2023/05/10',\n",
        "    )\n",
        "\n",
        "게시글3 = BlogFactory(\n",
        "    '오늘 강원의 날씨',\n",
        "    '오늘 강원의 날씨는 참 좋네요! 블라블라',\n",
        "    '10000',\n",
        "    '범남궁',\n",
        "    '2023/05/10',\n",
        "    )\n",
        "\n",
        "data = [게시글1, 게시글2, 게시글3]\n",
        "for i in data:\n",
        "    print(i.content)"
      ],
      "metadata": {
        "colab": {
          "base_uri": "https://localhost:8080/"
        },
        "id": "abKu8lUPwWEw",
        "outputId": "67ec6f65-a6d2-40ba-f9b0-d84cfec6fb14"
      },
      "execution_count": null,
      "outputs": [
        {
          "output_type": "stream",
          "name": "stdout",
          "text": [
            "오늘 제주의 날씨는 참 좋네요! 블라블라\n",
            "오늘 부산의 날씨는 참 좋네요! 블라블라\n",
            "오늘 강원의 날씨는 참 좋네요! 블라블라\n"
          ]
        }
      ]
    },
    {
      "cell_type": "code",
      "source": [
        "# 쉽고 중요한 예제!\n",
        "# 이 코드는 가능하면 손으로 2 ~ 3번 써보시길 권해드립니다.\n",
        "\n",
        "class BlogFactory(object):\n",
        "    def __init__(self, 제목, 내용, 조회수, 글쓴이, 생성날짜):\n",
        "        self.title = 제목\n",
        "        self.content = 내용\n",
        "        self.count = 조회수\n",
        "        self.writer = 글쓴이\n",
        "        self.create_date = 생성날짜\n",
        "\n",
        "게시글1 = BlogFactory(\n",
        "        '오늘 제주의 날씨',\n",
        "        '오늘 제주의 날씨는 참 좋네요! 블라블라',\n",
        "        '0',\n",
        "        '이호준',\n",
        "        '2023/05/10',\n",
        "    )\n",
        "\n",
        "게시글2 = BlogFactory(\n",
        "        '오늘 부산의 날씨',\n",
        "        '오늘 부산의 날씨는 참 좋네요! 블라블라',\n",
        "        '1000000',\n",
        "        '김재현',\n",
        "        '2023/05/10',\n",
        "    )\n",
        "\n",
        "게시글3 = BlogFactory(\n",
        "        '오늘 강원의 날씨',\n",
        "        '오늘 강원의 날씨는 참 좋네요! 블라블라',\n",
        "        '10000',\n",
        "        '범남궁',\n",
        "        '2023/05/10',\n",
        "    )\n",
        "\n",
        "data = [게시글1, 게시글2, 게시글3]\n",
        "for i in data:\n",
        "    if i.writer == '이호준':\n",
        "        print(i.title)\n",
        "        print(i.content)\n",
        "        print(i.count)\n",
        "        print(i.create_date)"
      ],
      "metadata": {
        "colab": {
          "base_uri": "https://localhost:8080/"
        },
        "id": "n6wwwsA24oqj",
        "outputId": "8a7b4564-d893-4bf4-cc91-a366fa67be18"
      },
      "execution_count": null,
      "outputs": [
        {
          "output_type": "stream",
          "name": "stdout",
          "text": [
            "오늘 제주의 날씨\n",
            "오늘 제주의 날씨는 참 좋네요! 블라블라\n",
            "0\n",
            "2023/05/10\n"
          ]
        }
      ]
    },
    {
      "cell_type": "code",
      "source": [
        "data = [게시글1, 게시글2, 게시글3]\n",
        "for i in data:\n",
        "    print(f'<h2>{i.title}</h2>')\n",
        "    print(f'<p>{i.content}</p>')\n",
        "    print(f'<p>{i.writer}</p>')\n",
        "    print(f'<p>{i.count}</p>')\n",
        "    print(f'<p>{i.create_date}</p>')"
      ],
      "metadata": {
        "id": "ed1a4WG45yuD"
      },
      "execution_count": null,
      "outputs": []
    },
    {
      "cell_type": "code",
      "source": [
        "# 조금 난이도가 있는 예제 기억하지 않아도 됨 \n",
        "###### 여기서부터 복습 \n",
        "\n",
        "class BlogFactory(object):\n",
        "    dataset = []\n",
        "    def __init__(self, 제목, 내용, 조회수, 글쓴이, 생성날짜):\n",
        "        self.title = 제목\n",
        "        self.content = 내용\n",
        "        self.count = 조회수\n",
        "        self.writer = 글쓴이\n",
        "        self.create_date = 생성날짜\n",
        "        self.dataset.append(self)\n",
        "\n",
        "게시글1 = BlogFactory(\n",
        "        '오늘 제주의 날씨',\n",
        "        '오늘 제주의 날씨는 참 좋네요! 블라블라',\n",
        "        '0',\n",
        "        '이호준',\n",
        "        '2023/05/10',\n",
        "    )\n",
        "\n",
        "게시글2 = BlogFactory(\n",
        "        '오늘 부산의 날씨',\n",
        "        '오늘 부산의 날씨는 참 좋네요! 블라블라',\n",
        "        '1000000',\n",
        "        '김재현',\n",
        "        '2023/05/10',\n",
        "    )\n",
        "\n",
        "게시글3 = BlogFactory(\n",
        "        '오늘 강원의 날씨',\n",
        "        '오늘 강원의 날씨는 참 좋네요! 블라블라',\n",
        "        '10000',\n",
        "        '범남궁',\n",
        "        '2023/05/10',\n",
        "    )\n",
        "\n",
        "for i in 게시글1.dataset:\n",
        "    print(i.title)"
      ],
      "metadata": {
        "colab": {
          "base_uri": "https://localhost:8080/"
        },
        "id": "_DbEEsnU5qqL",
        "outputId": "91377aab-54c5-447c-e81a-c8d3e2228965"
      },
      "execution_count": null,
      "outputs": [
        {
          "output_type": "stream",
          "name": "stdout",
          "text": [
            "오늘 제주의 날씨\n",
            "오늘 부산의 날씨\n",
            "오늘 강원의 날씨\n"
          ]
        }
      ]
    },
    {
      "cell_type": "code",
      "source": [
        "# x = int(10)\n",
        "# y = 10\n",
        "# x.__add__ = lambda self, next = srt(self) + str(next) # error"
      ],
      "metadata": {
        "id": "SYCnKk2R7EIC"
      },
      "execution_count": null,
      "outputs": []
    },
    {
      "cell_type": "code",
      "source": [
        "class BlogFactory(object):\n",
        "    dataset = []\n",
        "\n",
        "    def __init__(self, 제목, 내용, 조회수, 글쓴이, 생성날짜):\n",
        "        self.title = 제목\n",
        "        self.content = 내용\n",
        "        self.count = 조회수\n",
        "        self.writer = 글쓴이\n",
        "        self.create_date = 생성날짜\n",
        "        self.dataset.append(self)\n",
        "\n",
        "    def __str__(self):\n",
        "        return self.title\n",
        "\n",
        "게시글1 = BlogFactory(\n",
        "        '오늘 제주의 날씨',\n",
        "        '오늘 제주의 날씨는 참 좋네요! 블라블라',\n",
        "        '0',\n",
        "        '이호준',\n",
        "        '2023/05/10',\n",
        "    )\n",
        "\n",
        "게시글2 = BlogFactory(\n",
        "        '오늘 부산의 날씨',\n",
        "        '오늘 부산의 날씨는 참 좋네요! 블라블라',\n",
        "        '1000000',\n",
        "        '김재현',\n",
        "        '2023/05/10',\n",
        "    )\n",
        "\n",
        "print(게시글1) # self.title로 찍으면 이렇게 나옴 \n",
        "print(게시글2)"
      ],
      "metadata": {
        "colab": {
          "base_uri": "https://localhost:8080/"
        },
        "id": "8XEfcOIq9emE",
        "outputId": "64b9d237-7bc7-48bf-e62d-91d5d7a74399"
      },
      "execution_count": null,
      "outputs": [
        {
          "output_type": "stream",
          "name": "stdout",
          "text": [
            "오늘 제주의 날씨\n",
            "오늘 부산의 날씨\n"
          ]
        }
      ]
    },
    {
      "cell_type": "code",
      "source": [
        "class BlogFactory(object):\n",
        "    dataset = []\n",
        "\n",
        "    def __init__(self, 제목, 내용, 조회수, 글쓴이, 생성날짜):\n",
        "        self.title = 제목\n",
        "        self.content = 내용\n",
        "        self.count = 조회수\n",
        "        self.writer = 글쓴이\n",
        "        self.create_date = 생성날짜\n",
        "        self.dataset.append(self)\n",
        "    \n",
        "    def __str__(self):\n",
        "        return self.content\n",
        "\n",
        "\n",
        "게시글1 = BlogFactory(\n",
        "        '오늘 제주의 날씨',\n",
        "        '오늘 제주의 날씨는 참 좋네요! 블라블라',\n",
        "        '0',\n",
        "        '이호준',\n",
        "        '2023/05/10',\n",
        "    )\n",
        "\n",
        "게시글2 = BlogFactory(\n",
        "        '오늘 부산의 날씨',\n",
        "        '오늘 부산의 날씨는 참 좋네요! 블라블라',\n",
        "        '1000000',\n",
        "        '김재현',\n",
        "        '2023/05/10',\n",
        "    )\n",
        "\n",
        "print(게시글1)\n",
        "print(게시글2)"
      ],
      "metadata": {
        "colab": {
          "base_uri": "https://localhost:8080/"
        },
        "id": "JfQT3y6bd7yt",
        "outputId": "94ebf011-9396-415f-ebb3-f3934105e1cf"
      },
      "execution_count": null,
      "outputs": [
        {
          "output_type": "stream",
          "name": "stdout",
          "text": [
            "오늘 제주의 날씨는 참 좋네요! 블라블라\n",
            "오늘 부산의 날씨는 참 좋네요! 블라블라\n"
          ]
        }
      ]
    },
    {
      "cell_type": "code",
      "source": [
        "class BlogFactory(object):\n",
        "    dataset = []\n",
        "\n",
        "    def __init__(self, 제목, 내용, 조회수, 글쓴이, 생성날짜):\n",
        "        self.title = 제목\n",
        "        self.content = 내용\n",
        "        self.count = 조회수\n",
        "        self.writer = 글쓴이\n",
        "        self.create_date = 생성날짜\n",
        "        self.dataset.append(self)\n",
        "\n",
        "    def __str__(self):\n",
        "        return (f'{len(self.dataset)} 제목 : {self.title} 내용 : {self.content} 조회수 : {self.count} 글쓴이 : {self.writer} 생성날짜 : {self.create_date}')\n",
        "\n",
        "\n",
        "게시글1 = BlogFactory(\n",
        "        '오늘 제주의 날씨',\n",
        "        '오늘 제주의 날씨는 참 좋네요! 블라블라',\n",
        "        '0',\n",
        "        '이호준',\n",
        "        '2023/05/10',\n",
        "    )\n",
        "print(게시글1)\n",
        "\n",
        "게시글2 = BlogFactory(\n",
        "        '오늘 부산의 날씨',\n",
        "        '오늘 부산의 날씨는 참 좋네요! 블라블라',\n",
        "        '1000000',\n",
        "        '김재현',\n",
        "        '2023/05/10',\n",
        "    )\n",
        "\n",
        "\n",
        "print(게시글2)"
      ],
      "metadata": {
        "colab": {
          "base_uri": "https://localhost:8080/"
        },
        "id": "k8BRZ1hqf-qX",
        "outputId": "fec12a17-8640-430b-a16c-27e2d941d034"
      },
      "execution_count": null,
      "outputs": [
        {
          "output_type": "stream",
          "name": "stdout",
          "text": [
            "1 제목 : 오늘 제주의 날씨 내용 : 오늘 제주의 날씨는 참 좋네요! 블라블라 조회수 : 0 글쓴이 : 이호준 생성날짜 : 2023/05/10\n",
            "2 제목 : 오늘 부산의 날씨 내용 : 오늘 부산의 날씨는 참 좋네요! 블라블라 조회수 : 1000000 글쓴이 : 김재현 생성날짜 : 2023/05/10\n"
          ]
        }
      ]
    },
    {
      "cell_type": "code",
      "source": [
        "class BlogFactory(object):\n",
        "    dataset = []\n",
        "\n",
        "    def __init__(self, 제목, 내용, 조회수, 글쓴이, 생성날짜):\n",
        "        self.title = 제목\n",
        "        self.content = 내용\n",
        "        self.count = 조회수\n",
        "        self.writer = 글쓴이\n",
        "        self.create_date = 생성날짜\n",
        "        self.dataset.append(self)\n",
        "\n",
        "    def __str__(self):\n",
        "        return f'{len(self.dataset)}. 제목 : {self.title}, 내용 : {self.content[:5]}, 글쓴이 {self.writer}'\n",
        "\n",
        "게시글1 = BlogFactory(\n",
        "        '오늘 제주의 날씨',\n",
        "        '오늘 제주의 날씨는 참 좋네요! 블라블라',\n",
        "        '0',\n",
        "        '이호준',\n",
        "        '2023/05/10',\n",
        "    )\n",
        "\n",
        "print(게시글1) # self.title로 찍으면 이렇게 나옴 \n",
        "\n",
        "게시글2 = BlogFactory(\n",
        "        '오늘 부산의 날씨',\n",
        "        '오늘 부산의 날씨는 참 좋네요! 블라블라',\n",
        "        '1000000',\n",
        "        '김재현',\n",
        "        '2023/05/10',\n",
        "    )\n",
        "\n",
        "print(게시글2)"
      ],
      "metadata": {
        "colab": {
          "base_uri": "https://localhost:8080/"
        },
        "id": "MOvQSBsH_Wq4",
        "outputId": "402ad28f-52b9-4de1-9dfd-b06574018463"
      },
      "execution_count": null,
      "outputs": [
        {
          "output_type": "stream",
          "name": "stdout",
          "text": [
            "1. 제목 : 오늘 제주의 날씨, 내용 : 오늘 제주, 글쓴이 이호준\n",
            "2. 제목 : 오늘 부산의 날씨, 내용 : 오늘 부산, 글쓴이 김재현\n"
          ]
        }
      ]
    },
    {
      "cell_type": "code",
      "source": [
        "class Bookinfo(object):\n",
        "    dataset = []\n",
        "    def __init__(self, 제목, 저자, 출판사, 가격, 날짜 ):\n",
        "     self.title = 제목\n",
        "     self.writer = 저자\n",
        "     self.publisher = 출판사 \n",
        "     self.price = 가격\n",
        "     self.data = 날짜\n",
        "     self.dataset.append(self)\n",
        "\n",
        "    def __str__(self):\n",
        "        return f'제목 : {self.title}, 저자: {self.writer}, 출판사: {self.publisher}, 가격: {self.price}, 날짜: {self.data}'\n",
        "\n",
        "시장학개론 = Bookinfo('시장학개론', '김승호', '스노우폭스북스', int(22500), '2023/04/19')\n",
        "모든삶은흐른다 = Bookinfo('모든삶은흐른다', '로랑스드빌레르', '피카', int(15120), '2023/04/23')\n",
        "\n",
        "data = [시장학개론, 모든삶은흐른다]\n",
        "for i in data:\n",
        "    print(i.title)\n"
      ],
      "metadata": {
        "colab": {
          "base_uri": "https://localhost:8080/"
        },
        "id": "UKkk33s1DdO9",
        "outputId": "b273ca71-0419-4610-8f0c-a1b853cf225a"
      },
      "execution_count": null,
      "outputs": [
        {
          "output_type": "stream",
          "name": "stdout",
          "text": [
            "시장학개론\n",
            "모든삶은흐른다\n"
          ]
        }
      ]
    },
    {
      "cell_type": "code",
      "source": [
        "import hashlib\n",
        "\n",
        "비밀번호 = hashlib.sha256()\n",
        "비밀번호.update('helloworld!'.encode('utf-8'))\n",
        "비밀번호.hexdigest() # 영화를 집어넣든, 음악을 집어넣든, 소설을 집어넣든, 암호를 집어넣든 모두 64자로 만듭니다."
      ],
      "metadata": {
        "id": "AlC_zrxAVAwI"
      },
      "execution_count": null,
      "outputs": []
    },
    {
      "cell_type": "code",
      "source": [
        "# 1번째 스탭\n",
        "# 공개되는 정보, 공개되지 않는 정보\n",
        "# 멤버(정적 수치, 문자열)와 메서드(기능)\n",
        "class Product(object):\n",
        "    def __init__(self, 품명, 가격):\n",
        "        self.product_name = 품명\n",
        "        self.price = 가격\n",
        "        \n",
        "자전거 = Product(\n",
        "    '자전거',\n",
        "    100000,\n",
        ")\n",
        "\n",
        "class UserInfo(object):\n",
        "    def __init__(self, \n",
        "                 이름, \n",
        "                 이메일,\n",
        "                 비밀번호, \n",
        "                 주요접속기기, \n",
        "                 주요접속국가, \n",
        "                 주요접속지역, \n",
        "                 마지막접속일자, \n",
        "                 회원가입날짜, \n",
        "                 별명, \n",
        "                 적립금, \n",
        "                 생일, \n",
        "                 휴대폰번호, \n",
        "                 휴대폰인증여부, \n",
        "                 고객등급, \n",
        "                 휴면계정여부):\n",
        "        self.이름 = 이름\n",
        "        self.고객등급 = 고객등급\n",
        "        self.적립금 = 적립금\n",
        "    \n",
        "    def 물품구매(self, product):\n",
        "        self.적립금 -= product.price\n",
        "\n",
        "    def 회원탈퇴(self):\n",
        "        pass\n",
        "\n",
        "    def 장바구니등록(self):\n",
        "        pass\n",
        "\n",
        "이호준 = UserInfo(\n",
        "    이름 = '이호준',\n",
        "    이메일 = 'hojun@gmail.com',\n",
        "    비밀번호 = '98d234db7e91f5ba026a25d0d6f17bc5ee0a347ea2216b0c9de06d43536d49f4',\n",
        "    주요접속기기 = 'Android',\n",
        "    주요접속국가 = 'Korea',\n",
        "    주요접속지역 = 'Jeju',\n",
        "    마지막접속일자 = '23/05/10',\n",
        "    회원가입날짜 = '23/05/10',\n",
        "    별명 = '준',\n",
        "    적립금 = 1000000000,\n",
        "    생일 = '13/13',\n",
        "    휴대폰번호 = '010-0000-0000',\n",
        "    휴대폰인증여부 = True,\n",
        "    고객등급 = 'VIP',\n",
        "    휴면계정여부 = False,\n",
        ")\n",
        "\n",
        "이호준.물품구매(자전거)\n",
        "이호준.적립금\n"
      ],
      "metadata": {
        "colab": {
          "base_uri": "https://localhost:8080/"
        },
        "id": "T7eXSQtaU8-5",
        "outputId": "a5d10898-650a-419d-f5ec-567a99ba5426"
      },
      "execution_count": null,
      "outputs": [
        {
          "output_type": "execute_result",
          "data": {
            "text/plain": [
              "999900000"
            ]
          },
          "metadata": {},
          "execution_count": 123
        }
      ]
    },
    {
      "cell_type": "code",
      "source": [
        "# 이름, 성별, 생년월일, 전화번호, 이메일 \n",
        "\n",
        "class UserInfo(object):\n",
        "    \n",
        "    def __init__(self, 이름, 성별, 생년월일, 전화번호, 이메일):\n",
        "     self.name = 이름\n",
        "     self.gender = 성별\n",
        "     self.birthdate = 생년월일\n",
        "     self.number = 전화번호\n",
        "     self.email = 이메일\n",
        "     \n",
        "    def __str__(self):\n",
        "        return f'--유저정보-- \\n 이름 : {self.name}, 성별 : {self.gender}, 생년월일 : {self.birthdate}, 전화번호 :{self.number}, 이메일 : {self.email}'\n",
        "\n",
        "\n",
        "user1 = UserInfo('김여주', '여자', '1998-03-31', '010-9793-0031', 'dd0031@naver.com')\n",
        "user2 = UserInfo('홍수복', '여자', '1963-05-20', '010-2418-0031', 'ghdtnqhr111@naver.com')\n",
        "user3 = UserInfo('김평원', '남자', '1956-04-07', '010-9795-9953', 'kpy0407@naver.com')\n",
        "\n",
        "print(user1)\n",
        "print(user2)\n",
        "print(user3)\n"
      ],
      "metadata": {
        "colab": {
          "base_uri": "https://localhost:8080/"
        },
        "id": "ED8Hy43nk31w",
        "outputId": "11d80a37-8926-434a-b6ea-84272c9fc510"
      },
      "execution_count": null,
      "outputs": [
        {
          "output_type": "stream",
          "name": "stdout",
          "text": [
            "--유저정보-- \n",
            " 이름 : 김여주, 성별 : 여자, 생년월일 : 1998-03-31, 전화번호 :010-9793-0031, 이메일 : dd0031@naver.com\n",
            "--유저정보-- \n",
            " 이름 : 홍수복, 성별 : 여자, 생년월일 : 1963-05-20, 전화번호 :010-2418-0031, 이메일 : ghdtnqhr111@naver.com\n",
            "--유저정보-- \n",
            " 이름 : 김평원, 성별 : 남자, 생년월일 : 1956-04-07, 전화번호 :010-9795-9953, 이메일 : kpy0407@naver.com\n"
          ]
        }
      ]
    },
    {
      "cell_type": "code",
      "source": [
        "class Car(object):\n",
        "    MaxSpeed = 300\n",
        "    MaxPeoeple = 5\n",
        "    def __init__(self):\n",
        "        pass\n",
        "    def move(self, x):\n",
        "        pass\n",
        "    def stop(self):\n",
        "        print('멈췄습니다.')\n",
        "    @staticmethod #decorator\n",
        "    def 스피드배속(현재스피드, 배속할스피드):\n",
        "        print(f'현재 {현재스피드 * 배속할스피드}의 스피드로 달리고 있습니다.')\n",
        "\n",
        "Car.스피드배속(100, 2) # 붕어빵 찍는 틀이 얼마나 붕어빵을 만들어 냈는가?를 알고 싶을때 "
      ],
      "metadata": {
        "colab": {
          "base_uri": "https://localhost:8080/"
        },
        "id": "o4eNNVxxXC8D",
        "outputId": "8557deaf-83e6-4017-f5ed-87b54ca17bbf"
      },
      "execution_count": null,
      "outputs": [
        {
          "output_type": "stream",
          "name": "stdout",
          "text": [
            "현재 200의 스피드로 달리고 있습니다.\n"
          ]
        }
      ]
    },
    {
      "cell_type": "code",
      "source": [
        "## 예를 들어\n",
        "class Hotel:\n",
        "    pass\n",
        "Hotel.빈방이있는호텔() # 전체 호텔에 빈방이 있는 호텔\n",
        "호텔1.빈방 # 호텔1에 빈방이 있는지 여부 "
      ],
      "metadata": {
        "id": "jiyeAIWiX0Ev"
      },
      "execution_count": null,
      "outputs": []
    },
    {
      "cell_type": "markdown",
      "source": [
        "### 상속"
      ],
      "metadata": {
        "id": "HXUQW14WYnzH"
      }
    },
    {
      "cell_type": "code",
      "source": [
        "# 이 예제는 기억하고 있으셔야 합니다 (상속)\n",
        "class Car(object): \n",
        "    maxSpeed = 300\n",
        "    maxPeople = 5\n",
        "    def move(self, x):\n",
        "        print(x, '의 스피드로 달리고 있습니다.')\n",
        "    def stop(self):\n",
        "        print('멈췄습니다.')\n",
        "\n",
        "class HybridCar(Car):\n",
        "    battery = 1000\n",
        "    batteryKM = 300\n",
        "\n",
        "class ElectricCar(HybridCar):\n",
        "    battery = 2000\n",
        "    batteryKM = 600"
      ],
      "metadata": {
        "id": "81qPLmUcYpuf"
      },
      "execution_count": null,
      "outputs": []
    },
    {
      "cell_type": "code",
      "source": [
        "dir(k3)"
      ],
      "metadata": {
        "id": "EOvEovYNZQR4"
      },
      "execution_count": null,
      "outputs": []
    },
    {
      "cell_type": "code",
      "source": [
        "HyK3 = HybridCar()\n",
        "K3 = Car()\n",
        "ElHyk3 = ElextriCar()\n",
        "id(K3,maxSpeed), id(HyK3.maxSpeed)\n",
        "id(K3.move), id(HyK3.move)\n",
        "# 상속을 받아서 id도 독같음 \n",
        "\n"
      ],
      "metadata": {
        "id": "5HIECEr5ZS4C"
      },
      "execution_count": null,
      "outputs": []
    },
    {
      "cell_type": "code",
      "source": [
        "# 우리가 앞으로 알고리즘에서 할 코드입니다.\n",
        "# 예방주사 차원에서 진행하도록 하겠습니다."
      ],
      "metadata": {
        "id": "tmFJ-llXLiNA"
      },
      "execution_count": null,
      "outputs": []
    },
    {
      "cell_type": "code",
      "source": [
        "# 아주 간단한 코드입니다.\n",
        "class Node:\n",
        "    def __init__(self,data):\n",
        "        self.data = data\n",
        "        self.next = None\n",
        "\n",
        "노드1 = Node(10)\n",
        "노드2 = Node(20)\n",
        "노드3 = Node(30)\n",
        "\n",
        "# 노드1.data\n",
        "\n",
        "노드1.next = 노드2\n",
        "노드2.next = 노드3\n",
        "\n",
        "노드1.next.data # 노드2.data\n",
        "노드1.next.next.data # 노드2.next.data -> 노드3.data\n"
      ],
      "metadata": {
        "colab": {
          "base_uri": "https://localhost:8080/"
        },
        "id": "kdgkSaOvNGC_",
        "outputId": "00165ca8-e53c-4578-d273-3a2ec0327cff"
      },
      "execution_count": null,
      "outputs": [
        {
          "output_type": "execute_result",
          "data": {
            "text/plain": [
              "30"
            ]
          },
          "metadata": {},
          "execution_count": 5
        }
      ]
    },
    {
      "cell_type": "code",
      "source": [
        "class Node:\n",
        "    def __init__(self, data):\n",
        "        self.data = data\n",
        "        self.next = None\n",
        "\n",
        "노드1 = Node(10)\n",
        "노드2 = Node(20)\n",
        "노드3 = Node(30)\n",
        "\n",
        "노드1.next = 노드2\n",
        "노드2.next = 노드3\n",
        "\n",
        "노드1.next.data"
      ],
      "metadata": {
        "colab": {
          "base_uri": "https://localhost:8080/"
        },
        "id": "n5zf9Pri4TOJ",
        "outputId": "ff86107f-de8e-4f2f-f8e2-5735a495ab9b"
      },
      "execution_count": null,
      "outputs": [
        {
          "output_type": "execute_result",
          "data": {
            "text/plain": [
              "20"
            ]
          },
          "metadata": {},
          "execution_count": 70
        }
      ]
    },
    {
      "cell_type": "code",
      "source": [
        "class Node:\n",
        "    def __init__(self, data, data1):\n",
        "        self.data = data\n",
        "        self.data1 = data1\n",
        "        self.next = None\n",
        "\n",
        "노드1 = Node(10,20)\n",
        "노드2 = Node(30,40)\n",
        "노드3 = Node(50,60)\n",
        "\n",
        "노드1.next = 노드2\n",
        "노드2.next = 노드3\n",
        "\n",
        "노드2.next.data1"
      ],
      "metadata": {
        "colab": {
          "base_uri": "https://localhost:8080/"
        },
        "id": "DFbQmcwUuXkc",
        "outputId": "c9655d7d-bced-4b87-81e8-9661deb288e8"
      },
      "execution_count": null,
      "outputs": [
        {
          "output_type": "execute_result",
          "data": {
            "text/plain": [
              "60"
            ]
          },
          "metadata": {},
          "execution_count": 74
        }
      ]
    },
    {
      "cell_type": "code",
      "source": [
        "# 이해하슈\n",
        "class Node:\n",
        "    def __init__(self, data, data2):\n",
        "        self.data = data\n",
        "        self.data2 = data2\n",
        "        self.next = None\n",
        "\n",
        "노드1 = Node(10,20)\n",
        "노드2 = Node(20,30)\n",
        "노드3 = Node(30,40)\n",
        "\n",
        "노드1.next = 노드2\n",
        "노드2.next = 노드3\n",
        "\n",
        "노드1.next.next.data2"
      ],
      "metadata": {
        "colab": {
          "base_uri": "https://localhost:8080/"
        },
        "id": "wmgOHzGMOxWo",
        "outputId": "21c1a241-12d3-464e-be5e-a750cc30494e"
      },
      "execution_count": null,
      "outputs": [
        {
          "output_type": "execute_result",
          "data": {
            "text/plain": [
              "40"
            ]
          },
          "metadata": {},
          "execution_count": 12
        }
      ]
    },
    {
      "cell_type": "markdown",
      "source": [
        "### 메서드 오버라이딩"
      ],
      "metadata": {
        "id": "U4p1TyZZ2oDJ"
      }
    },
    {
      "cell_type": "markdown",
      "source": [
        "* 부모 클래스에서 상속받은 함수를 자식 클래스에서 같은 이름으로 선언하여 사용하는 것 "
      ],
      "metadata": {
        "id": "AzwnfZ-X2sfP"
      }
    },
    {
      "cell_type": "code",
      "source": [
        "class Car(object):\n",
        "    maxSpeed = 300\n",
        "    def move(self, x):\n",
        "        print(x, '의 스피드로 달리고 있습니다.')\n",
        "\n",
        "class HybridCar(Car):\n",
        "    battery = 1000\n",
        "\n",
        "class ElectricCar(HybridCar):\n",
        "    battery = 2000\n",
        "\n",
        "    def move(self, x):\n",
        "        print(x, '스피드로 달리고 있습니다.')\n",
        "\n",
        "car1 = ElectricCar()\n",
        "car1.move()"
      ],
      "metadata": {
        "colab": {
          "base_uri": "https://localhost:8080/",
          "height": 241
        },
        "id": "gSQvcGwV2ykB",
        "outputId": "05c2284b-9dd5-4da7-fc89-2eb8dec5ef5f"
      },
      "execution_count": null,
      "outputs": [
        {
          "output_type": "error",
          "ename": "TypeError",
          "evalue": "ignored",
          "traceback": [
            "\u001b[0;31m---------------------------------------------------------------------------\u001b[0m",
            "\u001b[0;31mTypeError\u001b[0m                                 Traceback (most recent call last)",
            "\u001b[0;32m<ipython-input-81-0197a46cf697>\u001b[0m in \u001b[0;36m<cell line: 16>\u001b[0;34m()\u001b[0m\n\u001b[1;32m     14\u001b[0m \u001b[0;34m\u001b[0m\u001b[0m\n\u001b[1;32m     15\u001b[0m \u001b[0mcar1\u001b[0m \u001b[0;34m=\u001b[0m \u001b[0mElectricCar\u001b[0m\u001b[0;34m(\u001b[0m\u001b[0;34m)\u001b[0m\u001b[0;34m\u001b[0m\u001b[0;34m\u001b[0m\u001b[0m\n\u001b[0;32m---> 16\u001b[0;31m \u001b[0mcar1\u001b[0m\u001b[0;34m.\u001b[0m\u001b[0mmove\u001b[0m\u001b[0;34m(\u001b[0m\u001b[0;34m)\u001b[0m\u001b[0;34m\u001b[0m\u001b[0;34m\u001b[0m\u001b[0m\n\u001b[0m",
            "\u001b[0;31mTypeError\u001b[0m: ElectricCar.move() missing 1 required positional argument: 'x'"
          ]
        }
      ]
    },
    {
      "cell_type": "markdown",
      "source": [
        "### 다중상속"
      ],
      "metadata": {
        "id": "Yuh-TYevRz9_"
      }
    },
    {
      "cell_type": "markdown",
      "source": [
        "* 부모 클래스에서 상속받은 함수를 자식 클래스에서 같은 이름으로 선언하여 사용하는 것 "
      ],
      "metadata": {
        "id": "zNpn5GOPSQYd"
      }
    },
    {
      "cell_type": "code",
      "source": [
        "class Car(object):\n",
        "    maxSpeed = 300\n",
        "    maxPeople = 5\n",
        "    def move(self, x):\n",
        "        print(x, '의 스피드로 달리고 있습니다.')\n",
        "\n",
        "\n",
        "class HybridCar(Car):\n",
        "    battery = 1000\n",
        "\n",
        "class ElectricCar(HybridCar):\n",
        "    battery = 2000\n",
        "\n",
        "    def move(self, x):\n",
        "        print(x, '스피드로 달리고 있습니다.')\n",
        "\n",
        "# 자신의 고유의 영역에서 선언된\n",
        "# 멤버와 메서드를 우선순위로 잡습니다.\n",
        "class Test(ElectricCar):\n",
        "    pass\n",
        "\n",
        "Test.mro() # MRO(Method Resolution Order)\n",
        "# print(Test.battery)"
      ],
      "metadata": {
        "colab": {
          "base_uri": "https://localhost:8080/"
        },
        "id": "6NGOPgYvU-IN",
        "outputId": "4335909d-e691-463d-949e-46cf775bf097"
      },
      "execution_count": null,
      "outputs": [
        {
          "output_type": "execute_result",
          "data": {
            "text/plain": [
              "[__main__.Test, __main__.ElectricCar, __main__.HybridCar, __main__.Car, object]"
            ]
          },
          "metadata": {},
          "execution_count": 79
        }
      ]
    },
    {
      "cell_type": "code",
      "source": [
        "class A(object):\n",
        "    maxSpeed = 300\n",
        "\n",
        "class B(A):\n",
        "    battery = 1000\n",
        "\n",
        "class C(A):\n",
        "    battery = 2000\n",
        "\n",
        "class D(B, C):\n",
        "    pass\n",
        "\n",
        "D.mro()\n",
        "# D.battery\n",
        "\n",
        "# 다이아몬드 상속 D -> B "
      ],
      "metadata": {
        "colab": {
          "base_uri": "https://localhost:8080/"
        },
        "id": "DauHoQwTWnUJ",
        "outputId": "27983db4-da98-4b0d-851f-8efa06ea7ed1"
      },
      "execution_count": null,
      "outputs": [
        {
          "output_type": "execute_result",
          "data": {
            "text/plain": [
              "[__main__.D, __main__.B, __main__.C, __main__.A, object]"
            ]
          },
          "metadata": {},
          "execution_count": 15
        }
      ]
    },
    {
      "cell_type": "code",
      "source": [
        "class A(object):\n",
        "    maxSpeed = 300\n",
        "\n",
        "class B(A):\n",
        "    battery = 1000\n",
        "\n",
        "class C(A):\n",
        "    battery = 2000\n",
        "\n",
        "class D(B, C):\n",
        "    pass\n",
        "\n",
        "D.mro() # 상속받은 클래스는 mro로 확인할 수 있다. 제일 가까이 있는게 상속받은 우선순위가 높다"
      ],
      "metadata": {
        "colab": {
          "base_uri": "https://localhost:8080/"
        },
        "id": "rxInoVQBv3qm",
        "outputId": "ca078312-5e8f-419e-d753-9a2342c04d9b"
      },
      "execution_count": null,
      "outputs": [
        {
          "output_type": "execute_result",
          "data": {
            "text/plain": [
              "[__main__.D, __main__.B, __main__.C, __main__.A, object]"
            ]
          },
          "metadata": {},
          "execution_count": 78
        }
      ]
    },
    {
      "cell_type": "code",
      "source": [
        "# __는 문법 적으로 접근이 안된다. : 변수를 보호할 수 있다. \n",
        "# 변수를 변경하는 것을 보다 엄격하게 관리할 수 있다.\n",
        "# _는 공식이 아니다. \n",
        "# _는 문법적으로 접근이 된다. (회사 컨벤션마다 다르다.)\n",
        "\n",
        "class Car(object):\n",
        "    __maxSpeed = 300\n",
        "    maxPeople = 5\n",
        "    def move(self, x):\n",
        "        print(x, '의 스피드로 움직이고 있습니다.')\n",
        "        print(self.__maxSpeed, '가 최고 속도입니다.')\n",
        "    def stop(self):\n",
        "        print('멈췄습니다.')\n",
        "\n",
        "k5 = Car() # K5는 클래스의 인스턴스로 만든 것이고 클래스의 인스턴스가 되었기에 \n",
        "# 클래스 내부의 메서드를 불러일으킬 수 있음 \n",
        "k5.move(10)\n",
        "# k5.__maxSpeed #error\n",
        "# k5.maxPeople"
      ],
      "metadata": {
        "id": "qfNW4YM1XXXa",
        "colab": {
          "base_uri": "https://localhost:8080/"
        },
        "outputId": "369cac8c-de81-491e-a188-9031af2e3501"
      },
      "execution_count": null,
      "outputs": [
        {
          "output_type": "stream",
          "name": "stdout",
          "text": [
            "10 의 스피드로 움직이고 있습니다.\n",
            "300 가 최고 속도입니다.\n"
          ]
        }
      ]
    },
    {
      "cell_type": "markdown",
      "source": [
        "## 이터레이터"
      ],
      "metadata": {
        "id": "8Ar0IGGItQqY"
      }
    },
    {
      "cell_type": "code",
      "source": [
        "class MyIter:\n",
        "    def __init__(self, stop):\n",
        "        self.currentValue = 0\n",
        "        self.stop = stop\n",
        "    \n",
        "    def __iter__(self):\n",
        "        return self\n",
        "\n",
        "    def __next__(self):\n",
        "        if self.currentValue >= self.stop:\n",
        "            raise StopIteration\n",
        "        self.currentValue += 1\n",
        "        return self.currentValue # next로 호출해서 값이 커진다\n",
        "\n",
        "li = MyIter(5)\n",
        "for i in li: # for는 계속해서 next를 호출 error가 날 때까지\n",
        "    print(i)"
      ],
      "metadata": {
        "colab": {
          "base_uri": "https://localhost:8080/"
        },
        "id": "yZzj2m0e3J_V",
        "outputId": "d7858c0d-f550-4082-b969-1fde6e284a5b"
      },
      "execution_count": null,
      "outputs": [
        {
          "output_type": "stream",
          "name": "stdout",
          "text": [
            "1\n",
            "2\n",
            "3\n",
            "4\n",
            "5\n"
          ]
        }
      ]
    },
    {
      "cell_type": "code",
      "source": [
        "class MyIterator:\n",
        "    def __init__(self, stop):\n",
        "        self.currentValue = 0\n",
        "        self.stop = stop\n",
        "\n",
        "    def __iter__(self):\n",
        "        return self\n",
        "\n",
        "    def __next__(self):\n",
        "        if self.currentValue >= self.stop:\n",
        "            raise StopIteration\n",
        "        result = self.currentValue\n",
        "        self.currentValue += 1\n",
        "        return result\n",
        "\n",
        "my_iterator = MyIterator(5) \n",
        "\n",
        "for i in my_iterator:\n",
        "    print(i)"
      ],
      "metadata": {
        "colab": {
          "base_uri": "https://localhost:8080/"
        },
        "id": "yM1pBS6o40Kj",
        "outputId": "81d56358-72e2-4201-d156-79e2081f4e5e"
      },
      "execution_count": null,
      "outputs": [
        {
          "output_type": "stream",
          "name": "stdout",
          "text": [
            "0\n",
            "1\n",
            "2\n",
            "3\n",
            "4\n"
          ]
        }
      ]
    },
    {
      "cell_type": "code",
      "source": [
        "class MyIter:\n",
        "    def __init__(self, stop):\n",
        "        self.stop = stop\n",
        "# 이터레이터란 ? 값을 차례대로 꺼낼 수 있는 객체를 의미 \n",
        "\n",
        "    def __iter__(self): # iter는 for을 만나면 실행이 된다\n",
        "        self.currentValue = 0\n",
        "        return self\n",
        "\n",
        "    def __next__(self):\n",
        "        if self.currentValue >= self.stop:\n",
        "            raise StopIteration\n",
        "        result = self.currentValue\n",
        "        self.currentValue += 1\n",
        "        return result\n",
        "\n",
        "li = MyIter(5) \n",
        "# for는 iter먼저 실행하고, next로 StopIteration\n",
        "for i in li: # 먼저 값이 들어오는것부터 출력 \n",
        "    print(i)\n",
        "# for가 끝나면 다시 iter로 돌아가서 초기화된다 \n",
        "for i in li:\n",
        "    print(i)"
      ],
      "metadata": {
        "id": "bxMCjqa4a9BP",
        "colab": {
          "base_uri": "https://localhost:8080/"
        },
        "outputId": "6c03c81c-d617-41f2-9cbb-a0fa5bc2503e"
      },
      "execution_count": null,
      "outputs": [
        {
          "output_type": "stream",
          "name": "stdout",
          "text": [
            "0\n",
            "1\n",
            "2\n",
            "3\n",
            "4\n",
            "0\n",
            "1\n",
            "2\n",
            "3\n",
            "4\n"
          ]
        }
      ]
    },
    {
      "cell_type": "code",
      "source": [
        "class MyIter:\n",
        "    def __init__(self, stop):\n",
        "        self.stop = stop\n",
        "    \n",
        "    def __iter__(self): # iter는 for을 만나면 실행이 된다\n",
        "        self.currentValue = 0 \n",
        "        return self\n",
        "\n",
        "    def __next__(self):\n",
        "        if self.currentValue >= self.stop:\n",
        "            raise StopIteration\n",
        "        result = self.currentValue\n",
        "        self.currentValue += 1\n",
        "        return result\n",
        "\n",
        "li = MyIter(5)\n",
        "# for는 iter먼저 실행하고, next로 StopIteration\n",
        "i = iter(li) # \n",
        "next(i)\n",
        "\n"
      ],
      "metadata": {
        "colab": {
          "base_uri": "https://localhost:8080/"
        },
        "id": "x8DB8XS-boA4",
        "outputId": "f166e4d6-1d4d-4e09-98e5-10da69b9030e"
      },
      "execution_count": null,
      "outputs": [
        {
          "output_type": "execute_result",
          "data": {
            "text/plain": [
              "0"
            ]
          },
          "metadata": {},
          "execution_count": 85
        }
      ]
    },
    {
      "cell_type": "code",
      "source": [
        "a, b, c, d = MyIter(4)\n",
        "print(a,b,c,d)"
      ],
      "metadata": {
        "colab": {
          "base_uri": "https://localhost:8080/"
        },
        "id": "p-pUvV0Jb930",
        "outputId": "57da63b8-40ab-4d54-f78d-a996a1dfd121"
      },
      "execution_count": null,
      "outputs": [
        {
          "output_type": "stream",
          "name": "stdout",
          "text": [
            "0 1 2 3\n"
          ]
        }
      ]
    },
    {
      "cell_type": "code",
      "source": [
        "a, b, c, d = range(4)\n",
        "print(a,b,c,d)"
      ],
      "metadata": {
        "colab": {
          "base_uri": "https://localhost:8080/"
        },
        "id": "V-iDcRp_cEp-",
        "outputId": "ce91c60c-cc16-4b99-844f-fb0a8c933b79"
      },
      "execution_count": null,
      "outputs": [
        {
          "output_type": "stream",
          "name": "stdout",
          "text": [
            "0 1 2 3\n"
          ]
        }
      ]
    },
    {
      "cell_type": "code",
      "source": [
        "# 이것도 이해하고 넘어가렴 # \n",
        "class Car:\n",
        "    test = [] # 멤버 변수   \n",
        "\n",
        "    def __init__(self, color):\n",
        "        self.color = color # 인스턴스 변수\n",
        "\n",
        "k5 = Car('red')\n",
        "k5.test.append('hello')\n",
        "k9 = Car('blue')\n",
        "k9.test.append('world')\n",
        "\n",
        "print(k5.color) # red가 출력됩니다.\n",
        "print(k9.color) # blue가 출력됩니다.\n",
        "print(k5.test) # ['hello','world']가 출력됩니다.\n",
        "print(k9.test) # ['hello','world']가 출력됩니다."
      ],
      "metadata": {
        "colab": {
          "base_uri": "https://localhost:8080/"
        },
        "id": "FjBU_fX2-oNS",
        "outputId": "6b4176bb-ba35-4c82-9109-b0ae74c8c2b2"
      },
      "execution_count": null,
      "outputs": [
        {
          "output_type": "stream",
          "name": "stdout",
          "text": [
            "red\n",
            "blue\n",
            "['hello', 'world']\n",
            "['hello', 'world']\n"
          ]
        }
      ]
    },
    {
      "cell_type": "code",
      "source": [
        "class Car:\n",
        "    test = [] # 멤버변수는 모든 인스턴스가 공유된다. \n",
        "\n",
        "    def __init__(self, color):\n",
        "        self.color = color # 반면 인스턴스 변수는 하나의 인스턴스가 가지고 있는\n",
        "        # 개별적인 값\n",
        "\n",
        "k3 = Car('blue')\n",
        "k5 = Car('red')\n",
        "k3.test.append('hello')\n",
        "k5.test.append('world')\n",
        "\n",
        "k3.color\n",
        "k5.color\n",
        "k3.test\n",
        "k5.test\n",
        "\n",
        "\n",
        "\n"
      ],
      "metadata": {
        "colab": {
          "base_uri": "https://localhost:8080/"
        },
        "id": "24EO-2SvS-UH",
        "outputId": "890aa850-07ee-4106-a4a8-7c047c6ce3f2"
      },
      "execution_count": null,
      "outputs": [
        {
          "output_type": "execute_result",
          "data": {
            "text/plain": [
              "['hello', 'world']"
            ]
          },
          "metadata": {},
          "execution_count": 5
        }
      ]
    },
    {
      "cell_type": "markdown",
      "source": [
        "## 제너레이터"
      ],
      "metadata": {
        "id": "w6R_Mvtucd7-"
      }
    },
    {
      "cell_type": "markdown",
      "source": [
        "* 제너레이터란, 이터레이터를 생성해주는 함수"
      ],
      "metadata": {
        "id": "5mjEzDyocp8c"
      }
    },
    {
      "cell_type": "code",
      "source": [
        "# 제너레이터를 만들 때에는 yield 키워들르 사용한다. yield 키워드를 사용하면\n",
        "# 함수가 실행 중에 중간 결과값을 반환할 수 있다. "
      ],
      "metadata": {
        "id": "P6xivFdaACjO"
      },
      "execution_count": null,
      "outputs": []
    },
    {
      "cell_type": "code",
      "source": [
        "def gen():\n",
        "    count = 0\n",
        "    while True:\n",
        "        yield count #yield는 return값이랑 비슷하다\n",
        "        count += 1\n",
        "\n",
        "for i in gen(): # gen은 yield에서 가지고옴\n",
        "    print(i)\n",
        "    if i == 10:\n",
        "        break"
      ],
      "metadata": {
        "colab": {
          "base_uri": "https://localhost:8080/"
        },
        "id": "ONz_5R_-cybF",
        "outputId": "15b1f683-d823-4c76-93fd-78c59d8faca4"
      },
      "execution_count": null,
      "outputs": [
        {
          "output_type": "stream",
          "name": "stdout",
          "text": [
            "0\n",
            "1\n",
            "2\n",
            "3\n",
            "4\n",
            "5\n",
            "6\n",
            "7\n",
            "8\n",
            "9\n",
            "10\n"
          ]
        }
      ]
    },
    {
      "cell_type": "code",
      "source": [
        "# 제너레이터 실무에서 많이 쓰임 \n",
        "def gen():\n",
        "    count = 0\n",
        "    while True:\n",
        "        yield count\n",
        "        count += 2\n",
        "\n",
        "l = [10,20,30,40,50]\n",
        "list(zip(l,gen()))"
      ],
      "metadata": {
        "colab": {
          "base_uri": "https://localhost:8080/"
        },
        "id": "yT2uquX4eFgY",
        "outputId": "5ed2b554-9464-487b-8907-53e943311cab"
      },
      "execution_count": null,
      "outputs": [
        {
          "output_type": "execute_result",
          "data": {
            "text/plain": [
              "[(10, 0), (20, 2), (30, 4), (40, 6), (50, 8)]"
            ]
          },
          "metadata": {},
          "execution_count": 32
        }
      ]
    },
    {
      "cell_type": "code",
      "source": [
        "def gen():\n",
        "    count = 0\n",
        "    while True:\n",
        "        yield f'{count}주차'\n",
        "        count += 2\n",
        "    \n",
        "과목 = ['HTML', 'CSS', 'JavaScript', 'Python']\n",
        "\n",
        "list(zip(과목,gen()))"
      ],
      "metadata": {
        "colab": {
          "base_uri": "https://localhost:8080/"
        },
        "id": "TEfj31Ebeh9e",
        "outputId": "de6d3915-3a59-4706-a0b1-0349508faddc"
      },
      "execution_count": null,
      "outputs": [
        {
          "output_type": "execute_result",
          "data": {
            "text/plain": [
              "[('HTML', '0주차'), ('CSS', '2주차'), ('JavaScript', '4주차'), ('Python', '6주차')]"
            ]
          },
          "metadata": {},
          "execution_count": 34
        }
      ]
    },
    {
      "cell_type": "code",
      "source": [
        "def gen():\n",
        "    count = 0\n",
        "    while True:\n",
        "        yield f'{count}주차'\n",
        "        count += 2\n",
        "\n",
        "과목 = ['HTML', 'CSS', 'JAVA', 'Python']\n",
        "\n",
        "list(zip(과목, gen()))"
      ],
      "metadata": {
        "colab": {
          "base_uri": "https://localhost:8080/"
        },
        "id": "nGXLBlZMWBGo",
        "outputId": "e7b04d4c-18b5-487c-9c41-a784d23c7974"
      },
      "execution_count": null,
      "outputs": [
        {
          "output_type": "execute_result",
          "data": {
            "text/plain": [
              "[('HTML', '0주차'), ('CSS', '2주차'), ('JAVA', '4주차'), ('Python', '6주차')]"
            ]
          },
          "metadata": {},
          "execution_count": 13
        }
      ]
    },
    {
      "cell_type": "code",
      "source": [
        "def gen():\n",
        "    count = 0\n",
        "    while True:\n",
        "        yield count\n",
        "        count += 1\n",
        "        if count ==6:\n",
        "            count = 1\n",
        "과목 = ['A', 'B', 'C', 'D', 'E', 'F', 'G','H', 'I', 'J', 'K']\n",
        "\n",
        "list(zip(과목, gen()))"
      ],
      "metadata": {
        "colab": {
          "base_uri": "https://localhost:8080/"
        },
        "id": "GZLv1lxRe-tn",
        "outputId": "eb8172f3-af97-45d2-fc62-9726c9f49bb9"
      },
      "execution_count": null,
      "outputs": [
        {
          "output_type": "execute_result",
          "data": {
            "text/plain": [
              "[('A', 0),\n",
              " ('B', 1),\n",
              " ('C', 2),\n",
              " ('D', 3),\n",
              " ('E', 4),\n",
              " ('F', 5),\n",
              " ('G', 1),\n",
              " ('H', 2),\n",
              " ('I', 3),\n",
              " ('J', 4),\n",
              " ('K', 5)]"
            ]
          },
          "metadata": {},
          "execution_count": 35
        }
      ]
    },
    {
      "cell_type": "code",
      "source": [
        "def gen():\n",
        "    count = 0\n",
        "    while True:\n",
        "        yield count\n",
        "        count += 1\n",
        "        if count == 6:\n",
        "            count = 1\n",
        "과목 = ['A', 'B', 'C', 'D', 'E', 'F', 'G','H', 'I', 'J', 'K']\n",
        "\n",
        "list(zip(과목, gen()))\n"
      ],
      "metadata": {
        "colab": {
          "base_uri": "https://localhost:8080/"
        },
        "id": "fxBqI0POWg3d",
        "outputId": "238d2215-2cb0-41c0-a8c9-70cb607a7a80"
      },
      "execution_count": null,
      "outputs": [
        {
          "output_type": "execute_result",
          "data": {
            "text/plain": [
              "[('A', 0),\n",
              " ('B', 1),\n",
              " ('C', 2),\n",
              " ('D', 3),\n",
              " ('E', 4),\n",
              " ('F', 5),\n",
              " ('G', 1),\n",
              " ('H', 2),\n",
              " ('I', 3),\n",
              " ('J', 4),\n",
              " ('K', 5)]"
            ]
          },
          "metadata": {},
          "execution_count": 15
        }
      ]
    },
    {
      "cell_type": "markdown",
      "source": [
        "## 데코레이터(데커레이터)"
      ],
      "metadata": {
        "id": "YQBJ9T4Z34vb"
      }
    },
    {
      "cell_type": "code",
      "source": [
        "# 아래와 같이 실무에서 활용됩니다. \n",
        "\n",
        "@login # 로그인 된 사용자만 비밀게시판을 이용할 수 있다\n",
        "def 비밀게시판():\n",
        "    return render()\n",
        "\n",
        "@check_vip\n",
        "def vip용쿠폰():\n",
        "    return render()\n",
        "\n",
        "#데이터 전처리 : \n",
        "#데이터에 이상치(이상한 값), 결측치(비어있는 값)\n",
        "#['10',1,2,3,'20']-> [10,1,2,3,20]\n",
        "@데이터전처리\n",
        "sum(data)\n",
        "\n",
        "@데이터전처리후퍼센테이지\n",
        "sum(data)\n",
        "\n",
        "# [10,20,30] -> 60%"
      ],
      "metadata": {
        "id": "cqK5fvf6gETm",
        "colab": {
          "base_uri": "https://localhost:8080/",
          "height": 134
        },
        "outputId": "36223883-64a8-40a9-9d46-7d207b42d89e"
      },
      "execution_count": null,
      "outputs": [
        {
          "output_type": "error",
          "ename": "SyntaxError",
          "evalue": "ignored",
          "traceback": [
            "\u001b[0;36m  File \u001b[0;32m\"<ipython-input-84-265c23827542>\"\u001b[0;36m, line \u001b[0;32m15\u001b[0m\n\u001b[0;31m    sum(data)\u001b[0m\n\u001b[0m    ^\u001b[0m\n\u001b[0;31mSyntaxError\u001b[0m\u001b[0;31m:\u001b[0m invalid syntax\n"
          ]
        }
      ]
    },
    {
      "cell_type": "code",
      "source": [
        "def one():\n",
        "    return lambda x,y : x + y\n",
        "\n",
        "더하기 = one()\n",
        "더하기(10,10)"
      ],
      "metadata": {
        "colab": {
          "base_uri": "https://localhost:8080/"
        },
        "id": "2CnYuCkNkP67",
        "outputId": "a99654bf-08cc-4480-bec9-ea60bc429f93"
      },
      "execution_count": null,
      "outputs": [
        {
          "output_type": "execute_result",
          "data": {
            "text/plain": [
              "20"
            ]
          },
          "metadata": {},
          "execution_count": 85
        }
      ]
    },
    {
      "cell_type": "code",
      "source": [
        "def one():\n",
        "    def two(x, y):\n",
        "        return x + y\n",
        "    return two\n",
        "\n",
        "더하기 = one()\n",
        "더하기(10, 10)"
      ],
      "metadata": {
        "colab": {
          "base_uri": "https://localhost:8080/"
        },
        "id": "-ho5aGYnksl-",
        "outputId": "24f0a9b7-dfa5-4346-b914-7dafa6e59896"
      },
      "execution_count": null,
      "outputs": [
        {
          "output_type": "execute_result",
          "data": {
            "text/plain": [
              "20"
            ]
          },
          "metadata": {},
          "execution_count": 86
        }
      ]
    },
    {
      "cell_type": "code",
      "source": [
        "# 중요한 코드 입니다. \n",
        "# 손으로 2~3번 써보시길 권해드립니다 \n",
        "def print_hello(func):\n",
        "    def wrap_func():\n",
        "        print('hello')\n",
        "        func()\n",
        "    return wrap_func\n",
        "@print_hello\n",
        "def func1():\n",
        "    print('func1 입니다.')\n",
        "\n",
        "func1() #func1을 만나면 데코레이터가 먼저 있는지 확인 데코레이터 함수 def func1 을\n",
        "# 위에 def print_hello에 넣는다 "
      ],
      "metadata": {
        "colab": {
          "base_uri": "https://localhost:8080/"
        },
        "id": "6c12YzfKk6c5",
        "outputId": "2e6b8384-4c8d-48cd-f1b6-7d8d63c9fdf0"
      },
      "execution_count": null,
      "outputs": [
        {
          "output_type": "stream",
          "name": "stdout",
          "text": [
            "hello\n",
            "func1 입니다.\n"
          ]
        }
      ]
    },
    {
      "cell_type": "code",
      "source": [
        "# 형태를 외우는걸 추천 \n",
        "def 인사말(func):\n",
        "    def wrap_func():\n",
        "        print('안녕하세요.')\n",
        "        func()\n",
        "    return wrap_func\n",
        "@인사말\n",
        "def 자기소개1():\n",
        "    print('이호준입니다.')\n",
        "\n",
        "@인사말\n",
        "def 자기소개2():\n",
        "    print('홍길동입니다.')\n",
        "\n",
        "@인사말\n",
        "def 작별인사():\n",
        "    print('안녕히계세요.')\n",
        "\n",
        "자기소개1() #func1을 만나면 데코레이터가 먼저 있는지 확인 데코레이터 함수 def func1 을\n",
        "# 위에 def print_hello에 넣는다 \n",
        "자기소개2()\n",
        "작별인사()"
      ],
      "metadata": {
        "colab": {
          "base_uri": "https://localhost:8080/"
        },
        "id": "Fwii1GRZl_ac",
        "outputId": "7b7a58d5-67dc-4ef3-cca7-b54bebab874b"
      },
      "execution_count": null,
      "outputs": [
        {
          "output_type": "stream",
          "name": "stdout",
          "text": [
            "안녕하세요.\n",
            "이호준입니다.\n",
            "안녕하세요.\n",
            "홍길동입니다.\n",
            "안녕하세요.\n",
            "안녕히계세요.\n"
          ]
        }
      ]
    },
    {
      "cell_type": "code",
      "source": [
        "def 인사말(func):\n",
        "    def wrap_func(이름):\n",
        "        print('안녕하세요.')\n",
        "        func(이름)\n",
        "    return wrap_func\n",
        "\n",
        "@인사말\n",
        "def 자기소개1(name):\n",
        "    print(f'{name}입니다.')\n",
        "\n",
        "@인사말\n",
        "def 자기소개2(name):\n",
        "    print(f'{name}입니다.')\n",
        "\n",
        "def 작별인사():\n",
        "    print('안녕히계세요.')\n",
        "\n",
        "자기소개1('이호준')\n",
        "자기소개2('홍길동')\n",
        "작별인사()"
      ],
      "metadata": {
        "colab": {
          "base_uri": "https://localhost:8080/"
        },
        "id": "n4JLl2kfngc3",
        "outputId": "1a8bf05e-25ea-451c-cb53-b76342efa55e"
      },
      "execution_count": null,
      "outputs": [
        {
          "output_type": "stream",
          "name": "stdout",
          "text": [
            "안녕하세요.\n",
            "이호준입니다.\n",
            "안녕하세요.\n",
            "홍길동입니다.\n",
            "안녕히계세요.\n"
          ]
        }
      ]
    },
    {
      "cell_type": "code",
      "source": [
        "def 인사말(func):\n",
        "    def wrap_func(name):\n",
        "        print('안녕하세요')\n",
        "        func(name)\n",
        "    return wrap_func\n",
        "\n",
        "@인사말\n",
        "def 자기소개1(name):\n",
        "    print(f'{name}입니다.')\n",
        "\n",
        "\n",
        "@인사말\n",
        "def 자기소개2(name):\n",
        "    print(f'{name}입니다.')\n",
        "\n",
        "\n",
        "자기소개1('김여주')\n"
      ],
      "metadata": {
        "colab": {
          "base_uri": "https://localhost:8080/"
        },
        "id": "Pl7VvNGreV_P",
        "outputId": "01a5af60-c128-4c8d-b87d-dc92ae615f6d"
      },
      "execution_count": null,
      "outputs": [
        {
          "output_type": "stream",
          "name": "stdout",
          "text": [
            "안녕하세요\n",
            "김여주입니다.\n"
          ]
        }
      ]
    },
    {
      "cell_type": "code",
      "source": [
        "#*^^*\n",
        "\n",
        "def 전처리(func):\n",
        "    def wrap_func(iterable):\n",
        "        iterable = list(map(int, iterable))\n",
        "        print(func(iterable))\n",
        "    return wrap_func\n",
        "\n",
        "@전처리\n",
        "def 평균(l):\n",
        "    return sum(l) / len(l) # sum은 숫자 2+3 = 5 len은 글자 2개 \n",
        "\n",
        "평균(['1',2,3,'4'])"
      ],
      "metadata": {
        "colab": {
          "base_uri": "https://localhost:8080/"
        },
        "id": "WlhWNnsWoqYg",
        "outputId": "47db3696-11d5-49dc-ef5d-09da08272490"
      },
      "execution_count": null,
      "outputs": [
        {
          "output_type": "stream",
          "name": "stdout",
          "text": [
            "2.5\n"
          ]
        }
      ]
    },
    {
      "cell_type": "code",
      "source": [
        "def 전처리(func):\n",
        "    def wrap_func(iterable):\n",
        "        return func(list(map(int, iterable)))\n",
        "    return wrap_func\n",
        "\n",
        "@전처리\n",
        "def 평균(l):\n",
        "    return sum(l) / len(l)\n",
        "\n",
        "평균(['1', 2, 3, '4'])"
      ],
      "metadata": {
        "colab": {
          "base_uri": "https://localhost:8080/"
        },
        "id": "O08v_EeqhtzC",
        "outputId": "3da6f88c-71ff-422e-cefd-cdfdedef606f"
      },
      "execution_count": null,
      "outputs": [
        {
          "output_type": "execute_result",
          "data": {
            "text/plain": [
              "2.5"
            ]
          },
          "metadata": {},
          "execution_count": 92
        }
      ]
    },
    {
      "cell_type": "code",
      "source": [
        "def 전처리(func):\n",
        "    def wrap_func(iterable):\n",
        "        i = list(map(int, iterable))\n",
        "        calculate = func(i)\n",
        "        result = str(calculate) + '%'\n",
        "        return result\n",
        "    return wrap_func\n",
        "\n",
        "@전처리\n",
        "def 평균(l):\n",
        "    return sum(l) / len(l)\n",
        "\n",
        "평균(['1', 2, 3, '4'])"
      ],
      "metadata": {
        "id": "NXBDWZDhpuL3",
        "colab": {
          "base_uri": "https://localhost:8080/",
          "height": 36
        },
        "outputId": "ce5bd669-3c64-490e-a157-b8fa12e7df70"
      },
      "execution_count": null,
      "outputs": [
        {
          "output_type": "execute_result",
          "data": {
            "text/plain": [
              "'2.5%'"
            ],
            "application/vnd.google.colaboratory.intrinsic+json": {
              "type": "string"
            }
          },
          "metadata": {},
          "execution_count": 93
        }
      ]
    },
    {
      "cell_type": "code",
      "source": [
        "# 데코레이터 실습 문제\n",
        "# 다음 값이 들어갔을 때, 숫자만 모두 더하는 코드를 완성하세요.\n",
        "\n",
        "li = ['10', True, False, '21', 0, 10, 20]\n",
        "\n",
        "@전처리\n",
        "def custom_sum(l):\n",
        "    sum(l)\n",
        "\n",
        "custom_sum(li)"
      ],
      "metadata": {
        "colab": {
          "base_uri": "https://localhost:8080/",
          "height": 36
        },
        "id": "q9ktDRZMh4Za",
        "outputId": "319915c8-a179-412f-d068-7b0fcfaa6827"
      },
      "execution_count": null,
      "outputs": [
        {
          "output_type": "execute_result",
          "data": {
            "text/plain": [
              "'None%'"
            ],
            "application/vnd.google.colaboratory.intrinsic+json": {
              "type": "string"
            }
          },
          "metadata": {},
          "execution_count": 94
        }
      ]
    },
    {
      "cell_type": "code",
      "source": [
        "# *^^* 노이해 \n",
        "# 내가 푼 것 \n",
        "# iterable 멤버들을 한번에 하나씩 돌려줄 수 있는 객체 (정확히 말하면 순회를 당하는 것 )\n",
        "l = ['10', True, False, '21', 0, 10, 20]\n",
        "\n",
        "def 전처리(func):\n",
        "    def wrap_func(iterable):\n",
        "        return func(list(int(filter(lambda x: type(x) == int or type(x) == str, iterable))))\n",
        "        return wrap_func\n",
        "        \n",
        "        \n",
        "@전처리\n",
        "def custom_sum(data):\n",
        "    return sum(data)\n",
        "\n",
        "print(custom_sum(l))"
      ],
      "metadata": {
        "colab": {
          "base_uri": "https://localhost:8080/",
          "height": 241
        },
        "id": "dG9YWJXCmCB6",
        "outputId": "a82c17ea-44a7-4548-c446-57fc38fed560"
      },
      "execution_count": null,
      "outputs": [
        {
          "output_type": "error",
          "ename": "TypeError",
          "evalue": "ignored",
          "traceback": [
            "\u001b[0;31m---------------------------------------------------------------------------\u001b[0m",
            "\u001b[0;31mTypeError\u001b[0m                                 Traceback (most recent call last)",
            "\u001b[0;32m<ipython-input-111-867b3d2803f9>\u001b[0m in \u001b[0;36m<cell line: 16>\u001b[0;34m()\u001b[0m\n\u001b[1;32m     14\u001b[0m     \u001b[0;32mreturn\u001b[0m \u001b[0msum\u001b[0m\u001b[0;34m(\u001b[0m\u001b[0mdata\u001b[0m\u001b[0;34m)\u001b[0m\u001b[0;34m\u001b[0m\u001b[0;34m\u001b[0m\u001b[0m\n\u001b[1;32m     15\u001b[0m \u001b[0;34m\u001b[0m\u001b[0m\n\u001b[0;32m---> 16\u001b[0;31m \u001b[0mprint\u001b[0m\u001b[0;34m(\u001b[0m\u001b[0mcustom_sum\u001b[0m\u001b[0;34m(\u001b[0m\u001b[0ml\u001b[0m\u001b[0;34m)\u001b[0m\u001b[0;34m)\u001b[0m\u001b[0;34m\u001b[0m\u001b[0;34m\u001b[0m\u001b[0m\n\u001b[0m",
            "\u001b[0;31mTypeError\u001b[0m: 'NoneType' object is not callable"
          ]
        }
      ]
    },
    {
      "cell_type": "code",
      "source": [
        "# 다른코드 \n",
        "l = ['10', True, False, '21', 0, 10, 20]\n",
        "\n",
        "def 전처리(func):\n",
        "    def warp_func(iterable):\n",
        "        iterable = map(int, filter(lambda x: type(x) == int or type(x) == str, iterable))\n",
        "        return func(iterable)\n",
        "    return warp_func\n",
        "    \n",
        "@전처리\n",
        "def custom_sum(data):\n",
        "    return sum(data)\n",
        "\n",
        "print(custom_sum(l))"
      ],
      "metadata": {
        "colab": {
          "base_uri": "https://localhost:8080/"
        },
        "id": "mzZWXdJGqZeB",
        "outputId": "6f4a79d8-be78-489b-a058-f27e1e3030a3"
      },
      "execution_count": null,
      "outputs": [
        {
          "output_type": "stream",
          "name": "stdout",
          "text": [
            "61\n"
          ]
        }
      ]
    },
    {
      "cell_type": "code",
      "source": [
        "# 데코레이터에 argument를 넣는 방법\n",
        "def deco1(name):\n",
        "    def deco2(func):\n",
        "        def wrapper():\n",
        "            print('decorator1')\n",
        "            func()\n",
        "        return wrapper\n",
        "    return deco2\n",
        " \n",
        "# 데코레이터를 여러 개 지정\n",
        "@deco1('hojun')\n",
        "def hello():\n",
        "    print('hello')\n",
        " \n",
        "hello()"
      ],
      "metadata": {
        "id": "x0BIwbb5ApR9"
      },
      "execution_count": null,
      "outputs": []
    },
    {
      "cell_type": "markdown",
      "source": [
        "## 모듈과 패키지"
      ],
      "metadata": {
        "id": "IYcNl46CCPlJ"
      }
    },
    {
      "cell_type": "code",
      "source": [
        "# 연습1 (파일 1개 생성)\n",
        "# 현재 폴더에 test1.py 파일을 생성했고\n",
        "# name = 'kimyeoju'\n",
        "# age = 10\n",
        "\n",
        "# def hello():\n",
        "#     pass\n",
        "    \n",
        "# class Human():\n",
        "#     pass"
      ],
      "metadata": {
        "id": "t4_GURxyCO1v"
      },
      "execution_count": null,
      "outputs": []
    },
    {
      "cell_type": "code",
      "source": [
        "import test1\n",
        "\n",
        "print(test1.name)\n",
        "print(test1.hello())\n"
      ],
      "metadata": {
        "colab": {
          "base_uri": "https://localhost:8080/"
        },
        "id": "OeceWbbdDuBC",
        "outputId": "0768f02a-af0e-4db0-d774-61fe7f7b3f89"
      },
      "execution_count": null,
      "outputs": [
        {
          "output_type": "stream",
          "name": "stdout",
          "text": [
            "kimyeoju\n",
            "None\n"
          ]
        }
      ]
    },
    {
      "cell_type": "code",
      "source": [
        "!pip list"
      ],
      "metadata": {
        "id": "8EADBrPLuavO"
      },
      "execution_count": null,
      "outputs": []
    },
    {
      "cell_type": "code",
      "source": [
        "!pip install"
      ],
      "metadata": {
        "id": "NCuIV9qDueCN"
      },
      "execution_count": null,
      "outputs": []
    },
    {
      "cell_type": "code",
      "source": [
        "# 연습 2(파일 2개 생성)\n",
        "# 주의!! 같은 이름이 있었을 경우\n",
        "# 마지막에 추가된 변수명으로 할당\n",
        "# import*는 더더욱 포함시키는 변수, 매서드, 클래스 명을 알 수 없기에\n",
        "# 주의해서 사용해야 합니다. \n",
        "\n",
        "from test2 import name\n",
        "from test1 import name\n",
        "print(name)"
      ],
      "metadata": {
        "id": "tlkJlqi5E5KF"
      },
      "execution_count": null,
      "outputs": []
    },
    {
      "cell_type": "code",
      "source": [
        "# 연습3 (폴더>파일 생성)\n",
        "# one이라는 것이 여기서는 폴더입니다 ! \n",
        "# 폴더로 연습\n",
        "# one이 폴더명 two가 파일명\n",
        "from one import two\n",
        "\n",
        "print(two.name)"
      ],
      "metadata": {
        "colab": {
          "base_uri": "https://localhost:8080/"
        },
        "id": "vXZ67aRPFJDw",
        "outputId": "4455f07a-4a2c-47cb-f88c-37203b1955ee"
      },
      "execution_count": null,
      "outputs": [
        {
          "output_type": "stream",
          "name": "stdout",
          "text": [
            "hello world\n"
          ]
        }
      ]
    },
    {
      "cell_type": "code",
      "source": [
        "# 연습 4 (폴더 > 폴더 > 파일 생성)\n",
        "#런타임 재시작 하세요 ! \n",
        "from one.two import three\n",
        "# 폴더 내려갈 때 점찍어서 내려감 one.two\n",
        "\n",
        "print(three.name)"
      ],
      "metadata": {
        "colab": {
          "base_uri": "https://localhost:8080/"
        },
        "id": "y5rmy7qTFv7h",
        "outputId": "b199530d-7a2f-461a-d9b5-72f48d77c4eb"
      },
      "execution_count": null,
      "outputs": [
        {
          "output_type": "stream",
          "name": "stdout",
          "text": [
            "hello world\n"
          ]
        }
      ]
    },
    {
      "cell_type": "code",
      "source": [
        "# 연습 5\n",
        "import test1 as t # as로 쓰면 별칭으로 사용 가능\n",
        "\n",
        "t.hello()"
      ],
      "metadata": {
        "colab": {
          "base_uri": "https://localhost:8080/"
        },
        "id": "ZoSiL8A5GDcg",
        "outputId": "07ad1753-cc7d-4bda-b3f9-5496d05c7967"
      },
      "execution_count": null,
      "outputs": [
        {
          "output_type": "stream",
          "name": "stdout",
          "text": [
            "hello world\n"
          ]
        }
      ]
    },
    {
      "cell_type": "code",
      "source": [
        "# Python에 모듈\n",
        "import pandas as pd\n",
        "import numpy as np"
      ],
      "metadata": {
        "id": "Iv9jSbBLHwC0"
      },
      "execution_count": null,
      "outputs": []
    },
    {
      "cell_type": "code",
      "source": [
        "# 느낌표는 crl로 명령어 # 파일이 생김\n",
        "!mkdir kimyeoju"
      ],
      "metadata": {
        "id": "fFaH9wQwH8pi"
      },
      "execution_count": null,
      "outputs": []
    },
    {
      "cell_type": "code",
      "source": [
        "!pip install 패키지이름 "
      ],
      "metadata": {
        "id": "2yAvJlvfIMx1"
      },
      "execution_count": null,
      "outputs": []
    },
    {
      "cell_type": "code",
      "source": [
        "!pip list"
      ],
      "metadata": {
        "id": "nirMzyTuIi0t"
      },
      "execution_count": null,
      "outputs": []
    },
    {
      "cell_type": "code",
      "source": [
        "import random as rd #랜덤한 숫자 반환\n",
        "\n",
        "rd.randint(0, 10)"
      ],
      "metadata": {
        "id": "VjSErXoavSJg"
      },
      "execution_count": null,
      "outputs": []
    },
    {
      "cell_type": "markdown",
      "source": [
        "## 파일 입출력"
      ],
      "metadata": {
        "id": "TDBOMLl0Mqtd"
      }
    },
    {
      "cell_type": "code",
      "source": [
        "f = open('python.txt', 'w') # 파일모드 : r(read), w(wrie, 덮어쓴다.), a(append)\n",
        "f.close()"
      ],
      "metadata": {
        "id": "cnv5SARiNM4F"
      },
      "execution_count": null,
      "outputs": []
    },
    {
      "cell_type": "code",
      "source": [
        "f = open('python.txt', 'w')\n",
        "s = ''\n",
        "for i in range(1,6):\n",
        "    s += f'{i}명이 참여 중입니다. \\n'\n",
        "f.write(s)\n",
        "f.close()"
      ],
      "metadata": {
        "id": "xc9mWy7IwGWT"
      },
      "execution_count": null,
      "outputs": []
    },
    {
      "cell_type": "code",
      "source": [
        "f = open('python.txt', 'w')\n",
        "s = 'hello\\nworld'\n",
        "f.write(s)\n",
        "f.close()"
      ],
      "metadata": {
        "id": "uDdolH4ANvcg"
      },
      "execution_count": null,
      "outputs": []
    },
    {
      "cell_type": "code",
      "source": [
        "data =['one','two','three']\n",
        "data2 = [10,20,30]\n",
        "'''\n",
        "{\n",
        "    \"one\":10,\n",
        "    \"two\":20,\n",
        "    \"three\":30\n",
        "}\n",
        "'''\n",
        "f = open('python.json', 'w')\n",
        "s = 'hello\\nworld'\n",
        "f.write(s)\n",
        "f.close()"
      ],
      "metadata": {
        "id": "bmgTQUiBOLHV"
      },
      "execution_count": null,
      "outputs": []
    },
    {
      "cell_type": "code",
      "source": [
        "# 이건 내가 푼 것 \n",
        "f = open('python.json', 'w', encoding='utf-8')\n",
        "s1 = ['one','two','three']\n",
        "s2 = [10,20,30]\n",
        "s = str(dict(zip(s1, s2)))\n",
        "f.write(s)\n",
        "f.close()"
      ],
      "metadata": {
        "id": "4h0pIaQgOwfk"
      },
      "execution_count": null,
      "outputs": []
    },
    {
      "cell_type": "code",
      "source": [
        "# import json + dumps() -> \n",
        "# python의 객체를 json문자열로 변환하기 위해서는 dumps()사용\n",
        "import json\n",
        "f = open('python1.json', 'w')\n",
        "s1 = ['one', 'two', 'three']\n",
        "s2 = [10, 20, 30]\n",
        "s = json.dumps(dict(zip(s1,s2)), indent = 4)\n",
        "f.write(s)\n",
        "f.close()"
      ],
      "metadata": {
        "id": "Q9TJjMo5zXI5"
      },
      "execution_count": null,
      "outputs": []
    },
    {
      "cell_type": "code",
      "source": [
        "import json\n",
        "text = f'/////////////// 업데이트 방법 //////////////\\n\\\n",
        "// 1. 아래 데이터는 민감데이터로 크롤링에 의존하지 않는 데이터입니다.\\n\\\n",
        "//    긴급할 경우 아래 데이터만 수정하여 push 해주세요.\\n\\\n",
        "// 2. 크롤러_통합.py를 실행시키시고, 모두 push해주시면 됩니다.\\n\\\n",
        "//    크롤러_세계확진자.js, koreaRegionalData.js가 뽑힙니다.\\n\\\n",
        "// 3. 크롤러가 동작하지 않을 경우 수동업데이트해야 합니다.\\n\\\n",
        "////////////////////////////////////////////\\n\\\n",
        "// 존스홉킨스 : https://gisanddata.maps.arcgis.com/a\\n\\\n",
        "// https://www.worldometers.info/coronavirus/\\n\\\n",
        "// 질본 : http://ncov.mohw.go.kr/bdBoardLis\\n\\\n",
        "// 선차트용 데이터 - 제주도청 제공\\n\\\n",
        "var 입도객현황 = '\n",
        "\n",
        "data1 = ['one', 'two', 'three']\n",
        "data2 = [10, 20, 30]\n",
        "\n",
        "\n",
        "f = open('data.js', 'w')\n",
        "s = json.dumps(dict(zip(data1,data2)), indent=4)\n",
        "s = text + s\n",
        "f.write(s)\n",
        "f.close()"
      ],
      "metadata": {
        "id": "7dknLDalVVHw"
      },
      "execution_count": null,
      "outputs": []
    },
    {
      "cell_type": "code",
      "source": [
        "import json\n",
        "\n",
        "text = f'안내문구\\nvar 입도객현황 = '\n",
        "\n",
        "data1 = ['one', 'two', 'three']\n",
        "data2 = [10, 20, 30]\n",
        "\n",
        "f = open('data.js', 'w')\n",
        "s = json.dumps(dict(zip(data1,data2)), indent=4)\n",
        "s = text + s\n",
        "f.write(s)\n",
        "f.close()"
      ],
      "metadata": {
        "id": "CbPW-xOBVaak"
      },
      "execution_count": null,
      "outputs": []
    },
    {
      "cell_type": "code",
      "source": [
        "text = f'//안내문구\\nvar 입도객현황 = '\n",
        "\n",
        "data1 = ['one', 'two', 'three']\n",
        "data2 = [10, 20, 30]\n",
        "\n",
        "f = open('data.js', 'w')\n",
        "s = str(dict(zip(data1,data2)))\n",
        "s = text + s\n",
        "f.write(s)\n",
        "f.close()"
      ],
      "metadata": {
        "id": "OlOY7GYeVcWL"
      },
      "execution_count": null,
      "outputs": []
    },
    {
      "cell_type": "markdown",
      "source": [
        "## 파일 읽기"
      ],
      "metadata": {
        "id": "LWSzjR-3V-Fk"
      }
    },
    {
      "cell_type": "markdown",
      "source": [
        "* readline( ) : 라인 별로 읽습니다"
      ],
      "metadata": {
        "id": "fthaxNOlWSDJ"
      }
    },
    {
      "cell_type": "code",
      "source": [
        "f = open('python.txt', 'r')\n",
        "while True:\n",
        "\tline = f.readline()\n",
        "\tif not line:\n",
        "\t\tbreak\n",
        "\tprint(line)\n",
        "f.close()"
      ],
      "metadata": {
        "colab": {
          "base_uri": "https://localhost:8080/"
        },
        "id": "dC3An7ybWFhj",
        "outputId": "0f7156eb-b1f6-46ad-d43f-f431ee4037d8"
      },
      "execution_count": null,
      "outputs": [
        {
          "output_type": "stream",
          "name": "stdout",
          "text": [
            "hello\n",
            "\n",
            "world\n"
          ]
        }
      ]
    },
    {
      "cell_type": "markdown",
      "source": [
        "* readlines( ): 전체 텍스트를 한꺼번에 읽어옵니다."
      ],
      "metadata": {
        "id": "Hz7bd_LGWcH1"
      }
    },
    {
      "cell_type": "code",
      "source": [
        "f = open('python.txt', 'r')\n",
        "lines = f.readlines()\n",
        "for line in lines:\n",
        "    print(line)\n",
        "f.close()"
      ],
      "metadata": {
        "id": "SSLr1FSjWj3C"
      },
      "execution_count": null,
      "outputs": []
    },
    {
      "cell_type": "markdown",
      "source": [
        "* read( ) : 파일 전체 내용을 읽어옵니다. "
      ],
      "metadata": {
        "id": "GU7jSI3wWkY_"
      }
    },
    {
      "cell_type": "code",
      "source": [
        "f = open('python.txt', 'r')\n",
        "data = f.read()\n",
        "print(data)\n",
        "f.close()"
      ],
      "metadata": {
        "id": "y0UE57GEWuZx"
      },
      "execution_count": null,
      "outputs": []
    },
    {
      "cell_type": "code",
      "source": [
        "# 개행이 2번 되었던 이유는 print 함수가 이미 개행 옵션을 가지고 있기 때문에 \n",
        "f = open('python.txt', 'r')\n",
        "lines = f.readlines()\n",
        "for line in lines:\n",
        "    print(line)\n",
        "f.close()"
      ],
      "metadata": {
        "id": "twxDTGoPWz81"
      },
      "execution_count": null,
      "outputs": []
    },
    {
      "cell_type": "markdown",
      "source": [
        "### 파일 내용 추가"
      ],
      "metadata": {
        "id": "INXp8KLoU2Es"
      }
    },
    {
      "cell_type": "code",
      "source": [
        "f = open('python','w')\n",
        "s = ''\n",
        "for i in range(5):\n",
        "    s += f'{i}명 참여중입니다.'\n",
        "f.write(s)\n",
        "f.close()"
      ],
      "metadata": {
        "id": "ju-BLtf9UX1l"
      },
      "execution_count": 3,
      "outputs": []
    },
    {
      "cell_type": "code",
      "source": [
        "f = open('python','a') # 다시 write모드로 하면 처음부터 덮어씁니다.\n",
        "s = ''\n",
        "for i in range(5,11):\n",
        "    s += f'{i}명 참여중입니다.'\n",
        "f.write(s)\n",
        "f.close()"
      ],
      "metadata": {
        "id": "OUF2nBnbVPYH"
      },
      "execution_count": 4,
      "outputs": []
    },
    {
      "cell_type": "markdown",
      "source": [
        "* 파이링 계속 열려있는 상태가 유지\n",
        "* 메모리 효율"
      ],
      "metadata": {
        "id": "1vTPQ33QVm0m"
      }
    },
    {
      "cell_type": "markdown",
      "source": [
        "## 파일 열기와 닫기를 동시에"
      ],
      "metadata": {
        "id": "yfP_nZuVV7mu"
      }
    },
    {
      "cell_type": "code",
      "source": [
        "with open('test.txt', 'w') as f:\n",
        "    f.write('Life is too short, you need python')"
      ],
      "metadata": {
        "id": "rolb2UItWKut"
      },
      "execution_count": 5,
      "outputs": []
    },
    {
      "cell_type": "markdown",
      "source": [
        "## 파일 입출력 심화 과정"
      ],
      "metadata": {
        "id": "81w0s9bXZ1Jp"
      }
    },
    {
      "cell_type": "markdown",
      "source": [
        "* github(https://github.com/paullabkorea/xlsxwriter) 에서 모든 소스코드를 다운로드 받으실 수 있습니다.\n",
        "* 무료책인 인공지능을 활용한 업무자동화 책(2021 Version Notion)을 활용하면 좀 더 활용성이 극대화된 코딩이 가능합니다.(크롤링, 워드파일 크롤링, PDF크롤링, 문자 보내기 등)\n",
        "* 업무자동화 Notion 링크 : https://paullabworkspace.notion.site/2021-6192ed4219fc4e7a96e10b22cfa27c80"
      ],
      "metadata": {
        "id": "_b0eEjQyaDyq"
      }
    },
    {
      "cell_type": "code",
      "source": [
        "!pip3 install xlsxwriter"
      ],
      "metadata": {
        "colab": {
          "base_uri": "https://localhost:8080/"
        },
        "id": "Yk2LdotmZ4Qm",
        "outputId": "ab35817f-8681-41a9-8f0d-c0804da64b43"
      },
      "execution_count": null,
      "outputs": [
        {
          "output_type": "stream",
          "name": "stdout",
          "text": [
            "Looking in indexes: https://pypi.org/simple, https://us-python.pkg.dev/colab-wheels/public/simple/\n",
            "Collecting xlsxwriter\n",
            "  Downloading XlsxWriter-3.1.0-py3-none-any.whl (152 kB)\n",
            "\u001b[2K     \u001b[90m━━━━━━━━━━━━━━━━━━━━━━━━━━━━━━━━━━━━━━━\u001b[0m \u001b[32m152.7/152.7 kB\u001b[0m \u001b[31m3.8 MB/s\u001b[0m eta \u001b[36m0:00:00\u001b[0m\n",
            "\u001b[?25hInstalling collected packages: xlsxwriter\n",
            "Successfully installed xlsxwriter-3.1.0\n"
          ]
        }
      ]
    },
    {
      "cell_type": "code",
      "source": [
        "# openpyxl, xlrd, xlwt ...\n",
        "# 다른 사용자가 만든 모듈"
      ],
      "metadata": {
        "id": "1S3iqJSpaePv"
      },
      "execution_count": null,
      "outputs": []
    },
    {
      "cell_type": "code",
      "source": [
        "import xlsxwriter\n",
        "\n",
        "# 엑셀 파일 생성하기\n",
        "workbook = xlsxwriter.Workbook('test.xlsx')\n",
        "\n",
        "# 파일 안에 워크 시트 생성하기\n",
        "worksheet = workbook.add_worksheet('test')\n",
        "\n",
        "data = ['AA', 'BB', 'CC', 'DD']\n",
        "worksheet.write('A1', data[0])\n",
        "worksheet.write('B1', data[1])\n",
        "worksheet.write('C1', data[2])\n",
        "worksheet.write('D1', data[3])\n",
        "\n",
        "worksheet.write('A2', 1)\n",
        "worksheet.write('B2', 2)\n",
        "worksheet.write('C2', 3)\n",
        "worksheet.write('D2', 4)\n",
        "            #(행, 열, 데이터)\n",
        "worksheet.write(2, 0, 10)\n",
        "worksheet.write(2, 1, 20)\n",
        "worksheet.write(2, 2, 30)\n",
        "worksheet.write(2, 3, 40)\n",
        "\n",
        "workbook.close()"
      ],
      "metadata": {
        "id": "7K9kQ1em0_Zq"
      },
      "execution_count": null,
      "outputs": []
    },
    {
      "cell_type": "code",
      "source": [
        "홍길동 = [33, 88, 24]\n",
        "이호준 = [34, 66, 77]\n",
        "김철수 = [78, 82, 36]"
      ],
      "metadata": {
        "colab": {
          "base_uri": "https://localhost:8080/"
        },
        "id": "H3t-6ouoc2d7",
        "outputId": "0560b642-e1cc-4c5e-b3f6-92fa4f402be3"
      },
      "execution_count": null,
      "outputs": [
        {
          "output_type": "execute_result",
          "data": {
            "text/plain": [
              "145"
            ]
          },
          "metadata": {},
          "execution_count": 28
        }
      ]
    },
    {
      "cell_type": "code",
      "source": [
        "홍길동 = [33, 88, 24]\n",
        "이호준 = [34, 66, 77]\n",
        "김철수 = [78, 82, 36]\n",
        "\n",
        "workbook = xlsxwriter.Workbook('test.xlsx')\n",
        "worksheet = workbook.add_worksheet('test')\n",
        "\n",
        "l = ['이름', '국어', '영어', '수학', '평균']\n",
        "for i in range(5):\n",
        "    worksheet.write(0, i, l[i])\n",
        "\n",
        "worksheet.write(1, 0, '홍길동')\n",
        "for i in range(3):\n",
        "    worksheet.write(1, i+1, 홍길동[i])\n",
        "worksheet.write(1, 4, sum(홍길동) / len(홍길동))\n",
        "\n",
        "worksheet.write(2, 0, '이호준')\n",
        "for i in range(3):\n",
        "    worksheet.write(2, i+1, 이호준[i])\n",
        "worksheet.write(2, 4, sum(이호준) / len(이호준))\n",
        "\n",
        "worksheet.write(3, 0, '김철수')\n",
        "for i in range(3):\n",
        "    worksheet.write(3, i+1, 김철수[i])\n",
        "worksheet.write(3, 4, sum(김철수) / len(김철수))"
      ],
      "metadata": {
        "id": "9WQ8rKkHe4kL"
      },
      "execution_count": null,
      "outputs": []
    },
    {
      "cell_type": "code",
      "source": [
        "홍길동 = [33, 88, 24]\n",
        "이호준 = [34, 66, 77]\n",
        "김철수 = [78, 82, 36]\n",
        "all_data = [홍길동, 이호준, 김철수]\n",
        "\n",
        "workbook = xlsxwriter.Workbook('test.xlsx')\n",
        "worksheet = workbook.add_worksheet('Grades')\n",
        "\n",
        "row_header = ['', '국어', '영어', '수학', '평균']\n",
        "col_header = ['', '홍길동', '이호준', '김철수']\n",
        "\n",
        "for idx, subject in enumerate(row_header):\n",
        "    worksheet.write(0, idx, subject)\n",
        "\n",
        "for idx, subject in enumerate(col_header):\n",
        "    worksheet.write(idx, 0, subject)\n",
        "\n",
        "for row_idx, line in enumerate(all_data):\n",
        "    for col_idx, value in enumerate(line):\n",
        "        worksheet.write(row_idx +1, col_idx + 1, value)\n",
        "    # average\n",
        "    avg = sum(line) / len(line)\n",
        "    worksheet.write(row_idx + 1, len(line) + 1, avg)\n",
        "\n",
        "workbook.close()"
      ],
      "metadata": {
        "id": "_oFiL-cv1FZg"
      },
      "execution_count": null,
      "outputs": []
    },
    {
      "cell_type": "code",
      "source": [
        "import xlsxwriter\n",
        "\n",
        "홍길동 = [33, 88, 24]\n",
        "이호준 = [34, 66, 77]\n",
        "김철수 = [78, 82, 36]\n",
        "\n",
        "workbook = xlsxwriter.Workbook('test.xlsx')\n",
        "worksheet = workbook.add_worksheet('test')\n",
        "\n",
        "worksheet.write(0, 0, '이름')\n",
        "worksheet.write(0, 1, '국어')\n",
        "worksheet.write(0, 2, '영어')\n",
        "worksheet.write(0, 3, '수학')\n",
        "\n",
        "worksheet.write(1, 0, '홍길동')\n",
        "worksheet.write(2, 0, '이호준')\n",
        "worksheet.write(3, 0, '김철수')\n",
        "\n",
        "for i in range(len(홍길동)):\n",
        "    worksheet.write(1, i+1, 홍길동[i])\n",
        "    worksheet.write(2, i+1, 이호준[i])\n",
        "    worksheet.write(3, i+1, 김철수[i])\n",
        "\n",
        "workbook.close()"
      ],
      "metadata": {
        "id": "SXizkj9_1GPa"
      },
      "execution_count": null,
      "outputs": []
    },
    {
      "cell_type": "markdown",
      "source": [
        "## OS 모듈"
      ],
      "metadata": {
        "id": "26xhPIUvhOEy"
      }
    },
    {
      "cell_type": "code",
      "source": [
        "import os\n",
        "\n",
        "os.getcwd() # os.getcwd() 함수는 현재 작업 디렉토리를 출력 "
      ],
      "metadata": {
        "colab": {
          "base_uri": "https://localhost:8080/",
          "height": 36
        },
        "id": "zy5962DKhTlI",
        "outputId": "4a82dde9-fc6d-41b1-95ad-eec4067617a3"
      },
      "execution_count": null,
      "outputs": [
        {
          "output_type": "execute_result",
          "data": {
            "text/plain": [
              "'/content'"
            ],
            "application/vnd.google.colaboratory.intrinsic+json": {
              "type": "string"
            }
          },
          "metadata": {},
          "execution_count": 38
        }
      ]
    },
    {
      "cell_type": "code",
      "source": [
        "os.listdir() # 경로에 존재하는 파일과 디렉토리를 리스트로 변환할 때 사용"
      ],
      "metadata": {
        "colab": {
          "base_uri": "https://localhost:8080/"
        },
        "id": "Z52tGZF1hlLK",
        "outputId": "e33f88d8-63db-4023-9d27-d168dcc22351"
      },
      "execution_count": null,
      "outputs": [
        {
          "output_type": "execute_result",
          "data": {
            "text/plain": [
              "['.config',\n",
              " 'python.json',\n",
              " 'test.xlsx',\n",
              " 'kimyeoju',\n",
              " 'python.txt',\n",
              " 'test1.py',\n",
              " '__pycache__',\n",
              " 'test1.xlsx',\n",
              " '.ipynb_checkpoints',\n",
              " 'one',\n",
              " 'sample_data']"
            ]
          },
          "metadata": {},
          "execution_count": 39
        }
      ]
    },
    {
      "cell_type": "code",
      "source": [
        "for i in os.listdir():\n",
        "    if len(i.split('.')) >= 2:\n",
        "        if i.split('.')[1] == 'py' or i.split('.')[1] == 'txt':\n",
        "            print(i)"
      ],
      "metadata": {
        "colab": {
          "base_uri": "https://localhost:8080/"
        },
        "id": "7WDgIvwFiLuA",
        "outputId": "96e6306f-e767-4712-baf5-be4a73649f0f"
      },
      "execution_count": null,
      "outputs": [
        {
          "output_type": "stream",
          "name": "stdout",
          "text": [
            "python.txt\n",
            "test1.py\n"
          ]
        }
      ]
    },
    {
      "cell_type": "code",
      "source": [
        "os.mkdir('hello') # 폴더를 생성할 일이 없습니다. # log 누적할 때 "
      ],
      "metadata": {
        "id": "11OSmwCAi68-"
      },
      "execution_count": null,
      "outputs": []
    },
    {
      "cell_type": "code",
      "source": [
        "import glob\n",
        "\n",
        "glob.glob(\"*.py\")"
      ],
      "metadata": {
        "colab": {
          "base_uri": "https://localhost:8080/"
        },
        "id": "3X7LARwbjGDb",
        "outputId": "116a89cc-9b8e-4b31-82a4-87216867cbcd"
      },
      "execution_count": null,
      "outputs": [
        {
          "output_type": "execute_result",
          "data": {
            "text/plain": [
              "['test1.py']"
            ]
          },
          "metadata": {},
          "execution_count": 44
        }
      ]
    },
    {
      "cell_type": "markdown",
      "source": [
        "## advanced 문제"
      ],
      "metadata": {
        "id": "EqVXq_br1cbu"
      }
    },
    {
      "cell_type": "code",
      "source": [
        "@writefile\n",
        "def add(a, b):\n",
        "    return a + b\n",
        "\n",
        "# writefile의 데코레이터 기능은 아래와 같은 형식으로 result.txt에 항상 저장되게 하는 것입니다.\n",
        "# {\n",
        "#     \"a\": 10,\n",
        "#     \"b\": 20,\n",
        "#     \"a+b\": 30\n",
        "# }"
      ],
      "metadata": {
        "id": "eeaS8fxw1hFO"
      },
      "execution_count": null,
      "outputs": []
    },
    {
      "cell_type": "code",
      "source": [
        "# 기존 코드\n",
        "def add(a,b):\n",
        "    return a + b\n",
        "\n",
        "result = add(10, 20) + add(10, 20)\n",
        "print(result)"
      ],
      "metadata": {
        "id": "rqYXbbFO1meJ",
        "colab": {
          "base_uri": "https://localhost:8080/"
        },
        "outputId": "c9e52c8d-0023-4739-a155-4674edb511ce"
      },
      "execution_count": null,
      "outputs": [
        {
          "output_type": "stream",
          "name": "stdout",
          "text": [
            "60\n"
          ]
        }
      ]
    },
    {
      "cell_type": "code",
      "source": [
        "# 동건님 코드 : 문제는 없으나 add를 실행시키긴 해야합니다!\n",
        "# 데코레이터 => 아래 코드는 데코할 대상이 없는거에요.\n",
        "\n",
        "'''\n",
        "추가로 부연 설명을 합니다. :)\n",
        "스토리로 굳이 표현하자면 아래와 같습니다.\n",
        "\n",
        "1. add라는 함수를 내가 1년 전에 만들었다. 문제 없이 잘 작동하는 함수이다.\n",
        "2. 이 add를 데코레이터를 써서 파일 입출력이 되게 하고 싶다.\n",
        "3. 데코레이터를 만든다.\n",
        "4. 기존의 코드도 정상적으로 작동이 되어야 한다.\n",
        "'''\n",
        "\n",
        "import json\n",
        "\n",
        "def writerfile(func):\n",
        "    def wrapper(a, b):\n",
        "        data1 = ['a', 'b', 'a+b']\n",
        "        data2 = [a, b, a+b]\n",
        "        f = open('writerfile.json', 'w')\n",
        "        json.dump(dict(zip(data1,data2)), f, indent = 4)\n",
        "        f.close()\n",
        "    return wrapper\n",
        "\n",
        "@writerfile\n",
        "def add(a,b):\n",
        "    return a + b\n",
        "\n",
        "add(10, 20)"
      ],
      "metadata": {
        "id": "z-_GlCm4UDzO"
      },
      "execution_count": null,
      "outputs": []
    },
    {
      "cell_type": "code",
      "source": [
        "import json\n",
        "def writerfile(func):\n",
        "    def wrap_func(a,b):\n",
        "        data1 = ['a', 'b', 'a+b']\n",
        "        data2 = [a, b, a+b]\n",
        "        f = open('writerfile.json', 'w')\n",
        "        json.dump(dict(zip(data1,data2)), f, indent = 4)\n",
        "        f.close()\n",
        "        return func(a,b)\n",
        "    return wrap_func\n",
        "@writerfile\n",
        "def add(a,b):\n",
        "    return a+b\n",
        "\n",
        "result = add(10,20) + add(10,20)\n",
        "print(result)"
      ],
      "metadata": {
        "colab": {
          "base_uri": "https://localhost:8080/"
        },
        "id": "vXEEkL2XEXeS",
        "outputId": "36d69d23-d998-4bbd-ea10-c4229aaf1f3b"
      },
      "execution_count": null,
      "outputs": [
        {
          "output_type": "stream",
          "name": "stdout",
          "text": [
            "60\n"
          ]
        }
      ]
    },
    {
      "cell_type": "code",
      "source": [
        "import json\n",
        "\n",
        "def writerfile(func):\n",
        "    def wrapper(a, b):\n",
        "        data1 = ['a', 'b', 'a+b']\n",
        "        data2 = [a, b, a+b]\n",
        "        f = open('writerfile.json', 'w')\n",
        "        json.dump(dict(zip(data1,data2)), f, indent = 4)\n",
        "        f.close()\n",
        "        return func(a, b)\n",
        "    return wrapper\n",
        "\n",
        "@writerfile\n",
        "def add(a,b):\n",
        "    return a + b\n",
        "\n",
        "result = add(10, 20) + add(10, 20)\n",
        "print(result)"
      ],
      "metadata": {
        "id": "emS6fvIk1oYC"
      },
      "execution_count": null,
      "outputs": []
    },
    {
      "cell_type": "code",
      "source": [
        "# 내가한것?\n",
        "import json\n",
        "data1 = [\"a\",'b','a+b']\n",
        "data2 = [10, 20, 30]\n",
        "def writefile(func):\n",
        "    def plus(a,b):\n",
        "        f = open('result.txt', 'w', encoding = 'utf-8')\n",
        "        s = json.dumps(dict(zip['a','b','a+b']), indent=4)\n",
        "        f.write(s)\n",
        "        f.close()\n",
        "    return plus\n",
        "\n",
        "@writefile\n",
        "def add(a,b):\n",
        "    return a + b\n",
        "add(10,20)\n"
      ],
      "metadata": {
        "id": "qIl4YyoUnR8f"
      },
      "execution_count": null,
      "outputs": []
    },
    {
      "cell_type": "markdown",
      "source": [
        "## Python Error 처리"
      ],
      "metadata": {
        "id": "sS4UgLarWnQA"
      }
    },
    {
      "cell_type": "markdown",
      "source": [
        "* Python에서는 에러를 만나면 코드가(서비스가) 멈춥니다.\n",
        "\n",
        "* 여러분들이 짠 코드가 서비스에 영향이 끼쳐지지 않도록 시니어 분들이 견고한 코드를 작성해놨을 겁니다. \n",
        "\n",
        "* TDD, 테스트 주도 개발 등 Test를 할 수 있는 환경 등이 갖춰져 있습니다. \n",
        "\n",
        "* 작성한 코드는 실서비스로 바로 배포되지 않습니다. 작성한 코드는 테스트 서버로 일단 배포돼서 잘 작동하는지 테스트 해봅니다. \n",
        "\n",
        "\n"
      ],
      "metadata": {
        "id": "8X04VAu6Wrw0"
      }
    },
    {
      "cell_type": "code",
      "source": [
        "# Syntax Error\n",
        "for i in range(10)\n",
        "    print(i)"
      ],
      "metadata": {
        "colab": {
          "base_uri": "https://localhost:8080/",
          "height": 134
        },
        "id": "T7wBA2hxYPne",
        "outputId": "fe3fdd1e-7dd5-4974-f8bd-bcce1e89dc08"
      },
      "execution_count": 6,
      "outputs": [
        {
          "output_type": "error",
          "ename": "SyntaxError",
          "evalue": "ignored",
          "traceback": [
            "\u001b[0;36m  File \u001b[0;32m\"<ipython-input-6-d5ee85c3c757>\"\u001b[0;36m, line \u001b[0;32m2\u001b[0m\n\u001b[0;31m    for i in range(10)\u001b[0m\n\u001b[0m                      ^\u001b[0m\n\u001b[0;31mSyntaxError\u001b[0m\u001b[0;31m:\u001b[0m expected ':'\n"
          ]
        }
      ]
    },
    {
      "cell_type": "code",
      "source": [
        "# Name Error\n",
        "print(x)"
      ],
      "metadata": {
        "colab": {
          "base_uri": "https://localhost:8080/",
          "height": 188
        },
        "id": "F0iNWgshYdeD",
        "outputId": "29fcae51-448c-45df-83e3-3a6ab38f1f90"
      },
      "execution_count": 7,
      "outputs": [
        {
          "output_type": "error",
          "ename": "NameError",
          "evalue": "ignored",
          "traceback": [
            "\u001b[0;31m---------------------------------------------------------------------------\u001b[0m",
            "\u001b[0;31mNameError\u001b[0m                                 Traceback (most recent call last)",
            "\u001b[0;32m<ipython-input-7-e9e3baa318b0>\u001b[0m in \u001b[0;36m<cell line: 2>\u001b[0;34m()\u001b[0m\n\u001b[1;32m      1\u001b[0m \u001b[0;31m# Name Error\u001b[0m\u001b[0;34m\u001b[0m\u001b[0;34m\u001b[0m\u001b[0m\n\u001b[0;32m----> 2\u001b[0;31m \u001b[0mprint\u001b[0m\u001b[0;34m(\u001b[0m\u001b[0mx\u001b[0m\u001b[0;34m)\u001b[0m\u001b[0;34m\u001b[0m\u001b[0;34m\u001b[0m\u001b[0m\n\u001b[0m",
            "\u001b[0;31mNameError\u001b[0m: name 'x' is not defined"
          ]
        }
      ]
    },
    {
      "cell_type": "code",
      "source": [
        "# Type Error\n",
        "x = 10\n",
        "y = '20'\n",
        "print(x + y)"
      ],
      "metadata": {
        "colab": {
          "base_uri": "https://localhost:8080/",
          "height": 205
        },
        "id": "alTYHmu5YfYB",
        "outputId": "5a1be5ee-b7e7-4fee-c108-8b8a9072e4b8"
      },
      "execution_count": 8,
      "outputs": [
        {
          "output_type": "error",
          "ename": "TypeError",
          "evalue": "ignored",
          "traceback": [
            "\u001b[0;31m---------------------------------------------------------------------------\u001b[0m",
            "\u001b[0;31mTypeError\u001b[0m                                 Traceback (most recent call last)",
            "\u001b[0;32m<ipython-input-8-62c7d5a446c2>\u001b[0m in \u001b[0;36m<cell line: 4>\u001b[0;34m()\u001b[0m\n\u001b[1;32m      2\u001b[0m \u001b[0mx\u001b[0m \u001b[0;34m=\u001b[0m \u001b[0;36m10\u001b[0m\u001b[0;34m\u001b[0m\u001b[0;34m\u001b[0m\u001b[0m\n\u001b[1;32m      3\u001b[0m \u001b[0my\u001b[0m \u001b[0;34m=\u001b[0m \u001b[0;34m'20'\u001b[0m\u001b[0;34m\u001b[0m\u001b[0;34m\u001b[0m\u001b[0m\n\u001b[0;32m----> 4\u001b[0;31m \u001b[0mprint\u001b[0m\u001b[0;34m(\u001b[0m\u001b[0mx\u001b[0m \u001b[0;34m+\u001b[0m \u001b[0my\u001b[0m\u001b[0;34m)\u001b[0m\u001b[0;34m\u001b[0m\u001b[0;34m\u001b[0m\u001b[0m\n\u001b[0m",
            "\u001b[0;31mTypeError\u001b[0m: unsupported operand type(s) for +: 'int' and 'str'"
          ]
        }
      ]
    },
    {
      "cell_type": "code",
      "source": [
        "# Index Error\n",
        "my_list = [1, 2, 3]\n",
        "print(my_list[3])"
      ],
      "metadata": {
        "colab": {
          "base_uri": "https://localhost:8080/",
          "height": 205
        },
        "id": "o4p-_XzNY3q9",
        "outputId": "21fff97d-469d-4e56-af9f-c6a5a116f87e"
      },
      "execution_count": 11,
      "outputs": [
        {
          "output_type": "error",
          "ename": "IndexError",
          "evalue": "ignored",
          "traceback": [
            "\u001b[0;31m---------------------------------------------------------------------------\u001b[0m",
            "\u001b[0;31mIndexError\u001b[0m                                Traceback (most recent call last)",
            "\u001b[0;32m<ipython-input-11-f79f21f7e49e>\u001b[0m in \u001b[0;36m<cell line: 3>\u001b[0;34m()\u001b[0m\n\u001b[1;32m      1\u001b[0m \u001b[0;31m# Index Error\u001b[0m\u001b[0;34m\u001b[0m\u001b[0;34m\u001b[0m\u001b[0m\n\u001b[1;32m      2\u001b[0m \u001b[0mmy_list\u001b[0m \u001b[0;34m=\u001b[0m \u001b[0;34m[\u001b[0m\u001b[0;36m1\u001b[0m\u001b[0;34m,\u001b[0m \u001b[0;36m2\u001b[0m\u001b[0;34m,\u001b[0m \u001b[0;36m3\u001b[0m\u001b[0;34m]\u001b[0m\u001b[0;34m\u001b[0m\u001b[0;34m\u001b[0m\u001b[0m\n\u001b[0;32m----> 3\u001b[0;31m \u001b[0mprint\u001b[0m\u001b[0;34m(\u001b[0m\u001b[0mmy_list\u001b[0m\u001b[0;34m[\u001b[0m\u001b[0;36m3\u001b[0m\u001b[0;34m]\u001b[0m\u001b[0;34m)\u001b[0m\u001b[0;34m\u001b[0m\u001b[0;34m\u001b[0m\u001b[0m\n\u001b[0m",
            "\u001b[0;31mIndexError\u001b[0m: list index out of range"
          ]
        }
      ]
    },
    {
      "cell_type": "code",
      "source": [
        "# Key Error\n",
        "my_dict = {'a': 1, 'b': 2}\n",
        "print(my_dict['c'])\n",
        "# key에러를 발생시키지 않으려면 get을 사용해야함"
      ],
      "metadata": {
        "colab": {
          "base_uri": "https://localhost:8080/",
          "height": 205
        },
        "id": "Mu10kJ3EY5zK",
        "outputId": "877e5b2e-9560-4d9c-cf63-74d1372851be"
      },
      "execution_count": 12,
      "outputs": [
        {
          "output_type": "error",
          "ename": "KeyError",
          "evalue": "ignored",
          "traceback": [
            "\u001b[0;31m---------------------------------------------------------------------------\u001b[0m",
            "\u001b[0;31mKeyError\u001b[0m                                  Traceback (most recent call last)",
            "\u001b[0;32m<ipython-input-12-8f9ea626777a>\u001b[0m in \u001b[0;36m<cell line: 3>\u001b[0;34m()\u001b[0m\n\u001b[1;32m      1\u001b[0m \u001b[0;31m# Key Error\u001b[0m\u001b[0;34m\u001b[0m\u001b[0;34m\u001b[0m\u001b[0m\n\u001b[1;32m      2\u001b[0m \u001b[0mmy_dict\u001b[0m \u001b[0;34m=\u001b[0m \u001b[0;34m{\u001b[0m\u001b[0;34m'a'\u001b[0m\u001b[0;34m:\u001b[0m \u001b[0;36m1\u001b[0m\u001b[0;34m,\u001b[0m \u001b[0;34m'b'\u001b[0m\u001b[0;34m:\u001b[0m \u001b[0;36m2\u001b[0m\u001b[0;34m}\u001b[0m\u001b[0;34m\u001b[0m\u001b[0;34m\u001b[0m\u001b[0m\n\u001b[0;32m----> 3\u001b[0;31m \u001b[0mprint\u001b[0m\u001b[0;34m(\u001b[0m\u001b[0mmy_dict\u001b[0m\u001b[0;34m[\u001b[0m\u001b[0;34m'c'\u001b[0m\u001b[0;34m]\u001b[0m\u001b[0;34m)\u001b[0m\u001b[0;34m\u001b[0m\u001b[0;34m\u001b[0m\u001b[0m\n\u001b[0m",
            "\u001b[0;31mKeyError\u001b[0m: 'c'"
          ]
        }
      ]
    },
    {
      "cell_type": "code",
      "source": [
        "# Value Error\n",
        "int('a')"
      ],
      "metadata": {
        "colab": {
          "base_uri": "https://localhost:8080/",
          "height": 188
        },
        "id": "FSgKrxK0ZW2A",
        "outputId": "15566dd8-719d-438f-c70a-f47652b888c9"
      },
      "execution_count": 14,
      "outputs": [
        {
          "output_type": "error",
          "ename": "ValueError",
          "evalue": "ignored",
          "traceback": [
            "\u001b[0;31m---------------------------------------------------------------------------\u001b[0m",
            "\u001b[0;31mValueError\u001b[0m                                Traceback (most recent call last)",
            "\u001b[0;32m<ipython-input-14-b8f9f0574b88>\u001b[0m in \u001b[0;36m<cell line: 2>\u001b[0;34m()\u001b[0m\n\u001b[1;32m      1\u001b[0m \u001b[0;31m# Value Error\u001b[0m\u001b[0;34m\u001b[0m\u001b[0;34m\u001b[0m\u001b[0m\n\u001b[0;32m----> 2\u001b[0;31m \u001b[0mint\u001b[0m\u001b[0;34m(\u001b[0m\u001b[0;34m'a'\u001b[0m\u001b[0;34m)\u001b[0m\u001b[0;34m\u001b[0m\u001b[0;34m\u001b[0m\u001b[0m\n\u001b[0m",
            "\u001b[0;31mValueError\u001b[0m: invalid literal for int() with base 10: 'a'"
          ]
        }
      ]
    },
    {
      "cell_type": "code",
      "source": [
        "# ZeroDivision Error\n",
        "x = 10\n",
        "y = 0\n",
        "print(x / y)"
      ],
      "metadata": {
        "colab": {
          "base_uri": "https://localhost:8080/",
          "height": 205
        },
        "id": "t4x5W-YGZZWY",
        "outputId": "7a028b49-b67f-4fa4-803c-b34df528332c"
      },
      "execution_count": 15,
      "outputs": [
        {
          "output_type": "error",
          "ename": "ZeroDivisionError",
          "evalue": "ignored",
          "traceback": [
            "\u001b[0;31m---------------------------------------------------------------------------\u001b[0m",
            "\u001b[0;31mZeroDivisionError\u001b[0m                         Traceback (most recent call last)",
            "\u001b[0;32m<ipython-input-15-f17cbf29a9a4>\u001b[0m in \u001b[0;36m<cell line: 4>\u001b[0;34m()\u001b[0m\n\u001b[1;32m      2\u001b[0m \u001b[0mx\u001b[0m \u001b[0;34m=\u001b[0m \u001b[0;36m10\u001b[0m\u001b[0;34m\u001b[0m\u001b[0;34m\u001b[0m\u001b[0m\n\u001b[1;32m      3\u001b[0m \u001b[0my\u001b[0m \u001b[0;34m=\u001b[0m \u001b[0;36m0\u001b[0m\u001b[0;34m\u001b[0m\u001b[0;34m\u001b[0m\u001b[0m\n\u001b[0;32m----> 4\u001b[0;31m \u001b[0mprint\u001b[0m\u001b[0;34m(\u001b[0m\u001b[0mx\u001b[0m \u001b[0;34m/\u001b[0m \u001b[0my\u001b[0m\u001b[0;34m)\u001b[0m\u001b[0;34m\u001b[0m\u001b[0;34m\u001b[0m\u001b[0m\n\u001b[0m",
            "\u001b[0;31mZeroDivisionError\u001b[0m: division by zero"
          ]
        }
      ]
    },
    {
      "cell_type": "code",
      "source": [
        "# 이건 가능 4를 추가하고 뽑았으니껭\n",
        "my_list = [1, 2, 3]\n",
        "my_list.append(4)\n",
        "my_list"
      ],
      "metadata": {
        "colab": {
          "base_uri": "https://localhost:8080/"
        },
        "id": "TSVt2trYZehS",
        "outputId": "3a8e9479-33ce-49c8-b6a0-21bcd6fb61f4"
      },
      "execution_count": 102,
      "outputs": [
        {
          "output_type": "execute_result",
          "data": {
            "text/plain": [
              "[1, 2, 3, 4]"
            ]
          },
          "metadata": {},
          "execution_count": 102
        }
      ]
    },
    {
      "cell_type": "code",
      "source": [
        "# Attribute Error 4가 없는데 뭘 프린트행!\n",
        "my_list = [1, 2, 3]\n",
        "print(my_list.appeend(4))"
      ],
      "metadata": {
        "colab": {
          "base_uri": "https://localhost:8080/",
          "height": 205
        },
        "id": "NKa_RYHEFg0l",
        "outputId": "2c75f339-9474-4826-ac2b-143e861e81d1"
      },
      "execution_count": 103,
      "outputs": [
        {
          "output_type": "error",
          "ename": "AttributeError",
          "evalue": "ignored",
          "traceback": [
            "\u001b[0;31m---------------------------------------------------------------------------\u001b[0m",
            "\u001b[0;31mAttributeError\u001b[0m                            Traceback (most recent call last)",
            "\u001b[0;32m<ipython-input-103-dceecff01ea8>\u001b[0m in \u001b[0;36m<cell line: 3>\u001b[0;34m()\u001b[0m\n\u001b[1;32m      1\u001b[0m \u001b[0;31m# Attribute Error\u001b[0m\u001b[0;34m\u001b[0m\u001b[0;34m\u001b[0m\u001b[0m\n\u001b[1;32m      2\u001b[0m \u001b[0mmy_list\u001b[0m \u001b[0;34m=\u001b[0m \u001b[0;34m[\u001b[0m\u001b[0;36m1\u001b[0m\u001b[0;34m,\u001b[0m \u001b[0;36m2\u001b[0m\u001b[0;34m,\u001b[0m \u001b[0;36m3\u001b[0m\u001b[0;34m]\u001b[0m\u001b[0;34m\u001b[0m\u001b[0;34m\u001b[0m\u001b[0m\n\u001b[0;32m----> 3\u001b[0;31m \u001b[0mprint\u001b[0m\u001b[0;34m(\u001b[0m\u001b[0mmy_list\u001b[0m\u001b[0;34m.\u001b[0m\u001b[0mappeend\u001b[0m\u001b[0;34m(\u001b[0m\u001b[0;36m4\u001b[0m\u001b[0;34m)\u001b[0m\u001b[0;34m)\u001b[0m\u001b[0;34m\u001b[0m\u001b[0;34m\u001b[0m\u001b[0m\n\u001b[0m",
            "\u001b[0;31mAttributeError\u001b[0m: 'list' object has no attribute 'appeend'"
          ]
        }
      ]
    },
    {
      "cell_type": "code",
      "source": [
        "# Type Error\n",
        "def add(x, y):\n",
        "    return x + y\n",
        "\n",
        "add(1, 2, 3) # add(1,2) = 3 ! 근데 1,2,3은 오류 \n",
        "# 아규먼트 잘못줬을때 "
      ],
      "metadata": {
        "colab": {
          "base_uri": "https://localhost:8080/",
          "height": 223
        },
        "id": "MzZt6QwbZngh",
        "outputId": "cbad759c-bbdb-4f5c-f89e-37f84a31a317"
      },
      "execution_count": 105,
      "outputs": [
        {
          "output_type": "error",
          "ename": "TypeError",
          "evalue": "ignored",
          "traceback": [
            "\u001b[0;31m---------------------------------------------------------------------------\u001b[0m",
            "\u001b[0;31mTypeError\u001b[0m                                 Traceback (most recent call last)",
            "\u001b[0;32m<ipython-input-105-dc6bf7a3b520>\u001b[0m in \u001b[0;36m<cell line: 5>\u001b[0;34m()\u001b[0m\n\u001b[1;32m      3\u001b[0m     \u001b[0;32mreturn\u001b[0m \u001b[0mx\u001b[0m \u001b[0;34m+\u001b[0m \u001b[0my\u001b[0m\u001b[0;34m\u001b[0m\u001b[0;34m\u001b[0m\u001b[0m\n\u001b[1;32m      4\u001b[0m \u001b[0;34m\u001b[0m\u001b[0m\n\u001b[0;32m----> 5\u001b[0;31m \u001b[0madd\u001b[0m\u001b[0;34m(\u001b[0m\u001b[0;36m1\u001b[0m\u001b[0;34m,\u001b[0m \u001b[0;36m2\u001b[0m\u001b[0;34m,\u001b[0m \u001b[0;36m3\u001b[0m\u001b[0;34m)\u001b[0m \u001b[0;31m# add(1,2) = 3 ! 근데 1,2,3은 오류\u001b[0m\u001b[0;34m\u001b[0m\u001b[0;34m\u001b[0m\u001b[0m\n\u001b[0m\u001b[1;32m      6\u001b[0m \u001b[0;31m# 아규먼트 잘못줬을때\u001b[0m\u001b[0;34m\u001b[0m\u001b[0;34m\u001b[0m\u001b[0m\n",
            "\u001b[0;31mTypeError\u001b[0m: add() takes 2 positional arguments but 3 were given"
          ]
        }
      ]
    },
    {
      "cell_type": "code",
      "source": [
        "# File I/O Error\n",
        "f = open('non-existent.txt', 'r')\n",
        "f.read()"
      ],
      "metadata": {
        "colab": {
          "base_uri": "https://localhost:8080/",
          "height": 205
        },
        "id": "s0KM4-QkZwi-",
        "outputId": "44bba455-7918-4c19-e9f4-bbba2b7c5b56"
      },
      "execution_count": 18,
      "outputs": [
        {
          "output_type": "error",
          "ename": "FileNotFoundError",
          "evalue": "ignored",
          "traceback": [
            "\u001b[0;31m---------------------------------------------------------------------------\u001b[0m",
            "\u001b[0;31mFileNotFoundError\u001b[0m                         Traceback (most recent call last)",
            "\u001b[0;32m<ipython-input-18-398bb0f309eb>\u001b[0m in \u001b[0;36m<cell line: 2>\u001b[0;34m()\u001b[0m\n\u001b[1;32m      1\u001b[0m \u001b[0;31m# File I/O Error\u001b[0m\u001b[0;34m\u001b[0m\u001b[0;34m\u001b[0m\u001b[0m\n\u001b[0;32m----> 2\u001b[0;31m \u001b[0mf\u001b[0m \u001b[0;34m=\u001b[0m \u001b[0mopen\u001b[0m\u001b[0;34m(\u001b[0m\u001b[0;34m'non-existent.txt'\u001b[0m\u001b[0;34m,\u001b[0m \u001b[0;34m'r'\u001b[0m\u001b[0;34m)\u001b[0m\u001b[0;34m\u001b[0m\u001b[0;34m\u001b[0m\u001b[0m\n\u001b[0m\u001b[1;32m      3\u001b[0m \u001b[0mf\u001b[0m\u001b[0;34m.\u001b[0m\u001b[0mread\u001b[0m\u001b[0;34m(\u001b[0m\u001b[0;34m)\u001b[0m\u001b[0;34m\u001b[0m\u001b[0;34m\u001b[0m\u001b[0m\n",
            "\u001b[0;31mFileNotFoundError\u001b[0m: [Errno 2] No such file or directory: 'non-existent.txt'"
          ]
        }
      ]
    },
    {
      "cell_type": "markdown",
      "source": [
        "## 예외 처리"
      ],
      "metadata": {
        "id": "qydBkyAYZxps"
      }
    },
    {
      "cell_type": "code",
      "source": [
        "try:\n",
        "    # 예외가 발생할 가능성이 있는 코드\n",
        "except:\n",
        "    # 예외 처리 코드"
      ],
      "metadata": {
        "id": "Am_eV-u6Z5A7"
      },
      "execution_count": null,
      "outputs": []
    },
    {
      "cell_type": "code",
      "source": [
        "def div(a,b):\n",
        "    return a / b\n",
        "try:\n",
        "    div(1,0)\n",
        "except:\n",
        "    print('예외 발생')"
      ],
      "metadata": {
        "colab": {
          "base_uri": "https://localhost:8080/"
        },
        "id": "hbVrOsshaERk",
        "outputId": "d388f18d-a8c5-43ba-f4d7-f8a37b1286fc"
      },
      "execution_count": 19,
      "outputs": [
        {
          "output_type": "stream",
          "name": "stdout",
          "text": [
            "예외 발생\n"
          ]
        }
      ]
    },
    {
      "cell_type": "code",
      "source": [
        "def div(a,b):\n",
        "    return a / b\n",
        "\n",
        "def f():\n",
        "    try:\n",
        "        return div(1,0)\n",
        "\n",
        "    except:\n",
        "        print('예외 발생')\n",
        "\n",
        "result = f() + f() # result에는 float이 오길 기대하죠\n",
        "print(result)"
      ],
      "metadata": {
        "colab": {
          "base_uri": "https://localhost:8080/",
          "height": 259
        },
        "id": "m5B9h9LoaQph",
        "outputId": "d1cd1a80-a83a-4c64-9aea-521310262221"
      },
      "execution_count": 21,
      "outputs": [
        {
          "output_type": "stream",
          "name": "stdout",
          "text": [
            "예외 발생\n",
            "예외 발생\n"
          ]
        },
        {
          "output_type": "error",
          "ename": "TypeError",
          "evalue": "ignored",
          "traceback": [
            "\u001b[0;31m---------------------------------------------------------------------------\u001b[0m",
            "\u001b[0;31mTypeError\u001b[0m                                 Traceback (most recent call last)",
            "\u001b[0;32m<ipython-input-21-6c5459033d28>\u001b[0m in \u001b[0;36m<cell line: 11>\u001b[0;34m()\u001b[0m\n\u001b[1;32m      9\u001b[0m         \u001b[0mprint\u001b[0m\u001b[0;34m(\u001b[0m\u001b[0;34m'예외 발생'\u001b[0m\u001b[0;34m)\u001b[0m\u001b[0;34m\u001b[0m\u001b[0;34m\u001b[0m\u001b[0m\n\u001b[1;32m     10\u001b[0m \u001b[0;34m\u001b[0m\u001b[0m\n\u001b[0;32m---> 11\u001b[0;31m \u001b[0mresult\u001b[0m \u001b[0;34m=\u001b[0m \u001b[0mf\u001b[0m\u001b[0;34m(\u001b[0m\u001b[0;34m)\u001b[0m \u001b[0;34m+\u001b[0m \u001b[0mf\u001b[0m\u001b[0;34m(\u001b[0m\u001b[0;34m)\u001b[0m \u001b[0;31m# result에는 float이 오길 기대하죠\u001b[0m\u001b[0;34m\u001b[0m\u001b[0;34m\u001b[0m\u001b[0m\n\u001b[0m\u001b[1;32m     12\u001b[0m \u001b[0mprint\u001b[0m\u001b[0;34m(\u001b[0m\u001b[0mresult\u001b[0m\u001b[0;34m)\u001b[0m\u001b[0;34m\u001b[0m\u001b[0;34m\u001b[0m\u001b[0m\n",
            "\u001b[0;31mTypeError\u001b[0m: unsupported operand type(s) for +: 'NoneType' and 'NoneType'"
          ]
        }
      ]
    },
    {
      "cell_type": "code",
      "source": [
        "def div(a,b):\n",
        "    return a / b\n",
        "\n",
        "def f():\n",
        "    try:\n",
        "        return div(1,0)\n",
        "\n",
        "    except:\n",
        "        return float('inf')\n",
        "\n",
        "result = f() + f() # result에는 float이 오길 기대하죠\n",
        "print(result)"
      ],
      "metadata": {
        "colab": {
          "base_uri": "https://localhost:8080/"
        },
        "id": "ewoBU0a2auJf",
        "outputId": "c71e129b-474f-467d-cdd6-38c106cb8e25"
      },
      "execution_count": 23,
      "outputs": [
        {
          "output_type": "stream",
          "name": "stdout",
          "text": [
            "inf\n"
          ]
        }
      ]
    },
    {
      "cell_type": "code",
      "source": [
        "def div(a,b):\n",
        "    return a / b\n",
        "\n",
        "def f():\n",
        "    try:\n",
        "        return div(1,0)\n",
        "\n",
        "    except:\n",
        "        return 0\n",
        "\n",
        "result = f() + f() # result에는 float이 오길 기대하죠\n",
        "print(result)"
      ],
      "metadata": {
        "colab": {
          "base_uri": "https://localhost:8080/"
        },
        "id": "d_7gy-8xbKx4",
        "outputId": "910517f5-90e8-4fb5-e4cd-6bd704adbb94"
      },
      "execution_count": 24,
      "outputs": [
        {
          "output_type": "stream",
          "name": "stdout",
          "text": [
            "0\n"
          ]
        }
      ]
    },
    {
      "cell_type": "code",
      "source": [
        "try:\n",
        "    # 예외가 발생할 가능성이 있는 코드\n",
        "except:\n",
        "    # 예외 처리 코드\n",
        "else:\n",
        "    # 예외가 발생하지 않을 때 실행되는 코드 "
      ],
      "metadata": {
        "id": "RdpKJPZhbi5G"
      },
      "execution_count": null,
      "outputs": []
    },
    {
      "cell_type": "code",
      "source": [
        "try:\n",
        "    1/0\n",
        "except:\n",
        "    print('예외 발생!')\n",
        "else:\n",
        "    print('정상 종료!')"
      ],
      "metadata": {
        "colab": {
          "base_uri": "https://localhost:8080/"
        },
        "id": "npWKHnagbvwF",
        "outputId": "c990b41b-6ba6-40a3-d82e-8946d4b785f7"
      },
      "execution_count": 25,
      "outputs": [
        {
          "output_type": "stream",
          "name": "stdout",
          "text": [
            "예외 발생!\n",
            "정상 종료!\n"
          ]
        }
      ]
    },
    {
      "cell_type": "code",
      "source": [
        "# while, for, try-except 구문에서 else는 언제 실행?\n",
        "# 정상 종료 되었을 떄 "
      ],
      "metadata": {
        "id": "e5hEnlsmeZZN"
      },
      "execution_count": null,
      "outputs": []
    },
    {
      "cell_type": "code",
      "source": [
        "try:\n",
        "    10/2\n",
        "except:\n",
        "    print('예외 발생!')\n",
        "else:\n",
        "    print('정상 종료!')"
      ],
      "metadata": {
        "colab": {
          "base_uri": "https://localhost:8080/"
        },
        "id": "wAO9GWSkenOA",
        "outputId": "e3abfceb-61c6-4cc5-fc4e-15ebd1510d2c"
      },
      "execution_count": 26,
      "outputs": [
        {
          "output_type": "stream",
          "name": "stdout",
          "text": [
            "정상 종료!\n"
          ]
        }
      ]
    },
    {
      "cell_type": "code",
      "source": [
        "try:\n",
        "    # 예외가 발생할 가능성이 있는 코드\n",
        "finally:\n",
        "    # 예외 발생 여부와 상관없이 항상 실행되는 코드"
      ],
      "metadata": {
        "id": "UUzqZlUweuP9"
      },
      "execution_count": null,
      "outputs": []
    },
    {
      "cell_type": "code",
      "source": [
        "# error가 나면 코드가 멈추기 때문에 보통 except와 함께 사용합니다. \n",
        "try:\n",
        "    1/0\n",
        "finally:\n",
        "    print('finally')\n",
        "print('hello world') # 이건 뜨지 않음 "
      ],
      "metadata": {
        "colab": {
          "base_uri": "https://localhost:8080/",
          "height": 259
        },
        "id": "A2g6ll1pe0Ii",
        "outputId": "7c442c05-845f-4bee-9583-30085b6fa9d3"
      },
      "execution_count": 28,
      "outputs": [
        {
          "output_type": "stream",
          "name": "stdout",
          "text": [
            "finally\n"
          ]
        },
        {
          "output_type": "error",
          "ename": "ZeroDivisionError",
          "evalue": "ignored",
          "traceback": [
            "\u001b[0;31m---------------------------------------------------------------------------\u001b[0m",
            "\u001b[0;31mZeroDivisionError\u001b[0m                         Traceback (most recent call last)",
            "\u001b[0;32m<ipython-input-28-11d38bc932ac>\u001b[0m in \u001b[0;36m<cell line: 1>\u001b[0;34m()\u001b[0m\n\u001b[1;32m      1\u001b[0m \u001b[0;32mtry\u001b[0m\u001b[0;34m:\u001b[0m\u001b[0;34m\u001b[0m\u001b[0;34m\u001b[0m\u001b[0m\n\u001b[0;32m----> 2\u001b[0;31m     \u001b[0;36m1\u001b[0m\u001b[0;34m/\u001b[0m\u001b[0;36m0\u001b[0m\u001b[0;34m\u001b[0m\u001b[0;34m\u001b[0m\u001b[0m\n\u001b[0m\u001b[1;32m      3\u001b[0m \u001b[0;32mfinally\u001b[0m\u001b[0;34m:\u001b[0m\u001b[0;34m\u001b[0m\u001b[0;34m\u001b[0m\u001b[0m\n\u001b[1;32m      4\u001b[0m     \u001b[0mprint\u001b[0m\u001b[0;34m(\u001b[0m\u001b[0;34m'finally'\u001b[0m\u001b[0;34m)\u001b[0m\u001b[0;34m\u001b[0m\u001b[0;34m\u001b[0m\u001b[0m\n\u001b[1;32m      5\u001b[0m \u001b[0mprint\u001b[0m\u001b[0;34m(\u001b[0m\u001b[0;34m'hello world'\u001b[0m\u001b[0;34m)\u001b[0m\u001b[0;34m\u001b[0m\u001b[0;34m\u001b[0m\u001b[0m\n",
            "\u001b[0;31mZeroDivisionError\u001b[0m: division by zero"
          ]
        }
      ]
    },
    {
      "cell_type": "code",
      "source": [
        "try:\n",
        "    # 예외가 발생할 가능성이 있는 코드\n",
        "except:\n",
        "    # 예외 처리 코드\n",
        "finally:\n",
        "    # 예외 발생 여부와 상관없이 항상 실행되는 코드"
      ],
      "metadata": {
        "id": "Rq5gurpKfF0G"
      },
      "execution_count": null,
      "outputs": []
    },
    {
      "cell_type": "code",
      "source": [
        "# finally는 정상종료가 되든 아니든 항상 실행되는 코드\n",
        "# else는 정상 종료 일때만 출력 \n",
        "try:\n",
        "    1/0\n",
        "except:\n",
        "    print('hello')\n",
        "finally:\n",
        "    print('world')"
      ],
      "metadata": {
        "colab": {
          "base_uri": "https://localhost:8080/"
        },
        "id": "nBJs8BgqfMD9",
        "outputId": "bd4aaf4a-c693-4391-e875-85849b2dc684"
      },
      "execution_count": 29,
      "outputs": [
        {
          "output_type": "stream",
          "name": "stdout",
          "text": [
            "hello\n",
            "world\n"
          ]
        }
      ]
    },
    {
      "cell_type": "code",
      "source": [
        "try:\n",
        "    # 예외가 발생할 가능성이 있는 코드\n",
        "except:\n",
        "    # 예외 처리 코드\n",
        "else:\n",
        "    # 예외가 발생하지 않을 때 실행되는 코드\n",
        "finally:\n",
        "    # 예외 발생 여부와 상관없이 항상 실행되는 코드"
      ],
      "metadata": {
        "id": "uxxE8diffgbY"
      },
      "execution_count": null,
      "outputs": []
    },
    {
      "cell_type": "code",
      "source": [
        "try:\n",
        "    1/0\n",
        "except:\n",
        "    print('except')\n",
        "else:\n",
        "    print('else')\n",
        "finally:\n",
        "    print('finally')"
      ],
      "metadata": {
        "colab": {
          "base_uri": "https://localhost:8080/"
        },
        "id": "pBzUFnQefhAl",
        "outputId": "77c611db-a805-457f-e2df-cf040123cab6"
      },
      "execution_count": 30,
      "outputs": [
        {
          "output_type": "stream",
          "name": "stdout",
          "text": [
            "except\n",
            "finally\n"
          ]
        }
      ]
    },
    {
      "cell_type": "code",
      "source": [
        "try:\n",
        "    10/2\n",
        "except:\n",
        "    print('except')\n",
        "else:\n",
        "    print('else')\n",
        "finally:\n",
        "    print('finally')"
      ],
      "metadata": {
        "colab": {
          "base_uri": "https://localhost:8080/"
        },
        "id": "kjcGihFBfypF",
        "outputId": "69aa260f-34a6-456e-c2c0-9f8a015d6c51"
      },
      "execution_count": 31,
      "outputs": [
        {
          "output_type": "stream",
          "name": "stdout",
          "text": [
            "else\n",
            "finally\n"
          ]
        }
      ]
    },
    {
      "cell_type": "code",
      "source": [
        "# 에러 이름을 바로 출력할 수 있다\n",
        "raise"
      ],
      "metadata": {
        "colab": {
          "base_uri": "https://localhost:8080/",
          "height": 188
        },
        "id": "HW3bgIy4f6gB",
        "outputId": "e63e3ea3-a40d-4cc6-ecfd-702807bd3287"
      },
      "execution_count": 32,
      "outputs": [
        {
          "output_type": "error",
          "ename": "RuntimeError",
          "evalue": "ignored",
          "traceback": [
            "\u001b[0;31m---------------------------------------------------------------------------\u001b[0m",
            "\u001b[0;31mRuntimeError\u001b[0m                              Traceback (most recent call last)",
            "\u001b[0;32m<ipython-input-32-cf256b4e37cb>\u001b[0m in \u001b[0;36m<cell line: 2>\u001b[0;34m()\u001b[0m\n\u001b[1;32m      1\u001b[0m \u001b[0;31m# 에러 이름을 바로 출력할 수 있다\u001b[0m\u001b[0;34m\u001b[0m\u001b[0;34m\u001b[0m\u001b[0m\n\u001b[0;32m----> 2\u001b[0;31m \u001b[0;32mraise\u001b[0m\u001b[0;34m\u001b[0m\u001b[0;34m\u001b[0m\u001b[0m\n\u001b[0m",
            "\u001b[0;31mRuntimeError\u001b[0m: No active exception to reraise"
          ]
        }
      ]
    },
    {
      "cell_type": "code",
      "source": [
        "# raise 에러이름\n",
        "raise ValueError"
      ],
      "metadata": {
        "colab": {
          "base_uri": "https://localhost:8080/",
          "height": 188
        },
        "id": "FsHnsQdQgAaV",
        "outputId": "70543cf3-d5e5-42f3-8b4c-20e29064555d"
      },
      "execution_count": 33,
      "outputs": [
        {
          "output_type": "error",
          "ename": "ValueError",
          "evalue": "ignored",
          "traceback": [
            "\u001b[0;31m---------------------------------------------------------------------------\u001b[0m",
            "\u001b[0;31mValueError\u001b[0m                                Traceback (most recent call last)",
            "\u001b[0;32m<ipython-input-33-96bae104f54a>\u001b[0m in \u001b[0;36m<cell line: 2>\u001b[0;34m()\u001b[0m\n\u001b[1;32m      1\u001b[0m \u001b[0;31m# raise 에러이름\u001b[0m\u001b[0;34m\u001b[0m\u001b[0;34m\u001b[0m\u001b[0m\n\u001b[0;32m----> 2\u001b[0;31m \u001b[0;32mraise\u001b[0m \u001b[0mValueError\u001b[0m\u001b[0;34m\u001b[0m\u001b[0;34m\u001b[0m\u001b[0m\n\u001b[0m",
            "\u001b[0;31mValueError\u001b[0m: "
          ]
        }
      ]
    },
    {
      "cell_type": "code",
      "source": [
        "raise KimyeoJu"
      ],
      "metadata": {
        "colab": {
          "base_uri": "https://localhost:8080/",
          "height": 170
        },
        "id": "shn3RYjOgLK4",
        "outputId": "3ec1e779-0cc2-456c-ea32-7061f61784d8"
      },
      "execution_count": 34,
      "outputs": [
        {
          "output_type": "error",
          "ename": "NameError",
          "evalue": "ignored",
          "traceback": [
            "\u001b[0;31m---------------------------------------------------------------------------\u001b[0m",
            "\u001b[0;31mNameError\u001b[0m                                 Traceback (most recent call last)",
            "\u001b[0;32m<ipython-input-34-2312e47c1a06>\u001b[0m in \u001b[0;36m<cell line: 1>\u001b[0;34m()\u001b[0m\n\u001b[0;32m----> 1\u001b[0;31m \u001b[0;32mraise\u001b[0m \u001b[0mKimyeoJu\u001b[0m\u001b[0;34m\u001b[0m\u001b[0;34m\u001b[0m\u001b[0m\n\u001b[0m",
            "\u001b[0;31mNameError\u001b[0m: name 'KimyeoJu' is not defined"
          ]
        }
      ]
    },
    {
      "cell_type": "code",
      "source": [
        "raise ValueError('코드를 잘~~ 만들어주세요.')"
      ],
      "metadata": {
        "colab": {
          "base_uri": "https://localhost:8080/",
          "height": 170
        },
        "id": "8WftN14RgQ15",
        "outputId": "0a0edb66-8441-45fa-c918-3813507dd602"
      },
      "execution_count": 35,
      "outputs": [
        {
          "output_type": "error",
          "ename": "ValueError",
          "evalue": "ignored",
          "traceback": [
            "\u001b[0;31m---------------------------------------------------------------------------\u001b[0m",
            "\u001b[0;31mValueError\u001b[0m                                Traceback (most recent call last)",
            "\u001b[0;32m<ipython-input-35-805fbfed3b7d>\u001b[0m in \u001b[0;36m<cell line: 1>\u001b[0;34m()\u001b[0m\n\u001b[0;32m----> 1\u001b[0;31m \u001b[0;32mraise\u001b[0m \u001b[0mValueError\u001b[0m\u001b[0;34m(\u001b[0m\u001b[0;34m'코드를 잘~~ 만들어주세요.'\u001b[0m\u001b[0;34m)\u001b[0m\u001b[0;34m\u001b[0m\u001b[0;34m\u001b[0m\u001b[0m\n\u001b[0m",
            "\u001b[0;31mValueError\u001b[0m: 코드를 잘~~ 만들어주세요."
          ]
        }
      ]
    },
    {
      "cell_type": "code",
      "source": [
        "try:\n",
        "    1/0\n",
        "except ValueError:\n",
        "    print('ValueError')\n",
        "except ZeroDivisionError:\n",
        "    print('ZeroDivisionError')\n",
        "\n",
        "print(ZeroDivisionError)"
      ],
      "metadata": {
        "colab": {
          "base_uri": "https://localhost:8080/"
        },
        "id": "k6gG7B4cgjc2",
        "outputId": "2a76b7dd-aad6-4683-f3fb-e13565e60b92"
      },
      "execution_count": 36,
      "outputs": [
        {
          "output_type": "stream",
          "name": "stdout",
          "text": [
            "ZeroDivisionError\n",
            "<class 'ZeroDivisionError'>\n"
          ]
        }
      ]
    },
    {
      "cell_type": "markdown",
      "source": [
        "* Python 기초 역량 테스트 10문제"
      ],
      "metadata": {
        "id": "b155eqq0hOju"
      }
    },
    {
      "cell_type": "code",
      "source": [
        "# 1번\n",
        "원주율 = 3.141592\n",
        "int(원주율)\n"
      ],
      "metadata": {
        "colab": {
          "base_uri": "https://localhost:8080/"
        },
        "id": "dTvJJKJVhT_l",
        "outputId": "09bd1c5b-44e2-489c-9156-b9f09808e4d2"
      },
      "execution_count": 37,
      "outputs": [
        {
          "output_type": "execute_result",
          "data": {
            "text/plain": [
              "3"
            ]
          },
          "metadata": {},
          "execution_count": 37
        }
      ]
    },
    {
      "cell_type": "code",
      "source": [
        "# 2번\n",
        "b.1"
      ],
      "metadata": {
        "id": "vJOB1u8dhfQw"
      },
      "execution_count": null,
      "outputs": []
    },
    {
      "cell_type": "code",
      "source": [
        "# 3번\n",
        "my_name = input('이름을 입력하세요.')\n",
        "print('안녕하세요. {}입니다.'.format(my_name))"
      ],
      "metadata": {
        "colab": {
          "base_uri": "https://localhost:8080/"
        },
        "id": "cI1ihboPhmkO",
        "outputId": "de0eb663-d4c7-44bb-d2a7-4dd5c7ee90ea"
      },
      "execution_count": 41,
      "outputs": [
        {
          "output_type": "stream",
          "name": "stdout",
          "text": [
            "이름을 입력하세요.홍길동\n",
            "안녕하세요. 홍길동입니다.\n"
          ]
        }
      ]
    },
    {
      "cell_type": "code",
      "source": [
        "# 4번 \n",
        "c.reverse()"
      ],
      "metadata": {
        "id": "Az9qz7yMiInP"
      },
      "execution_count": null,
      "outputs": []
    },
    {
      "cell_type": "code",
      "source": [
        "# 5번\n",
        "num = int(input('숫자를 입력하세요'))\n",
        "def divisor(num):\n",
        "    data = []\n",
        "    for i in range(1, num +1): # 1,11 -> 총 10개 순회\n",
        "        if num % i == 0:\n",
        "            data.append(i)\n",
        "    return data\n",
        "divisor(num)"
      ],
      "metadata": {
        "colab": {
          "base_uri": "https://localhost:8080/"
        },
        "id": "93vjfX_giRYC",
        "outputId": "808a506f-f5df-49ec-babf-237c9496b5b7"
      },
      "execution_count": 45,
      "outputs": [
        {
          "name": "stdout",
          "output_type": "stream",
          "text": [
            "숫자를 입력하세요10\n"
          ]
        },
        {
          "output_type": "execute_result",
          "data": {
            "text/plain": [
              "[1, 2, 5, 10]"
            ]
          },
          "metadata": {},
          "execution_count": 45
        }
      ]
    },
    {
      "cell_type": "code",
      "source": [
        "# 6번 -> 모르겠음\n",
        "def solution(l, a):\n",
        "    return l.count(a)\n",
        "\n",
        "solution(['a', 'b', 'c', 'a', 'a'], 'a') # 정답 : 3"
      ],
      "metadata": {
        "colab": {
          "base_uri": "https://localhost:8080/"
        },
        "id": "N49w7EG7kuPC",
        "outputId": "50c5145e-a739-4d2c-9d42-17221064ac6b"
      },
      "execution_count": 49,
      "outputs": [
        {
          "output_type": "execute_result",
          "data": {
            "text/plain": [
              "3"
            ]
          },
          "metadata": {},
          "execution_count": 49
        }
      ]
    },
    {
      "cell_type": "code",
      "source": [
        "# 7번\n",
        "def solution(l):\n",
        "    return sorted(l, key = lambda x: x[1], reverse = True)\n",
        "solution([[10, 5], [20, 3], [30, 4], [40, 1]]) "
      ],
      "metadata": {
        "colab": {
          "base_uri": "https://localhost:8080/"
        },
        "id": "mNb9jkCIk9c_",
        "outputId": "0cd023d8-dc56-43f3-d28d-f1551e97ee43"
      },
      "execution_count": 59,
      "outputs": [
        {
          "output_type": "execute_result",
          "data": {
            "text/plain": [
              "[[10, 5], [30, 4], [20, 3], [40, 1]]"
            ]
          },
          "metadata": {},
          "execution_count": 59
        }
      ]
    },
    {
      "cell_type": "code",
      "source": [
        "# 8번\n",
        "def solution(l):\n",
        "    return list(map(lambda x:x[0]-x[1], l))\n",
        "\n",
        "solution([[10, 5], [20, 3], [30, 4], [40, 1]]) "
      ],
      "metadata": {
        "colab": {
          "base_uri": "https://localhost:8080/"
        },
        "id": "xfviySm_mCdW",
        "outputId": "a0551c6f-5a7a-409f-92ab-0c099463efac"
      },
      "execution_count": 76,
      "outputs": [
        {
          "output_type": "execute_result",
          "data": {
            "text/plain": [
              "[5, 17, 26, 39]"
            ]
          },
          "metadata": {},
          "execution_count": 76
        }
      ]
    },
    {
      "cell_type": "code",
      "source": [
        "# 8-1\n",
        "l = []\n",
        "for i in [[10, 5], [20, 3], [30, 4], [40, 1]]:\n",
        "    l.append(i[0]-i[1])\n",
        "l"
      ],
      "metadata": {
        "colab": {
          "base_uri": "https://localhost:8080/"
        },
        "id": "WTu4RqfkzbJR",
        "outputId": "f9751d5f-0e54-4e73-f402-4fe74532738f"
      },
      "execution_count": 88,
      "outputs": [
        {
          "output_type": "execute_result",
          "data": {
            "text/plain": [
              "[5, 17, 26, 39]"
            ]
          },
          "metadata": {},
          "execution_count": 88
        }
      ]
    },
    {
      "cell_type": "code",
      "source": [
        "l = []\n",
        "for i, j in [[10, 5], [20, 3], [30, 4], [40, 1]]:\n",
        "    l.append(i-j)\n",
        "l"
      ],
      "metadata": {
        "colab": {
          "base_uri": "https://localhost:8080/"
        },
        "id": "eMEEH5vTzr4F",
        "outputId": "1a89f74c-7a12-4aa4-d474-c3a46d9071f9"
      },
      "execution_count": 89,
      "outputs": [
        {
          "output_type": "execute_result",
          "data": {
            "text/plain": [
              "[5, 17, 26, 39]"
            ]
          },
          "metadata": {},
          "execution_count": 89
        }
      ]
    },
    {
      "cell_type": "code",
      "source": [
        "l = [i-j for i,j in [[10, 5], [20, 3], [30, 4], [40, 1]]]\n",
        "l"
      ],
      "metadata": {
        "colab": {
          "base_uri": "https://localhost:8080/"
        },
        "id": "EoMthteUzzC7",
        "outputId": "2f4b30a8-af29-463c-9f9d-48ed8b1b382b"
      },
      "execution_count": 90,
      "outputs": [
        {
          "output_type": "execute_result",
          "data": {
            "text/plain": [
              "[5, 17, 26, 39]"
            ]
          },
          "metadata": {},
          "execution_count": 90
        }
      ]
    },
    {
      "cell_type": "code",
      "source": [
        "# 9번\n",
        "def solution(s):\n",
        "    return sum(int(i) for i in s)\n",
        "\n",
        "solution('11123') "
      ],
      "metadata": {
        "colab": {
          "base_uri": "https://localhost:8080/"
        },
        "id": "4dFTFbLXnF_z",
        "outputId": "5cf81de9-5153-4191-8a48-aac24905d5a4"
      },
      "execution_count": 78,
      "outputs": [
        {
          "output_type": "execute_result",
          "data": {
            "text/plain": [
              "8"
            ]
          },
          "metadata": {},
          "execution_count": 78
        }
      ]
    },
    {
      "cell_type": "code",
      "source": [
        "s = 0\n",
        "for i in '11123':\n",
        "    s += int(i)\n",
        "s"
      ],
      "metadata": {
        "colab": {
          "base_uri": "https://localhost:8080/"
        },
        "id": "_13NtMZF0NIN",
        "outputId": "c01e76d4-0fde-4251-8888-ac9209a1bc42"
      },
      "execution_count": 92,
      "outputs": [
        {
          "output_type": "execute_result",
          "data": {
            "text/plain": [
              "8"
            ]
          },
          "metadata": {},
          "execution_count": 92
        }
      ]
    },
    {
      "cell_type": "code",
      "source": [
        "[int(i) for i in '11123']"
      ],
      "metadata": {
        "colab": {
          "base_uri": "https://localhost:8080/"
        },
        "id": "FfgZm_r30Vc_",
        "outputId": "b256b7ac-cdb2-4451-8557-ec9302aa986a"
      },
      "execution_count": 93,
      "outputs": [
        {
          "output_type": "execute_result",
          "data": {
            "text/plain": [
              "[1, 1, 1, 2, 3]"
            ]
          },
          "metadata": {},
          "execution_count": 93
        }
      ]
    },
    {
      "cell_type": "code",
      "source": [
        "sum([int(i)for i in '11123'])"
      ],
      "metadata": {
        "colab": {
          "base_uri": "https://localhost:8080/"
        },
        "id": "nzmU8oq50YsQ",
        "outputId": "9efa133d-9126-41e3-af4f-5475a52c5856"
      },
      "execution_count": 94,
      "outputs": [
        {
          "output_type": "execute_result",
          "data": {
            "text/plain": [
              "8"
            ]
          },
          "metadata": {},
          "execution_count": 94
        }
      ]
    },
    {
      "cell_type": "code",
      "source": [
        "list(map(int,'11123'))"
      ],
      "metadata": {
        "colab": {
          "base_uri": "https://localhost:8080/"
        },
        "id": "G4VS0kfO0fGr",
        "outputId": "b545adab-43da-4538-c0fa-dfbd858cef1f"
      },
      "execution_count": 95,
      "outputs": [
        {
          "output_type": "execute_result",
          "data": {
            "text/plain": [
              "[1, 1, 1, 2, 3]"
            ]
          },
          "metadata": {},
          "execution_count": 95
        }
      ]
    },
    {
      "cell_type": "code",
      "source": [
        "sum(map(int,'11123'))"
      ],
      "metadata": {
        "colab": {
          "base_uri": "https://localhost:8080/"
        },
        "id": "HeKlGqoz0iCr",
        "outputId": "bb8dc3ec-a192-4c8b-f23b-656c0a44fe0f"
      },
      "execution_count": 96,
      "outputs": [
        {
          "output_type": "execute_result",
          "data": {
            "text/plain": [
              "8"
            ]
          },
          "metadata": {},
          "execution_count": 96
        }
      ]
    },
    {
      "cell_type": "code",
      "source": [
        "# 10번\n",
        "def solution(s):\n",
        "    return s.replace('!','').replace(' ','')\n",
        "\n",
        "solution('!hello!wor     ld!     ') \n"
      ],
      "metadata": {
        "colab": {
          "base_uri": "https://localhost:8080/",
          "height": 36
        },
        "id": "CedAWDWRng9R",
        "outputId": "bfc9c7da-e06d-44da-9572-ddec234e5e66"
      },
      "execution_count": 81,
      "outputs": [
        {
          "output_type": "execute_result",
          "data": {
            "text/plain": [
              "'helloworld'"
            ],
            "application/vnd.google.colaboratory.intrinsic+json": {
              "type": "string"
            }
          },
          "metadata": {},
          "execution_count": 81
        }
      ]
    },
    {
      "cell_type": "markdown",
      "source": [
        "## 클로저, 팩토리 함수"
      ],
      "metadata": {
        "id": "5I1yWxsN36Ph"
      }
    },
    {
      "cell_type": "code",
      "source": [
        "def one():\n",
        "    def two():\n",
        "        return\n",
        "    return two # 원래 two는 return을 함으로써 종료되는데 \n",
        "\n",
        "hello = one()  # hello == two  # hello가 얘를 참조함 그래서 one()이 살아있음"
      ],
      "metadata": {
        "id": "QAM2XgHX1Pup"
      },
      "execution_count": 99,
      "outputs": []
    },
    {
      "cell_type": "code",
      "source": [
        "def one(x):\n",
        "    def two():\n",
        "        return x + x\n",
        "    return two\n",
        "hello = one(10) # hello == two\n",
        "hello() # hello() == two()"
      ],
      "metadata": {
        "colab": {
          "base_uri": "https://localhost:8080/"
        },
        "id": "A9CRpyfN2oj8",
        "outputId": "ee0e5acf-8cab-4448-aa3b-bf1b84aa8cb0"
      },
      "execution_count": 107,
      "outputs": [
        {
          "output_type": "execute_result",
          "data": {
            "text/plain": [
              "20"
            ]
          },
          "metadata": {},
          "execution_count": 107
        }
      ]
    },
    {
      "cell_type": "code",
      "source": [
        "def one(x):\n",
        "    def two(a, b):\n",
        "        return a + b + x\n",
        "    return two\n",
        "hello = one(10) # hello == two\n",
        "hello(2, 3) # hello() == two()"
      ],
      "metadata": {
        "colab": {
          "base_uri": "https://localhost:8080/"
        },
        "id": "uASkE_WSIjet",
        "outputId": "2fd7b17b-782a-4ef5-dae8-5f0db089dc16"
      },
      "execution_count": 109,
      "outputs": [
        {
          "output_type": "execute_result",
          "data": {
            "text/plain": [
              "15"
            ]
          },
          "metadata": {},
          "execution_count": 109
        }
      ]
    },
    {
      "cell_type": "code",
      "source": [
        "def user(username, usermoney):\n",
        "    def buy(productname, productprice):\n",
        "        leftmoney = usermoney - productprice\n",
        "        return f'{productname}를 {username}님이 구매하셔서 계좌에 {leftmoney}가 남아있습니다.'\n",
        "    return buy\n",
        "\n",
        "buy = user('leehojun', 1000000)\n",
        "buy('자전거', 100000)"
      ],
      "metadata": {
        "colab": {
          "base_uri": "https://localhost:8080/",
          "height": 36
        },
        "id": "AxgmowwnJ2Fr",
        "outputId": "0f7d67ab-c0c3-457e-d20c-3515ef5ef06b"
      },
      "execution_count": 113,
      "outputs": [
        {
          "output_type": "execute_result",
          "data": {
            "text/plain": [
              "'자전거를 leehojun님이 구매하셔서 계좌에 900000가 남아있습니다.'"
            ],
            "application/vnd.google.colaboratory.intrinsic+json": {
              "type": "string"
            }
          },
          "metadata": {},
          "execution_count": 113
        }
      ]
    },
    {
      "cell_type": "code",
      "source": [
        "def user(name, usermoney):\n",
        "    def buy(productname, productprice):\n",
        "        leftmoney = usermoney - productprice\n",
        "        return f'{productname}를 {username}님이 구매하셔서 계좌에 {leftmoney}가 남아있습니다.'\n",
        "    return buy\n",
        "buy = user('kimyeoju', 1000000) # hello == two\n",
        "buy('자전거', 100000) # hello() == two()"
      ],
      "metadata": {
        "colab": {
          "base_uri": "https://localhost:8080/",
          "height": 330
        },
        "id": "B0bYGkekI1QM",
        "outputId": "9abdc4a1-5191-4dee-872e-c890ff10c3c8"
      },
      "execution_count": 115,
      "outputs": [
        {
          "output_type": "error",
          "ename": "NameError",
          "evalue": "ignored",
          "traceback": [
            "\u001b[0;31m---------------------------------------------------------------------------\u001b[0m",
            "\u001b[0;31mNameError\u001b[0m                                 Traceback (most recent call last)",
            "\u001b[0;32m<ipython-input-115-2c1527368fc2>\u001b[0m in \u001b[0;36m<cell line: 7>\u001b[0;34m()\u001b[0m\n\u001b[1;32m      5\u001b[0m     \u001b[0;32mreturn\u001b[0m \u001b[0mbuy\u001b[0m\u001b[0;34m\u001b[0m\u001b[0;34m\u001b[0m\u001b[0m\n\u001b[1;32m      6\u001b[0m \u001b[0mbuy\u001b[0m \u001b[0;34m=\u001b[0m \u001b[0muser\u001b[0m\u001b[0;34m(\u001b[0m\u001b[0;34m'kimyeoju'\u001b[0m\u001b[0;34m,\u001b[0m \u001b[0;36m1000000\u001b[0m\u001b[0;34m)\u001b[0m \u001b[0;31m# hello == two\u001b[0m\u001b[0;34m\u001b[0m\u001b[0;34m\u001b[0m\u001b[0m\n\u001b[0;32m----> 7\u001b[0;31m \u001b[0mbuy\u001b[0m\u001b[0;34m(\u001b[0m\u001b[0;34m'자전거'\u001b[0m\u001b[0;34m,\u001b[0m \u001b[0;36m100000\u001b[0m\u001b[0;34m)\u001b[0m \u001b[0;31m# hello() == two()\u001b[0m\u001b[0;34m\u001b[0m\u001b[0;34m\u001b[0m\u001b[0m\n\u001b[0m",
            "\u001b[0;32m<ipython-input-115-2c1527368fc2>\u001b[0m in \u001b[0;36mbuy\u001b[0;34m(productname, productprice)\u001b[0m\n\u001b[1;32m      2\u001b[0m     \u001b[0;32mdef\u001b[0m \u001b[0mbuy\u001b[0m\u001b[0;34m(\u001b[0m\u001b[0mproductname\u001b[0m\u001b[0;34m,\u001b[0m \u001b[0mproductprice\u001b[0m\u001b[0;34m)\u001b[0m\u001b[0;34m:\u001b[0m\u001b[0;34m\u001b[0m\u001b[0;34m\u001b[0m\u001b[0m\n\u001b[1;32m      3\u001b[0m         \u001b[0mleftmoney\u001b[0m \u001b[0;34m=\u001b[0m \u001b[0musermoney\u001b[0m \u001b[0;34m-\u001b[0m \u001b[0mproductprice\u001b[0m\u001b[0;34m\u001b[0m\u001b[0;34m\u001b[0m\u001b[0m\n\u001b[0;32m----> 4\u001b[0;31m         \u001b[0;32mreturn\u001b[0m \u001b[0;34mf'{productname}를 {username}님이 구매하셔서 계좌에 {leftmoney}가 남아있습니다.'\u001b[0m\u001b[0;34m\u001b[0m\u001b[0;34m\u001b[0m\u001b[0m\n\u001b[0m\u001b[1;32m      5\u001b[0m     \u001b[0;32mreturn\u001b[0m \u001b[0mbuy\u001b[0m\u001b[0;34m\u001b[0m\u001b[0;34m\u001b[0m\u001b[0m\n\u001b[1;32m      6\u001b[0m \u001b[0mbuy\u001b[0m \u001b[0;34m=\u001b[0m \u001b[0muser\u001b[0m\u001b[0;34m(\u001b[0m\u001b[0;34m'kimyeoju'\u001b[0m\u001b[0;34m,\u001b[0m \u001b[0;36m1000000\u001b[0m\u001b[0;34m)\u001b[0m \u001b[0;31m# hello == two\u001b[0m\u001b[0;34m\u001b[0m\u001b[0;34m\u001b[0m\u001b[0m\n",
            "\u001b[0;31mNameError\u001b[0m: name 'username' is not defined"
          ]
        }
      ]
    },
    {
      "cell_type": "code",
      "source": [
        "def user(username, usermoney):\n",
        "    def userbuy(productname, productprice):\n",
        "        leftmoney = usermoney - productprice\n",
        "        return f'{productname}를 {username}님이 구매하셔서 계좌에 {leftmoney}가 남아있습니다.'\n",
        "    return userbuy\n",
        "\n",
        "이호준구매 = user('leehojun', 1000000)\n",
        "이호준구매('자전거', 100000)\n",
        "\n",
        "홍길동구매 = user('hongildong', 1000000)\n",
        "홍길동구매('킥보드', 50000)"
      ],
      "metadata": {
        "colab": {
          "base_uri": "https://localhost:8080/",
          "height": 36
        },
        "id": "qzWHqUhPJ_HQ",
        "outputId": "760cfa74-95ba-4f89-89a9-a709a39e4fc2"
      },
      "execution_count": 114,
      "outputs": [
        {
          "output_type": "execute_result",
          "data": {
            "text/plain": [
              "'킥보드를 hongildong님이 구매하셔서 계좌에 950000가 남아있습니다.'"
            ],
            "application/vnd.google.colaboratory.intrinsic+json": {
              "type": "string"
            }
          },
          "metadata": {},
          "execution_count": 114
        }
      ]
    },
    {
      "cell_type": "code",
      "source": [
        "def user(username, usermoney):\n",
        "    def userbuy(productname, productprice):\n",
        "        leftmoney = usermoney - productprice\n",
        "        return f'{productname}를 {username}님이 구매하셔서 계좌에 {leftmoney}가 남아있습니다.'\n",
        "    return userbuy\n",
        "\n",
        "이호준구매 = user('leehojun', 1000000)\n",
        "이호준구매('자전거', 100000)\n",
        "\n",
        "홍길동구매 = user('hongildong', 1000000)\n",
        "홍길동구매('킥보드', 50000)\n",
        "\n",
        "# 이호준구매와 홍길동구매 함수를 가지고 계좌를 조작할 수 있나요?\n",
        "# 계좌 변수에 접근할 수 있나요?"
      ],
      "metadata": {
        "id": "JlEW6oXBMPSp"
      },
      "execution_count": null,
      "outputs": []
    }
  ]
}